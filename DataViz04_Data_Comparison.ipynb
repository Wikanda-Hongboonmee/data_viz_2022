{
  "nbformat": 4,
  "nbformat_minor": 0,
  "metadata": {
    "colab": {
      "name": "DataViz04 Data Comparison.ipynb",
      "provenance": [],
      "include_colab_link": true
    },
    "kernelspec": {
      "name": "python3",
      "display_name": "Python 3"
    },
    "language_info": {
      "name": "python"
    }
  },
  "cells": [
    {
      "cell_type": "markdown",
      "metadata": {
        "id": "view-in-github",
        "colab_type": "text"
      },
      "source": [
        "<a href=\"https://colab.research.google.com/github/Wikanda-Hongboonmee/data_viz_2022/blob/main/DataViz04_Data_Comparison.ipynb\" target=\"_parent\"><img src=\"https://colab.research.google.com/assets/colab-badge.svg\" alt=\"Open In Colab\"/></a>"
      ]
    },
    {
      "cell_type": "markdown",
      "source": [
        "# เปรียบเทียบ ข้อมูล ด้วย coordinate plot"
      ],
      "metadata": {
        "id": "U-DWuFJZ6F0y"
      }
    },
    {
      "cell_type": "code",
      "source": [
        "import pandas as pd"
      ],
      "metadata": {
        "id": "dilOnoj66aJp"
      },
      "execution_count": 89,
      "outputs": []
    },
    {
      "cell_type": "code",
      "execution_count": 90,
      "metadata": {
        "colab": {
          "base_uri": "https://localhost:8080/",
          "height": 423
        },
        "id": "TZtrMAgp5vXn",
        "outputId": "26192272-7261-48de-9a66-c818c423d39d"
      },
      "outputs": [
        {
          "output_type": "execute_result",
          "data": {
            "text/plain": [
              "     SepalLength  SepalWidth  PetalLength  PetalWidth            Name\n",
              "0            5.1         3.5          1.4         0.2     Iris-setosa\n",
              "1            4.9         3.0          1.4         0.2     Iris-setosa\n",
              "2            4.7         3.2          1.3         0.2     Iris-setosa\n",
              "3            4.6         3.1          1.5         0.2     Iris-setosa\n",
              "4            5.0         3.6          1.4         0.2     Iris-setosa\n",
              "..           ...         ...          ...         ...             ...\n",
              "145          6.7         3.0          5.2         2.3  Iris-virginica\n",
              "146          6.3         2.5          5.0         1.9  Iris-virginica\n",
              "147          6.5         3.0          5.2         2.0  Iris-virginica\n",
              "148          6.2         3.4          5.4         2.3  Iris-virginica\n",
              "149          5.9         3.0          5.1         1.8  Iris-virginica\n",
              "\n",
              "[150 rows x 5 columns]"
            ],
            "text/html": [
              "\n",
              "  <div id=\"df-6e6b0089-3f5a-4fd7-a463-30ae9391a5fb\">\n",
              "    <div class=\"colab-df-container\">\n",
              "      <div>\n",
              "<style scoped>\n",
              "    .dataframe tbody tr th:only-of-type {\n",
              "        vertical-align: middle;\n",
              "    }\n",
              "\n",
              "    .dataframe tbody tr th {\n",
              "        vertical-align: top;\n",
              "    }\n",
              "\n",
              "    .dataframe thead th {\n",
              "        text-align: right;\n",
              "    }\n",
              "</style>\n",
              "<table border=\"1\" class=\"dataframe\">\n",
              "  <thead>\n",
              "    <tr style=\"text-align: right;\">\n",
              "      <th></th>\n",
              "      <th>SepalLength</th>\n",
              "      <th>SepalWidth</th>\n",
              "      <th>PetalLength</th>\n",
              "      <th>PetalWidth</th>\n",
              "      <th>Name</th>\n",
              "    </tr>\n",
              "  </thead>\n",
              "  <tbody>\n",
              "    <tr>\n",
              "      <th>0</th>\n",
              "      <td>5.1</td>\n",
              "      <td>3.5</td>\n",
              "      <td>1.4</td>\n",
              "      <td>0.2</td>\n",
              "      <td>Iris-setosa</td>\n",
              "    </tr>\n",
              "    <tr>\n",
              "      <th>1</th>\n",
              "      <td>4.9</td>\n",
              "      <td>3.0</td>\n",
              "      <td>1.4</td>\n",
              "      <td>0.2</td>\n",
              "      <td>Iris-setosa</td>\n",
              "    </tr>\n",
              "    <tr>\n",
              "      <th>2</th>\n",
              "      <td>4.7</td>\n",
              "      <td>3.2</td>\n",
              "      <td>1.3</td>\n",
              "      <td>0.2</td>\n",
              "      <td>Iris-setosa</td>\n",
              "    </tr>\n",
              "    <tr>\n",
              "      <th>3</th>\n",
              "      <td>4.6</td>\n",
              "      <td>3.1</td>\n",
              "      <td>1.5</td>\n",
              "      <td>0.2</td>\n",
              "      <td>Iris-setosa</td>\n",
              "    </tr>\n",
              "    <tr>\n",
              "      <th>4</th>\n",
              "      <td>5.0</td>\n",
              "      <td>3.6</td>\n",
              "      <td>1.4</td>\n",
              "      <td>0.2</td>\n",
              "      <td>Iris-setosa</td>\n",
              "    </tr>\n",
              "    <tr>\n",
              "      <th>...</th>\n",
              "      <td>...</td>\n",
              "      <td>...</td>\n",
              "      <td>...</td>\n",
              "      <td>...</td>\n",
              "      <td>...</td>\n",
              "    </tr>\n",
              "    <tr>\n",
              "      <th>145</th>\n",
              "      <td>6.7</td>\n",
              "      <td>3.0</td>\n",
              "      <td>5.2</td>\n",
              "      <td>2.3</td>\n",
              "      <td>Iris-virginica</td>\n",
              "    </tr>\n",
              "    <tr>\n",
              "      <th>146</th>\n",
              "      <td>6.3</td>\n",
              "      <td>2.5</td>\n",
              "      <td>5.0</td>\n",
              "      <td>1.9</td>\n",
              "      <td>Iris-virginica</td>\n",
              "    </tr>\n",
              "    <tr>\n",
              "      <th>147</th>\n",
              "      <td>6.5</td>\n",
              "      <td>3.0</td>\n",
              "      <td>5.2</td>\n",
              "      <td>2.0</td>\n",
              "      <td>Iris-virginica</td>\n",
              "    </tr>\n",
              "    <tr>\n",
              "      <th>148</th>\n",
              "      <td>6.2</td>\n",
              "      <td>3.4</td>\n",
              "      <td>5.4</td>\n",
              "      <td>2.3</td>\n",
              "      <td>Iris-virginica</td>\n",
              "    </tr>\n",
              "    <tr>\n",
              "      <th>149</th>\n",
              "      <td>5.9</td>\n",
              "      <td>3.0</td>\n",
              "      <td>5.1</td>\n",
              "      <td>1.8</td>\n",
              "      <td>Iris-virginica</td>\n",
              "    </tr>\n",
              "  </tbody>\n",
              "</table>\n",
              "<p>150 rows × 5 columns</p>\n",
              "</div>\n",
              "      <button class=\"colab-df-convert\" onclick=\"convertToInteractive('df-6e6b0089-3f5a-4fd7-a463-30ae9391a5fb')\"\n",
              "              title=\"Convert this dataframe to an interactive table.\"\n",
              "              style=\"display:none;\">\n",
              "        \n",
              "  <svg xmlns=\"http://www.w3.org/2000/svg\" height=\"24px\"viewBox=\"0 0 24 24\"\n",
              "       width=\"24px\">\n",
              "    <path d=\"M0 0h24v24H0V0z\" fill=\"none\"/>\n",
              "    <path d=\"M18.56 5.44l.94 2.06.94-2.06 2.06-.94-2.06-.94-.94-2.06-.94 2.06-2.06.94zm-11 1L8.5 8.5l.94-2.06 2.06-.94-2.06-.94L8.5 2.5l-.94 2.06-2.06.94zm10 10l.94 2.06.94-2.06 2.06-.94-2.06-.94-.94-2.06-.94 2.06-2.06.94z\"/><path d=\"M17.41 7.96l-1.37-1.37c-.4-.4-.92-.59-1.43-.59-.52 0-1.04.2-1.43.59L10.3 9.45l-7.72 7.72c-.78.78-.78 2.05 0 2.83L4 21.41c.39.39.9.59 1.41.59.51 0 1.02-.2 1.41-.59l7.78-7.78 2.81-2.81c.8-.78.8-2.07 0-2.86zM5.41 20L4 18.59l7.72-7.72 1.47 1.35L5.41 20z\"/>\n",
              "  </svg>\n",
              "      </button>\n",
              "      \n",
              "  <style>\n",
              "    .colab-df-container {\n",
              "      display:flex;\n",
              "      flex-wrap:wrap;\n",
              "      gap: 12px;\n",
              "    }\n",
              "\n",
              "    .colab-df-convert {\n",
              "      background-color: #E8F0FE;\n",
              "      border: none;\n",
              "      border-radius: 50%;\n",
              "      cursor: pointer;\n",
              "      display: none;\n",
              "      fill: #1967D2;\n",
              "      height: 32px;\n",
              "      padding: 0 0 0 0;\n",
              "      width: 32px;\n",
              "    }\n",
              "\n",
              "    .colab-df-convert:hover {\n",
              "      background-color: #E2EBFA;\n",
              "      box-shadow: 0px 1px 2px rgba(60, 64, 67, 0.3), 0px 1px 3px 1px rgba(60, 64, 67, 0.15);\n",
              "      fill: #174EA6;\n",
              "    }\n",
              "\n",
              "    [theme=dark] .colab-df-convert {\n",
              "      background-color: #3B4455;\n",
              "      fill: #D2E3FC;\n",
              "    }\n",
              "\n",
              "    [theme=dark] .colab-df-convert:hover {\n",
              "      background-color: #434B5C;\n",
              "      box-shadow: 0px 1px 3px 1px rgba(0, 0, 0, 0.15);\n",
              "      filter: drop-shadow(0px 1px 2px rgba(0, 0, 0, 0.3));\n",
              "      fill: #FFFFFF;\n",
              "    }\n",
              "  </style>\n",
              "\n",
              "      <script>\n",
              "        const buttonEl =\n",
              "          document.querySelector('#df-6e6b0089-3f5a-4fd7-a463-30ae9391a5fb button.colab-df-convert');\n",
              "        buttonEl.style.display =\n",
              "          google.colab.kernel.accessAllowed ? 'block' : 'none';\n",
              "\n",
              "        async function convertToInteractive(key) {\n",
              "          const element = document.querySelector('#df-6e6b0089-3f5a-4fd7-a463-30ae9391a5fb');\n",
              "          const dataTable =\n",
              "            await google.colab.kernel.invokeFunction('convertToInteractive',\n",
              "                                                     [key], {});\n",
              "          if (!dataTable) return;\n",
              "\n",
              "          const docLinkHtml = 'Like what you see? Visit the ' +\n",
              "            '<a target=\"_blank\" href=https://colab.research.google.com/notebooks/data_table.ipynb>data table notebook</a>'\n",
              "            + ' to learn more about interactive tables.';\n",
              "          element.innerHTML = '';\n",
              "          dataTable['output_type'] = 'display_data';\n",
              "          await google.colab.output.renderOutput(dataTable, element);\n",
              "          const docLink = document.createElement('div');\n",
              "          docLink.innerHTML = docLinkHtml;\n",
              "          element.appendChild(docLink);\n",
              "        }\n",
              "      </script>\n",
              "    </div>\n",
              "  </div>\n",
              "  "
            ]
          },
          "metadata": {},
          "execution_count": 90
        }
      ],
      "source": [
        "example_df = pd.read_csv('https://raw.github.com/pandas-dev/pandas/master/pandas/tests/io/data/csv/iris.csv')\n",
        "example_df # ดูว่าข้อมูลหน้าตาเป็นยังไง"
      ]
    },
    {
      "cell_type": "code",
      "source": [
        "sample_data = example_df.groupby('Name').mean()"
      ],
      "metadata": {
        "id": "hrCxucSd6czN"
      },
      "execution_count": 91,
      "outputs": []
    },
    {
      "cell_type": "code",
      "source": [
        "sample_data"
      ],
      "metadata": {
        "colab": {
          "base_uri": "https://localhost:8080/",
          "height": 174
        },
        "id": "-3htsk206s4K",
        "outputId": "1ab551fa-6063-4f31-922b-450eb922706a"
      },
      "execution_count": 92,
      "outputs": [
        {
          "output_type": "execute_result",
          "data": {
            "text/plain": [
              "                 SepalLength  SepalWidth  PetalLength  PetalWidth\n",
              "Name                                                             \n",
              "Iris-setosa            5.006       3.418        1.464       0.244\n",
              "Iris-versicolor        5.936       2.770        4.260       1.326\n",
              "Iris-virginica         6.588       2.974        5.552       2.026"
            ],
            "text/html": [
              "\n",
              "  <div id=\"df-a32d6bd1-3f34-49dc-bd6a-a131e1167809\">\n",
              "    <div class=\"colab-df-container\">\n",
              "      <div>\n",
              "<style scoped>\n",
              "    .dataframe tbody tr th:only-of-type {\n",
              "        vertical-align: middle;\n",
              "    }\n",
              "\n",
              "    .dataframe tbody tr th {\n",
              "        vertical-align: top;\n",
              "    }\n",
              "\n",
              "    .dataframe thead th {\n",
              "        text-align: right;\n",
              "    }\n",
              "</style>\n",
              "<table border=\"1\" class=\"dataframe\">\n",
              "  <thead>\n",
              "    <tr style=\"text-align: right;\">\n",
              "      <th></th>\n",
              "      <th>SepalLength</th>\n",
              "      <th>SepalWidth</th>\n",
              "      <th>PetalLength</th>\n",
              "      <th>PetalWidth</th>\n",
              "    </tr>\n",
              "    <tr>\n",
              "      <th>Name</th>\n",
              "      <th></th>\n",
              "      <th></th>\n",
              "      <th></th>\n",
              "      <th></th>\n",
              "    </tr>\n",
              "  </thead>\n",
              "  <tbody>\n",
              "    <tr>\n",
              "      <th>Iris-setosa</th>\n",
              "      <td>5.006</td>\n",
              "      <td>3.418</td>\n",
              "      <td>1.464</td>\n",
              "      <td>0.244</td>\n",
              "    </tr>\n",
              "    <tr>\n",
              "      <th>Iris-versicolor</th>\n",
              "      <td>5.936</td>\n",
              "      <td>2.770</td>\n",
              "      <td>4.260</td>\n",
              "      <td>1.326</td>\n",
              "    </tr>\n",
              "    <tr>\n",
              "      <th>Iris-virginica</th>\n",
              "      <td>6.588</td>\n",
              "      <td>2.974</td>\n",
              "      <td>5.552</td>\n",
              "      <td>2.026</td>\n",
              "    </tr>\n",
              "  </tbody>\n",
              "</table>\n",
              "</div>\n",
              "      <button class=\"colab-df-convert\" onclick=\"convertToInteractive('df-a32d6bd1-3f34-49dc-bd6a-a131e1167809')\"\n",
              "              title=\"Convert this dataframe to an interactive table.\"\n",
              "              style=\"display:none;\">\n",
              "        \n",
              "  <svg xmlns=\"http://www.w3.org/2000/svg\" height=\"24px\"viewBox=\"0 0 24 24\"\n",
              "       width=\"24px\">\n",
              "    <path d=\"M0 0h24v24H0V0z\" fill=\"none\"/>\n",
              "    <path d=\"M18.56 5.44l.94 2.06.94-2.06 2.06-.94-2.06-.94-.94-2.06-.94 2.06-2.06.94zm-11 1L8.5 8.5l.94-2.06 2.06-.94-2.06-.94L8.5 2.5l-.94 2.06-2.06.94zm10 10l.94 2.06.94-2.06 2.06-.94-2.06-.94-.94-2.06-.94 2.06-2.06.94z\"/><path d=\"M17.41 7.96l-1.37-1.37c-.4-.4-.92-.59-1.43-.59-.52 0-1.04.2-1.43.59L10.3 9.45l-7.72 7.72c-.78.78-.78 2.05 0 2.83L4 21.41c.39.39.9.59 1.41.59.51 0 1.02-.2 1.41-.59l7.78-7.78 2.81-2.81c.8-.78.8-2.07 0-2.86zM5.41 20L4 18.59l7.72-7.72 1.47 1.35L5.41 20z\"/>\n",
              "  </svg>\n",
              "      </button>\n",
              "      \n",
              "  <style>\n",
              "    .colab-df-container {\n",
              "      display:flex;\n",
              "      flex-wrap:wrap;\n",
              "      gap: 12px;\n",
              "    }\n",
              "\n",
              "    .colab-df-convert {\n",
              "      background-color: #E8F0FE;\n",
              "      border: none;\n",
              "      border-radius: 50%;\n",
              "      cursor: pointer;\n",
              "      display: none;\n",
              "      fill: #1967D2;\n",
              "      height: 32px;\n",
              "      padding: 0 0 0 0;\n",
              "      width: 32px;\n",
              "    }\n",
              "\n",
              "    .colab-df-convert:hover {\n",
              "      background-color: #E2EBFA;\n",
              "      box-shadow: 0px 1px 2px rgba(60, 64, 67, 0.3), 0px 1px 3px 1px rgba(60, 64, 67, 0.15);\n",
              "      fill: #174EA6;\n",
              "    }\n",
              "\n",
              "    [theme=dark] .colab-df-convert {\n",
              "      background-color: #3B4455;\n",
              "      fill: #D2E3FC;\n",
              "    }\n",
              "\n",
              "    [theme=dark] .colab-df-convert:hover {\n",
              "      background-color: #434B5C;\n",
              "      box-shadow: 0px 1px 3px 1px rgba(0, 0, 0, 0.15);\n",
              "      filter: drop-shadow(0px 1px 2px rgba(0, 0, 0, 0.3));\n",
              "      fill: #FFFFFF;\n",
              "    }\n",
              "  </style>\n",
              "\n",
              "      <script>\n",
              "        const buttonEl =\n",
              "          document.querySelector('#df-a32d6bd1-3f34-49dc-bd6a-a131e1167809 button.colab-df-convert');\n",
              "        buttonEl.style.display =\n",
              "          google.colab.kernel.accessAllowed ? 'block' : 'none';\n",
              "\n",
              "        async function convertToInteractive(key) {\n",
              "          const element = document.querySelector('#df-a32d6bd1-3f34-49dc-bd6a-a131e1167809');\n",
              "          const dataTable =\n",
              "            await google.colab.kernel.invokeFunction('convertToInteractive',\n",
              "                                                     [key], {});\n",
              "          if (!dataTable) return;\n",
              "\n",
              "          const docLinkHtml = 'Like what you see? Visit the ' +\n",
              "            '<a target=\"_blank\" href=https://colab.research.google.com/notebooks/data_table.ipynb>data table notebook</a>'\n",
              "            + ' to learn more about interactive tables.';\n",
              "          element.innerHTML = '';\n",
              "          dataTable['output_type'] = 'display_data';\n",
              "          await google.colab.output.renderOutput(dataTable, element);\n",
              "          const docLink = document.createElement('div');\n",
              "          docLink.innerHTML = docLinkHtml;\n",
              "          element.appendChild(docLink);\n",
              "        }\n",
              "      </script>\n",
              "    </div>\n",
              "  </div>\n",
              "  "
            ]
          },
          "metadata": {},
          "execution_count": 92
        }
      ]
    },
    {
      "cell_type": "code",
      "source": [
        "sample_data.iloc[0,:]"
      ],
      "metadata": {
        "colab": {
          "base_uri": "https://localhost:8080/"
        },
        "id": "g7QRAXVI7qRw",
        "outputId": "7d71dc20-9d09-466f-ba8a-e079c4e4c103"
      },
      "execution_count": 93,
      "outputs": [
        {
          "output_type": "execute_result",
          "data": {
            "text/plain": [
              "SepalLength    5.006\n",
              "SepalWidth     3.418\n",
              "PetalLength    1.464\n",
              "PetalWidth     0.244\n",
              "Name: Iris-setosa, dtype: float64"
            ]
          },
          "metadata": {},
          "execution_count": 93
        }
      ]
    },
    {
      "cell_type": "code",
      "source": [
        "from matplotlib import pyplot as plt"
      ],
      "metadata": {
        "id": "fhkmtlk27SJJ"
      },
      "execution_count": 94,
      "outputs": []
    },
    {
      "cell_type": "code",
      "source": [
        "plt.plot([1,2,3,4],sample_data.iloc[0,:],'ro') # plot ดอกที่ 1 สีแดง \n",
        "plt.plot([1,2,3,4],sample_data.iloc[1,:],'g*') # ดอกที่ 2 สีเขียว\n",
        "plt.plot([1,2,3,4],sample_data.iloc[2,:],'b^') #ดอกที่ 3 สี น้ำเงิน"
      ],
      "metadata": {
        "colab": {
          "base_uri": "https://localhost:8080/",
          "height": 282
        },
        "id": "jUWmVJVH6udj",
        "outputId": "a1343590-7780-4f9e-969d-1e475594c238"
      },
      "execution_count": 95,
      "outputs": [
        {
          "output_type": "execute_result",
          "data": {
            "text/plain": [
              "[<matplotlib.lines.Line2D at 0x7fedb0e31210>]"
            ]
          },
          "metadata": {},
          "execution_count": 95
        },
        {
          "output_type": "display_data",
          "data": {
            "text/plain": [
              "<Figure size 432x288 with 1 Axes>"
            ],
            "image/png": "[encoded data removed]"
          },
          "metadata": {
            "needs_background": "light"
          }
        }
      ]
    },
    {
      "cell_type": "code",
      "source": [
        "plt.plot([1,2,3,4],sample_data.iloc[0,:],'ro-')  #มีเส้นเชื่อมโยง ที่สัมพันธ์กัน\n",
        "plt.plot([1,2,3,4],sample_data.iloc[1,:],'g*-')\n",
        "plt.plot([1,2,3,4],sample_data.iloc[2,:],'b^-')"
      ],
      "metadata": {
        "colab": {
          "base_uri": "https://localhost:8080/",
          "height": 282
        },
        "id": "eRE-gUC97_6u",
        "outputId": "377d41f0-e4c3-473b-892b-a006f365790d"
      },
      "execution_count": 96,
      "outputs": [
        {
          "output_type": "execute_result",
          "data": {
            "text/plain": [
              "[<matplotlib.lines.Line2D at 0x7fedb0da7790>]"
            ]
          },
          "metadata": {},
          "execution_count": 96
        },
        {
          "output_type": "display_data",
          "data": {
            "text/plain": [
              "<Figure size 432x288 with 1 Axes>"
            ],
            "image/png": "[encoded data removed]"
          },
          "metadata": {
            "needs_background": "light"
          }
        }
      ]
    },
    {
      "cell_type": "code",
      "source": [
        "plt.plot([1,1],[min(sample_data.iloc[:,0]),max(sample_data.iloc[:,0])],'c:') #ค่า x เป็น 1  y คือ 1\n",
        "plt.plot([2,2],[min(sample_data.iloc[:,1]),max(sample_data.iloc[:,1])],'c:')\n",
        "plt.plot([3,3],[min(sample_data.iloc[:,2]),max(sample_data.iloc[:,2])],'c:')\n",
        "plt.plot([4,4],[min(sample_data.iloc[:,3]),max(sample_data.iloc[:,3])],'c:')\n",
        "\n",
        "plt.plot([1,2,3,4],sample_data.iloc[0,:],'ro')\n",
        "plt.plot([1,2,3,4],sample_data.iloc[1,:],'g*')\n",
        "plt.plot([1,2,3,4],sample_data.iloc[2,:],'b^')"
      ],
      "metadata": {
        "colab": {
          "base_uri": "https://localhost:8080/",
          "height": 282
        },
        "id": "zmio4B-X8dwH",
        "outputId": "2515cbe2-9413-4d3d-981c-c6309da32ce3"
      },
      "execution_count": 97,
      "outputs": [
        {
          "output_type": "execute_result",
          "data": {
            "text/plain": [
              "[<matplotlib.lines.Line2D at 0x7fedb0d2ef50>]"
            ]
          },
          "metadata": {},
          "execution_count": 97
        },
        {
          "output_type": "display_data",
          "data": {
            "text/plain": [
              "<Figure size 432x288 with 1 Axes>"
            ],
            "image/png": "[encoded data removed]"
          },
          "metadata": {
            "needs_background": "light"
          }
        }
      ]
    },
    {
      "cell_type": "markdown",
      "source": [
        "## การใช้ plt.plot\n",
        "`plt.plot`(`พิกัดแกน X`, `พิกัดแกน Y`, `ลักษณะของ marker + เส้นเชื่อม`)\n",
        "\n",
        "marker -> 'cML'"
      ],
      "metadata": {
        "id": "qvv-ie05-05B"
      }
    },
    {
      "cell_type": "code",
      "source": [
        "plt.plot([1],[2],'ro')"
      ],
      "metadata": {
        "colab": {
          "base_uri": "https://localhost:8080/",
          "height": 282
        },
        "id": "_3_hqRr19cc0",
        "outputId": "334156b1-c428-4f5d-8041-8c09267b152a"
      },
      "execution_count": 98,
      "outputs": [
        {
          "output_type": "execute_result",
          "data": {
            "text/plain": [
              "[<matplotlib.lines.Line2D at 0x7fedb0ca5550>]"
            ]
          },
          "metadata": {},
          "execution_count": 98
        },
        {
          "output_type": "display_data",
          "data": {
            "text/plain": [
              "<Figure size 432x288 with 1 Axes>"
            ],
            "image/png": "[encoded data removed]"
          },
          "metadata": {
            "needs_background": "light"
          }
        }
      ]
    },
    {
      "cell_type": "code",
      "source": [
        "plt.plot([1,2],[2,4],'ro')  # [X1,X2],[y1,Y2]"
      ],
      "metadata": {
        "colab": {
          "base_uri": "https://localhost:8080/",
          "height": 282
        },
        "id": "HBtrPnHq_d8n",
        "outputId": "a9d57b28-db6a-45e5-84f1-17ccf638287b"
      },
      "execution_count": 99,
      "outputs": [
        {
          "output_type": "execute_result",
          "data": {
            "text/plain": [
              "[<matplotlib.lines.Line2D at 0x7fedb0c89d50>]"
            ]
          },
          "metadata": {},
          "execution_count": 99
        },
        {
          "output_type": "display_data",
          "data": {
            "text/plain": [
              "<Figure size 432x288 with 1 Axes>"
            ],
            "image/png": "[encoded data removed]"
          },
          "metadata": {
            "needs_background": "light"
          }
        }
      ]
    },
    {
      "cell_type": "code",
      "source": [
        "plt.plot([1,2],[2,4],'ro-.')"
      ],
      "metadata": {
        "colab": {
          "base_uri": "https://localhost:8080/",
          "height": 282
        },
        "id": "MkH1xolwAGY7",
        "outputId": "a48a9d42-34e6-485c-c7cd-782c6fcad3e7"
      },
      "execution_count": 100,
      "outputs": [
        {
          "output_type": "execute_result",
          "data": {
            "text/plain": [
              "[<matplotlib.lines.Line2D at 0x7fedb0bffd10>]"
            ]
          },
          "metadata": {},
          "execution_count": 100
        },
        {
          "output_type": "display_data",
          "data": {
            "text/plain": [
              "<Figure size 432x288 with 1 Axes>"
            ],
            "image/png": "[encoded data removed]"
          },
          "metadata": {
            "needs_background": "light"
          }
        }
      ]
    },
    {
      "cell_type": "code",
      "source": [
        "plt.plot([1,1],[min(sample_data.iloc[:,0]),max(sample_data.iloc[:,0])],'c:')\n",
        "plt.plot([2,2],[min(sample_data.iloc[:,1]),max(sample_data.iloc[:,1])],'c:')\n",
        "plt.plot([3,3],[min(sample_data.iloc[:,2]),max(sample_data.iloc[:,2])],'c:')\n",
        "plt.plot([4,4],[min(sample_data.iloc[:,3]),max(sample_data.iloc[:,3])],'c:')\n",
        "\n",
        "plt.plot([1,2,3,4],sample_data.iloc[0,:],'ro',label='Setosa') #lable เพิ่ม\n",
        "plt.plot([1,2,3,4],sample_data.iloc[1,:],'g*',label='Versicolor')\n",
        "plt.plot([1,2,3,4],sample_data.iloc[2,:],'b^',label='Virginica')\n",
        "plt.legend()"
      ],
      "metadata": {
        "colab": {
          "base_uri": "https://localhost:8080/",
          "height": 282
        },
        "id": "9nTk8RveAP85",
        "outputId": "cd8b9596-1773-4c61-9aa1-ade8846fdff7"
      },
      "execution_count": 101,
      "outputs": [
        {
          "output_type": "execute_result",
          "data": {
            "text/plain": [
              "<matplotlib.legend.Legend at 0x7fedb0e5d690>"
            ]
          },
          "metadata": {},
          "execution_count": 101
        },
        {
          "output_type": "display_data",
          "data": {
            "text/plain": [
              "<Figure size 432x288 with 1 Axes>"
            ],
            "image/png": "[encoded data removed]"
          },
          "metadata": {
            "needs_background": "light"
          }
        }
      ]
    },
    {
      "cell_type": "code",
      "source": [
        "example_df.iloc[:,:-1].columns.tolist() #ตัดตรง Name ออก"
      ],
      "metadata": {
        "colab": {
          "base_uri": "https://localhost:8080/"
        },
        "id": "0BVfq3kpBtAV",
        "outputId": "8fd5f7e5-43c6-4c14-85b8-11690db69d3e"
      },
      "execution_count": 102,
      "outputs": [
        {
          "output_type": "execute_result",
          "data": {
            "text/plain": [
              "['SepalLength', 'SepalWidth', 'PetalLength', 'PetalWidth']"
            ]
          },
          "metadata": {},
          "execution_count": 102
        }
      ]
    },
    {
      "cell_type": "code",
      "source": [
        "plt.plot([1,1],[min(sample_data.iloc[:,0]),max(sample_data.iloc[:,0])],'c:')\n",
        "plt.plot([2,2],[min(sample_data.iloc[:,1]),max(sample_data.iloc[:,1])],'c:')\n",
        "plt.plot([3,3],[min(sample_data.iloc[:,2]),max(sample_data.iloc[:,2])],'c:')\n",
        "plt.plot([4,4],[min(sample_data.iloc[:,3]),max(sample_data.iloc[:,3])],'c:')\n",
        "\n",
        "plt.plot([1,2,3,4],sample_data.iloc[0,:],'ro',label='Setosa')\n",
        "plt.plot([1,2,3,4],sample_data.iloc[1,:],'g*',label='Versicolor')\n",
        "plt.plot([1,2,3,4],sample_data.iloc[2,:],'b^',label='Virginica')\n",
        "plt.legend()\n",
        "plt.xticks([1,2,3,4], example_df.iloc[:,:-1].columns.tolist(), rotation='vertical')"
      ],
      "metadata": {
        "colab": {
          "base_uri": "https://localhost:8080/",
          "height": 451
        },
        "id": "v6QD3PfeBJER",
        "outputId": "dc9c2e7d-be98-4a63-db73-6b10b355d69c"
      },
      "execution_count": 103,
      "outputs": [
        {
          "output_type": "execute_result",
          "data": {
            "text/plain": [
              "([<matplotlib.axis.XTick at 0x7fedb0b5a710>,\n",
              "  <matplotlib.axis.XTick at 0x7fedb0b5a5d0>,\n",
              "  <matplotlib.axis.XTick at 0x7fedb0b5a790>,\n",
              "  <matplotlib.axis.XTick at 0x7fedb0aa3610>],\n",
              " [Text(0, 0, 'SepalLength'),\n",
              "  Text(0, 0, 'SepalWidth'),\n",
              "  Text(0, 0, 'PetalLength'),\n",
              "  Text(0, 0, 'PetalWidth')])"
            ]
          },
          "metadata": {},
          "execution_count": 103
        },
        {
          "output_type": "display_data",
          "data": {
            "text/plain": [
              "<Figure size 432x288 with 1 Axes>"
            ],
            "image/png": "[encoded data removed]"
          },
          "metadata": {
            "needs_background": "light"
          }
        }
      ]
    },
    {
      "cell_type": "code",
      "source": [
        "plt.plot([1,1],[min(sample_data.iloc[:,0]),max(sample_data.iloc[:,0])],'c:')\n",
        "plt.plot([2,2],[min(sample_data.iloc[:,1]),max(sample_data.iloc[:,1])],'c:')\n",
        "plt.plot([3,3],[min(sample_data.iloc[:,2]),max(sample_data.iloc[:,2])],'c:')\n",
        "plt.plot([4,4],[min(sample_data.iloc[:,3]),max(sample_data.iloc[:,3])],'c:')\n",
        "\n",
        "plt.plot([1,2,3,4],sample_data.iloc[0,:],'ro',label='Setosa')\n",
        "plt.plot([1,2,3,4],sample_data.iloc[1,:],'g*',label='Versicolor')\n",
        "plt.plot([1,2,3,4],sample_data.iloc[2,:],'b^',label='Virginica')\n",
        "plt.legend()\n",
        "plt.xticks([1,2,3,4], example_df.iloc[:,:-1].columns.tolist(), rotation='vertical')\n",
        "plt.title('Features comparison between 3 different Iris flowers'); #ชื่อกราฟ"
      ],
      "metadata": {
        "colab": {
          "base_uri": "https://localhost:8080/",
          "height": 329
        },
        "id": "lo7tZqWiCIWk",
        "outputId": "c6854da1-5ad6-4376-9f62-268ba3e7a43f"
      },
      "execution_count": 104,
      "outputs": [
        {
          "output_type": "display_data",
          "data": {
            "text/plain": [
              "<Figure size 432x288 with 1 Axes>"
            ],
            "image/png": "[encoded data removed]"
          },
          "metadata": {
            "needs_background": "light"
          }
        }
      ]
    },
    {
      "cell_type": "code",
      "source": [
        "plt.plot([1,1],[min(sample_data.iloc[:,0]),max(sample_data.iloc[:,0])],'c:')\n",
        "plt.plot([2,2],[min(sample_data.iloc[:,1]),max(sample_data.iloc[:,1])],'c:')\n",
        "plt.plot([3,3],[min(sample_data.iloc[:,2]),max(sample_data.iloc[:,2])],'c:')\n",
        "plt.plot([4,4],[min(sample_data.iloc[:,3]),max(sample_data.iloc[:,3])],'c:')\n",
        "\n",
        "plt.plot([1,2,3,4],sample_data.iloc[0,:],'ro',label='Setosa')\n",
        "plt.plot([1,2,3,4],sample_data.iloc[1,:],'g*',label='Versicolor')\n",
        "plt.plot([1,2,3,4],sample_data.iloc[2,:],'b^',label='Virginica')\n",
        "\n",
        "plt.legend()\n",
        "plt.xticks([1,2,3,4], example_df.iloc[:,:-1].columns.tolist(), rotation='vertical')\n",
        "plt.title('Features comparison between 3 different Iris flowers')\n",
        "plt.ylabel('size (cm)');"
      ],
      "metadata": {
        "colab": {
          "base_uri": "https://localhost:8080/",
          "height": 329
        },
        "id": "9h2EOsSeCf2G",
        "outputId": "85d7a7a2-8971-410c-d899-f7fc75783ad0"
      },
      "execution_count": 105,
      "outputs": [
        {
          "output_type": "display_data",
          "data": {
            "text/plain": [
              "<Figure size 432x288 with 1 Axes>"
            ],
            "image/png": "[encoded data removed]"
          },
          "metadata": {
            "needs_background": "light"
          }
        }
      ]
    },
    {
      "cell_type": "markdown",
      "source": [
        "# HW วาดรูป ก้อนเมฆ และ ฝน ด้วย plt.plot"
      ],
      "metadata": {
        "id": "fg3RZNWPDikM"
      }
    },
    {
      "cell_type": "markdown",
      "source": [
        "reference: https://colab.research.google.com/drive/1sTdTZx_Cm51mc8OL_QHtehWyO4725sGl"
      ],
      "metadata": {
        "id": "ETQRAZEj-en-"
      }
    },
    {
      "cell_type": "code",
      "source": [
        "# แสดงภาษาไทยใน matplotlib\n",
        "!wget -q https://github.com/Phonbopit/sarabun-webfont/raw/master/fonts/thsarabunnew-webfont.ttf\n",
        "!ls\n",
        "# !pip install -U --pre matplotlib  \n",
        "import matplotlib as mpl       # เมื่อต้องการเซ็ตขนาด\n",
        "mpl.font_manager.fontManager.addfont('thsarabunnew-webfont.ttf')    # import font เข้าไป\n",
        "mpl.rc('font', family='TH Sarabun New')"
      ],
      "metadata": {
        "id": "MWqhjACA-WaJ",
        "outputId": "1a89b123-3638-43af-f5d0-32ce144def02",
        "colab": {
          "base_uri": "https://localhost:8080/"
        }
      },
      "execution_count": 106,
      "outputs": [
        {
          "output_type": "stream",
          "name": "stdout",
          "text": [
            "drive\t     thsarabunnew-webfont.ttf\t thsarabunnew-webfont.ttf.2\n",
            "sample_data  thsarabunnew-webfont.ttf.1  thsarabunnew-webfont.ttf.3\n"
          ]
        }
      ]
    },
    {
      "cell_type": "code",
      "source": [
        "# วาดรูปก้อนเมฆ\n",
        "plt.plot([1.5,2,2.5,3,3.5,4.5,5,5.5,6,6.5],[5.5,6,6,6.5,6.5,7,7,6.5,6.5,5.5],'#069AF3')\n",
        "plt.plot([1.5,2,2.5,3,3.5,4.5,5,5.5,6,6.5],[5.5,4.5,4.5,4,3.5,4,4.5,4.5,5,5.5],'#069AF3')\n",
        "\n",
        "# วาดรูปฝน\n",
        "plt.plot([2,2],[1,4],'c-.',alpha=0.3)\n",
        "plt.plot([2.5,2.5],[1,3],'c-.*',alpha=0.3)\n",
        "plt.plot([3,3],[1,3.5],'c:*',alpha=0.9)\n",
        "plt.plot([3.5,3.5],[1,2.5],'c-.',alpha=0.3)\n",
        "plt.plot([4,4],[1,3.5],'c:')\n",
        "plt.plot([4.5,4.5],[1,3],'c-.*',alpha=0.3)\n",
        "plt.plot([5,5],[1,4],'c:*')\n",
        "plt.plot([5.5,5.5],[1,3.5],'c-.*',alpha=0.3)\n",
        "plt.plot([6,6],[1,4.5],'c:')\n",
        "\n",
        "plt.legend()\n",
        "plt.title('วาดรูปก้อนเมฆ และ ฝน');"
      ],
      "metadata": {
        "colab": {
          "base_uri": "https://localhost:8080/",
          "height": 0
        },
        "id": "nqZp60MET9bx",
        "outputId": "621fa090-7e42-4d16-c280-f930ca61e4ec"
      },
      "execution_count": 107,
      "outputs": [
        {
          "output_type": "stream",
          "name": "stderr",
          "text": [
            "No handles with labels found to put in legend.\n"
          ]
        },
        {
          "output_type": "display_data",
          "data": {
            "text/plain": [
              "<Figure size 432x288 with 1 Axes>"
            ],
            "image/png": "[encoded data removed]"
          },
          "metadata": {
            "needs_background": "light"
          }
        }
      ]
    },
    {
      "cell_type": "markdown",
      "source": [
        "# Bar chart"
      ],
      "metadata": {
        "id": "O1aq0Kui_0D-"
      }
    },
    {
      "cell_type": "code",
      "source": [
        "sample_data"
      ],
      "metadata": {
        "id": "HWaNaCN3_4hA",
        "outputId": "69abcb76-5119-45d6-c110-40a34fc011f6",
        "colab": {
          "base_uri": "https://localhost:8080/",
          "height": 0
        }
      },
      "execution_count": 108,
      "outputs": [
        {
          "output_type": "execute_result",
          "data": {
            "text/plain": [
              "                 SepalLength  SepalWidth  PetalLength  PetalWidth\n",
              "Name                                                             \n",
              "Iris-setosa            5.006       3.418        1.464       0.244\n",
              "Iris-versicolor        5.936       2.770        4.260       1.326\n",
              "Iris-virginica         6.588       2.974        5.552       2.026"
            ],
            "text/html": [
              "\n",
              "  <div id=\"df-e5653b32-d37b-4e5a-bdd0-3802e23c781c\">\n",
              "    <div class=\"colab-df-container\">\n",
              "      <div>\n",
              "<style scoped>\n",
              "    .dataframe tbody tr th:only-of-type {\n",
              "        vertical-align: middle;\n",
              "    }\n",
              "\n",
              "    .dataframe tbody tr th {\n",
              "        vertical-align: top;\n",
              "    }\n",
              "\n",
              "    .dataframe thead th {\n",
              "        text-align: right;\n",
              "    }\n",
              "</style>\n",
              "<table border=\"1\" class=\"dataframe\">\n",
              "  <thead>\n",
              "    <tr style=\"text-align: right;\">\n",
              "      <th></th>\n",
              "      <th>SepalLength</th>\n",
              "      <th>SepalWidth</th>\n",
              "      <th>PetalLength</th>\n",
              "      <th>PetalWidth</th>\n",
              "    </tr>\n",
              "    <tr>\n",
              "      <th>Name</th>\n",
              "      <th></th>\n",
              "      <th></th>\n",
              "      <th></th>\n",
              "      <th></th>\n",
              "    </tr>\n",
              "  </thead>\n",
              "  <tbody>\n",
              "    <tr>\n",
              "      <th>Iris-setosa</th>\n",
              "      <td>5.006</td>\n",
              "      <td>3.418</td>\n",
              "      <td>1.464</td>\n",
              "      <td>0.244</td>\n",
              "    </tr>\n",
              "    <tr>\n",
              "      <th>Iris-versicolor</th>\n",
              "      <td>5.936</td>\n",
              "      <td>2.770</td>\n",
              "      <td>4.260</td>\n",
              "      <td>1.326</td>\n",
              "    </tr>\n",
              "    <tr>\n",
              "      <th>Iris-virginica</th>\n",
              "      <td>6.588</td>\n",
              "      <td>2.974</td>\n",
              "      <td>5.552</td>\n",
              "      <td>2.026</td>\n",
              "    </tr>\n",
              "  </tbody>\n",
              "</table>\n",
              "</div>\n",
              "      <button class=\"colab-df-convert\" onclick=\"convertToInteractive('df-e5653b32-d37b-4e5a-bdd0-3802e23c781c')\"\n",
              "              title=\"Convert this dataframe to an interactive table.\"\n",
              "              style=\"display:none;\">\n",
              "        \n",
              "  <svg xmlns=\"http://www.w3.org/2000/svg\" height=\"24px\"viewBox=\"0 0 24 24\"\n",
              "       width=\"24px\">\n",
              "    <path d=\"M0 0h24v24H0V0z\" fill=\"none\"/>\n",
              "    <path d=\"M18.56 5.44l.94 2.06.94-2.06 2.06-.94-2.06-.94-.94-2.06-.94 2.06-2.06.94zm-11 1L8.5 8.5l.94-2.06 2.06-.94-2.06-.94L8.5 2.5l-.94 2.06-2.06.94zm10 10l.94 2.06.94-2.06 2.06-.94-2.06-.94-.94-2.06-.94 2.06-2.06.94z\"/><path d=\"M17.41 7.96l-1.37-1.37c-.4-.4-.92-.59-1.43-.59-.52 0-1.04.2-1.43.59L10.3 9.45l-7.72 7.72c-.78.78-.78 2.05 0 2.83L4 21.41c.39.39.9.59 1.41.59.51 0 1.02-.2 1.41-.59l7.78-7.78 2.81-2.81c.8-.78.8-2.07 0-2.86zM5.41 20L4 18.59l7.72-7.72 1.47 1.35L5.41 20z\"/>\n",
              "  </svg>\n",
              "      </button>\n",
              "      \n",
              "  <style>\n",
              "    .colab-df-container {\n",
              "      display:flex;\n",
              "      flex-wrap:wrap;\n",
              "      gap: 12px;\n",
              "    }\n",
              "\n",
              "    .colab-df-convert {\n",
              "      background-color: #E8F0FE;\n",
              "      border: none;\n",
              "      border-radius: 50%;\n",
              "      cursor: pointer;\n",
              "      display: none;\n",
              "      fill: #1967D2;\n",
              "      height: 32px;\n",
              "      padding: 0 0 0 0;\n",
              "      width: 32px;\n",
              "    }\n",
              "\n",
              "    .colab-df-convert:hover {\n",
              "      background-color: #E2EBFA;\n",
              "      box-shadow: 0px 1px 2px rgba(60, 64, 67, 0.3), 0px 1px 3px 1px rgba(60, 64, 67, 0.15);\n",
              "      fill: #174EA6;\n",
              "    }\n",
              "\n",
              "    [theme=dark] .colab-df-convert {\n",
              "      background-color: #3B4455;\n",
              "      fill: #D2E3FC;\n",
              "    }\n",
              "\n",
              "    [theme=dark] .colab-df-convert:hover {\n",
              "      background-color: #434B5C;\n",
              "      box-shadow: 0px 1px 3px 1px rgba(0, 0, 0, 0.15);\n",
              "      filter: drop-shadow(0px 1px 2px rgba(0, 0, 0, 0.3));\n",
              "      fill: #FFFFFF;\n",
              "    }\n",
              "  </style>\n",
              "\n",
              "      <script>\n",
              "        const buttonEl =\n",
              "          document.querySelector('#df-e5653b32-d37b-4e5a-bdd0-3802e23c781c button.colab-df-convert');\n",
              "        buttonEl.style.display =\n",
              "          google.colab.kernel.accessAllowed ? 'block' : 'none';\n",
              "\n",
              "        async function convertToInteractive(key) {\n",
              "          const element = document.querySelector('#df-e5653b32-d37b-4e5a-bdd0-3802e23c781c');\n",
              "          const dataTable =\n",
              "            await google.colab.kernel.invokeFunction('convertToInteractive',\n",
              "                                                     [key], {});\n",
              "          if (!dataTable) return;\n",
              "\n",
              "          const docLinkHtml = 'Like what you see? Visit the ' +\n",
              "            '<a target=\"_blank\" href=https://colab.research.google.com/notebooks/data_table.ipynb>data table notebook</a>'\n",
              "            + ' to learn more about interactive tables.';\n",
              "          element.innerHTML = '';\n",
              "          dataTable['output_type'] = 'display_data';\n",
              "          await google.colab.output.renderOutput(dataTable, element);\n",
              "          const docLink = document.createElement('div');\n",
              "          docLink.innerHTML = docLinkHtml;\n",
              "          element.appendChild(docLink);\n",
              "        }\n",
              "      </script>\n",
              "    </div>\n",
              "  </div>\n",
              "  "
            ]
          },
          "metadata": {},
          "execution_count": 108
        }
      ]
    },
    {
      "cell_type": "code",
      "source": [
        "sample_data['PetalLength']"
      ],
      "metadata": {
        "id": "H2ia7CEpYaIp",
        "outputId": "eaba0ce6-c1d0-476e-9d78-c671b3d5b398",
        "colab": {
          "base_uri": "https://localhost:8080/"
        }
      },
      "execution_count": 109,
      "outputs": [
        {
          "output_type": "execute_result",
          "data": {
            "text/plain": [
              "Name\n",
              "Iris-setosa        1.464\n",
              "Iris-versicolor    4.260\n",
              "Iris-virginica     5.552\n",
              "Name: PetalLength, dtype: float64"
            ]
          },
          "metadata": {},
          "execution_count": 109
        }
      ]
    },
    {
      "cell_type": "code",
      "source": [
        "sample_data['PetalLength'][0]"
      ],
      "metadata": {
        "id": "4W4Tzvn8Yhat",
        "outputId": "c3058333-212c-4f36-dc58-d7b8cf507259",
        "colab": {
          "base_uri": "https://localhost:8080/"
        }
      },
      "execution_count": 110,
      "outputs": [
        {
          "output_type": "execute_result",
          "data": {
            "text/plain": [
              "1.464"
            ]
          },
          "metadata": {},
          "execution_count": 110
        }
      ]
    },
    {
      "cell_type": "code",
      "source": [
        "plt.bar([1,2,3],sample_data['PetalLength'])"
      ],
      "metadata": {
        "id": "WNFyhdcfYk0y",
        "outputId": "b6f37a71-5229-466e-a332-d7db78bb3a9c",
        "colab": {
          "base_uri": "https://localhost:8080/",
          "height": 0
        }
      },
      "execution_count": 111,
      "outputs": [
        {
          "output_type": "execute_result",
          "data": {
            "text/plain": [
              "<BarContainer object of 3 artists>"
            ]
          },
          "metadata": {},
          "execution_count": 111
        },
        {
          "output_type": "display_data",
          "data": {
            "text/plain": [
              "<Figure size 432x288 with 1 Axes>"
            ],
            "image/png": "[encoded data removed]"
          },
          "metadata": {
            "needs_background": "light"
          }
        }
      ]
    },
    {
      "cell_type": "code",
      "source": [
        "sample_data.reset_index()['Name'] # reset index ให้กลายมาเป็นค่าคอลัมน์ธรรมดา"
      ],
      "metadata": {
        "id": "zS9wC_xzYvoA",
        "outputId": "b02f3de5-e731-42a4-9b0e-1e12f87783b5",
        "colab": {
          "base_uri": "https://localhost:8080/"
        }
      },
      "execution_count": 112,
      "outputs": [
        {
          "output_type": "execute_result",
          "data": {
            "text/plain": [
              "0        Iris-setosa\n",
              "1    Iris-versicolor\n",
              "2     Iris-virginica\n",
              "Name: Name, dtype: object"
            ]
          },
          "metadata": {},
          "execution_count": 112
        }
      ]
    },
    {
      "cell_type": "code",
      "source": [
        "plt.bar([1,2,3],sample_data['PetalLength'],color=['r','g','b'])\n",
        "plt.xticks([1,2,3,4], example_df.iloc[:,:-1].columns.tolist(), rotation='vertical')\n",
        "plt.title('Comparison between average petal lenght of 3 iris flowers')\n",
        "plt.grid(True)\n",
        "plt.ylabel('size (cm)');"
      ],
      "metadata": {
        "id": "Y-cVNqsLY5Nn",
        "outputId": "b89b169f-b04e-4bde-8a83-2e1e2ab8b96c",
        "colab": {
          "base_uri": "https://localhost:8080/",
          "height": 0
        }
      },
      "execution_count": 113,
      "outputs": [
        {
          "output_type": "display_data",
          "data": {
            "text/plain": [
              "<Figure size 432x288 with 1 Axes>"
            ],
            "image/png": "[encoded data removed]"
          },
          "metadata": {
            "needs_background": "light"
          }
        }
      ]
    },
    {
      "cell_type": "markdown",
      "source": [
        "## เปรียบเทียบปริมาณ มากกว่า 1 ปริมาณของ object หลาย class"
      ],
      "metadata": {
        "id": "BAyHKbWVCU1J"
      }
    },
    {
      "cell_type": "markdown",
      "source": [
        "![image.png](data:image/png;base64,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)"
      ],
      "metadata": {
        "id": "LgBEwfX1CQ8V"
      }
    },
    {
      "cell_type": "code",
      "source": [
        "import numpy as np #นำเข้า  numpy โดยใช้ชื่อ np"
      ],
      "metadata": {
        "id": "uHY0qLR4ZhaK"
      },
      "execution_count": 114,
      "outputs": []
    },
    {
      "cell_type": "code",
      "source": [
        "width = 0.2\n",
        "\n",
        "plt.bar([1, 2],[sample_data['PetalLength'][1],sample_data['PetalWidth'][1]],width,color='g',label='versicolor') #ดอกที่ 2 versicolor\n",
        "plt.bar([1-width, 2-width],[sample_data['PetalLength'][0],sample_data['PetalWidth'][0]],width,color='r',label='setosa') #ดอกที่ 1 setosa ขยับซ้าย\n",
        "plt.bar([1+width, 2+width],[sample_data['PetalLength'][2],sample_data['PetalWidth'][2]],width,color='b',label='virginica') #ดอกที่ 1 setosa ขยับซ้าย\n",
        "\n",
        "plt.xticks([1,2], ['Petal Length','Petal Width'])\n",
        "plt.legend();"
      ],
      "metadata": {
        "colab": {
          "base_uri": "https://localhost:8080/",
          "height": 0
        },
        "id": "J80wOmH5Cc0t",
        "outputId": "930a07d2-73e9-4c84-99bd-512114944f44"
      },
      "execution_count": 115,
      "outputs": [
        {
          "output_type": "display_data",
          "data": {
            "text/plain": [
              "<Figure size 432x288 with 1 Axes>"
            ],
            "image/png": "[encoded data removed]"
          },
          "metadata": {
            "needs_background": "light"
          }
        }
      ]
    },
    {
      "cell_type": "markdown",
      "source": [
        "## การนำปริมาณหลายปริมาณมาซ้อนกัน"
      ],
      "metadata": {
        "id": "sLFqK5KdCf9P"
      }
    },
    {
      "cell_type": "markdown",
      "source": [
        "![image.png](data:image/png;base64,iVBORw0KGgoAAAANSUhEUgAAApoAAAFgCAYAAAAb7dkdAAAAAXNSR0IArs4c6QAAAARnQU1BAACxjwv8YQUAAAAJcEhZcwAAEnQAABJ0Ad5mH3gAAGt0SURBVHhe7Z0HmFRF1obPzKCgKKAoLEYUA4pZERVzzusa1rTqmuOqmCMGzFnXHFZddc26u79iWrOioiiKGVTMCIiCCAIz0/99q6aYS9sz0zPTt+P3Pk89nW7fe7vvuae+OnWqqioVYUIIIYQQQuSY6oZHIYQQQgghcoqEphBCCCGESAQJTSGEEEIIkQgSmkIIIYQQIhEkNIUQQgghRCJIaAohhBBCiESQ0BRCCCGEEIkgoSmEEEIIIRJBQlMIIYQQQiSChKYQQgghhEgECU0hhBBCCJEIEppCCCGEECIRJDSFEEIIIUQiSGgKIYQQQohEkNAUQgghhBCJIKEphBBCCCESQUJTCCGEEEIkgoSmEEIIIYRIhKpURMPzsoCfEy9VVVVWU1PT8KkQQgghhMgXZRnRrKurs6lTp9ro0aNtypQpTnAKIYQQQoj8UnZCs76+3n7++We77rrr7LDDDrM77rjDfvnlF4lNIYQQQog8U5ZCc/LkyXb11Vfb8OHDbejQofbxxx+794UQQgghRP4oy65zRCVRzNraWhs/frwrimgKIYQQQuSXshOaYfBP586dnbj8/PPP7b333rMZM2Y0bCGEEEIIIfJBWQpNROZmm23mXhPVHDVqlH399dfutRBCCCGEyA9lKTTnnXdeW3/99d1zutHHjh3rus+FEEIIIUT+KMsczU6dOtnqq6/uBCfd50xz9N133ylPUwghhBAij5RlRLO6utoWWGAB69evn3uPOTU//fRTzakphBBCCJFHyjKiidCcf/75rW/fvk54MoH7Z5995ubXlNAUQgghhMgPZRnRpHTr1s369+/vnpOnOXLkSJswYYKEphBCCCFEnijLiCbicu6557ZevXpZly5dnLhk1Dld6BKaQgghhBD5oSyFJiA2F110UVtttdXca7rPKUIIIYQQIj+UtdDs0KGDi2wC3ee//vqrxKYQQgghRJ4oW6EJCM255prLPafL/PXXX3fd50IIIYQQInnKOqLJFEeLL764e43QnDhxos2aNcu9FkIIIYQQyVLWQnPBBRe03r17N7zjxaYQQgghhMgPZd11znyaNTU17rlEphBCCCFEfilroZmOxKYQQgghRP4oe6FJFzqFUec//vijzZw5U4JTCCGEECIPlHWOZrwgLocNG2Zjx451olNiUwghhBAiWcpaaJKf2adPH7fmOUyZMsWefvppjTwXQgghhMgDZT8YaJVVVrG1117bvSaSOX36dEUzhRBCCCHyQFlHNBGaXbt2tW7durnXQgghhBAif5T9YCDEJkUIIYQQQuQXKTAhhBBCCJEIFSc0Q36m8jSFEEIIIZKlYoQmwpIyefJkNyhICCGEEEIkS9kLzTDNEY8IzFdffdVqa2sbPhVCCCGEEElREUJzmWWWsV69ermI5oQJEzRhuxBCCCFEHqgIodmzZ083xRFIYAohhBBC5IeKyNEMXecBiU0hhBBCiOSpmMFAQgghhBAiv1RE13koRDLJz/z2228V1RRCCCGESJiKEJqdOnWyueaay71GaL700ksSmkIIIYQQCVMRQrN3797Wo0cP9xqBOXHiRPdcCCGEEEIkR0UIzfioc6irq2t4JoQQQgghkqIiBgNVV1e7IoQQQggh8ofUlxBCCCGESAQJTSGEEEIIkQgSmkIIIYQQIhEkNIUQQgghRCJUnNAM82dqHk0hhBBCiGSpSKE5derUhldCCCGEECIpyl5ohuUnQ2FloOHDhyuiKYQQQgiRMBUR0URgLrnkkjb//PM7gfnRRx9JaAohhBBCJEzFRDRZhrJLly7uvdraWvcohBBCCCGSo2Iimp06dbIOHTq450IIIYQQInkqcjCQEEIIIYRInoqJaMZBbNJ9LtEphBBCCJEcFRPRDLmaiEtGno8ePVpCUwghhBAiQSpmMFC3bt2sY8eO7j0E5htvvOEeJTaFEEIIIZKhIoRmdXW19e3b1xZYYAH3HuJy2rRp7rkQQgghhEiGisnR7Nq16+yIJiiSKYQQQgiRLBWTo0lUE8EphBBCCCHyQ8UITSGEEEIIkV8kNIUQQgghRCJIaAohhBBCiESQ0BRCCCGEEIkgoSmEEEIIIRJBQlMIIYQQQiSChKYQQgghhEgECU0hhBBCCJEIEppCCCGEECIRJDSFEEIIIUQiSGgKIYQQQohEkNAUQgghhBCJIKEphBBCCCESQUJTCCGEEEIkgoSmEEIIIYRIBAlNIYQQQgiRCBKaQgghhBAiESQ0hRBCCCFEIkhoCiGEEEKIRJDQFEIIIYQQiSChKYQQQgghEkFCUwghhBBCJIKEphBCCCGESAQJTSGEEEIIkQgSmkIIIYQQIhEkNIUQQgghRCJIaAohhBBCiESQ0BRCCCGEEIkgoSmEEEIIIRJBQlMIIYQQQiSChKYQQgghhEgECU0hhBBCCJEIFSM0U6lUwzMhhBBCCJEPKkJoBpEpsSmEEEIIkT/KXmgiLinjx4+3adOmufeqqqpcEUIIIYQQyVERQrO+vt7GjBljP//8s3sPkTn//PO750IIIYQQIhkqput8ypQpNmvWLPcaobnOOutYdXW1IptCCCGEEAlRMYOBiGpSEJYIzD59+khkCiGEEEIkSMV0nX/66aezu84RmhQhhBBCCJEcFSE0KV9//bX98ssvLoq56KKLKpophBBCCJEwFZOjWVtb6yKbRDI32mgjCU0hhBBCiISpuP5jBGb37t0lNIUQQgghEkaJikIIIYQQIhEqMqIphBBCCCGSRxFNIYQQQgiRCBKaQgghhBAiESQ0hRBCCCFEIkhoCiGEEEKIRJDQFEIIIYQQiSChKYQQQgghEkFCUwghhBBCJIKEphBCCCGESAQJTSGEEEIIkQgSmkIIIYQQIhEkNIUQQgghRCJIaAohhBBCiESQ0BRCCCGEEIkgoSmEEEIIIRKhYoRmKpVqeCaEEEIIIfJB2QtNBOasWbOsrq6u4R2zqqqqhmdCCCGEECIpKkJojhs3zn7++eeGd4QQQgghRD6oCKH5zTff2MSJE93r6upqW3LJJRXVFEIIIYRImIrI0fztt99c9zniEqE5YMAACU0hhBBCiISpiIhmKIDA7Nmzp3suhBBCCCGSoyIimunU1NQ0PBNCCCGEEElRkUJTCCGEEEIkj4SmEEIIIYRIBAlNIYQQQgiRCBKaQgghhBAiESQ0hRBCCCFEIkhoCiGEEEKIRJDQFEIIIYQQiSChKYQQQgghEkFCUwghhBBCJIKEphBCCCGESAQJTSGEEEIIkQgSmkIIIYQQIhEkNIUQQgghRCJIaAohhBBCiESQ0BRCCCGEEIlQEUIzlUo1PBNCCCGEEPmi7IUmInP8+PE2efJk97qqqso9CiGEEEKIZCl7oVlfX29jx451YhOROd9887lHCU4hhBBCiGSpiK7z6dOn28yZM5247N+/v3Xo0KHhEyGEKBCk9EQN4TmK0nyEEGVGxeRoIjKrq6ttiSWWsJqaGkU0hRBzgshLLy3BNpnEYkvf57Oo8Wu//GL288+NZcYMs9ra7PeTb+LnlF6yge3S/69Qst1HS2R7TmGbcOxMpRTJ9DtCEaIAVEUirKyt79dff7WzzjrLrr322ug+S9lRRx1l5513nnXq1EliU4hSIV5Rhkfu33APt+deDvuuq/PiD+EB7HPeeec8TiB856efvFiMw7bzz+8LvSeZvougHD7c7KWXzKZMafggYuONzf7wB7MFFrDISZl17mzWsaPZ3HP/fj/NwTHC78hE+E3Z7pP9IYA5b55ngvOca67M+wzn8+OPZtOmNbyZBv919+5m1dWt+60BjkEhH59r0qOHP6dM++Jac+04F86rpsZsnnka/2euW/gt8ZKJpv6PXBB+U2vgOs2aNef3+E/5bZnsUYiEkdAUopIIt3v8tg/3Qa7vh/ixwnOOEUq28F0Ezjff+Ao0TpcuZgsv3LTAaQlEBvseN86LIB6nT/efIT7WXtusVy//PA7fIwL58MNm77035/9Jpb7KKmbbbuu/m35ebPv112ZXXWX2n/94sRO+36eP2WKLmS20kP/u8subLb202QoreCHU0m9kP5wbvyMuYNNhP0ss4fcZXjfHb7+ZjRlj9sknfv/p8P3evc1WWskLGv6DOAi7H34wu+cesy+/bHgzDb6/zz7+t6f/39nAeSEyH3nEbNQos91399cvXbjyH02aZPavf/nfxLnxP/A/I3TZtls3s549vV1hY4j/OOF6YY/Nie/2gGBEMLP/bAm/jf86fp34fcst5//jtt4rQrQRCU0hKgVudSofBAiVGHAPIAzmm88/z9U9wbEoHIso4Vdf+fepsBFQ2Uatwjm/8YYXKVS8vAd8f9llzXbd1QuydHGTDQgohOIDD5h9/nmj0OQY/C/bbWd2yik+MhaH/49zOvlkL74gnBciCcF47rlmm276+/NiO4TmlVc2Ck3OIwjcEMEkmrnggmarr2520kn+t7YkwBBN/IZbb/Uiqik4J/63bbbxz1v67xCHF1/so7DBdgLBblZbzZ/nMsv4yFkcBNnQof6/nDjRvxe/joDIu+IKs80397+/tfDbOT+O8emn/trdcIP/z8Lv45iUl182O/poL8j4PZxv166NYp7n2CqiDNvabz+/j+++a9wH0Dj5/nt/7FzC/rGHL77wwjFb+F4QmvFzwpb4P/76V/+7wjUTIg9IaAqRLbm+VVprfxyfEr7X2u9T8SAYnnuusbuXfdDFuOGGZoss0rLgyBaOhZh64QVf8b3+uq/w+/c323tvH4XM5lj8XvYV3cN2111zRv/4PueMuNljj7ZFwYiA3X67jy6GHEmELf8LYoeubEQo3dhxOKd33jE77TSzDz+c0zY4D8TJ4MFmAwf+/neyLSJi2DCzV17xYnzCBLNvv/UCiX1HfssJdL7bt6/Z9df7/66l34ho4voiohB08fOKw+9DwCL+4kKsKT76yOzAA32kMD2qzL4oRHEvv9xswIDfC03O69ln/f+FCEo/L75PBPHSS8022MALvNbC/zZypNmZZ/prsvPOXhyn/77QcDn+eB8l55o3TH83G77D9Q/nxT45b64Z5x7OH5tJjx7mCn4P9ymNEM4jGzgvrk+4RpwXhf+TRs+QIWarrur/j2z3KUQ7kdAUArK5DcI27b1lsLtQWgMVz9SpvmJsSy4b37v6arO77/YVJLAPIhyHHWb2l7/8XiC0FUTSzTeb/eMfXvBwPI5F1OvCC32XZkuiCfiv+d1Epm66yf/+UKnzfbo7jzvObOuts9tfOlTkjz7qhSbRKf5PupSJaCE0/vhHsz33/L3w4RwQg089Zfbxx3PaBPtYcUUv3kNXbDpsj2hGZCIK+H/Gj/cCiOuESEeg810E4f77+y71uGDKBIJuxAizE05ojCKn2ysil/8RQfj00/5/a+m/Q0zdeadvMKRHNIHzQsAccoi3p/T98X+RE/nf/3pxlwl+3047+f++pd+ZCX4nv+uZZ3yUefvtzfr18/9h/BqwHf/7Y4+ZjR3rv4OQxs4AwY8tcM7YLtfwxBO9/XFd4vBfUMJ/nH6sXEBvA6U18P+RxsDvfO01f07rrmt20UWZ0wmESBAJTZF/MDkKjjw490LCuVDZ4JSbux34jK4zusraA91YVIBLLpldxRTOCeFBVI/zRABRkbRGXCH+zj7bR/BCBIdjIwyOPdbsiCPaJtYygXi65BKzG2/0lTbQDbzllr5rk+7VbMQEv51CBY+oQ9yF/4Nz5z9cf32f19cWcYJIQFi8+GLjeXJunCuim8gkg3rS/5dwXthN6PIOcF50wTK4pbn/M/wOHrkP+M/YH4+cC8/D9Vl0US92W7IV7ikELP9VplxIjoV4QuxhQwg7/reW/jvOCbHJ9zhGOuE8EYv8b+nnGf4vbBchnQlSBsiH5Lst/c5MhGNgI0QBEaxN/Wf8hpD/yLbYQPhddFcTYeY1EVL+e6KBu+zi/1ui2+ybx/i++d0hvxba8hsywT4z5fo2B9uutZbZZ5+ZHXqo/1/WWadRaGKXuTo/IVpAQlPkH0yOipWow7vvekdfSKhQEI9EgDi3pm4J3qdCorQVbA7hQiVPlIou5JbsMJzTE0+Y/e1vvtJnoMMFF7Qulw1R9fbbviuY6BJwbCoy8vWIwrVFrGWCY5H7+OCDPlLHfslbpCt6jTWyE01xuEbYSfq1oXJnX+05b/aN4AhCg30GgViICpnfyLmE35qNEIzD92hUcA3S4TOEGBFUIrfpYqk5+G5zDcPWnmexkP67+N94zfvc6zQYuF9Ig+C/o/GBQCeaHn4v/yG2wn+azT2dLewHUUtp7T6xY6KZ5OFiT0SwJTRFAZDQFPkHJ46oi66JE09UioWEW4DoUchbbIpwq/DYWtvhO3EhQ4QEoUhUsqXKme9Snn/e7OCDvdCkm5t8K/aVLRyf/57IVPw/pyINI31zdU+EYxEZCjlmVJZErNpynPDfZyIX55xp/7n6LwpBpt8Tf4/n/L5SFIZJkf6f8ZqCHZM7S9czEU0i6Oec8/v0D/7PUHJF2Fdr98t5c4+TckIPAsQjmlz3XJ6nEM0goSnyD0KJQRCnn+5zvrgOIQeuENck3AJUGi1Fxzg/ur7J28o2msj+EV50/9JtyXHIKSRXkWlrsqns2QdRKKKRPO6wg4+sxCu6bEm/5ZP8z+PH0v0mShEinPS+IDSJaG60kZ9RgAhh8FvFBv6GBh6DrxhIxr3H4Kio7rOllvKvdT+KPCGhKfIPLW1GxjKSk4ELCLb11mt9d2ou4bhMkk13GEKyKdiOOfbI26LbMRuIiNA1SwSXqCRRyIMO8hFJ9pXtb2Y/RF7ZV1sGAwkhWk+60CSiyb3L61IRmvgKcrDJ0SZ1R35D5BEJTZF/4kLzrbe8sLv/fu8As4nuJQXnQRdyc5FKbIbPWxroEYeKim75rbbyeYt8n6lVmP6mNV3fQoj8ky40SXchMsj9nG2vRr6JC83rrvO+igF/UV04e5J+IfKEhKbIP+lCk7w9cqCI7rWlKzgXBFvIxiZaazf8XkZ/ErUlItmjh9mpp+Z2lLcQIhnoSWDy+y228IODyDUm7Yd86WKNDiI0mQ2Baa6YvF9CUxSQAoaPhGgAR00kk+heoQqOmMJ5tFQ439YUnH6YH5HXTDJOF70QojRgHssw0TlRzQ8+8NONFXOchkgsq12Fc8T3CFEAortGCJEoCE0qJh6D0GSuRjl+IYofxCVRzLDKE8KN+XSZE5R7uhjFJueE0Hz/fX+OCGVy0OVzRAGQ0BQiaXD0rMGM88fRkwfKYCI5fSFKA3KyWQo0pLqENcizFZlsRxc8M27w2FaByndac0yirzySrsMcn/I5ogBIaAqRNFQqrDACRBZYzYZVUIQQxQ/ijEgmMz3QQASmKmOasdaIRbZ/5BE/ILAtQpPt46Ul4tsglMOqS0LkGQlNIZICR0+FQgVDJAMY8LTssnL4QpQadD0vt5y/d4lKZiP2gO3Y/ppr/PybV17pG568FydsRy43Awjp+g7HCH7kvvv8Wu58nv79OMH3hO8HsSxEAZDlCZEkOPphw7zTx9kzHYrmsROi9GDQIJHBAPd2EHLNEUTf3Xf72TWGDvVLs4bGJ4R9sWIa817+619+6dYgFhGViMxLLvFTKzH/cEtCEzHLI+Bv5HNEgZDQFCIpQuVBPldw+AwqYMS5HL8QpUW4Z9ty3/Idcjx5ZIozBumwfnoQkjwyuOiyy8yuvtrsqqvMHnrIi1E+HzfO7LHHvFB95x2zt9/232kKvhPfhjmCW7M4hBA5pOyFZplPE1pZcC1DaSt8l0gAE6jTRZWkfbBvHP3kyf45Tp48KSXlC1E5cK9TNtjAd1/jE5iPM8xEgW/AF7FqGDmc33zjJ4hnmV66yNmG58zFGwYTtdQNzj7DQCDo2dPnhsvviAJQ1kITkTl9+nSbNm2aey5KGK5fEG2seNHW60neE4n8RAdYZ709+8oGzpnIAsfAybNsJd3ncvhCVA4IQ9ZID8vW4oMYFIRoZGJ1urnvuMPnYeIz8FM//OAFKZHOF180+/5770cWXtisf/+WxWYcIpr0psjviAJQtkITYUn5IbpZv+VmjWAlIK0IVKLgeGnR05308sveObdGILItDpwuqLvu8gn5LM3GhMZJwTEpnDePVDKKZgpRWXC/U5Zf3g8mQiAiHqmXgsi86Safy42fY1v8xdix/j26yz/6yDeK+WzDDf2+WiM0QX5HFIiyFZpQHwmLyZMn20/kwkRURzfmctGN3oGkblFa0GV0yy1eIJIsP3q0d8bZwrZED556yuyf//Q5UqzWw9JyfNaafbUG9kv3F7D02woryOELUepwXyP88CnZ+A7uee7/NdbwApHvMen7u+/6QUL4JaKZNEbDFEo0it980/e8IDppKDOP5/bb+321VmgKUSDK3lIRm3Xc1BFEMvv16xfdqzXuuSggrRV3XEO6uxlYQ1c0CfE43mz3wffprvrvf/3ITr5Hd9Lii/vPk7AHzo9jEaUAGjgcU7YnRGkSv3dppJIHmS0Iw5VXbhSIRClvvtlPV4TI5H2619dbzwtKGtcIzUcf9d3oHLt3b7N11/XbtuRHWuNfhUiQsheaAYSlus6LBBwgye/x6T1agu/Q3YRoI0/zrbfMpk1r+DALEJpPP+0jCBwXR7355n4kaHD8uYZzZhqS8Ds5DkJTCFF6sNhCr15e4HFvkxLTWqG5zjp+P0DaDo3nL7/0/mm11cwOP9yLzdDrNmqUj2jSK8Jx//xnP59nNkJTiCIhoRpWiGbASdMVFFrpoTQHjrVfP78deU0IzY8/9vtqDj7HiTOS88knzSZM8PtilY8DDvADc5KCiCaVSMi7QmQS0Wjptwohig8EHrmR4f7lvuYezxb8Djna669vNtdcvuudqY7wUUw9dMwxfmT6Jpv44yA2g/8iwrnMMmZ//GN2q4rxvQ8/9OfH+crniAIioSnyD86P/CNyZ3GA5C22lDeLoz3oIO+scaJMT4R45Hlz8DnRAKYOobud6CLH2nVXL1zZX1LwOxHEIaLJRO10fcnpC1F6IA7jqS/c3/iXlnxQAF/DyO999mkcFAQIWN6jh4XcS9J5eE30FJ9BBPQPfzDbc0/vPziPlnwI50QklEctEiEKjISmyC84Z1rxdIMDznallbz4a84Rsh2jLdkmOPdsHDzHI/LJahyIW/az2GJm++/vxWuSzpfzI3JLRILfl7SwFULkB+7tH39sHOiXDfgaROLqq3tfRhSTstlmXljyHJ/EgCAilyec4KOcxx7rn++yS/aCkfML3foI2bDsbZL+TogmUK0n8gfOD9HFgB5GjQPCq0ePlkUf29GyD0KNKGE2OZohqsgIc75DtxORA7qh2FdSjpffStcavxf4fURukzymECJZiA4iBIHBPPSstAbufdJ2EJI77OALIhN/RGMU/4CvoIud9w891Jd99zXr0ye7aGYAHwQsm8ncm8F3CpFnZHkif+D4GMjz2ms+f4jXOO1VV/UOtCVwsCGnkv2E+SmbA6FJ5GHSJO9oceB/+pN35knBOVGYvoRBT8Cx6RYTQpQm+B8EGz0iPA8RzZZ8UDr4AQYFDRpkdtxxZgMHejEYF5D4J7rZaYSzqg/PWyMyhSgiJDRF/sAh45yZnmjiRC++6EZigExLEU0+o9AFBHQLIeSac/J8xsAhpg7hOd+nm56SpNAEjscycqH7it+60EKqKIQoVbh36d4O9zH3OA3Z1oIvoAt8xRW9L0JEpvs/nlPYNpT450KUEJH1CpEncMxE+IhGhpGUu+1mtsgiLTvR4HTXWss/8n0EZBCR6YRKgFHfTGnEa/ZBdCAfc1lyvDAdE9AtxvQlqjCEKF3wWdzLwD3OzBnc45l8UHMEfyZ/ICqAyMqFyCM45FBwsOQdhZyn5giOOT6P3fjxjYNtEJXpzp73EZqMNge6p8iTJE8zSece/42UcO4IaiFEacJ9TPd18B/c2zRi29J9LkQFIaEpCgfOmggBIqwlglhjCbfg5Bm9TkQBwUmXfIgeAp8z+Id5MxuWIHVTivTv74Ut+0gauu1D11r4rfk4rhAi93Dv0m3OEpHBB9GQxc9IaArRJBKaorC0RnixLQOHAgi5l14yu+wys6uuMvv000anT6FbnZGhiD1EKvmdTPWRD7HHMZlWKeRocsx8HFcIkRyMGEdo4k/wMYpoCtEiEpqiNAhCLRQcO4OB7r/f7JZbzK6/3uyaa3yEIXSjf/+9F6I8J5pIN31Y/i1JOB6Fbn3EMOe7yir+UQhRmnD/IjBJ3yGyCax3LqEpRLNIaIrSBMfOoCJWB0LMMZ/dv/9t9swzjfNX0qVORQCM7ETsdeniX+cLzpMKikFMEppClD5ENFmpJ9CWwUBCVBASmqI0wbFTiF4iKimM8n7xRZ+Xifh8/30/qTsCjwmRw/Jt+YbjM52JEKL0YTBQfEDQt99KaArRDBKaonwgssBk8Pfd53MjyZGkAgj5mUxtpKiiKFZC4yleRPHB7BVhpgyu0ZtvNg76E0L8DglNUdogHFktCOcP5G3+4x9+YBAFEJpEM0nkz5fQlEioDOKisKUSou80iNILDSNmTmAhg1AYzMa8s3xXFAf4j9B1HiKa48ZJaArRDBKaonTB0QcROWCAH+hDRc5a6ohNus6pCMjLpGLI17RGHJMBAggIUfpwPZsriIxsCtNsvfqqL6+8MmcZOtTs7rvN7rrLF54/8IDZBx9osEmxQYOV2SuA60KaTjFdn2I8J1HRSGiK0gXRyGjyDTYwO/xws6WW8sITgfd//+dzNtmGtYnD3Hf5AAf/1Vf++MBxQxHJw/+PsAu5u+kF+2AaLARcSwVxSA4eg84ylffe8wPQmitPP+0LKR3nn+/LBRf4El5fconZ1Vc3FqbruvJKs4ce8oPaJBqKB3xOfE5cGrTYWzFcI86BEhrZlLjvkQ8SBaAqFdHwvKzgZ9VFlcprr71mp5xyio0YMcI6dOhgr7/+uq3E+rIi/1DBE6E580yzxx/33d2PPmq28caNy7o1B86cbiqmKUIE4DRZTvK888z2289PcUQlzWAgBAUw+If9Dxlitvba+XG0nNsTT5idcYZ3+ERab7vN7E9/KsxgpEoCd4adNLUOfnhv1Ch/nZqDbRGT7It9psPniNDPPst8rHQQjCwwkAn2Hz8G+0PMbLaZ2TnnmK25pn8tCgvXBT926aVml1/uG5P4MaZVY2aLQgs5zg87Yqq3007zz5df3uzaa80GDvQNcYlNkWcqTmjyeuWVV27YSuSVXAhNKmqEJhEpnOZ665mde67Zuut6gcnz22/3nwP5m3vv7SvrbNZUzwUImMce87/zww991z0Tx/fokd3vFG0D+6CBMXy42b/+lVn8hfeiBmdWQpM8SabRagq24bjZ2BXbYrPduvkGUjrsg5WvmKqLCCjbxxtJEpqFh2uCjeG3uL8//zy6ptF1efEFs7X6R8+ja1hIIRfO74orzAYP9q/xjcw3jP8BCU2RZyqq6xzx+XNUcdRTMYjCgfNrK1TUCy/sBRtTBm26qdnqq/tKmNypQw7xUSDyMZmCZIklfEseJ5tPB8tvDL+T4+ZrRaJKhvsaQX/RRWa33uoLk/nHS3ifiCaDxUaP9nOtNlUYlEMDCbvLVLBDGjM0fphCq7lCZIklUAcN8tFuhEooiALKWWeZHXGEGiTFCvcwJfIndV26WX1VjdVHt3nta8Mthf21x7clAedKLwoNm3DuQuSZso5oIiiHDx9up556qotkVkcVw8UXX2yHHXZYdO/NFd1zuunyClHGESPMTjrJD4hobUQTU2V9c7qByH1DRCIsGQiE0KQlTyFadcMNfg7NLbYw2357vy3CIB8wUvjhh30UFTFDlxqrFCFIFJVKDiKU995rdsIJPreSCpboYabrzr3PZ9k0AGi0rLZa09vxPl3b8eNgq+nb85o0CsRmmCUhELbFfhHL5B1jR4poFh2pSFnOGPu9jTnlFus89CGbPrPaJp92ifU+aHPrPH+1dZ6vyl3O9MvfFNlulxXYXTyiCdgSfjYfq6IJkYGyFpqUzz//3M4444zoPns0uqGr7Mgjj7Tzzz/fOnbs6F6LPILQRCAefLDPtVxwQbMHHzRbf/3sIzhEl4gyMQiDZeBWXLFx8mTAnBEc5Eb+9ptZ375eTORLZALHZSAH+aJ09XOeX3/thY/EQnIgzIhaEiGku5ulAg880P/n6fc6r0mlYDaCdNvAhihcR75L5Hy55ZpWBLxPxJz98D3ABnnONef98F0eQ8kE9wjpFkThOb6EZtFB4HL0J3V208lfWPWzz9iUGR3th3V3sjU2W8D69auyNdfy7QhKU5c5Du3P9gawMRtnbjUpq7Zaq2JwGXYDEpqiwJSt0AR+2uSowjnrrLPspptucq+POuooO++886xTp06RE8jCC4jcQeX7n/+Y7buvF4x0eUfXxS0NmW0lirmGLiquX7wSD8S7sPgslHzB1CLHH292551eLBANGzbM1yYSC8mRLjQZ9MfsA/zv6WISe0AJZJryiogQ+b5E3xGZIQIZ3w77wp4pdEuyfwq2R9Sdhg5zY2LbpHTElURztiihWfTUR+bx3HMpO+Wkevv6/ck2s76DTa/ubN171LiJL3Briy9utuSSLbsdPmdCDNK4W9q2OWh7Y/79Vqi3nvNPs5oTB1kV/oedbrSR2SOPSGiKglHWQhOmRk7/7LPPtmuvvVZCs9BQKbMeOSPEqcy33daP3lx66fKqRBGaf/ubnwsRQX3AAb67P5PgEbkjXWgysObll5uPJGfyAYg9KmmmI0JEHnOMr6zDtohJhCgrTxGZR4gylyvXloE8pIXcc4/ZpEk+tWPLLTMP/smEhGbRg+t68kmzU07xJlBfn7KOHauce8PU0HNky4SpNpuqZkJbGVFKFge0pUpiP0xogPnvvGOd7b74q9b11COt+tPo5DrO7VOHmFc4WxsUIseUfa0nMVnEpHcrlhPx9htiU+QfBCG1P2BjmUomUBKM+mZpwWef9eIVAch1RDyOHOlzQWkk0UVJPjCpEeQEM/n6zTf76a2IYrMPGh6ibKmurrJNNvFjFAmAc7mZRvfdd32GD49NFUwJUyPgSCG1u7WF7z3/vDe9m26qt68uuc9qx37tBycRie/XTw1cUVBkfSI/ILyowGl2x0VYU5V9KRN+X3hEbIj8EBeQRASZ47ItkD8MiMc33qCv1BemiUFcIiZfeskP3CF6iSBlzk1SQV580XebozyIdNKgEmUJpoaGO+4433Gxzz5m223nA9EEwTfcsOlCkBrzCLNdEQltbeF7aEk6S2hTffJJlb393R9s5gI9ffJnz+iRvnwJTVFAyr7r/NfI4ZOjqa7zAkPrmpHATCTM9DOY3R//aHbxxY3djuUAv4tu26OP9qKEKNiqq5q99ppyNJOGmpY+TQYAsW44fZKsvvPnP7dO7NEYQkgyJyvJb9TkDDoDbJgZBDgWDacgbLfZxmynncyOPdaHtBCZf/2rX7GKQUfxHM3mUNd50RPvOmdSCVwXEUxMDLPAZEjTba5m5TPmeqcdhLtobtuW4Hxo87zwQrSfunrbcc1v7MYtHrHuH75s1autYnbooX5AYrY2KESuQWiWM1OnTk0df/zxqY4dO6bmnnvu1HHHHZeaNm1aqr6+vmELkRdqa1OpsWNTqT32SKXmmisVXYxU6qijUqlx41LRxWjYqMThd9TVpVLvv59KbbWV/40dOqRSRxyRSs2c6T8TycF//N13qVSvXqlUVdSGXnzxVOqOO1KpGTMaNsgS9nP33anUIov464e9Rv7DXU8Kz3v0SKUWWsh/xrHmmy+VWndd/5qy5Zap1Ouv+321xr7ZfuTIVKpz51SqpiaV2myzVGrYMH//iKKAS/HYY6nUSit5c5hnnlRq0iR/e/PZrFn+MrZUMMvp01NRfdT28uuvqdSUKanU+ed7E+xQU5/quVBt6pvPfkvVjfowlfrhB39C8j2igCieLpKH5jqFbsixY/17RGeYwDp0UZYLRG5ZljCsT024Y511/KMi6MnC/5s+b2ZbQkXsh+5G+j6x0WWX9evlM40WkaG11jI76CCzHXbw/Zccg65yutiBCD0RToYgE0XSdS97uMQU3BqXnOhmS4WebSY9mGeetheC7TyyXgCzeXESk6fWWF2HjpZaoW/j4hbl0mMkShJZn8gPoTJmmCaQNR+mfSmXipjfSGEkMl23QI1Ct6ccfenAtUJcsoJPWLmHflJGkNM1zqo+hx3mu8YZaIEARWFwranxmb6LbvRya0SJogT3yTSuv197oEH9ClFgVPuJ/IAAI5kojMBlkjkS1cvNEcYjmvw2JgRnrhOey+nnF2yuLSA0aQCx2s+uu/qy115eeBLJZLUpwkfMj0r+G/N1EvFkUnfW1Wdb8kMVzRQZwCxJ3SYFl8e2mmmc4F5kbqIYkdAU+QdvSLSHqGY5EqbC4XciRoh0ifxDw4Z5LdtCqLURnUQr6eNEXNJoCO/RbU73+YknehFKtBOhmc/lTkXJgcCkY4cpXhlElCuxKUSxIm8oCkOoyMsRag0Kv4+IJqJEJE+wKbqyYdo0S330sdXXppzmbHWpr2osqerGMvv96Pm881vd1ttb3R57W92OO1vdoktanXWIvh99nmmfWRSC4hIe5QnXllmwmJr18sv9dKuMOs81sh9RTEhoCpFL0j18uYrpYoX/m/zK6DE1fYb98v5Ye/fNGTZ8eCoqltvyJqXKhr8/rw0fvaAN/6SrDX8reh0+S98+i8KUq6xeiSAR5QWugZmzmGb1wQf9AlJMSRTGDeZKHLKfXO9TiPageTRF8mBidCe/844fycvrTTf18wMygrdcIBzFyHrmCWV+ULrMyenjd4Y15kRy1NVbimtwzjnu/09VVdtXC6xqN6x+s31Ys4rVu/u9uO/5mrqZtuTUD+3yNwba3KlIlWgezaIDE4vPo8ll+e67xlTspuB7zLHJCrzM/U92BWPGmK51mWXanm1Bo4Rpek8+uXFtiMsu8+PVlCYsigFFNIXIJdQkTOgNeHh5+byRiv7r+silfVy1QvRYY6n6lHX+8SureuF5e+G5Onu+YXGf4i0pe+mFevts+I9WX6dQVLmBIPzkEy8GEZ1duvhZtBgx3h43wXdJH2YSD57Tjmc8olIwRLEgoSlErsCr02dFEhbP8foMDCGsIBKHivXzsVV22Zsb2sep5awuEptdbbItXTfaXQIqYlJmqZSLrvwhZb161NuadW/Y7rX/tOpUpEREWYG4ZAAQg4FwD0QxmdiAuTDbIzSBSQ4QrIGQeiGhKYoBdZ2L5MHEKqHrnOGjhCuYd/H55/1MykOH+gnbmZ1ZJArL/913n9lpg36zP/50m51WfbEbF3RTp2PtjbX/Zhtt1sHmm9/f80V360fKoKqu1pY9dRcbOPUpq4mEZlVNtdVvvKlVDTnXqteO7hN1nRcFbe06J6tmjz3MnnnG2yqzYEVVkS26aPvborieI44wu+suLzKPOca7V/YrsxGFRkJTJE+lCk1CFSxCzDyLmuIocRhoceutZuecWWtz/TzeBi10t+22S509321nW3SjZWzAutU2d8eq4hOZgDpAbO77F0u9+LJN+bneZlhH+2njnazHkKOtx9q9nfAUhaetQpPR5X37mk2a5AXgCSeYnXqqdw3tFYMSmqKYkecSIkmoedSgyRu0YWpTNfaD9bSHFjzYZu5zkG111LK2/oY1Nn+XKjcdJlHOoiudqlzpMOhom7zLAXZ7zYF2kx1qD9su9r31slSRD2ISzYNdkjcZpjJiJVNWKEUEyj2IckdCUwhRNrAGQFV1VSTMqm3izK425qfu1n2hSGDOU+QVOidXXW31a65lP/75cLu55nC7zQ60V6avZZN/6xgJFamRUgWRSZSR/Eweec16FSwmlakdyuehCFEOSGgKkUtUOxQMKmwGRTBNDBHAmbXVNn5itROeRS0yA5xkh7mtduFe9mPHRWyCLWyffTuPjRtfHf0eUargElh5l/kzEZpcZgamsQovz/mc9+mS//lns59+8mXKFJ8OIpciSh0JTSFyRahR2rrsoWg3dE2GihnBWXJjsCLhQRf6YotFTyIVMmGiFx2idEFEjhplNmyYF5PkZCIyGSVObiU2++WXPoX94Yf9ZO6Uf//b7IMPJDZF6SOhKUQuGTfOL2AMJN+1dRZm0WqojH/4wVfswN/fu7d/3h5CtInHsO+kIMLFGDIGjQDHpUholC7YzD33+Cl2uY5EM5l/n9esDnT//WY33GB2wQVml1xidumlvvCcz8IqP0KUKqoFhcgV1Ab0dxGiQDGQ7Z+LSfJE1hAhCpVy585mK67Y/r+fiNK77/qoVJgDMUkYICKzKQ+wFaY1YkJ+Jt4AGkA0Hu680+z88/0URzff7Eeyf/65j25Sxo71r3EnSTdwhEiSshaaTGc0I6olKGU+i5MoNNgXNQld59QKqIQVVvBqRxQELgdRo7bCJeVSjhzplwkk4kT3Z5JiU+KyvMBOPvrIZ9PwnMLCYVddZXbddd6esNHgNhZZxM/4tvXWZjvsYLb99n7NB3WMiFKmbM0XYVkf3blfffVV1Cr83L1m3syamhr3KEROoQYhk58QBM+xMSaxo4aQveUNlvULlfLUqV4kcjnaCpGnZ581e+opX4hChYWfhGgObITy4Ye+cRKikr/+avbZZ435xAsvbLbFFma77OLn1jz7bN9tTsNm550bZlKQCxElTFkLzbqolnj//fdtxIgRTlwySfvyyy/vxKYQOYUag7DF11/716gdEgRZHUi1RF7gL2ft6DA3PiIRsdke2CfLVgJd6HRpTpjgL7cQ2UBXOTaJLVF4zbKj2Op225kNGmR21lm+HHSQ2Sab+OUpiWTSIYL7kAsRpUxk9uVJiGhOmjQpqhiimiFimeju7d+/v6KaIrcE1cFjeI59RY0adZ3nD/7yPn18IBm4FPGczbbAPldd1T8nIhUKtGe/ojLAfhCNyy3nGyx0jWNPLEV50km+HHigF51sx4ICzJSAMFWHiCgXylZoBkJuZnV0xxLN7N69u3suRE7BzlAghNECRDNVU+SV+F/NetKMQm+rIGRfFLUVRFsI9tOvn9mRR5oddZTZ0UebHX+82WGHme24o9kaa5jNN1/jCkEUIcqNilBcIT9znqjiV7e5SAyGl4Y5TEKNoZojb4SKeoEF/GsuB/lx7SHsM5+XMX4sTIlcvnyMdhdtg+vS1LXhWtJQ2XZbs/33N/vrX/3zpZdujFxKZIpyp6JCe+ouF4lBNJOZtceM8a8ZlUIylsgrBJAZtcsjo84nTSptgYZZvfaaT/0NXfai+Ajty0y2hi0yXRXzZ1LC1FWqjkSlUFFCU4jEoMucwUBh9Mmyy/oFjUXeCJU305eGSrwURSZRLlaNoZ3C+b/+uka6FxshEglcF6Ypau76YI8IzpBJE+wzCcJ5yF5EsSChKUR7waPTTxuf2mihhXzoQuQdRECSFXmScN7k7A0c6EcdA20XRrwT0ZR4KDxcIxoCIXeX68JiYMV0fZiXU4hiQUJT5Ac8cCjlCH20TLjI7yNswRBTFIPIK5kEZimZHOePUGYEMkFxUXxgT3RgxIVlMdgYtkPhXFjJSg0TUSxIaIr8gNdjQvNyBG/Ob3v7bf+cOUqYw4SopigoXA5ML1fko/JGLNBWCYNERPHAtae8+KLZF1/451wjptUKQq9Q9OzpO1E4p+CKKEIUGglNkTx4O/r/Hn3UP6cWZchljmcACI61vQUxwfyLdFcy2re5MuO3lM2YVmd14yaYTfnF1zSLL+6HlWowUEHAvIBridl99137xSb7ZH8//ugHfrS0v7g9UUT5wPUkZzas7MMtv/76jXZXCDgHpu1lsBHI7kQxIaEpkgePR43/yCP+Oc3uPn0steCCsx1ic4VKHdFH3lFzBeHH4/jxfv7E9hSWiCMq0FIZMSJlI9+cZeOffc9S9SlLVUW31GKL+fBCIcMbFQh/N4X8ufDXh4kAgi21BSbODuO6WKeaEt9X2HcodKuSsosoxRYRJPmIhIr8EL/WgH107dpof4UCt1rK+cmifKlKhRnNywyWn5w1a5bddNNNNmjQILf85N57721DhgyxP4Q15UR+oOYdO9Zs5ZXNZtVaXZ/lbMapZ1ndttubdZrHiUPW/23KEnmfZHuEZHME5//GG+2LYLEPFpPKJhJWZfXWsXaa/fmTIbbTd9dbh04drGrffazm9FP8OnPy+nkjXH/mzmSKI56zCujFF5vtsIOPOLXlcjC1EBNsP/OM//5FF5kdcUTjCkTYL8fCVmhPkUUxerTZxx97u6bdwZrViNVsgvjs66OPzM480+z//s9/54EHzLbaSkKi0HBtmDbr5JPNbrjBuzY6L4YP9zOaFeracB7//a/Z4MHe7ugwosEclr8UopCUtdCcOXOm3XzzzU5oMln7XnvtJaFZCPCCJDRFQjNVW2eTll7LPvjLRTax70BLVdc4QYcOzSTqsE7Kp5/6KFGcdKcetiUayb7a6vTZR4iO8rxZog3mSs2wbesfs0FVV9kCS3a17qcdagv9ZWurmluqoBBMmeLHYmF2CE2EIUKzrTmP48aZnXGG2V13eXtgZZeozeqEJq+p2Hkk6s7EA6yHjr2GxhERVs5hs82yq/TZl4RmccK1iQtN/Mxuu5ndeKMf+1eoa4OtYyvYjISmKDbKWmj+8ssvdt1110U335kSmoWkQWimIqFZP6vePui0pl3V6yIbOe9Aq6+qcVEguhczEayTyBC7CbTk0HGwONv2QARs0UX986aOV1ebsm++qre5f5loa1e/ZSus3sl2Pnd167/FAlZVI0VQCJIQmlTg//yn3yfLBrJ2NftDaHzwgX/kM+yY6VQRmLzmeExTdPnlZttsI6FZ6mQSmoceanbhhX66o0JdG2xNQlMUK2UrNGtra23s2LF2wQUX2B133OGE5v7772+DBw+2HoQYRP6IvGDdF1/ZjJXXtA6zfrPhqf52es1F9mbVgEhoVs8WkyHPKRM4UpwnOW8M5ma8Tabke75PWWQRs4UXbp/jZ/+bbuqfZ9oP500Ua/CZKft6bJ11qpllA9apsjOHzG0DN6gu6OCASiYITUTAkku2X2hSYdMleeedXmQwqQC2yL6wgfRIO5+RL4ed0p3KkoMHH+xfh+725mCfiAVEA92h2NE995htt50XDu2xadE+uDbpQhMf8eCDxRXRRFy+9573k9iMEIWkbIUm+ZkffPCBE5aPPfZY1NrsbOecc44deOCBkaCJFI3IG6m6evv1i/H28sqH2wqzRtlrnTe3B3ufZD926e0Gz+CcKWHpwEzMnOkjR6+84iNKRx3lxQSkO3de05YgJ649jp9zCXOup+8n3DXkcq60EhGslM07j9nOu5idekqVLbNs079FJEuuhSZTpF51ldk115iLvhO5QmzG90WjhjXWeY9xYERSmeGKiPgKK3iRiT1kc/xMQvO888wOOKDxGKIwcG2YkeL8871N0NOCwCT1p5A5mtj6k0+anXaa95PYOvYzaFCjDxOiUJS10Hz//fejm+1MGzp0aOQM5rOHH37YNt5446i1p76EfFJfl7Lvv/jNdln5E1u/9gX7qe96tt7f1rCVV62xquoq55wpdEemO2ocKIWKd599/MAMKvIrr/SRovDdOOG99PdbS3P74K7hvIgi7LGHf0304OyzzXbfXV2chSTXQpNu8JEjza67zkfU2Wd8nBePffv6QSE8RwxioxwvlGxFJmBL5HnSHXvHHf69Pfc0O/dcb2Nt+Q0iN3BtiB4+9JAXclwnotTkmTfXI5M0wUciLJnjk/Nk0n+WL51//oaNhCgQFRNzqYo8QE3k8XkU+SVlVTbDOtn7topdX/03+2S+tWyZ5Wts9TWqbM01fYRy9dV9ZIBoUbzQGieCQH7ct996B8ol5BExRzdleuF9nH+8om9LCeIgUwkVzk03+UfeI2rFai4cm9eiPMCmsM8LLvANHKKLp5/uo0fhcZddvB1TWGsd251nHv9dbKm19oAt9evXaGsICR5F4eGaIN7So9qFhPNAWA4Y4H0mtkKjiEaX7EYUmooRmqKw4Ovq3WRA1ZaKvCKCvzkhFwoiji6hoUN99zkiji7JUAlTCkGo/FnqjeeICsQIka1CnZNIBq4njRfyfom6Myk24jG9MRPsuTXRy6bgeDS8RHFRzPc2drfiio12Qy7pO++okSIKj4SmyAtENeMlgOMOJRNEM8lTY0AGzpI8qB139Eu+4VgLBedCvh5CGHDuq63mI1nFXBmJ1sP1xNbSxSXvhdKSHbeWsJ9c7U+UN9gJdkj6Bo1eXtMwp+tcQlMUmsg0hShOcI7kx9H9g7PEkTJgaKON/PNCgsB89lnvzIEIFN1pEgZCiEKA72EZSgam4R+JaNLjIqEpCo2EpihKcIw4SFZ5IdeI1zjPtdf2gzGaE3RsG74fnCwlV7AvpjW6+27/yHmRU6eFgIQQhQLfQzRzlVV85B3fx5rsEpqi0EhoiqIE54iIYwQlU4cAyffkZiLsMgm6ICj5LnMbMi0N32VEKF3wuSAcg4FJrP7CsRjwsd56foVNCU0hRKHA/4QBiYB/otdFQlMUkrIVmmU6a1NFwKWj2wchxxrCdJ0jLhloM3Bgo5hjOxwpIpIVWSZO9CtdkgD/v/+Z3Xuv2dVX+yliWA4wVybBfkaNMpejyXOEJpFWzXEohCg0TNCOvwQa67n0fUK0BUU0RdGBU0Q0IhRDMjtTdjCFTLdujWKO95kw+ZNPzB591K9FfcUVftWOU081GzLEv3fbbWavvuq/0144N47LfJ7kj3IuOHYimk1FWoUQIh/gf8jRZLAa4B9ZIUhCUxSSshaaTNo+M4zWECVBEHKjR5s9/7yPVOI0N9jAbPvt/WcIPFrpI0Z4gclE1sxnyGTpRC+HDTP7/HP/XVr07DNXAjCc39tvm4tosl9GnDNBt0SmSAoJBZEN+KB11/WDEwFfFXygEIWibIUmXec//fSTfcnSDRHV1Sx1KCVQ7OAQEZJEKSk4SqKZf/mL2S+/+C5xpju6/HI/UTaRS8TmuHH+e3Sjc5lZGYZcpc0399+laztXcE4//+y79zkWk3QrmimSBJuTWBDZEF9TH5sJU7AJUSjKXmh+9dVXTmD26tXLWO9cYrN4wSkSgH7/fS8o6fahgmUkJYOCWF/4lFPMzjjD7NZb/brnDPih6xphSUt+1139EpAnnuiFKMv4HXmkn3czF5eec0TwhkA5ApOJ2mVWItfEGy+MHp4+3T8XoimwF0qwnZCjiR8VolCUrdCE+ujuQnASzVx22WWtW7du0c0nRVCsIOIQl0884YUmr8N799zjVwgiykmly2Uk0rnYYj4/kqjlCSf49YcHDzY75BAvOBlARLd2aOG3F85nzBgf0YRwHjIrkUuwJ2ZZYAEAbO6DD2z24DMhWoKoJjbE7Bs03GU3opCUtdCM0yny2nOFxBVRtNAdzSpARAxxlLTM6fqhENlcfHE/8nyTTcz22sts0CAf5SRqSTc5kcsllmhcuYV95FIE4rCZLgnxCxyDeetyeQyRG7hWlHx0HdZFB5kW1erTp0+32tra6Lhtr9mDzfbo4e2d5wgGdYGKbMAn9e/v7YZIJg2UXE3vJkRbqAihSRRTkczSADFJziORyN69fSG/csMN/YpACEqEJSPLjz7abO+9/WdUyESAwhKBSYhMQD8ghkOlz3FYe13mVVyE60F3M+kV7dB9zYKgpHwXtT5eeOEFGzZsmEvXQXi2B86f5VYXXNA/5/yT+g0iv2Avobct12ArFPwmvglopPz4o+xHFI6KEJqiNMBB0g295ZY+vxJByWAfusIZUX7WWWb77eeFJfmYRC9Z9jEpUZkJnDUrFeG8gWOGtYVFccC1YBos+OknP4MB1y2JihaxgKi8/fbb7ZxzzrEhQ4bY/fffH1XsP7rPcklYijWJ3yHyAzYxJbqQn3/+uU2ePDkRwYn9x+f0DfeAbEcUCglNUTTgGIlILrqo2dZb+4E9FLrKV1vNF3KPmCA9PXKZL3DU5ImSo8lxu3dvjByI4oDrQt4ukILB4K2kKtggNO+44w4bOXKkvf322zZixAibyESw7QQbD7nFnD8LEWi2ttIFWyG14vHHH7dLL73Unn32WZs6dap7P5dg/+us0+iX6Don3UdCUxQKVZGiqAhik0EQdB1SEJaFEJWZwFGTn0nOE+fD/J6cU6HPSzTCdVlqKX9NuF5JVq6IBKJSRDDJzezYsaMbeNiTEWjtgHMnKkueJvAbGASH3SX5e0RyYCfMhHLJJZe4qPe9997rIpu8nyuCL6LrnJ4WoNucAUE0UmQ7ohBIaIqiIzjLICzjpRgIzprzWWSR4jkv4eF60DDJ53VBcFI6RK2keRpq+PZEqjj3Xr28YOA5u9JgoNKHRUSY25lIJiLzm6j1kEREk3GvK6/sfSh5ysyUQVQzx4cSIiskNEVeKAcHx29gXjoGAwEOvRiirOL35PuazE+ycASRzRdffNG+YNH9dhBsK92+JBRKlyAomQGF59jIZ599ltOIZgC72XNP3+DisN9/71dLS+BQQrSIhKZIFJwchZzGBj/rKDVxFn7Ht9/6ddjjv0VULszRSxTzT3/6U1SpR7V6xG+//eZy8RATuYxWhV3J9koTZj5BZK6wwgruOTZCLi/2kuuoJkKTKeAIrmOWpCPlO8ovREBCUyQOrWgGMuBLKcHplRqcO4JZE2eLAIIBgbn//vu7R14zOChXUaq4MGD0sCJSpUsQmv369XMNFMQlEc3x48e757kUm9gN+b3MzrHwwmZLL92Y7ytEvpHQFImC76R8+ql/jQNkpDZLRsYr0bZAhf5zpPyICsycOTOnjropGKAx33ztP3dRHiAeKF26dHGP2OCvv/6as9HEDIQj3w6B+d57flqtPJi5aCXZXBPsg8Fiyy23nIuCYx/MUvDxxx87/5VLiGgSzTz2WLPDD/fzDSM2S7GBL0qfihCa3NBhxQ6RX3DA8YJAo4XNQAeetxUiRpMmTbInnnjC7rnnHhszZkxeri/RTJLrgfNHdIbnojjAzsij5TEfICCIUM3XYAzff/+9ffvtt9Hx23cC2BT3CVN6AWtWf/mloprFBpc5W9eD0Fx11VWj6xpd2Iivv/7aXn75ZefLctEwCWA7NFDWX9/s0EP9YhdaKlcUirIWmjh/urO4gemiIPqVy5tZtA6cHIWuc5xgW50e1xCh+e6779pVV11l119/vT322GNuIuQkwXTovmReRuD8WeqN6IEoHrhOY8fmT2gCAmJlhvlG/BIZyA8//OBy79oD9sWoc+aVBX7Pa69JaBYbwd64Ls3ZXGiQLLnkkrb55pvb3HPPbTNmzHCNZUaf53pQEPaDn6Vhz6ppbfW3QrSXsq0iuamJMCwc3WXcwEQZ6NIShScXDi9c01GjRjkn/f7777vuyqSgAqEwEGjyZP8eAnO55fzvkRMvHrhOw4b553Q95yPVIXSJhu5zpq5BbLa3YbvMMo3rnaNDWJUqx3pEtIJwOZnnF9sC3nv11UYf0RLUSVtuuaV7BEafM1sBPi3XgZDgm4jw47eYNQP7yfFhhGiWshaaPXr0cM4fQoK+IpqlD9eQwjWlu5xHKvakGxI4aGatGTfOv6ZLM9IXzpGL4oHrxKAtYK1w1s0PFW5SEJ3C14RBHuQNtzfCzvmSzxyW08R1TZggkVAIgs+JnkXXJWXLL59ykUKuEW8j4urr/TYtFWylT58+sxsm+DDEJtHNTNu3t5Dq89ZbZg88YPbmm6bBjCLvlHWnHwnXc9F3EBFuOlEe4KCZGJv5C7mu7733nls7OAkwG8QLAzE4RMjHYplD0gBaQ7DDlgqNomIqiPkg7IuthEZkY+H/8//3PPOkbIEF+E/jn89ZMv3/rS1ENPv37+/sEsJ5Zdo22xJZSyRc2Xdq9iCO557LXtA0VTL9B02VYr3m+ShMrk4aBKPC42XChPHR/zIhujakYiEOa6NG7oTofcqc22YqNEIYM4DNAP/zq6++6npmMm3fnvLDDxPsnXd+snPPrbNTTjE75xwGlaUiUct19fd0+jUv5ZLJ3nNRRPuoiv7EsvwXcRJ0p5555pk2dOhQ141+4403uvnuwsodInkiP+a6bU4/3ezaa3138wEHmF19detFWgCTpSJ4/fXX7cQTT4wc6TsuF/d///tfJP4aFrnOIdwh5GY++6zZddeZvfyyz33abjuz225rjDjFyeSgwns4xJYgv49KLn0fhYLzIEI3bty4ojknRB3TxdAFOS8jHSJSqSr79tv5bOONu0T/M93OtXbqqZNtiy1mONHWoANnQ2N0gQUWmC0Q2wr+hjXOt956azeCeM0117Tzzz/fBg4c6GyzLfA3R2Zu119fbZddVhPZYFV0vin7+uvaqIHV9mtArno2o5y5zgxSCeu2F8t1zxf83u+++86t5JP+22trq+zhhxe20aMHRp/V2wYbPB6VWmdfLeVssy/u71deecX5MCC/l7xN7BhbbK89Burrq6Pz72333797ZKNzO/s5+ODxttVWY2yRRTpH9073nB2r0BAppp7nns41YbxHufxX+aashebo0aPt7LPPtoceesjdwIcddljUqjvFFgrDOEXixIXm3//unTBTbVx1Vdtz5zBZhCYVO9fztddey4nQ/H1lUuve4zeMGFFlxx1Xbe++W+1+Dw67e/cZNmxYbfQ45/f4DpX5NEKgMbBJ8vb4rDn4PpU7A9iKgfC/kBP70Ucf/e5/KiRMK7TMMss4sRhZkyujR69vTz65bXSefP6tEwFLL/2Fs7V0e6PRucoqq7jn7alEiAxxvc4991xnN0TaD4haVAMGDHCVVFvg/Ovrq+ztt3vZPfesHNlO58jOU3bLLY9F5x0ZYSsJ1+3DDz90jZjmCNuOHTu2aOww3/AfcK+yPnm6zdOIqa2dP3rcMvpsanRd/hf5hLqMNpZO2Bf+IES9sRF633jMpZhJpaqjc1wnOtc7o2Mt5Pxvly5P2B/+8Hfr02fe6N7p03DOuTtmoegWtfiXWGIJd0/n8vewr0UWWcRWW221nO+7UihboYmzpyvjyiuvtMsuu8wZyF577WVDhgyJbrI/NGwlkiYITbpsLr/cO+Ett7Tompgtu2xj6z/ufFuCbXHQLPV3wgknuAYFrVhGb67LDMVthChPEJcUpqipq6uP3jMbPtxs8OD5bdKkBaLPmI+uPjrmKLvwwi+ta9c5F6EmYknOFfYXv73YP+/TpRV/Px0+Y2ATAwSa2y7fhHPJdWXYVjgf7IBz8edDoWLdOiqRgRkRiMei8/179Pgl32gojRAFYaqZxn20Da45OXZEwHjOvoi0hvk124L/u6vt1183jmzhxOjeWDzaV70tueQ6ke3N2YjJhnD9woj4bGyLbShJRIlKidALNue1DDYHv7et5gi2G592r3PnzrNTvdpji3EQxNOnU9+dGJXNosL+b4uOfV30+ONs/1vq8H/Ru7Hgggu6/zBX/x/g71ZccUUXtGKyffady/1XAmUrNLmJcfw333yzHXfccRKa7aQ5M+EznGVonQMOFGGFo6uro5upg5188oLRJ1W26qqz7PTTf7H+/WfO4ejYB91U0NLxgtCkEUGlSUSTqY5WWmmlhq1aB/tkTjuEQjg2XfIch98waVKVjRzZw37+efHoc6YpQUy8aIsuOiZybNEGMfg+kRD+gzi8T8FxUXE35azC8flNOM+2dr0mQXDmPBYaIsZ05c8Jo75pDOwVPac7/fHof/4kKjQGGm2K/xj/ELqQ21txsL8gNrEZ9oeIbW+lR0Sqtnar6DzPjfa/VPROfbTfpaLya7Rfv01rCLbFeXENszk37JUpedr7H5Uq3KtrrLFG2u9Pf87/2mhf2UBDNuRmAl3nLE8ZxGYumD79Nxs16uPoui8TvdokKvNGz5+Kjv2/yKaYpaN151yscN9RArm0VeyfgcVXX321my2AfVfqvdBWylpoEh276aabbNCgQc6p7r333mUtNOOXMtvLGirHlmB/bJfeHQz810TvGIzDdpRPP/20IXLHMaoiAdfF7r77yOh1B1tkkW9t002ftsUW+ya6iRvPk0qf6YrCPpqDYyIyPvjgA/caZ0BenO9CbT0cj/Olyzocn+cMvPCfI2Bw0vM5AVFTg6OZFDkcohFzCs0A24Wulrhj6tq1q/Xs2bNFZ8V2Sy21lOuGLRbHxrkstthiLvpSyHPi+mBvTNT/e1tBmDN5OhX2T1Hh+sy5DXb/1VdfucbF77/fetgH9wfRdewIuHaLL754s42KlkBoTpw4IPqdB0X3HpN819vSS+9uvXv7GRbaslvOha5Azo/7piUQPqQXZLNtOcL1CyPEc2Xz2AsDGC+99FInNmG33Xazs846a3aeZi6gsfv5519Ex2N/NLzmip5PtY8+ejeyp1/deZQ6/AbEOmkeSfwe7L5v3772t7/9Lbr3ls6pHVQKEppFTGsuDdviVPjdVKLZdLvyOVMCZXOD8jkVMxVpOkQiiQSGY1IQaWFeSyrLWbMWjoTBrdGrJSPHPczmm++KqAIbE71uFGmcd7ZTwrAtx+H3Ajc+kb+2Vobh97MPKtawH5y+H2iCY8HBVNuiiy5q3bp1jZ67TSIy/3fY2bLLLusEZ4Dz7N69u8slaorgxLBZhHMYnVoMzo1KF/HMY6Hh/s48d6q/Vo3X5ffXh+tN1JkSrn17CDZ/ww032DPPPOOu1fbbb+/yNLnebbt2NG7I0exmV1+9eHSfdnLHOfDAkbbvvjOjfWITDZu2As6FLn1sK5v7hW3akwJQ6vC7w2/P1X/AdcRnXnjhhVED/G7XK0MKB0tS0sBsqx9Lh+ME+/Zi0z2zX36ZMrvLvtTh99HoJJc2vM4lXIvgs9vbQ1GpSGgmRHN/a/isqW0475BDRZSExP0gqJoC4fXJJ5+47/H95557zr3X1E3BvilU1C0l+4fzRJRmEoIcJ57fGEC0IbKqq1mdiQjTFlHZNCrPR+XJ6NyIjjZuz3e5qYmahZyoTLAdxwtilt9IhKa9UTa+i5NnX/68q51QJPIT9st7RKnoPm7pWPwGKmi+E9+WfSMeW/o+n4dtWto2nxTTucTtrTXwvfDdtu4jDvcAkczzzjvP/vGPf7j3dtppJzfynG5nbKAtRLuNGnhVkbisdqsCcapnnpmyk06qj/aJPTZs2EqCbWV7LYvpmpcD2By+/d5773V1EpF1RAyNeXxLW+0lW3Jh88VEuJ+T+F3B9tP9uMgeCc0cEv8rg9EjhKiE0iH6SCuMc4zDd2iZ0SXI9xjpS/dwS5ORsy3RRoQmzzluNpeWbdPPoTkQj4ikTHmDRP7CVDEURvfTzTrXXET02J7IXOeoIDD5PXOeH99h3yRcI+aauqm5tkRhyb/lv0G4nXTSSW4ew0znlS0cD2FIZCEIQR7ZfzgXHonmZXMctg3fS6ep9zPRmm1FdmRzb7QG7iMG2TDqPAjNHXfc0S666CLr3bt3m+2S02SA+J57VjXMoemFJnMitkdoBmRbhYOGOdHvU0891c0EgF8hR53oWdJCs9zI9f2cCd0rbUdCs4Hm/gY+C5/HH4nuxb/Hc4Qe3XG0VnlNV0gYcABhe/ILydFJnyuR5+yXFi6VVyjxbTLB52E7bghKEEktwTZMDcF/1BzsM0wh4buTG+EzupTXWWed2cdHdPJf+25WbtL4jcrvmfM3he9RKTfVeuT34aBffvll22+//dw8f8yddvvtt7tE7fZ26YbjBkcfzilOpvMSlQ33HoM7mG7rwQcfdO8FoUlEvD1Ck2yVgw7yMx9Eh7HBgy1nQlMUDuqoZ5991tkMDWZ8DsECGrrtaTALUWyUtdBE4CE0GXXelNDk51MyiTlesx+EI58jaijA+8zjGBeRbEOeIk6D7diGpRERvJn2zfZNiSmIix0EXkvOh+0Qd7SIEY902TFarjnCvokiZrMtoo7t0kUpn8XFYfqjJ/48s9nNuf3v4b9BnP/rX/+yY4891v3Hyy+/vMuNY2qjXOUOtnQeQsThXg5d57fccouz0/YKTdwA5ZlnzE4+2eyjj/z7Z51ldtJJEpqlDr6LFCeEJouL4HMefvhh22qrrZy9yAeJcqFshSZRL7qgmfKGhGuE0R577GGDBw92QoyfTeVA9JCR1IyaTh9Aw3O6uIk8si1zIJLPGL5LNwfOIsD7oQSRyPOmulr5jHyc9KgjDobzZWQykUP2xcoRvNeS86FSI6+QY9J1nc2IZT6Pi8SmCJ/zmL5t/LNA+jbthf8L0T5s2DC34hOranAd1l57bTf1BFOQ5EpoCtEasEP8yK233hqJwpOdreYiohnt1saM8fPOPvEE95TZJZcwQtmLzBzfYiKPYDMjR450PW5hhSBWOmPkOfYS6hAhSp2yFZoIEqbYOeecc9zKQHQjb7PNNk5s0q3NTU40ErGIyCTnj0Ts+N/Bc7YJkzDzGvEUdwAImyBu4mILMRumtqErJH06G55TmDeNvMA4vM97TKVAtJHjMUAlmxFvQTCG7VravpTg/ydX9YorrnCNB64jIKjvvPNO22KLLSQ0RUHANunFYF5X7JPXO++8s11wwQWuZ6GtQjPaTdRotkiQWOTHSHMxO/JIi/yJ/7yMbu+KAxshGHLwwQfb448/7uqYIDTxYxKaolwoa6FJFzaRL25iHD25hXT7ErnkpiYaGSKa/A3c2GwXF2fhfYQqNz8RxvjqA+QlUuKwfZ8+fWYPjEEkIjbT4TNEEvtOh88ylZaIb5PN9qUA1wDBzzUjB/b//u//XBclea68ZqQ4QjMXOZpCBHvjkQLcS9hWun8IYJvkaBLNpPuTbZh3D+HAPd4e0RDt2onNqD3shGbU9ozOhXNq2ECUJNgWAY4jo5YDXei8phv99NNPl9AUZUVZC82PP/7YjQL997//7SoCnH+oJIK44+fznOgj+YcsG4eIDLA9n9H9RYVBhJER0aEbm0gl3wn7BRwE4of9hmPGP4f46/TPhIdrQ2EEPWtshwYB0eKnn37aXnnlFXeNWeua3NtVV121zZEjIbAtGp9EzZkqLNgb4BO4z/EB9DYgBOL3bRCap512mhsMxOeXX365/fWvf3WpMbm4xxtOJdqXfxSlDTZDbiY289prrzmbwY/tv//+zo9JaIpyoawHA9Elftddd7loF5UG4PApdFmH50QceY2IZDqeeISRz6lkiGIyTyOVBsIzCJqwjzjx99I/CzT1vvBgluTZMlfm888/b/fdd5/rmuT/J/1hk002cdeXUZpcM/I0uT5yzqKt0DglfYaVWohKYm/BPWJ32BmNGZYKJK0l5E9zLyMasNUrr7zS7rjjDtebQX7mdtttp8aPyAi2xUBTGiYsp0sj5qijjnK2FexKiHKgbIUmjj9UHO++++7seSW5ebmJqTB4TkGgEIFEUBKpTBcrYTtKeC2SgWtEoeuSbiUqfAqCkpxMKnzWM6frfP3113fbheum6yLaCv6CVAxGjD/yyCOzZ4sA7BGfQAMUAbnhhhu6gT6rr756wzyxvgcEW3zrrbeccGDuTHI0+TzdnwgRwO5I5aJRg32RYpWrCLgQxULZCs0gWIhsUgFwQ0O4gUO3NvAYf94UzX0mcgPXKYz0Jxr92GOPuYmwuY6hwifyfMQRR9gxxxwze7m2lq5NMHNdQ5EOtoGoJJebwYOkY2Bv5HNja0TWsUEaOrxPjwbpMxtssIHLr6M3JIhJcoaZfguxQAM2vYtdiDihnor7JzVMRLlRc3ZEw/Oyghs23LREHHD88RJyYEIJ2zdXRLIgMqmoyVdiVDmDfhisxbUiP45oEq8RBUSoV1llFRc5as4x48BpaLDCEl3tRD5V+Ys42AhCkjWnyf1FTJIqQzfmoYce6tI0sBdsB7ujMFqY1Vx4pHckLDWKrdKlHnpGZGeVDbYV/BoNEBrRkJ56Fa+HhCg3ylZoBsKNnF5EcYFDxhm/8cYbdvHFF9sLL7zgIklEj5iInVWAmL7oiSeecI6b+UF5n8namxOabMvADubZ/M9//uOmmmGWANmBCGAjNG5Y3IHGCCKAxR2Y37Bv375uBgnyMpmnlUYrjRZEAxFObIvvbLzxxs5WsakgGGRflUsQmAhLVnlj4CK55sybyXt0kWNLshFRCZS90BTFDw6ZwkTsiEwS4wFBSAXOyk6slrHiiiu6OQrZlpHnRJoQAs0JTcQqOXc33nijG7lO5GnAgAFzpE6IygVBgGgkRePRRx91toXdMU0RsxlgJ9gXUXC60omiE+1kbt2w+hdd7QzgoMiuKpsgMOl5YXo9GsysYsb696Rm4NuwFwagUmQvohJQMogoODhnurcZpct8cohD8tsYsXvGGWe4yCVTT5HyENZYJ+pE5d8SwekzupOIKQPDGPTBMYVAKDLo7H//+597TqU/cOBAt7pWEAFBaPKa5Wv33HNPO/zww11uJnaIXbECGV3p2JuoXLj+NEIQlZdccombfB2hyeCy0H3+zjvv2DXXXOOmNmJ7+SJR7khoioJDBY/4Y1oZHC9dkEQdd9ttN1tuueWcwKSyp1LfdNNNXWWPEGAC/paiAXzO9+mmYt90XdGNxTGFYNozlv97++23XYVPHvB6663nopaZbAs7JG1jp512cgOBWBqW/GEGDUFL9ijKF/wLc6nee++9boUo8n1Z/x6bwK6wFRrQNKRp8L700ksu/aIloYmvorFMigaFabTIU5dAFaWCus5FwSGaSf7k0KFDnbOm6/Kggw5yS4amdy2RY4kI2HrrrW3NNdd0IrK5yp39MX0IAhOnj3Mm544u+WwioqJ8wTbIn2N98lGjRjnbYMqsfffd140qDwM24mBriE3sDjvCFrFJUjv4bmgUicoC2yH3kuWOyfVl+WP8WmgU77DDDvbnP//Z2RtilAYOM2bgwxChTdkMIhO/9eSTT7oczxEjRriIKGkczX1PiGJCVioKCg6aVj1zD1Lx4zgZSc5chXGRySMVP475kEMOsc0228x1ozcnMoH99e/f332PbTkeRVQ22BqRpaeeesrlBvMae6IBQq5lNnZFZJP5NJlq649//KNL71DFX5kgCBGRzFxANzkwh+oBBxzgVqc7+uijXeN4++23d34NaPwSScf2MoGfIoL5wAMPuNSM6667zpUbbrjBRUwnT54sfyZKAnlFUTBwkDhZBukwbyavmRaG7nK6xeOVNhU/r+kCp6syrMrSEnyPqBOt/zhyzpUN15+lJv/5z3+6iBG2tNpqq7luc7o3WxKawR4Rl0SteKQhFL7H/oN9I0LIzYsXjq3uz/KBRgv55eTp8hyfQy4vsxcQ6aaXhpSgbbfd1uX2EvkOuePNwQIA2CgDiOiZwVZJM6L3h+MRNZUNiWJHQlMUDCphEuQZSc58hMAybBtttJFzxJmgIm9JBKSTvr0cs0D8UXkzPRF2SDfmlltuOXu9/Ew2FsRjKOmE93gkSk8u3RdffOFWtWJUO+khoZC/x7ERnJn2JUoLGg0MKOO6Az0oYWWokE5Bqg4zGTCjAZ8zawazGDTnz7BT7AORikBl1gxe4y8RoKx811REVIhioWxXBhLFD86ZypbcJR6JZpKXyYhMokTZRCxbAkfNcU4//XTX/YTTP/jgg900SjhvUZmQT3fKKafYzTff7KJCpFecf/75LvoUcjMRgfFKHFdJbh2RqHS3SaQ9zM9KxJKcTwad0TXK6zDCOEBEniUsGVBEmgi239oGlCgeiEyS8kPDGb91/PHHO/uimzw0XLAZChP+0wDhmtNzg08KNheHbZlC67///a8NHz7czcLBQKN///vf7jh8F5vdddddm2yYC1EMSGiKgoGzJOfo0ksvdblIdDf9/e9/t1122cVV3C1BxR3MF+eeqaJOF5rsl6UDcdZ0kYrKBPFHNImpaLAhKmsqbZ6T+0ZkioEXIULF+xSik4wYTo8iMeqcKY+IWjGKncEbpISEiBQF+4wLDralYcUUOMwRm43Ni+IEQYjww9fweN5557m83Xh0PDwPfiu8H+wiE2wbCl3y+EkaRXSj07AZMmSI7b777k60ClGsSGiKgkHEaP/993dzzlGh063EyEpGVMZb+MFEqbQBp0tECmfLCE62Ja8ToZoeBWVbnD9ilnntiF7R+kdgkFcnKgfsiIIdIQLXWWcdZxsIPKJFTJ2FiKRLHSFK1InPA+H7lCAOwv7YB7nD2CIrByEK+BwxiV3ySFoIucJ0e3J8bJjXzLBw7LHHuu83JThEcYPQZKYCrjt+jGgm0xnxfrAhcoDj1ziba419hcfQaGa2A3I1JTRFqSChKQoCZoez3GOPPdz8mUAXOitoUCkjGEMrnoKTZT1qHqmgEQR0R7JkJd1Thx12mBvVmR6lZB98h1VfiGqS04QoQAwwaliUP3E7omB3YQQvtoE4RADwHGHA9ogACnaIPcahUidXDjvCjj/77LPZgoDvsD2fLbXUUm5qm7XWWsvZZZj7lTSRK6+80t588013LFa5YvR7S/l6onghH5dprrCvnj17ujxzri0RcNItuK40qhl9jk2lN4izAfukoYzQxBdKaIpSQUJT5B1MDqdJDhuOlwgSjvfCCy90OWs4aLrVcd6s2oI4xFkzHQgteoQm3ZrkRfE+gpEpZo466igXNYoTjsUa6UQZEAUIAQnN8iZcd+wFOxozZoyzo5AvSRQ9dJsDNoHg5JGGC8sDUnmzJjXPgwDkkYFDRK/Is2T/DO4gbxOIxgdByWAPBn0gQMKAEEDMMg0OYpOuUD57+eWXXc6mhGZpgY3hj7AvVjBDaGJHXFNsA/sKtsVAMwYM8botQpP9YbNrr722s2nskmmwGd0e1tkXohiR0BR5ByFJZUs+JlElKmkcMUu1kX9EdzgRS6Y8YroQXuPMqZT5LiZL4TuIASpzuh6p2NO7w9mOyoCcOQSBhGb5g41gU1TKFKLerDGNHTEQg0qaVA3sAhvCZihENYkSETEiCol9MCiNCFVcGCBE+QwxQYOIBg4CAuHJikGbb765G21MYb98N4gA7JGu8/vuu88NSOP8iH4iNNdYYw2JhRIh+BXmzqTR+8wzz9gdd9zh3qOEBgv+iUYHtsFURwceeKCzOUprCMdi9oLBgwe7RjaNGvKC2W9YNz1ua0IUCxKaIu/Q6md+OBwmOZmYII73zDPPdN2aTHjMyhoIAiKWfE5ljAOl5Y5DpZJHABAlYNJsogl0Z6ZHCkKFIKFZGXC9qYRptLDEX1iJha7G4Oqwh9BgoduaipooJJFHhCWCk8g4NhfsKV55h+c8YsvYKkITUUmeJ2KV74UStud4RKWI5DMACIHCawYSIVSw5fhxRHGC/eCXsKtbbrnFXnjhBeezwmwE+Bcm/SdCvfzyy7tGC76JnM3go1pznbFVovEcixHodMfThY4fJDedRQZYwAL7wSfyvuxIFBMSmiJvYGoUoklUzHT7MP1LqJDppsSBE72kAkZ8Egmg4LDDI8n2IVKAOMC58lkm58rxJDQrg+DKyHc85phjnLjElqiosRcqeR6JImKD2AsDNO6//34n9sijDOKSz7KprNk3hS55tsem0sVleGTwG+Lk8ssvd9PUcA40nBidzChl7DmbY4rCgS/BfmgsYGfPPvusaxyHxgsQXSQFiGUnGexFCakTlNbCfkPvDw2n0CWPreAjSeUgH5ipuf7yl7+4GQw4nmxJFAutt3ohWglOEWdJNyNd5uRkMs9gWBWDz4MDp8JGCDJSl270/fbbz007w9ya1157rZ144okuJ4kpkFjFBaGp/CQRwJaI9mBrVMKIS2xkiy22cFHEffbZx1XMVPiISkab08WN0CQSxHewpWztif2Eyj49WsW5EPGku55cY6JRV199tT3yyCNOZPK9AQMGuO5PukFlw8UN15OoJY0ElpVkijREJtc85PHyHFtC7NEgphFM4ybYVVvguNgLPpR9EW3HpjkmNkwqBqlGdN1jX0Q8gxgVohhQRFMkAmYVHCSVPsumMV0MEUzyjKh4w9QfOGG6HXHKRJUYfUtXJvludEPSOkd8xp11+mNTcA6KaFYGweaIitPNyKAfBBzdikTLEZSIvDPOOMPl+1Jp031NN2dcILYHjo+4xOaJYGLzDBRh8E+YlxMhjC2TC8rE3n/605+c/fOeKF64tqRJnHPOOW4JSK4xNkSXNYMaaQBD37597aKLLnIrTbVHYAYQmPgrZuTAb7JCED4y5Pq+8847zp7xpfjK3XbbzQ00o/GTC5sWor1IaIpECBFMupiYM5CcOboNybvkM8QfpkchkkTkct9993UVLiITB01JFwCtdZzsX0KzsuB6x+0rCDieUzGfdtpprmIm3YLcN2wuVyITm0dY0qBC6NK1GnLqsHugMcXAn0MOOcS22mqrNuXtpcOxJSqShf+YRgypFvgzJvZH8A0aNMj1wBDBxO5I78ml0OS42E7wm4C98JoIK8uZ3nnnnW7QG/aH2KTXiIgn2wlRaCQ0RSIQ1aGiJVeJ0eO8xtRwfHT34ICJ+FABU/GG6BOf4ZhDxZsLJy2hWVlwzeNuDRsKdkD6BdNoIRIQmF9++aV7bC9U+qR9MCcs0UsEJl3m2H0QCRyHaZEYFMKcisyWEO6F9tg59xACiP1zLwVhLXJLsCtshx4a/nOWneR/Jw2IPElsjAE6CE0aEbkQmhCOTYG4TSM2aUCxKAXpR0FohkFpQhQaCU2RCFR+TCmDuKO7CcdI5IYuTLqWqICplL/55hv3Pt3prNRCxZtLgjOW0KxsEHrYHFFEKmXsgoqYRlAuhCYik/WomUmBGRWCwAxg/3TRMwUXXZ904+dKhCB8uI/ICyRNQF2myRKqTB7D/0yKxEorreR8DYKTvPL0JShzCcehq5zV0ZgCjlQRfByD35hJARtURFMUCxKaIhGoaGlp08X0wQcfOIfHqFq6lagQEXw442HDhrnBPAzuwVnSjZ5LMG8JTYHoo2JmKiMGcWAD5Ebedtttrgu9rWBf7JuVp4hkMhKZ4/Beumtl9DEikGPnKmIPdJcidEk54R7q16+fhGbCxK8tzx9++GGX+oOvwa+QB0xvTrjW7SU0lBCSHIOUD3I08WukaSAs6SEimonAZVBQpiV5hSgEEpoiETArnCMVIBEXKj4il0SPeJ+pZ0iqp3IGKmFa5jzmEs5DQlNgc0TZmf4FUUiFTK7mCSec4Bo6bYX9Yl9EKllSkue8lwmOGQRgroRgcN9EzpgDlBHRdMlLYOSH4OduvfVWO/XUU52/A+yK6dvooWnvtWD/jG6nW/z11193ghJbw6/yyGu2oZHOLAacBzNyaDYOUSxIaIrECE6Yx+DwcLq8R9Tnrrvucs6YAUI4ZCJNTHjNtrmsiNOFJpUyA5OYhkRUBthcXGhSKVMhM10WI4fbCrZFoWJnDXPsjYYM+ww2HB5JGUlCAHJMbJpuc6JqCM5c3T+iefjvgQFfzIWKn+FaYFesGNXeiCb7Z3YOBvs899xzLveSCDbvBd+KrbHIQMj9ZZ31kKsrOxDFgISmyDuh0mf98ZNOOskNyMApkkCPc8YxJyE0WeucEcEci8gAOVVyxJVBJqEZIprtEZrsF/uikcQ8hsAch3HbCo+MNE9CaAI2Tf4z3aVhQJ3ID/gYbIsUodtvv91d44MPPtg1LNor9tg33eJ0xZNmxHHYH9cYu6VXhtz2bbbZxh2P9Aney6UPFaK9SGiKvEOuETlGN9xwg5sbjlxOWv50pR933HE5bYkHockUIEQ0iTzQhXnZZZfZQQcd5I4jh1z+JCU0sS8KI5AZmMFz9p3ebcnzeJQz1wQ7lsAoDNgXvTSMPscGwmpA7b0W7BcByyAzporDrhjkQ2OGVa3Ix2VaJQaXYXchgiobEMWEEnlE3sERP/7447Pnogsk5RzZL5PBM7UM3eU4aNYHFqK9YFtU7AwoorLHxpimi3zkeCHKhPAgEpVEQWDksoEmWgc2wPWlC5uSC5EJ7IMBlAceeKDtvvvudsUVV9iNN97olqM84ogjbPPNN3dCk9x3jikbEMWIhKbIOwhNKl4qYBw0hZY63X65dpLsj/3TlcnqHUQxcdLMf8dncsqVCTZIrluuCHYcL8G+ZGeVAdc4fu1zAfuhIcGcnKyRv+OOO7ooJhFTfChRcj7P5TGFyDXqOhd5h65zpua45557Zk8HQySIZHryzHCYuXaadJ9znLDv9ibpi9IidG2y1jld51x/1j9nlZf2jDoXIh9QTYeqOgn/KESSSGiKvIPJUfGTm8k0R4hAopl0OdL1I0Suwd5o4JDrxlyTRDPp6mYOQkboCiGESAYJTVEQgtikQK67nISIE+zt3XfftWuuucZNRUQ3JIPPGEQhhBAiGSQ0hRAVAa6O7nNG8bJk47rrrusGh9GNLoQQIhkkNIUQFQNRTVI1gOh5iKQLIYRIBglNIYQQQgiRCGrKCyGEEEKIRJDQFEIIIYQQiSChKYQQQgghEkFCUwghhBBCJIKEphBCCCGESAQJTSGEEEIIkQgSmkIIIYQQIhEkNIUQQgghRCJIaAohhBBCiESQ0BRCCCGEEIkgoSmEEEIIIRJBQlMIIYQQQiSChKYQQgghhEgECU0hhBBCCJEIEppCCCGEECIRJDSFEEIIIUQiSGgKIYQQQohEkNAUQgghhBCJIKEphBBCCCESQUJTCCGEEEIkgoSmEEIIIYRIBAlNIYQQQgiRCBKaQgghhBAiESQ0hRBCCCFEApj9P08B85TZdm98AAAAAElFTkSuQmCC)"
      ],
      "metadata": {
        "id": "40YeTNLyCjef"
      }
    },
    {
      "cell_type": "code",
      "source": [
        "plt.bar([1,2,3],sample_data['PetalLength'],color='b',label='Petal Length')\n",
        "plt.bar([1,2,3],sample_data['PetalWidth'],bottom=sample_data['PetalLength'],color='r',label='Petal Width')\n",
        "plt.xticks([1,2,3], sample_data.reset_index()['Name'])\n",
        "plt.grid(True,axis='y')\n",
        "plt.legend();"
      ],
      "metadata": {
        "colab": {
          "base_uri": "https://localhost:8080/",
          "height": 0
        },
        "id": "UVU7a3QuCfV7",
        "outputId": "fcda9ad5-cf28-4fc8-c166-d2a9a9994881"
      },
      "execution_count": 116,
      "outputs": [
        {
          "output_type": "display_data",
          "data": {
            "text/plain": [
              "<Figure size 432x288 with 1 Axes>"
            ],
            "image/png": "[encoded data removed]"
          },
          "metadata": {
            "needs_background": "light"
          }
        }
      ]
    },
    {
      "cell_type": "markdown",
      "source": [
        "## Bar chart แบบ ตะแคงข้าง"
      ],
      "metadata": {
        "id": "2praw-lrCs8F"
      }
    },
    {
      "cell_type": "code",
      "source": [
        "plt.barh([1,2,3],sample_data['PetalLength'],color='b',label='Petal Length')\n",
        "plt.barh([1,2,3],sample_data['PetalWidth'],left=sample_data['PetalLength'],color='r',label='Petal Width')\n",
        "plt.yticks([1,2,3], sample_data.reset_index()['Name'])\n",
        "plt.grid(True,axis='x')\n",
        "plt.legend();"
      ],
      "metadata": {
        "colab": {
          "base_uri": "https://localhost:8080/",
          "height": 0
        },
        "id": "YH66nGSjCuuf",
        "outputId": "b22d2cf6-befe-4576-cff4-0821e71d79d0"
      },
      "execution_count": 117,
      "outputs": [
        {
          "output_type": "display_data",
          "data": {
            "text/plain": [
              "<Figure size 432x288 with 1 Axes>"
            ],
            "image/png": "[encoded data removed]"
          },
          "metadata": {
            "needs_background": "light"
          }
        }
      ]
    },
    {
      "cell_type": "markdown",
      "source": [
        "# HW7\n"
      ],
      "metadata": {
        "id": "19n0FpYECyIc"
      }
    },
    {
      "cell_type": "markdown",
      "source": [
        "\n",
        "\n",
        "1.  plot bar chart เปรียบเทียบ sepal legth, sepal width, petal length, petal width ของ ดอก iris ทั้ง 3 ชนิด\n",
        "\n",
        "2. plot bar chart เพื่อเปรียบเทียบขนาดโดยรวมของ ดอก iris 3 ชนิด โดยดูจาก sepal legth, sepal width, petal length, และ petal width\n",
        "\n"
      ],
      "metadata": {
        "id": "UieNogVTC2ko"
      }
    },
    {
      "cell_type": "code",
      "source": [
        "# แสดงภาษาไทยใน matplotlib\n",
        "!wget -q https://github.com/Phonbopit/sarabun-webfont/raw/master/fonts/thsarabunnew-webfont.ttf\n",
        "!ls\n",
        "# !pip install -U --pre matplotlib  \n",
        "import matplotlib as mpl       # เมื่อต้องการเซ็ตขนาด\n",
        "mpl.font_manager.fontManager.addfont('thsarabunnew-webfont.ttf')    # import font เข้าไป\n",
        "mpl.rc('font', family='TH Sarabun New')"
      ],
      "metadata": {
        "colab": {
          "base_uri": "https://localhost:8080/"
        },
        "id": "r31KJiK-Cz26",
        "outputId": "e1793696-08eb-422f-f590-366186478753"
      },
      "execution_count": 118,
      "outputs": [
        {
          "output_type": "stream",
          "name": "stdout",
          "text": [
            "drive\t\t\t    thsarabunnew-webfont.ttf.2\n",
            "sample_data\t\t    thsarabunnew-webfont.ttf.3\n",
            "thsarabunnew-webfont.ttf    thsarabunnew-webfont.ttf.4\n",
            "thsarabunnew-webfont.ttf.1\n"
          ]
        }
      ]
    },
    {
      "cell_type": "code",
      "source": [
        "import numpy as np #นำเข้า  numpy โดยใช้ชื่อ np"
      ],
      "metadata": {
        "id": "p4Q3yFd1C_17"
      },
      "execution_count": 119,
      "outputs": []
    },
    {
      "cell_type": "markdown",
      "source": [
        "## 1. plot bar chart เปรียบเทียบ sepal legth, sepal width, petal length, petal width ของ ดอก iris ทั้ง 3 ชนิด"
      ],
      "metadata": {
        "id": "a9Fh83rbDFWX"
      }
    },
    {
      "cell_type": "code",
      "source": [
        "plt.figure(figsize=[10,6]) #กำหนดขนาดของกราฟในแนวตั้งและแนวนอน\n",
        "width = 0.25 # ความกว้างของกราฟ\n",
        "\n",
        "plt.bar([1,2,3,4],[sample_data['SepalLength'][1],sample_data['SepalWidth'][1],sample_data['PetalLength'][1],sample_data['PetalWidth'][1]],width,color='y',label='versicolor') # ดอกที่ 2 versicolor\n",
        "plt.bar([1-width,2-width,3-width,4-width],[sample_data['SepalLength'][0],sample_data['SepalWidth'][0],sample_data['PetalLength'][0],sample_data['PetalWidth'][0]],width,color='r',label='setosa') # ดอกที่ 1 setosa ขยับซ้าย\n",
        "plt.bar([1+width,2+width,3+width,4+width],[sample_data['SepalLength'][2],sample_data['SepalWidth'][2],sample_data['PetalLength'][2],sample_data['PetalWidth'][2]],width,color='g',label='virginica') # ดอกที่ 3 virginica ขยับขวา\n",
        " \n",
        "plt.title('plot bar chart เปรียบเทียบ Sepal Length ,Sepal Width ,Petal Length ,Petal Widthของ ดอก iris ทั้ง 3 ชนิด'); # กำหนดชื่อกราฟ\n",
        "plt.grid(True) # เส้นกริด ไว้ลากกราฟ True เปิด grid \n",
        "plt.ylabel('Size (cm)') # ชื่อแกน y\n",
        "plt.xticks([1,2,3,4],['SepalLength','SepalLength','PetalLength','PetalWidth']) # ชื่อแกน x\n",
        "plt.legend();"
      ],
      "metadata": {
        "colab": {
          "base_uri": "https://localhost:8080/",
          "height": 0
        },
        "id": "depdjcgUDErd",
        "outputId": "84dfeeb4-0728-4fba-9b31-4dfd5433ee81"
      },
      "execution_count": 120,
      "outputs": [
        {
          "output_type": "display_data",
          "data": {
            "text/plain": [
              "<Figure size 720x432 with 1 Axes>"
            ],
            "image/png": "[encoded data removed]"
          },
          "metadata": {
            "needs_background": "light"
          }
        }
      ]
    },
    {
      "cell_type": "markdown",
      "source": [
        "## 2. plot bar chart เพื่อเปรียบเทียบขนาดโดยรวมของ ดอก iris 3 ชนิด โดยดูจาก sepal legth, sepal width, petal length, และ petal width"
      ],
      "metadata": {
        "id": "Rn4XjV3rD6oW"
      }
    },
    {
      "cell_type": "code",
      "source": [
        "plt.figure(figsize=[10,6]) #กำหนดขนาดของกราฟในแนวตั้งและแนวนอน\n",
        "width = 0.25 # ความกว้างของกราฟ\n",
        "\n",
        "plt.bar([1,2,3],sample_data['PetalLength'],color='b',label='Petal Length') # กราฟชุดเเรก\n",
        "plt.bar([1,2,3],sample_data['PetalWidth'],bottom=sample_data['PetalLength'],color='r',label='Petal Width') # กราฟชุดที่สอง\n",
        "plt.bar([1,2,3],sample_data['SepalLength'],bottom= sample_data['PetalWidth'] + sample_data['PetalLength'],color='g',label='Sepal Length') # กราฟชุดที่สาม\n",
        "plt.bar([1,2,3],sample_data['SepalWidth'],bottom= sample_data['SepalLength'] + sample_data['PetalWidth'] + sample_data['PetalLength'],color='y',label='Sepal Width') # กราฟชุดที่สี่\n",
        "\n",
        "plt.title('plot bar chart เพื่อเปรียบเทียบขนาดโดยรวมของดอก Iris 3 ชนิด'); # กำหนดชื่อกราฟ\n",
        "plt.grid(True) # เส้นกริด ไว้ลากกราฟ True เปิด grid \n",
        "plt.ylabel('Size (cm)') # ชื่อแกน y\n",
        "plt.xticks([1,2,3],sample_data.reset_index()['Name'])   # ชื่อแกน x\n",
        "plt.legend();"
      ],
      "metadata": {
        "colab": {
          "base_uri": "https://localhost:8080/",
          "height": 0
        },
        "id": "Qcaw00ZYD-FX",
        "outputId": "c8660a63-53f5-4c48-d9bb-ad257a652812"
      },
      "execution_count": 121,
      "outputs": [
        {
          "output_type": "display_data",
          "data": {
            "text/plain": [
              "<Figure size 720x432 with 1 Axes>"
            ],
            "image/png": "[encoded data removed]"
          },
          "metadata": {
            "needs_background": "light"
          }
        }
      ]
    },
    {
      "cell_type": "markdown",
      "source": [
        "# Histogram"
      ],
      "metadata": {
        "id": "mnx0Hux-GVox"
      }
    },
    {
      "cell_type": "markdown",
      "source": [
        "แสดงความถี่ของข้อมูล"
      ],
      "metadata": {
        "id": "b7jiC0JaGYHH"
      }
    },
    {
      "cell_type": "code",
      "source": [
        "np.random.seed(2022) # สุ่มด้วยเเหล่งเดียวกัน\n",
        "\n",
        "X = np.random.randint(1,101,100) # (เลขน้อยที่สุด , เลขมากที่สุด , เอากี่ตัว) เอาเลขตั้งเเต่ 1-100"
      ],
      "metadata": {
        "id": "tPcnQ-0QEqVJ"
      },
      "execution_count": 122,
      "outputs": []
    },
    {
      "cell_type": "code",
      "source": [
        "X # เลือกตั้งเเต่ 1-100"
      ],
      "metadata": {
        "id": "lk901uOqGbG0",
        "outputId": "c371a9ea-885e-42d2-8833-0659d15d8346",
        "colab": {
          "base_uri": "https://localhost:8080/"
        }
      },
      "execution_count": 123,
      "outputs": [
        {
          "output_type": "execute_result",
          "data": {
            "text/plain": [
              "array([93, 46, 50, 56, 89, 19, 25, 17, 54, 42, 34, 28, 12, 20, 95, 76, 49,\n",
              "       20, 39, 73, 15, 94, 17, 91, 12, 95, 98,  3, 81, 16, 24, 82, 88, 86,\n",
              "       38, 57, 84, 13, 46, 91, 77, 15, 97, 14, 78, 53, 43, 54, 65, 46, 94,\n",
              "       64, 24, 38, 22, 62, 57, 76, 47,  3, 65, 47, 42, 62, 62, 73, 65, 52,\n",
              "       92, 99, 34, 30, 24, 48, 50, 56, 29, 10, 71, 48, 32, 27,  8, 99, 90,\n",
              "       66, 43, 63, 92, 33, 77,  5, 88, 98, 11, 77, 26, 54, 63, 24])"
            ]
          },
          "metadata": {},
          "execution_count": 123
        }
      ]
    },
    {
      "cell_type": "code",
      "source": [
        "histout = plt.hist(X) # plot histogram"
      ],
      "metadata": {
        "id": "7M55RofvGcs8",
        "outputId": "e6cedaf1-41fe-494f-b8fc-94e4b3afe3cf",
        "colab": {
          "base_uri": "https://localhost:8080/",
          "height": 0
        }
      },
      "execution_count": 124,
      "outputs": [
        {
          "output_type": "display_data",
          "data": {
            "text/plain": [
              "<Figure size 432x288 with 1 Axes>"
            ],
            "image/png": "[encoded data removed]"
          },
          "metadata": {
            "needs_background": "light"
          }
        }
      ]
    },
    {
      "cell_type": "code",
      "source": [
        "np.random.seed(2022)\n",
        "\n",
        "X = np.random.randint(1,101,5)"
      ],
      "metadata": {
        "id": "vwQ3nC8aGfgO"
      },
      "execution_count": 125,
      "outputs": []
    },
    {
      "cell_type": "code",
      "source": [
        "X"
      ],
      "metadata": {
        "id": "8vSjesCPGhyP",
        "outputId": "cef9e967-5338-4e70-9bce-26c3b1179d44",
        "colab": {
          "base_uri": "https://localhost:8080/"
        }
      },
      "execution_count": 126,
      "outputs": [
        {
          "output_type": "execute_result",
          "data": {
            "text/plain": [
              "array([93, 46, 50, 56, 89])"
            ]
          },
          "metadata": {},
          "execution_count": 126
        }
      ]
    },
    {
      "cell_type": "code",
      "source": [
        "histout = plt.hist(X)"
      ],
      "metadata": {
        "id": "GG6P8m6bGjKc",
        "outputId": "2e7d76a5-c093-4925-f73f-1b52d30eac96",
        "colab": {
          "base_uri": "https://localhost:8080/",
          "height": 0
        }
      },
      "execution_count": 127,
      "outputs": [
        {
          "output_type": "display_data",
          "data": {
            "text/plain": [
              "<Figure size 432x288 with 1 Axes>"
            ],
            "image/png": "[encoded data removed]"
          },
          "metadata": {
            "needs_background": "light"
          }
        }
      ]
    },
    {
      "cell_type": "code",
      "source": [
        "np.random.seed(2022)\n",
        "\n",
        "X = np.random.randint(1,101,10000)"
      ],
      "metadata": {
        "id": "rTzL-qXUGlde"
      },
      "execution_count": 128,
      "outputs": []
    },
    {
      "cell_type": "code",
      "source": [
        "X"
      ],
      "metadata": {
        "id": "ppzzSa5TGmRk",
        "outputId": "7d5fdc4a-4df6-4c69-d24e-e48a9c6a03a5",
        "colab": {
          "base_uri": "https://localhost:8080/"
        }
      },
      "execution_count": 129,
      "outputs": [
        {
          "output_type": "execute_result",
          "data": {
            "text/plain": [
              "array([93, 46, 50, ..., 64,  7, 46])"
            ]
          },
          "metadata": {},
          "execution_count": 129
        }
      ]
    },
    {
      "cell_type": "code",
      "source": [
        "histout = plt.hist(X)"
      ],
      "metadata": {
        "id": "lrrvkKNCGn3A",
        "outputId": "8026122c-67d4-461f-cbad-d96d2e8e9f04",
        "colab": {
          "base_uri": "https://localhost:8080/",
          "height": 0
        }
      },
      "execution_count": 130,
      "outputs": [
        {
          "output_type": "display_data",
          "data": {
            "text/plain": [
              "<Figure size 432x288 with 1 Axes>"
            ],
            "image/png": "[encoded data removed]"
          },
          "metadata": {
            "needs_background": "light"
          }
        }
      ]
    },
    {
      "cell_type": "code",
      "source": [
        "histout # ดูตำเเหน่ง"
      ],
      "metadata": {
        "id": "WXHcqDscGqPg",
        "outputId": "55bb3bd1-ff5d-49ab-a726-85a291afbc8d",
        "colab": {
          "base_uri": "https://localhost:8080/"
        }
      },
      "execution_count": 131,
      "outputs": [
        {
          "output_type": "execute_result",
          "data": {
            "text/plain": [
              "(array([1020., 1033.,  963.,  988., 1018.,  990., 1010., 1012.,  992.,\n",
              "         974.]),\n",
              " array([  1. ,  10.9,  20.8,  30.7,  40.6,  50.5,  60.4,  70.3,  80.2,\n",
              "         90.1, 100. ]),\n",
              " <a list of 10 Patch objects>)"
            ]
          },
          "metadata": {},
          "execution_count": 131
        }
      ]
    },
    {
      "cell_type": "code",
      "source": [
        "histout[0]"
      ],
      "metadata": {
        "id": "9d3igvpRGsIc",
        "outputId": "41d2f81d-6835-4d77-ac2f-87ab32ab85f4",
        "colab": {
          "base_uri": "https://localhost:8080/"
        }
      },
      "execution_count": 132,
      "outputs": [
        {
          "output_type": "execute_result",
          "data": {
            "text/plain": [
              "array([1020., 1033.,  963.,  988., 1018.,  990., 1010., 1012.,  992.,\n",
              "        974.])"
            ]
          },
          "metadata": {},
          "execution_count": 132
        }
      ]
    },
    {
      "cell_type": "code",
      "source": [
        "histout[1]"
      ],
      "metadata": {
        "id": "ICZoxgWGGuK5",
        "outputId": "69bcd70c-d897-4556-95ea-b8685ddad73a",
        "colab": {
          "base_uri": "https://localhost:8080/"
        }
      },
      "execution_count": 133,
      "outputs": [
        {
          "output_type": "execute_result",
          "data": {
            "text/plain": [
              "array([  1. ,  10.9,  20.8,  30.7,  40.6,  50.5,  60.4,  70.3,  80.2,\n",
              "        90.1, 100. ])"
            ]
          },
          "metadata": {},
          "execution_count": 133
        }
      ]
    },
    {
      "cell_type": "code",
      "source": [
        "np.random.seed(2022)\n",
        "\n",
        "x = np.random.randint(1,101,1000)"
      ],
      "metadata": {
        "id": "JPwo8IdWGwQy"
      },
      "execution_count": 134,
      "outputs": []
    },
    {
      "cell_type": "code",
      "source": [
        "x "
      ],
      "metadata": {
        "id": "KMwMZVitGyCm",
        "outputId": "22a78cd8-f586-4743-c605-89e46c91eebd",
        "colab": {
          "base_uri": "https://localhost:8080/"
        }
      },
      "execution_count": 135,
      "outputs": [
        {
          "output_type": "execute_result",
          "data": {
            "text/plain": [
              "array([ 93,  46,  50,  56,  89,  19,  25,  17,  54,  42,  34,  28,  12,\n",
              "        20,  95,  76,  49,  20,  39,  73,  15,  94,  17,  91,  12,  95,\n",
              "        98,   3,  81,  16,  24,  82,  88,  86,  38,  57,  84,  13,  46,\n",
              "        91,  77,  15,  97,  14,  78,  53,  43,  54,  65,  46,  94,  64,\n",
              "        24,  38,  22,  62,  57,  76,  47,   3,  65,  47,  42,  62,  62,\n",
              "        73,  65,  52,  92,  99,  34,  30,  24,  48,  50,  56,  29,  10,\n",
              "        71,  48,  32,  27,   8,  99,  90,  66,  43,  63,  92,  33,  77,\n",
              "         5,  88,  98,  11,  77,  26,  54,  63,  24,  25,  65,  61,  89,\n",
              "        36,   5,  20,  50,  51,  87,  60,   3,  28,  91,  96,  72,  55,\n",
              "         4,  77,  22,  68,  12,  46,  68,  45,  84,  57,  88,  34,  36,\n",
              "        76,  26,  99,  56,   7,  84,   2,  27,  93,  51,  67,  85,  35,\n",
              "        81,  15,  71,  85,  68,  57,  20,  15,  17,  29,  10,  90, 100,\n",
              "        30,  85,  86,   3,  47,  40,  81,  43,  93,  65,   6,  83,  91,\n",
              "        52,  84,   1,  17, 100,  62,  99,   6,  81,  57,   6,  32,  71,\n",
              "         5,  26,  13,  22,  79,  63,  84,  86,  32,  69,  89,  31,  59,\n",
              "        90,  10,  62,   2,  70,  82,  20,  63,  86,  77,  47,  93,  52,\n",
              "        67,  95,  93,  95,  99,  30,   5,  25,  98,  36,  64,  74,   9,\n",
              "         7,  61,  46, 100,  52,  18,  39,  84,  51,  37,  35,  49,  34,\n",
              "        75,   9,  83,  63,  80,   5,  97,  11,  94,  57,  98,  89,  84,\n",
              "        46,  83,  86,  71,  12,  27,  90,  28,  86,  61,   3,  84,  49,\n",
              "        29,   4,  95,  67,  18,  44,  75,  48,  98,  44,  21,  22,  78,\n",
              "        25,  63,  40,  18,  68,   7,  66,  73,  85,  70,  62,  37,  77,\n",
              "        37,  71,  79,  21,  58,  19,  66,  71,  87,  35,  83,  96,  38,\n",
              "        59,  95,  90,  18,  62,  25,   4,  43,  52,  17,  21,  64,  52,\n",
              "        64,  98,  85,  27,  96,  90,  78,  79,  43,  46,  36,  79,   5,\n",
              "        41,  69,  87,  58,  81,  29,  21,  85,  22,  48,  56,  13,   6,\n",
              "        52,  31,  68,  65,  99,  40,  28,  79,  73,   3,  67,  27,  31,\n",
              "        74,  15,  49,  51,  17,  16,  21,  31,  16,  85,  28,  85,  62,\n",
              "        72,  52,  20,  92,  63,   2,  13,  77,  81,   6,  83,  14,  39,\n",
              "        24,  38,  77,  31,  13,   6,  76,  33,  43,  87,  74,  70,  41,\n",
              "        76,  47,   1,  23,  16,  18,   3,  74,   3,  55,  36,  79,  72,\n",
              "        92,   3,  39,  73,  28,  63,  46,  21,  86,  38,  85,  21,  22,\n",
              "        23,  32,   4,  73,  63,  91,  23,  48,  98,  54,  84,  60,   7,\n",
              "        90,  38,  17, 100,  47,   6,  48,  47,  49,  27,  71,  97,   9,\n",
              "        12,  25,  85,  91,  64,  87,  83,  60,  28,  65,  74,  93,  92,\n",
              "        86,  33,  37,  81,   3,  90,  21,  36,  42,  52,  43, 100,   1,\n",
              "        18,  81,  86,   1,  99,  62,  71,  46,  21,  63,  59,  78,  88,\n",
              "         7,  93,  12,  16,  20,  22,  51,   6,  88,  79,  15,  97,  79,\n",
              "        10,  43,   6,  98,  96,  50,  56,  97,  74,  86,  42,  43,  74,\n",
              "        20,  50,  75,  41,  57,  65,  82,  37,  76,  44,  27,  14,  98,\n",
              "        23,  98,   8,  37,  78,  66,  55,  54,  44,  71,  75,  39,  16,\n",
              "        91,  43,  56,  54,   4,  92,  15,  53,  55,   6,  77,  57,  41,\n",
              "        80,   5,  85,  38,  63,  71,  15,  65,  85,  15,  26,   9,   4,\n",
              "        20,  23,  92,  39,  80,  99,  61,  59,  16,  53,  21,  82,   4,\n",
              "         5,  31,  60,  40,  89,  39,  55,  77,  77,  54,  96,   1,  44,\n",
              "        54,  97,  56,  28,   6,  93,  34,  68,   4,  99,  30,  38,  97,\n",
              "        19,  24,  99, 100,  26,   2,  92, 100,   4,  14,  95,  21,  16,\n",
              "        97,  56,  12,  65,  28,  79,  19,  24,  91,  64,  49,  26,  53,\n",
              "        39,  35,  40,  89,  14,  22,  37,  52,  11, 100,  61,  73,  67,\n",
              "        13,  31,   9,  60,  47,  32,  36,  84,  37,  50,  15,  65,  41,\n",
              "        68,  54,  40,  78,  47,  21,   3,   1,  81,  28,   7,  45,  73,\n",
              "        83,  10,  14,  34,  83,  55,  88,  81,  40,  26,  92,  96,  53,\n",
              "        41,  36,  23,  17,  15,  32,  87,  75,  76,   1,  10,  18,  66,\n",
              "        80,  91,  68,  87, 100,  89,  38,   4,  34,  19,  49,  43,  27,\n",
              "        47,  54,  62,  72,  80, 100,  62,  89,  83,  88,   5,  37,  25,\n",
              "        31,   7, 100,  91,  21,  76,  19,  56,  15,  98,  57,  26,  63,\n",
              "        58,   1,  61,  29,  85,  91,   7,  49,  72,  75,  41,  99,  41,\n",
              "        17,  55,  24,  96,  40,  94,  62,  30,  79,  84,  60,  61,  80,\n",
              "        86,  89,  99,  77,  92,  64,  73,  85,  93,  25,  44,  34,  22,\n",
              "        41,  73,  30,  68,  73,  57,  90,   7,  70,  20,  14,  17,  48,\n",
              "        74,  16,  59,  72,  59,   8,  31,  80,  23,  98,   9,  25,  81,\n",
              "        50,  41,  97,  91,  33,  58,  59,  78,  10,  34,  53,  91,  18,\n",
              "        21,  23,  21,  83,  40,   6,  15,  17,  77,  97,  88,  82,  75,\n",
              "        50,  18,  22,   9,  43,  87,  75,   4,  85,  15,  93,  95,  17,\n",
              "        21,  71,   8,  40,  42,  13,  73,   2,  46,  23,  38,  97,  46,\n",
              "        95,  49,  88,  11,  30,  80,  64,  63,  14,  45,  17,  75,  55,\n",
              "        15,  33,  88,  10,  31,  74,  17,  67,  65,  44,  36,  15,  84,\n",
              "        43,  49,  83,  86,  99,  53,  60,  32,  60,  48,  67,  87,  46,\n",
              "        63,  99,  72,  97,  28,   4,  52,   3,  52,  13,  12,  78,  72,\n",
              "        35,  53,  14,  55,   2,  80,  62,  68,  95,  99,  11,  30,  25,\n",
              "        39,  82,  89,  51,  58,  69,  18,  73,  94,  45,  77,  80,   3,\n",
              "        53,  44,  87,  90,  35,  49,  97,  76,   3,  87,  41,  33,  48,\n",
              "         6,  93,   8,  43,  41,  36,  62,  26,  56,  16,  83,  70,  62,\n",
              "        44,  11,  98,  35,   4,  43,  90,  50,  86,  70,  82,  37,  56,\n",
              "        30,  73,  85,  39,  94,  14,  68,  33,  12,  70,  68,   7,  34,\n",
              "        57,   4,  50,  10,  18,  91,  95,  23,  28,  20,  66,   1,  78,\n",
              "        88,  85,  56,  48,   3,  47,  73,  40, 100,   8,  80,   9])"
            ]
          },
          "metadata": {},
          "execution_count": 135
        }
      ]
    },
    {
      "cell_type": "code",
      "source": [
        "histout = plt.hist(x) # plot histogram"
      ],
      "metadata": {
        "id": "M2MXPZUIG0Eb",
        "outputId": "b9e26b95-74b2-48e0-d8f3-d86a8a0b9290",
        "colab": {
          "base_uri": "https://localhost:8080/",
          "height": 0
        }
      },
      "execution_count": 136,
      "outputs": [
        {
          "output_type": "display_data",
          "data": {
            "text/plain": [
              "<Figure size 432x288 with 1 Axes>"
            ],
            "image/png": "[encoded data removed]"
          },
          "metadata": {
            "needs_background": "light"
          }
        }
      ]
    },
    {
      "cell_type": "code",
      "source": [
        "histout  # ดูตำเเหน่ง"
      ],
      "metadata": {
        "id": "dYMzsOv-G1ti",
        "outputId": "7876d208-3626-406e-c03e-de30c5ab1bab",
        "colab": {
          "base_uri": "https://localhost:8080/"
        }
      },
      "execution_count": 137,
      "outputs": [
        {
          "output_type": "execute_result",
          "data": {
            "text/plain": [
              "(array([ 99., 101.,  97.,  92.,  99.,  89.,  91., 105., 115., 112.]),\n",
              " array([  1. ,  10.9,  20.8,  30.7,  40.6,  50.5,  60.4,  70.3,  80.2,\n",
              "         90.1, 100. ]),\n",
              " <a list of 10 Patch objects>)"
            ]
          },
          "metadata": {},
          "execution_count": 137
        }
      ]
    },
    {
      "cell_type": "code",
      "source": [
        "histout[0]  # กล่อง 1  เลขไหนที่ อยู่ระหว่าง 99-101 จะโยนมากล่องที่ 1"
      ],
      "metadata": {
        "id": "WTiYBIf-G27_",
        "outputId": "299bae8f-94a5-4c06-f0c5-8d8addc12686",
        "colab": {
          "base_uri": "https://localhost:8080/"
        }
      },
      "execution_count": 138,
      "outputs": [
        {
          "output_type": "execute_result",
          "data": {
            "text/plain": [
              "array([ 99., 101.,  97.,  92.,  99.,  89.,  91., 105., 115., 112.])"
            ]
          },
          "metadata": {},
          "execution_count": 138
        }
      ]
    },
    {
      "cell_type": "code",
      "source": [
        "histout[1] # กล่อง 2  เลขไหนที่ อยู่ระหว่าง 1-10.9 จะโยนมากล่องที่ 2"
      ],
      "metadata": {
        "id": "pmNgSMAsG5jo",
        "outputId": "ce42a141-f45b-47f7-9aa5-275d8b0ea7eb",
        "colab": {
          "base_uri": "https://localhost:8080/"
        }
      },
      "execution_count": 139,
      "outputs": [
        {
          "output_type": "execute_result",
          "data": {
            "text/plain": [
              "array([  1. ,  10.9,  20.8,  30.7,  40.6,  50.5,  60.4,  70.3,  80.2,\n",
              "        90.1, 100. ])"
            ]
          },
          "metadata": {},
          "execution_count": 139
        }
      ]
    },
    {
      "cell_type": "markdown",
      "source": [
        "# Treemaps"
      ],
      "metadata": {
        "id": "a8jdLHJ67kLs"
      }
    },
    {
      "cell_type": "markdown",
      "source": [
        "เอาไว้เปรียบเทียบปริมาณ"
      ],
      "metadata": {
        "id": "WGaLP4Ob7-L3"
      }
    },
    {
      "cell_type": "markdown",
      "source": [
        "https://www.analyticsvidhya.com/blog/2021/06/build-treemaps-in-python-using-squarify/\n"
      ],
      "metadata": {
        "id": "unF771vm77kV"
      }
    },
    {
      "cell_type": "code",
      "source": [
        "!pip install squarify # Install package "
      ],
      "metadata": {
        "id": "rV5rJvY08JM4",
        "outputId": "c4b87231-2188-4807-c493-d7e034e60521",
        "colab": {
          "base_uri": "https://localhost:8080/"
        }
      },
      "execution_count": 140,
      "outputs": [
        {
          "output_type": "stream",
          "name": "stdout",
          "text": [
            "Requirement already satisfied: squarify in /usr/local/lib/python3.7/dist-packages (0.4.3)\n"
          ]
        }
      ]
    },
    {
      "cell_type": "code",
      "source": [
        "import matplotlib.pyplot as plt\n",
        "import squarify # import package squarify"
      ],
      "metadata": {
        "id": "GEqVYpdoHAvh"
      },
      "execution_count": 141,
      "outputs": []
    },
    {
      "cell_type": "code",
      "source": [
        "data = [500, 250, 60, 120] # Creating Random Data"
      ],
      "metadata": {
        "id": "geKDH6pg8Z_9"
      },
      "execution_count": 142,
      "outputs": []
    },
    {
      "cell_type": "code",
      "source": [
        "squarify.plot(data)\n",
        "plt.axis('off') # axis = แกน, axis off จะเอาแกนออกหรือไม่แสดงแกน x กับ y\n",
        "# plot แบบนี้จะสุ่มสีไปเรื่อยๆ "
      ],
      "metadata": {
        "id": "rXwZl-Dh8hqv",
        "outputId": "8ab1078e-866a-4aaf-f238-6d09bce72c9d",
        "colab": {
          "base_uri": "https://localhost:8080/",
          "height": 0
        }
      },
      "execution_count": 143,
      "outputs": [
        {
          "output_type": "execute_result",
          "data": {
            "text/plain": [
              "(0.0, 100.0, 0.0, 100.0)"
            ]
          },
          "metadata": {},
          "execution_count": 143
        },
        {
          "output_type": "display_data",
          "data": {
            "text/plain": [
              "<Figure size 432x288 with 1 Axes>"
            ],
            "image/png": "[encoded data removed]"
          },
          "metadata": {
            "needs_background": "light"
          }
        }
      ]
    },
    {
      "cell_type": "markdown",
      "source": [
        "### ตั้งค่าสีที่ต้องการ "
      ],
      "metadata": {
        "id": "5cFjSZhM9RnP"
      }
    },
    {
      "cell_type": "code",
      "source": [
        "data = [500, 250, 60, 120] # Creating Random Data\n",
        "color = ['red', 'green', 'blue', 'orange'] # ตั้งค่าสีให้กับปริมาณแต่ละตัว\n",
        "squarify.plot(data,color=color)\n",
        "plt.axis('off') # axis = แกน, axis off จะเอาแกนออกหรือไม่แสดงแกน x กับ y"
      ],
      "metadata": {
        "id": "WwQSKusy8su_",
        "outputId": "f25f4a5a-3996-4094-bca3-296e9154f072",
        "colab": {
          "base_uri": "https://localhost:8080/",
          "height": 0
        }
      },
      "execution_count": 144,
      "outputs": [
        {
          "output_type": "execute_result",
          "data": {
            "text/plain": [
              "(0.0, 100.0, 0.0, 100.0)"
            ]
          },
          "metadata": {},
          "execution_count": 144
        },
        {
          "output_type": "display_data",
          "data": {
            "text/plain": [
              "<Figure size 432x288 with 1 Axes>"
            ],
            "image/png": "[encoded data removed]"
          },
          "metadata": {
            "needs_background": "light"
          }
        }
      ]
    },
    {
      "cell_type": "markdown",
      "source": [
        "### เพิ่มชื่อให้กับปริมาณแต่ละตัว"
      ],
      "metadata": {
        "id": "ZV6SmRbC9sF4"
      }
    },
    {
      "cell_type": "code",
      "source": [
        "labels = ['SCI', 'ENG', 'EDU', 'AGI'] # กำหนด labels สมมติให้เป็นจำนวนของนักศึกษามหาวิทยาลัยขอนแก่นคณะต่าง ๆ \n",
        "sizes = [500, 250, 120, 60] # จำนวนของนักศึกษามหาวิทยาลัยขอนแก่นคณะต่าง ๆ \n",
        "color = ['red', 'green', 'blue', 'orange'] # ตั้งค่าสีให้กับปริมาณแต่ละตัว\n",
        "squarify.plot(sizes,color=color, label = labels)\n",
        "plt.axis('off')"
      ],
      "metadata": {
        "id": "wGNAbDzH9h7f",
        "outputId": "94e0b1b5-650b-4aa5-8d44-bfee95c73b18",
        "colab": {
          "base_uri": "https://localhost:8080/",
          "height": 0
        }
      },
      "execution_count": 145,
      "outputs": [
        {
          "output_type": "execute_result",
          "data": {
            "text/plain": [
              "(0.0, 100.0, 0.0, 100.0)"
            ]
          },
          "metadata": {},
          "execution_count": 145
        },
        {
          "output_type": "display_data",
          "data": {
            "text/plain": [
              "<Figure size 432x288 with 1 Axes>"
            ],
            "image/png": "[encoded data removed]"
          },
          "metadata": {
            "needs_background": "light"
          }
        }
      ]
    },
    {
      "cell_type": "code",
      "source": [
        "labels = ['SCI', 'ENG', 'EDU', 'AGI'] # กำหนด labels สมมติให้เป็นจำนวนของนักศึกษามหาวิทยาลัยขอนแก่นคณะต่าง ๆ \n",
        "sizes = [500, 250, 120, 60] # จำนวนของนักศึกษามหาวิทยาลัยขอนแก่นคณะต่าง ๆ \n",
        "color = ['red', 'green', 'blue', 'orange'] # ตั้งค่าสีให้กับปริมาณแต่ละตัว\n",
        "squarify.plot(sizes,color=color, label = labels, pad = True) \n",
        "plt.axis('off')"
      ],
      "metadata": {
        "id": "DNnZ4bB8-e_k",
        "outputId": "dca74f57-7d6c-4ba0-fe38-d11738cd53c1",
        "colab": {
          "base_uri": "https://localhost:8080/",
          "height": 0
        }
      },
      "execution_count": 146,
      "outputs": [
        {
          "output_type": "execute_result",
          "data": {
            "text/plain": [
              "(0.0, 100.0, 0.0, 100.0)"
            ]
          },
          "metadata": {},
          "execution_count": 146
        },
        {
          "output_type": "display_data",
          "data": {
            "text/plain": [
              "<Figure size 432x288 with 1 Axes>"
            ],
            "image/png": "[encoded data removed]"
          },
          "metadata": {
            "needs_background": "light"
          }
        }
      ]
    },
    {
      "cell_type": "markdown",
      "source": [
        "# Group HW2\n",
        "plot tree map ของปริมาณผู้ติดเชื้อ covid-19 ของแต่ละจังหวัดในประเทศไทยในวันที่ 1-4 มีนาคม 2565"
      ],
      "metadata": {
        "id": "6mGMbsGU_Ghh"
      }
    },
    {
      "cell_type": "markdown",
      "source": [
        "### เตรียมข้อมูล"
      ],
      "metadata": {
        "id": "6ehjA4ct8NJS"
      }
    },
    {
      "cell_type": "markdown",
      "source": [
        "https://data.go.th/dataset/covid-19-daily"
      ],
      "metadata": {
        "id": "DJKx-RL2G0UW"
      }
    },
    {
      "cell_type": "code",
      "source": [
        "import pandas as pd    # pandas เป็น Package ที่ใช้เกี่ยวกับการจัดการข้อมูลที่เป็นตาราง , เรียกใช้โดยการ import แล้วตามด้วยชื่อ Package\n",
        "import os    # เป็น package ที่เอาไว้จัดการไฟล์และเอาไว้ดูที่มาของไฟล์หรือ path"
      ],
      "metadata": {
        "id": "Pexa7LpR-rAn"
      },
      "execution_count": 147,
      "outputs": []
    },
    {
      "cell_type": "code",
      "source": [
        "from google.colab import drive    # เชื่อมต่อกับ google drive ที่เราเก็บข้อมูลไว้\n",
        "drive.mount('/content/drive')\n",
        "path = '/content/drive/My Drive/dataviz_2021_data'    #ระบุให้ชี้ไปที่โฟลเดอร์ใน google drive ที่เราเซฟไฟล์ไว้ คือ dataviz_2021_data"
      ],
      "metadata": {
        "id": "ZvfdHjVz8RdF",
        "outputId": "175ca0a5-26ce-4a94-e50f-8e6d5c79f8e3",
        "colab": {
          "base_uri": "https://localhost:8080/"
        }
      },
      "execution_count": 148,
      "outputs": [
        {
          "output_type": "stream",
          "name": "stdout",
          "text": [
            "Drive already mounted at /content/drive; to attempt to forcibly remount, call drive.mount(\"/content/drive\", force_remount=True).\n"
          ]
        }
      ]
    },
    {
      "cell_type": "code",
      "source": [
        "data_file_path = os.path.join(path,'confirmed-cases-since-280265.csv')    # ไฟล์ที่เราต้องการ\n",
        "data = pd.read_csv(data_file_path)       # .read_csv อ่านไฟล์ที่เป็น csv"
      ],
      "metadata": {
        "id": "TRqABM068euL"
      },
      "execution_count": 149,
      "outputs": []
    },
    {
      "cell_type": "code",
      "source": [
        "data   # ดูหน้าตาข้อมูลว่าเป็นยังไง"
      ],
      "metadata": {
        "id": "gQf7yAhw8snd",
        "outputId": "778ff995-6b0c-4448-a703-1369199a5de4",
        "colab": {
          "base_uri": "https://localhost:8080/",
          "height": 423
        }
      },
      "execution_count": 150,
      "outputs": [
        {
          "output_type": "execute_result",
          "data": {
            "text/plain": [
              "            No. announce_date Notified date   sex   age Unit nationality  \\\n",
              "0       2869617     28/2/2022     27/2/2022   ชาย  41.0   ปี    Thailand   \n",
              "1       2869618     28/2/2022     27/2/2022  หญิง  45.0   ปี    Thailand   \n",
              "2       2869619     28/2/2022     27/2/2022  หญิง  40.0   ปี    Thailand   \n",
              "3       2869620     28/2/2022     27/2/2022   ชาย  44.0   ปี    Thailand   \n",
              "4       2869621     28/2/2022     27/2/2022   ชาย  11.0   ปี    Thailand   \n",
              "...         ...           ...           ...   ...   ...  ...         ...   \n",
              "357076  3226693     15/3/2022     14/3/2022   ชาย   NaN  NaN         NaN   \n",
              "357077  3226694     15/3/2022     14/3/2022   ชาย   NaN  NaN         NaN   \n",
              "357078  3226695     15/3/2022     14/3/2022   ชาย   NaN  NaN         NaN   \n",
              "357079  3226696     15/3/2022     14/3/2022   ชาย   NaN  NaN         NaN   \n",
              "357080  3226697     15/3/2022     14/3/2022  หญิง   NaN  NaN         NaN   \n",
              "\n",
              "       province_of_isolation                                         risk  \\\n",
              "0                      พะเยา  สัมผัสใกล้ชิดกับผู้ป่วยยืนยันรายก่อนหน้านี้   \n",
              "1                      พะเยา  สัมผัสใกล้ชิดกับผู้ป่วยยืนยันรายก่อนหน้านี้   \n",
              "2                      พะเยา  สัมผัสใกล้ชิดกับผู้ป่วยยืนยันรายก่อนหน้านี้   \n",
              "3                      พะเยา  สัมผัสใกล้ชิดกับผู้ป่วยยืนยันรายก่อนหน้านี้   \n",
              "4                      พะเยา  สัมผัสใกล้ชิดกับผู้ป่วยยืนยันรายก่อนหน้านี้   \n",
              "...                      ...                                          ...   \n",
              "357076            ปราจีนบุรี                             ทัณฑสถาน/เรือนจำ   \n",
              "357077            ปราจีนบุรี                             ทัณฑสถาน/เรือนจำ   \n",
              "357078            นครราชสีมา                             ทัณฑสถาน/เรือนจำ   \n",
              "357079            นครราชสีมา                             ทัณฑสถาน/เรือนจำ   \n",
              "357080               ขอนแก่น                             ทัณฑสถาน/เรือนจำ   \n",
              "\n",
              "       province_of_onset district_of_onset  \n",
              "0                  พะเยา        เมืองพะเยา  \n",
              "1                  พะเยา        เมืองพะเยา  \n",
              "2                  พะเยา        เมืองพะเยา  \n",
              "3                  พะเยา        เมืองพะเยา  \n",
              "4                  พะเยา        เมืองพะเยา  \n",
              "...                  ...               ...  \n",
              "357076               NaN               NaN  \n",
              "357077               NaN               NaN  \n",
              "357078               NaN               NaN  \n",
              "357079               NaN               NaN  \n",
              "357080               NaN               NaN  \n",
              "\n",
              "[357081 rows x 11 columns]"
            ],
            "text/html": [
              "\n",
              "  <div id=\"df-d36459ce-9b68-41d3-ba2c-f57f074163c7\">\n",
              "    <div class=\"colab-df-container\">\n",
              "      <div>\n",
              "<style scoped>\n",
              "    .dataframe tbody tr th:only-of-type {\n",
              "        vertical-align: middle;\n",
              "    }\n",
              "\n",
              "    .dataframe tbody tr th {\n",
              "        vertical-align: top;\n",
              "    }\n",
              "\n",
              "    .dataframe thead th {\n",
              "        text-align: right;\n",
              "    }\n",
              "</style>\n",
              "<table border=\"1\" class=\"dataframe\">\n",
              "  <thead>\n",
              "    <tr style=\"text-align: right;\">\n",
              "      <th></th>\n",
              "      <th>No.</th>\n",
              "      <th>announce_date</th>\n",
              "      <th>Notified date</th>\n",
              "      <th>sex</th>\n",
              "      <th>age</th>\n",
              "      <th>Unit</th>\n",
              "      <th>nationality</th>\n",
              "      <th>province_of_isolation</th>\n",
              "      <th>risk</th>\n",
              "      <th>province_of_onset</th>\n",
              "      <th>district_of_onset</th>\n",
              "    </tr>\n",
              "  </thead>\n",
              "  <tbody>\n",
              "    <tr>\n",
              "      <th>0</th>\n",
              "      <td>2869617</td>\n",
              "      <td>28/2/2022</td>\n",
              "      <td>27/2/2022</td>\n",
              "      <td>ชาย</td>\n",
              "      <td>41.0</td>\n",
              "      <td>ปี</td>\n",
              "      <td>Thailand</td>\n",
              "      <td>พะเยา</td>\n",
              "      <td>สัมผัสใกล้ชิดกับผู้ป่วยยืนยันรายก่อนหน้านี้</td>\n",
              "      <td>พะเยา</td>\n",
              "      <td>เมืองพะเยา</td>\n",
              "    </tr>\n",
              "    <tr>\n",
              "      <th>1</th>\n",
              "      <td>2869618</td>\n",
              "      <td>28/2/2022</td>\n",
              "      <td>27/2/2022</td>\n",
              "      <td>หญิง</td>\n",
              "      <td>45.0</td>\n",
              "      <td>ปี</td>\n",
              "      <td>Thailand</td>\n",
              "      <td>พะเยา</td>\n",
              "      <td>สัมผัสใกล้ชิดกับผู้ป่วยยืนยันรายก่อนหน้านี้</td>\n",
              "      <td>พะเยา</td>\n",
              "      <td>เมืองพะเยา</td>\n",
              "    </tr>\n",
              "    <tr>\n",
              "      <th>2</th>\n",
              "      <td>2869619</td>\n",
              "      <td>28/2/2022</td>\n",
              "      <td>27/2/2022</td>\n",
              "      <td>หญิง</td>\n",
              "      <td>40.0</td>\n",
              "      <td>ปี</td>\n",
              "      <td>Thailand</td>\n",
              "      <td>พะเยา</td>\n",
              "      <td>สัมผัสใกล้ชิดกับผู้ป่วยยืนยันรายก่อนหน้านี้</td>\n",
              "      <td>พะเยา</td>\n",
              "      <td>เมืองพะเยา</td>\n",
              "    </tr>\n",
              "    <tr>\n",
              "      <th>3</th>\n",
              "      <td>2869620</td>\n",
              "      <td>28/2/2022</td>\n",
              "      <td>27/2/2022</td>\n",
              "      <td>ชาย</td>\n",
              "      <td>44.0</td>\n",
              "      <td>ปี</td>\n",
              "      <td>Thailand</td>\n",
              "      <td>พะเยา</td>\n",
              "      <td>สัมผัสใกล้ชิดกับผู้ป่วยยืนยันรายก่อนหน้านี้</td>\n",
              "      <td>พะเยา</td>\n",
              "      <td>เมืองพะเยา</td>\n",
              "    </tr>\n",
              "    <tr>\n",
              "      <th>4</th>\n",
              "      <td>2869621</td>\n",
              "      <td>28/2/2022</td>\n",
              "      <td>27/2/2022</td>\n",
              "      <td>ชาย</td>\n",
              "      <td>11.0</td>\n",
              "      <td>ปี</td>\n",
              "      <td>Thailand</td>\n",
              "      <td>พะเยา</td>\n",
              "      <td>สัมผัสใกล้ชิดกับผู้ป่วยยืนยันรายก่อนหน้านี้</td>\n",
              "      <td>พะเยา</td>\n",
              "      <td>เมืองพะเยา</td>\n",
              "    </tr>\n",
              "    <tr>\n",
              "      <th>...</th>\n",
              "      <td>...</td>\n",
              "      <td>...</td>\n",
              "      <td>...</td>\n",
              "      <td>...</td>\n",
              "      <td>...</td>\n",
              "      <td>...</td>\n",
              "      <td>...</td>\n",
              "      <td>...</td>\n",
              "      <td>...</td>\n",
              "      <td>...</td>\n",
              "      <td>...</td>\n",
              "    </tr>\n",
              "    <tr>\n",
              "      <th>357076</th>\n",
              "      <td>3226693</td>\n",
              "      <td>15/3/2022</td>\n",
              "      <td>14/3/2022</td>\n",
              "      <td>ชาย</td>\n",
              "      <td>NaN</td>\n",
              "      <td>NaN</td>\n",
              "      <td>NaN</td>\n",
              "      <td>ปราจีนบุรี</td>\n",
              "      <td>ทัณฑสถาน/เรือนจำ</td>\n",
              "      <td>NaN</td>\n",
              "      <td>NaN</td>\n",
              "    </tr>\n",
              "    <tr>\n",
              "      <th>357077</th>\n",
              "      <td>3226694</td>\n",
              "      <td>15/3/2022</td>\n",
              "      <td>14/3/2022</td>\n",
              "      <td>ชาย</td>\n",
              "      <td>NaN</td>\n",
              "      <td>NaN</td>\n",
              "      <td>NaN</td>\n",
              "      <td>ปราจีนบุรี</td>\n",
              "      <td>ทัณฑสถาน/เรือนจำ</td>\n",
              "      <td>NaN</td>\n",
              "      <td>NaN</td>\n",
              "    </tr>\n",
              "    <tr>\n",
              "      <th>357078</th>\n",
              "      <td>3226695</td>\n",
              "      <td>15/3/2022</td>\n",
              "      <td>14/3/2022</td>\n",
              "      <td>ชาย</td>\n",
              "      <td>NaN</td>\n",
              "      <td>NaN</td>\n",
              "      <td>NaN</td>\n",
              "      <td>นครราชสีมา</td>\n",
              "      <td>ทัณฑสถาน/เรือนจำ</td>\n",
              "      <td>NaN</td>\n",
              "      <td>NaN</td>\n",
              "    </tr>\n",
              "    <tr>\n",
              "      <th>357079</th>\n",
              "      <td>3226696</td>\n",
              "      <td>15/3/2022</td>\n",
              "      <td>14/3/2022</td>\n",
              "      <td>ชาย</td>\n",
              "      <td>NaN</td>\n",
              "      <td>NaN</td>\n",
              "      <td>NaN</td>\n",
              "      <td>นครราชสีมา</td>\n",
              "      <td>ทัณฑสถาน/เรือนจำ</td>\n",
              "      <td>NaN</td>\n",
              "      <td>NaN</td>\n",
              "    </tr>\n",
              "    <tr>\n",
              "      <th>357080</th>\n",
              "      <td>3226697</td>\n",
              "      <td>15/3/2022</td>\n",
              "      <td>14/3/2022</td>\n",
              "      <td>หญิง</td>\n",
              "      <td>NaN</td>\n",
              "      <td>NaN</td>\n",
              "      <td>NaN</td>\n",
              "      <td>ขอนแก่น</td>\n",
              "      <td>ทัณฑสถาน/เรือนจำ</td>\n",
              "      <td>NaN</td>\n",
              "      <td>NaN</td>\n",
              "    </tr>\n",
              "  </tbody>\n",
              "</table>\n",
              "<p>357081 rows × 11 columns</p>\n",
              "</div>\n",
              "      <button class=\"colab-df-convert\" onclick=\"convertToInteractive('df-d36459ce-9b68-41d3-ba2c-f57f074163c7')\"\n",
              "              title=\"Convert this dataframe to an interactive table.\"\n",
              "              style=\"display:none;\">\n",
              "        \n",
              "  <svg xmlns=\"http://www.w3.org/2000/svg\" height=\"24px\"viewBox=\"0 0 24 24\"\n",
              "       width=\"24px\">\n",
              "    <path d=\"M0 0h24v24H0V0z\" fill=\"none\"/>\n",
              "    <path d=\"M18.56 5.44l.94 2.06.94-2.06 2.06-.94-2.06-.94-.94-2.06-.94 2.06-2.06.94zm-11 1L8.5 8.5l.94-2.06 2.06-.94-2.06-.94L8.5 2.5l-.94 2.06-2.06.94zm10 10l.94 2.06.94-2.06 2.06-.94-2.06-.94-.94-2.06-.94 2.06-2.06.94z\"/><path d=\"M17.41 7.96l-1.37-1.37c-.4-.4-.92-.59-1.43-.59-.52 0-1.04.2-1.43.59L10.3 9.45l-7.72 7.72c-.78.78-.78 2.05 0 2.83L4 21.41c.39.39.9.59 1.41.59.51 0 1.02-.2 1.41-.59l7.78-7.78 2.81-2.81c.8-.78.8-2.07 0-2.86zM5.41 20L4 18.59l7.72-7.72 1.47 1.35L5.41 20z\"/>\n",
              "  </svg>\n",
              "      </button>\n",
              "      \n",
              "  <style>\n",
              "    .colab-df-container {\n",
              "      display:flex;\n",
              "      flex-wrap:wrap;\n",
              "      gap: 12px;\n",
              "    }\n",
              "\n",
              "    .colab-df-convert {\n",
              "      background-color: #E8F0FE;\n",
              "      border: none;\n",
              "      border-radius: 50%;\n",
              "      cursor: pointer;\n",
              "      display: none;\n",
              "      fill: #1967D2;\n",
              "      height: 32px;\n",
              "      padding: 0 0 0 0;\n",
              "      width: 32px;\n",
              "    }\n",
              "\n",
              "    .colab-df-convert:hover {\n",
              "      background-color: #E2EBFA;\n",
              "      box-shadow: 0px 1px 2px rgba(60, 64, 67, 0.3), 0px 1px 3px 1px rgba(60, 64, 67, 0.15);\n",
              "      fill: #174EA6;\n",
              "    }\n",
              "\n",
              "    [theme=dark] .colab-df-convert {\n",
              "      background-color: #3B4455;\n",
              "      fill: #D2E3FC;\n",
              "    }\n",
              "\n",
              "    [theme=dark] .colab-df-convert:hover {\n",
              "      background-color: #434B5C;\n",
              "      box-shadow: 0px 1px 3px 1px rgba(0, 0, 0, 0.15);\n",
              "      filter: drop-shadow(0px 1px 2px rgba(0, 0, 0, 0.3));\n",
              "      fill: #FFFFFF;\n",
              "    }\n",
              "  </style>\n",
              "\n",
              "      <script>\n",
              "        const buttonEl =\n",
              "          document.querySelector('#df-d36459ce-9b68-41d3-ba2c-f57f074163c7 button.colab-df-convert');\n",
              "        buttonEl.style.display =\n",
              "          google.colab.kernel.accessAllowed ? 'block' : 'none';\n",
              "\n",
              "        async function convertToInteractive(key) {\n",
              "          const element = document.querySelector('#df-d36459ce-9b68-41d3-ba2c-f57f074163c7');\n",
              "          const dataTable =\n",
              "            await google.colab.kernel.invokeFunction('convertToInteractive',\n",
              "                                                     [key], {});\n",
              "          if (!dataTable) return;\n",
              "\n",
              "          const docLinkHtml = 'Like what you see? Visit the ' +\n",
              "            '<a target=\"_blank\" href=https://colab.research.google.com/notebooks/data_table.ipynb>data table notebook</a>'\n",
              "            + ' to learn more about interactive tables.';\n",
              "          element.innerHTML = '';\n",
              "          dataTable['output_type'] = 'display_data';\n",
              "          await google.colab.output.renderOutput(dataTable, element);\n",
              "          const docLink = document.createElement('div');\n",
              "          docLink.innerHTML = docLinkHtml;\n",
              "          element.appendChild(docLink);\n",
              "        }\n",
              "      </script>\n",
              "    </div>\n",
              "  </div>\n",
              "  "
            ]
          },
          "metadata": {},
          "execution_count": 150
        }
      ]
    },
    {
      "cell_type": "code",
      "source": [
        "data.shape  #ดูขนาดของข้อมูล"
      ],
      "metadata": {
        "id": "V6KY1GKW82NQ",
        "outputId": "f7766409-8081-4ec3-eeeb-05d3418e3942",
        "colab": {
          "base_uri": "https://localhost:8080/"
        }
      },
      "execution_count": 151,
      "outputs": [
        {
          "output_type": "execute_result",
          "data": {
            "text/plain": [
              "(357081, 11)"
            ]
          },
          "metadata": {},
          "execution_count": 151
        }
      ]
    },
    {
      "cell_type": "markdown",
      "source": [
        "### ตรวจสอบค่าใน column"
      ],
      "metadata": {
        "id": "34SoJQLV89wZ"
      }
    },
    {
      "cell_type": "markdown",
      "source": [
        "#### ตรวจสอบค่า missing ของตาราง data"
      ],
      "metadata": {
        "id": "c5u9foc59CN_"
      }
    },
    {
      "cell_type": "code",
      "source": [
        "data.isnull().any()   #ดูว่าคอลัมน์ไหนมีค่า missing บ้าง"
      ],
      "metadata": {
        "id": "y72Hizj989Ve",
        "outputId": "723997d1-ebe3-4e12-f1ba-9315a459df4a",
        "colab": {
          "base_uri": "https://localhost:8080/"
        }
      },
      "execution_count": 152,
      "outputs": [
        {
          "output_type": "execute_result",
          "data": {
            "text/plain": [
              "No.                      False\n",
              "announce_date            False\n",
              "Notified date            False\n",
              "sex                       True\n",
              "age                       True\n",
              "Unit                      True\n",
              "nationality               True\n",
              "province_of_isolation    False\n",
              "risk                      True\n",
              "province_of_onset         True\n",
              "district_of_onset         True\n",
              "dtype: bool"
            ]
          },
          "metadata": {},
          "execution_count": 152
        }
      ]
    },
    {
      "cell_type": "code",
      "source": [
        "data_dropped = data.dropna() #.dropna() ลบข้อมูลที่เป็นค่า NaN ออก\n",
        "data_dropped "
      ],
      "metadata": {
        "id": "AG5FTVB085Rg",
        "outputId": "b31e3981-2eb4-4772-eb8d-9761a5c85d05",
        "colab": {
          "base_uri": "https://localhost:8080/",
          "height": 423
        }
      },
      "execution_count": 153,
      "outputs": [
        {
          "output_type": "execute_result",
          "data": {
            "text/plain": [
              "            No. announce_date Notified date   sex   age Unit nationality  \\\n",
              "0       2869617     28/2/2022     27/2/2022   ชาย  41.0   ปี    Thailand   \n",
              "1       2869618     28/2/2022     27/2/2022  หญิง  45.0   ปี    Thailand   \n",
              "2       2869619     28/2/2022     27/2/2022  หญิง  40.0   ปี    Thailand   \n",
              "3       2869620     28/2/2022     27/2/2022   ชาย  44.0   ปี    Thailand   \n",
              "4       2869621     28/2/2022     27/2/2022   ชาย  11.0   ปี    Thailand   \n",
              "...         ...           ...           ...   ...   ...  ...         ...   \n",
              "357022  3226639     15/3/2022     14/3/2022  หญิง  66.0   ปี    Thailand   \n",
              "357023  3226640     15/3/2022     14/3/2022  หญิง  49.0   ปี    Thailand   \n",
              "357024  3226641     15/3/2022     14/3/2022  หญิง  19.0   ปี    Thailand   \n",
              "357025  3226642     15/3/2022     14/3/2022   ชาย  66.0   ปี    Thailand   \n",
              "357026  3226643     15/3/2022     14/3/2022   ชาย  46.0   ปี    Thailand   \n",
              "\n",
              "       province_of_isolation                                         risk  \\\n",
              "0                      พะเยา  สัมผัสใกล้ชิดกับผู้ป่วยยืนยันรายก่อนหน้านี้   \n",
              "1                      พะเยา  สัมผัสใกล้ชิดกับผู้ป่วยยืนยันรายก่อนหน้านี้   \n",
              "2                      พะเยา  สัมผัสใกล้ชิดกับผู้ป่วยยืนยันรายก่อนหน้านี้   \n",
              "3                      พะเยา  สัมผัสใกล้ชิดกับผู้ป่วยยืนยันรายก่อนหน้านี้   \n",
              "4                      พะเยา  สัมผัสใกล้ชิดกับผู้ป่วยยืนยันรายก่อนหน้านี้   \n",
              "...                      ...                                          ...   \n",
              "357022         กรุงเทพมหานคร                                        อื่นๆ   \n",
              "357023         กรุงเทพมหานคร                                        อื่นๆ   \n",
              "357024         กรุงเทพมหานคร                                        อื่นๆ   \n",
              "357025         กรุงเทพมหานคร                                        อื่นๆ   \n",
              "357026         กรุงเทพมหานคร                                        อื่นๆ   \n",
              "\n",
              "       province_of_onset district_of_onset  \n",
              "0                  พะเยา        เมืองพะเยา  \n",
              "1                  พะเยา        เมืองพะเยา  \n",
              "2                  พะเยา        เมืองพะเยา  \n",
              "3                  พะเยา        เมืองพะเยา  \n",
              "4                  พะเยา        เมืองพะเยา  \n",
              "...                  ...               ...  \n",
              "357022     กรุงเทพมหานคร          ห้วยขวาง  \n",
              "357023     กรุงเทพมหานคร          ห้วยขวาง  \n",
              "357024     กรุงเทพมหานคร           ราชเทวี  \n",
              "357025     กรุงเทพมหานคร          ลาดพร้าว  \n",
              "357026     กรุงเทพมหานคร          ห้วยขวาง  \n",
              "\n",
              "[272319 rows x 11 columns]"
            ],
            "text/html": [
              "\n",
              "  <div id=\"df-aa766d3d-f5fe-4187-a399-0921a6a8e352\">\n",
              "    <div class=\"colab-df-container\">\n",
              "      <div>\n",
              "<style scoped>\n",
              "    .dataframe tbody tr th:only-of-type {\n",
              "        vertical-align: middle;\n",
              "    }\n",
              "\n",
              "    .dataframe tbody tr th {\n",
              "        vertical-align: top;\n",
              "    }\n",
              "\n",
              "    .dataframe thead th {\n",
              "        text-align: right;\n",
              "    }\n",
              "</style>\n",
              "<table border=\"1\" class=\"dataframe\">\n",
              "  <thead>\n",
              "    <tr style=\"text-align: right;\">\n",
              "      <th></th>\n",
              "      <th>No.</th>\n",
              "      <th>announce_date</th>\n",
              "      <th>Notified date</th>\n",
              "      <th>sex</th>\n",
              "      <th>age</th>\n",
              "      <th>Unit</th>\n",
              "      <th>nationality</th>\n",
              "      <th>province_of_isolation</th>\n",
              "      <th>risk</th>\n",
              "      <th>province_of_onset</th>\n",
              "      <th>district_of_onset</th>\n",
              "    </tr>\n",
              "  </thead>\n",
              "  <tbody>\n",
              "    <tr>\n",
              "      <th>0</th>\n",
              "      <td>2869617</td>\n",
              "      <td>28/2/2022</td>\n",
              "      <td>27/2/2022</td>\n",
              "      <td>ชาย</td>\n",
              "      <td>41.0</td>\n",
              "      <td>ปี</td>\n",
              "      <td>Thailand</td>\n",
              "      <td>พะเยา</td>\n",
              "      <td>สัมผัสใกล้ชิดกับผู้ป่วยยืนยันรายก่อนหน้านี้</td>\n",
              "      <td>พะเยา</td>\n",
              "      <td>เมืองพะเยา</td>\n",
              "    </tr>\n",
              "    <tr>\n",
              "      <th>1</th>\n",
              "      <td>2869618</td>\n",
              "      <td>28/2/2022</td>\n",
              "      <td>27/2/2022</td>\n",
              "      <td>หญิง</td>\n",
              "      <td>45.0</td>\n",
              "      <td>ปี</td>\n",
              "      <td>Thailand</td>\n",
              "      <td>พะเยา</td>\n",
              "      <td>สัมผัสใกล้ชิดกับผู้ป่วยยืนยันรายก่อนหน้านี้</td>\n",
              "      <td>พะเยา</td>\n",
              "      <td>เมืองพะเยา</td>\n",
              "    </tr>\n",
              "    <tr>\n",
              "      <th>2</th>\n",
              "      <td>2869619</td>\n",
              "      <td>28/2/2022</td>\n",
              "      <td>27/2/2022</td>\n",
              "      <td>หญิง</td>\n",
              "      <td>40.0</td>\n",
              "      <td>ปี</td>\n",
              "      <td>Thailand</td>\n",
              "      <td>พะเยา</td>\n",
              "      <td>สัมผัสใกล้ชิดกับผู้ป่วยยืนยันรายก่อนหน้านี้</td>\n",
              "      <td>พะเยา</td>\n",
              "      <td>เมืองพะเยา</td>\n",
              "    </tr>\n",
              "    <tr>\n",
              "      <th>3</th>\n",
              "      <td>2869620</td>\n",
              "      <td>28/2/2022</td>\n",
              "      <td>27/2/2022</td>\n",
              "      <td>ชาย</td>\n",
              "      <td>44.0</td>\n",
              "      <td>ปี</td>\n",
              "      <td>Thailand</td>\n",
              "      <td>พะเยา</td>\n",
              "      <td>สัมผัสใกล้ชิดกับผู้ป่วยยืนยันรายก่อนหน้านี้</td>\n",
              "      <td>พะเยา</td>\n",
              "      <td>เมืองพะเยา</td>\n",
              "    </tr>\n",
              "    <tr>\n",
              "      <th>4</th>\n",
              "      <td>2869621</td>\n",
              "      <td>28/2/2022</td>\n",
              "      <td>27/2/2022</td>\n",
              "      <td>ชาย</td>\n",
              "      <td>11.0</td>\n",
              "      <td>ปี</td>\n",
              "      <td>Thailand</td>\n",
              "      <td>พะเยา</td>\n",
              "      <td>สัมผัสใกล้ชิดกับผู้ป่วยยืนยันรายก่อนหน้านี้</td>\n",
              "      <td>พะเยา</td>\n",
              "      <td>เมืองพะเยา</td>\n",
              "    </tr>\n",
              "    <tr>\n",
              "      <th>...</th>\n",
              "      <td>...</td>\n",
              "      <td>...</td>\n",
              "      <td>...</td>\n",
              "      <td>...</td>\n",
              "      <td>...</td>\n",
              "      <td>...</td>\n",
              "      <td>...</td>\n",
              "      <td>...</td>\n",
              "      <td>...</td>\n",
              "      <td>...</td>\n",
              "      <td>...</td>\n",
              "    </tr>\n",
              "    <tr>\n",
              "      <th>357022</th>\n",
              "      <td>3226639</td>\n",
              "      <td>15/3/2022</td>\n",
              "      <td>14/3/2022</td>\n",
              "      <td>หญิง</td>\n",
              "      <td>66.0</td>\n",
              "      <td>ปี</td>\n",
              "      <td>Thailand</td>\n",
              "      <td>กรุงเทพมหานคร</td>\n",
              "      <td>อื่นๆ</td>\n",
              "      <td>กรุงเทพมหานคร</td>\n",
              "      <td>ห้วยขวาง</td>\n",
              "    </tr>\n",
              "    <tr>\n",
              "      <th>357023</th>\n",
              "      <td>3226640</td>\n",
              "      <td>15/3/2022</td>\n",
              "      <td>14/3/2022</td>\n",
              "      <td>หญิง</td>\n",
              "      <td>49.0</td>\n",
              "      <td>ปี</td>\n",
              "      <td>Thailand</td>\n",
              "      <td>กรุงเทพมหานคร</td>\n",
              "      <td>อื่นๆ</td>\n",
              "      <td>กรุงเทพมหานคร</td>\n",
              "      <td>ห้วยขวาง</td>\n",
              "    </tr>\n",
              "    <tr>\n",
              "      <th>357024</th>\n",
              "      <td>3226641</td>\n",
              "      <td>15/3/2022</td>\n",
              "      <td>14/3/2022</td>\n",
              "      <td>หญิง</td>\n",
              "      <td>19.0</td>\n",
              "      <td>ปี</td>\n",
              "      <td>Thailand</td>\n",
              "      <td>กรุงเทพมหานคร</td>\n",
              "      <td>อื่นๆ</td>\n",
              "      <td>กรุงเทพมหานคร</td>\n",
              "      <td>ราชเทวี</td>\n",
              "    </tr>\n",
              "    <tr>\n",
              "      <th>357025</th>\n",
              "      <td>3226642</td>\n",
              "      <td>15/3/2022</td>\n",
              "      <td>14/3/2022</td>\n",
              "      <td>ชาย</td>\n",
              "      <td>66.0</td>\n",
              "      <td>ปี</td>\n",
              "      <td>Thailand</td>\n",
              "      <td>กรุงเทพมหานคร</td>\n",
              "      <td>อื่นๆ</td>\n",
              "      <td>กรุงเทพมหานคร</td>\n",
              "      <td>ลาดพร้าว</td>\n",
              "    </tr>\n",
              "    <tr>\n",
              "      <th>357026</th>\n",
              "      <td>3226643</td>\n",
              "      <td>15/3/2022</td>\n",
              "      <td>14/3/2022</td>\n",
              "      <td>ชาย</td>\n",
              "      <td>46.0</td>\n",
              "      <td>ปี</td>\n",
              "      <td>Thailand</td>\n",
              "      <td>กรุงเทพมหานคร</td>\n",
              "      <td>อื่นๆ</td>\n",
              "      <td>กรุงเทพมหานคร</td>\n",
              "      <td>ห้วยขวาง</td>\n",
              "    </tr>\n",
              "  </tbody>\n",
              "</table>\n",
              "<p>272319 rows × 11 columns</p>\n",
              "</div>\n",
              "      <button class=\"colab-df-convert\" onclick=\"convertToInteractive('df-aa766d3d-f5fe-4187-a399-0921a6a8e352')\"\n",
              "              title=\"Convert this dataframe to an interactive table.\"\n",
              "              style=\"display:none;\">\n",
              "        \n",
              "  <svg xmlns=\"http://www.w3.org/2000/svg\" height=\"24px\"viewBox=\"0 0 24 24\"\n",
              "       width=\"24px\">\n",
              "    <path d=\"M0 0h24v24H0V0z\" fill=\"none\"/>\n",
              "    <path d=\"M18.56 5.44l.94 2.06.94-2.06 2.06-.94-2.06-.94-.94-2.06-.94 2.06-2.06.94zm-11 1L8.5 8.5l.94-2.06 2.06-.94-2.06-.94L8.5 2.5l-.94 2.06-2.06.94zm10 10l.94 2.06.94-2.06 2.06-.94-2.06-.94-.94-2.06-.94 2.06-2.06.94z\"/><path d=\"M17.41 7.96l-1.37-1.37c-.4-.4-.92-.59-1.43-.59-.52 0-1.04.2-1.43.59L10.3 9.45l-7.72 7.72c-.78.78-.78 2.05 0 2.83L4 21.41c.39.39.9.59 1.41.59.51 0 1.02-.2 1.41-.59l7.78-7.78 2.81-2.81c.8-.78.8-2.07 0-2.86zM5.41 20L4 18.59l7.72-7.72 1.47 1.35L5.41 20z\"/>\n",
              "  </svg>\n",
              "      </button>\n",
              "      \n",
              "  <style>\n",
              "    .colab-df-container {\n",
              "      display:flex;\n",
              "      flex-wrap:wrap;\n",
              "      gap: 12px;\n",
              "    }\n",
              "\n",
              "    .colab-df-convert {\n",
              "      background-color: #E8F0FE;\n",
              "      border: none;\n",
              "      border-radius: 50%;\n",
              "      cursor: pointer;\n",
              "      display: none;\n",
              "      fill: #1967D2;\n",
              "      height: 32px;\n",
              "      padding: 0 0 0 0;\n",
              "      width: 32px;\n",
              "    }\n",
              "\n",
              "    .colab-df-convert:hover {\n",
              "      background-color: #E2EBFA;\n",
              "      box-shadow: 0px 1px 2px rgba(60, 64, 67, 0.3), 0px 1px 3px 1px rgba(60, 64, 67, 0.15);\n",
              "      fill: #174EA6;\n",
              "    }\n",
              "\n",
              "    [theme=dark] .colab-df-convert {\n",
              "      background-color: #3B4455;\n",
              "      fill: #D2E3FC;\n",
              "    }\n",
              "\n",
              "    [theme=dark] .colab-df-convert:hover {\n",
              "      background-color: #434B5C;\n",
              "      box-shadow: 0px 1px 3px 1px rgba(0, 0, 0, 0.15);\n",
              "      filter: drop-shadow(0px 1px 2px rgba(0, 0, 0, 0.3));\n",
              "      fill: #FFFFFF;\n",
              "    }\n",
              "  </style>\n",
              "\n",
              "      <script>\n",
              "        const buttonEl =\n",
              "          document.querySelector('#df-aa766d3d-f5fe-4187-a399-0921a6a8e352 button.colab-df-convert');\n",
              "        buttonEl.style.display =\n",
              "          google.colab.kernel.accessAllowed ? 'block' : 'none';\n",
              "\n",
              "        async function convertToInteractive(key) {\n",
              "          const element = document.querySelector('#df-aa766d3d-f5fe-4187-a399-0921a6a8e352');\n",
              "          const dataTable =\n",
              "            await google.colab.kernel.invokeFunction('convertToInteractive',\n",
              "                                                     [key], {});\n",
              "          if (!dataTable) return;\n",
              "\n",
              "          const docLinkHtml = 'Like what you see? Visit the ' +\n",
              "            '<a target=\"_blank\" href=https://colab.research.google.com/notebooks/data_table.ipynb>data table notebook</a>'\n",
              "            + ' to learn more about interactive tables.';\n",
              "          element.innerHTML = '';\n",
              "          dataTable['output_type'] = 'display_data';\n",
              "          await google.colab.output.renderOutput(dataTable, element);\n",
              "          const docLink = document.createElement('div');\n",
              "          docLink.innerHTML = docLinkHtml;\n",
              "          element.appendChild(docLink);\n",
              "        }\n",
              "      </script>\n",
              "    </div>\n",
              "  </div>\n",
              "  "
            ]
          },
          "metadata": {},
          "execution_count": 153
        }
      ]
    },
    {
      "cell_type": "code",
      "source": [
        "data_dropped.isnull().any()   #ดูว่าคอลัมน์ไหนมีค่า missing บ้าง เป็น False ทั้งหมดแสดงว่าไม่มีค่า missing "
      ],
      "metadata": {
        "id": "MzV1zC9o9iJV",
        "outputId": "86f7b317-4398-4df4-cdb6-4d5ddc250246",
        "colab": {
          "base_uri": "https://localhost:8080/"
        }
      },
      "execution_count": 154,
      "outputs": [
        {
          "output_type": "execute_result",
          "data": {
            "text/plain": [
              "No.                      False\n",
              "announce_date            False\n",
              "Notified date            False\n",
              "sex                      False\n",
              "age                      False\n",
              "Unit                     False\n",
              "nationality              False\n",
              "province_of_isolation    False\n",
              "risk                     False\n",
              "province_of_onset        False\n",
              "district_of_onset        False\n",
              "dtype: bool"
            ]
          },
          "metadata": {},
          "execution_count": 154
        }
      ]
    },
    {
      "cell_type": "code",
      "source": [
        "# เลือกข้อมูลปริมาณผู้ติดเชื้อ covid-19 ของแต่ละจังหวัดในประเทศไทยในวันที่ 1-4 มีนาคม 2565\n",
        "data1_4 = data_dropped[(data_dropped['announce_date']=='1/3/2022') | (data_dropped['announce_date']=='2/3/2022')| (data_dropped['announce_date']=='3/3/2022')| (data_dropped['announce_date']=='4/3/2022')]\n",
        "data1_4"
      ],
      "metadata": {
        "id": "N3mpe6fD-X2q",
        "outputId": "d6e7ca84-f787-4f68-9c7e-2548da5f3776",
        "colab": {
          "base_uri": "https://localhost:8080/",
          "height": 423
        }
      },
      "execution_count": 155,
      "outputs": [
        {
          "output_type": "execute_result",
          "data": {
            "text/plain": [
              "            No. announce_date Notified date   sex   age Unit nationality  \\\n",
              "22835   2892452      1/3/2022     28/2/2022  หญิง  47.0   ปี    Thailand   \n",
              "22836   2892453      1/3/2022     28/2/2022  หญิง  34.0   ปี    Thailand   \n",
              "22837   2892454      1/3/2022     28/2/2022  หญิง  11.0   ปี    Thailand   \n",
              "22838   2892455      1/3/2022     28/2/2022  หญิง  20.0   ปี    Thailand   \n",
              "22839   2892456      1/3/2022     28/2/2022  หญิง  16.0   ปี    Thailand   \n",
              "...         ...           ...           ...   ...   ...  ...         ...   \n",
              "112289  2981906      4/3/2022      3/3/2022  หญิง  70.0   ปี    Thailand   \n",
              "112290  2981907      4/3/2022      3/3/2022   ชาย  64.0   ปี    Thailand   \n",
              "112291  2981908      4/3/2022      3/3/2022  หญิง  43.0   ปี    Thailand   \n",
              "112293  2981910      4/3/2022      3/3/2022  หญิง   6.0   ปี    Thailand   \n",
              "112294  2981911      4/3/2022      3/3/2022   ชาย  67.0   ปี    Thailand   \n",
              "\n",
              "       province_of_isolation                                         risk  \\\n",
              "22835                สุโขทัย                                        อื่นๆ   \n",
              "22836                สุโขทัย                                        อื่นๆ   \n",
              "22837                สุโขทัย                                        อื่นๆ   \n",
              "22838                สุโขทัย  สัมผัสใกล้ชิดกับผู้ป่วยยืนยันรายก่อนหน้านี้   \n",
              "22839                สุโขทัย                                        อื่นๆ   \n",
              "...                      ...                                          ...   \n",
              "112289         กรุงเทพมหานคร                                        อื่นๆ   \n",
              "112290         กรุงเทพมหานคร                                        อื่นๆ   \n",
              "112291         กรุงเทพมหานคร                                        อื่นๆ   \n",
              "112293         กรุงเทพมหานคร                                        อื่นๆ   \n",
              "112294         กรุงเทพมหานคร                                        อื่นๆ   \n",
              "\n",
              "       province_of_onset district_of_onset  \n",
              "22835            สุโขทัย      เมืองสุโขทัย  \n",
              "22836            สุโขทัย      เมืองสุโขทัย  \n",
              "22837            สุโขทัย      เมืองสุโขทัย  \n",
              "22838            สุโขทัย      เมืองสุโขทัย  \n",
              "22839            สุโขทัย      เมืองสุโขทัย  \n",
              "...                  ...               ...  \n",
              "112289     กรุงเทพมหานคร           สวนหลวง  \n",
              "112290     กรุงเทพมหานคร           บางซื่อ  \n",
              "112291     กรุงเทพมหานคร         ลาดกระบัง  \n",
              "112293     กรุงเทพมหานคร           ปทุมวัน  \n",
              "112294     กรุงเทพมหานคร         บางคอแหลม  \n",
              "\n",
              "[68152 rows x 11 columns]"
            ],
            "text/html": [
              "\n",
              "  <div id=\"df-c178d1f4-1523-455f-9dce-460e13179d49\">\n",
              "    <div class=\"colab-df-container\">\n",
              "      <div>\n",
              "<style scoped>\n",
              "    .dataframe tbody tr th:only-of-type {\n",
              "        vertical-align: middle;\n",
              "    }\n",
              "\n",
              "    .dataframe tbody tr th {\n",
              "        vertical-align: top;\n",
              "    }\n",
              "\n",
              "    .dataframe thead th {\n",
              "        text-align: right;\n",
              "    }\n",
              "</style>\n",
              "<table border=\"1\" class=\"dataframe\">\n",
              "  <thead>\n",
              "    <tr style=\"text-align: right;\">\n",
              "      <th></th>\n",
              "      <th>No.</th>\n",
              "      <th>announce_date</th>\n",
              "      <th>Notified date</th>\n",
              "      <th>sex</th>\n",
              "      <th>age</th>\n",
              "      <th>Unit</th>\n",
              "      <th>nationality</th>\n",
              "      <th>province_of_isolation</th>\n",
              "      <th>risk</th>\n",
              "      <th>province_of_onset</th>\n",
              "      <th>district_of_onset</th>\n",
              "    </tr>\n",
              "  </thead>\n",
              "  <tbody>\n",
              "    <tr>\n",
              "      <th>22835</th>\n",
              "      <td>2892452</td>\n",
              "      <td>1/3/2022</td>\n",
              "      <td>28/2/2022</td>\n",
              "      <td>หญิง</td>\n",
              "      <td>47.0</td>\n",
              "      <td>ปี</td>\n",
              "      <td>Thailand</td>\n",
              "      <td>สุโขทัย</td>\n",
              "      <td>อื่นๆ</td>\n",
              "      <td>สุโขทัย</td>\n",
              "      <td>เมืองสุโขทัย</td>\n",
              "    </tr>\n",
              "    <tr>\n",
              "      <th>22836</th>\n",
              "      <td>2892453</td>\n",
              "      <td>1/3/2022</td>\n",
              "      <td>28/2/2022</td>\n",
              "      <td>หญิง</td>\n",
              "      <td>34.0</td>\n",
              "      <td>ปี</td>\n",
              "      <td>Thailand</td>\n",
              "      <td>สุโขทัย</td>\n",
              "      <td>อื่นๆ</td>\n",
              "      <td>สุโขทัย</td>\n",
              "      <td>เมืองสุโขทัย</td>\n",
              "    </tr>\n",
              "    <tr>\n",
              "      <th>22837</th>\n",
              "      <td>2892454</td>\n",
              "      <td>1/3/2022</td>\n",
              "      <td>28/2/2022</td>\n",
              "      <td>หญิง</td>\n",
              "      <td>11.0</td>\n",
              "      <td>ปี</td>\n",
              "      <td>Thailand</td>\n",
              "      <td>สุโขทัย</td>\n",
              "      <td>อื่นๆ</td>\n",
              "      <td>สุโขทัย</td>\n",
              "      <td>เมืองสุโขทัย</td>\n",
              "    </tr>\n",
              "    <tr>\n",
              "      <th>22838</th>\n",
              "      <td>2892455</td>\n",
              "      <td>1/3/2022</td>\n",
              "      <td>28/2/2022</td>\n",
              "      <td>หญิง</td>\n",
              "      <td>20.0</td>\n",
              "      <td>ปี</td>\n",
              "      <td>Thailand</td>\n",
              "      <td>สุโขทัย</td>\n",
              "      <td>สัมผัสใกล้ชิดกับผู้ป่วยยืนยันรายก่อนหน้านี้</td>\n",
              "      <td>สุโขทัย</td>\n",
              "      <td>เมืองสุโขทัย</td>\n",
              "    </tr>\n",
              "    <tr>\n",
              "      <th>22839</th>\n",
              "      <td>2892456</td>\n",
              "      <td>1/3/2022</td>\n",
              "      <td>28/2/2022</td>\n",
              "      <td>หญิง</td>\n",
              "      <td>16.0</td>\n",
              "      <td>ปี</td>\n",
              "      <td>Thailand</td>\n",
              "      <td>สุโขทัย</td>\n",
              "      <td>อื่นๆ</td>\n",
              "      <td>สุโขทัย</td>\n",
              "      <td>เมืองสุโขทัย</td>\n",
              "    </tr>\n",
              "    <tr>\n",
              "      <th>...</th>\n",
              "      <td>...</td>\n",
              "      <td>...</td>\n",
              "      <td>...</td>\n",
              "      <td>...</td>\n",
              "      <td>...</td>\n",
              "      <td>...</td>\n",
              "      <td>...</td>\n",
              "      <td>...</td>\n",
              "      <td>...</td>\n",
              "      <td>...</td>\n",
              "      <td>...</td>\n",
              "    </tr>\n",
              "    <tr>\n",
              "      <th>112289</th>\n",
              "      <td>2981906</td>\n",
              "      <td>4/3/2022</td>\n",
              "      <td>3/3/2022</td>\n",
              "      <td>หญิง</td>\n",
              "      <td>70.0</td>\n",
              "      <td>ปี</td>\n",
              "      <td>Thailand</td>\n",
              "      <td>กรุงเทพมหานคร</td>\n",
              "      <td>อื่นๆ</td>\n",
              "      <td>กรุงเทพมหานคร</td>\n",
              "      <td>สวนหลวง</td>\n",
              "    </tr>\n",
              "    <tr>\n",
              "      <th>112290</th>\n",
              "      <td>2981907</td>\n",
              "      <td>4/3/2022</td>\n",
              "      <td>3/3/2022</td>\n",
              "      <td>ชาย</td>\n",
              "      <td>64.0</td>\n",
              "      <td>ปี</td>\n",
              "      <td>Thailand</td>\n",
              "      <td>กรุงเทพมหานคร</td>\n",
              "      <td>อื่นๆ</td>\n",
              "      <td>กรุงเทพมหานคร</td>\n",
              "      <td>บางซื่อ</td>\n",
              "    </tr>\n",
              "    <tr>\n",
              "      <th>112291</th>\n",
              "      <td>2981908</td>\n",
              "      <td>4/3/2022</td>\n",
              "      <td>3/3/2022</td>\n",
              "      <td>หญิง</td>\n",
              "      <td>43.0</td>\n",
              "      <td>ปี</td>\n",
              "      <td>Thailand</td>\n",
              "      <td>กรุงเทพมหานคร</td>\n",
              "      <td>อื่นๆ</td>\n",
              "      <td>กรุงเทพมหานคร</td>\n",
              "      <td>ลาดกระบัง</td>\n",
              "    </tr>\n",
              "    <tr>\n",
              "      <th>112293</th>\n",
              "      <td>2981910</td>\n",
              "      <td>4/3/2022</td>\n",
              "      <td>3/3/2022</td>\n",
              "      <td>หญิง</td>\n",
              "      <td>6.0</td>\n",
              "      <td>ปี</td>\n",
              "      <td>Thailand</td>\n",
              "      <td>กรุงเทพมหานคร</td>\n",
              "      <td>อื่นๆ</td>\n",
              "      <td>กรุงเทพมหานคร</td>\n",
              "      <td>ปทุมวัน</td>\n",
              "    </tr>\n",
              "    <tr>\n",
              "      <th>112294</th>\n",
              "      <td>2981911</td>\n",
              "      <td>4/3/2022</td>\n",
              "      <td>3/3/2022</td>\n",
              "      <td>ชาย</td>\n",
              "      <td>67.0</td>\n",
              "      <td>ปี</td>\n",
              "      <td>Thailand</td>\n",
              "      <td>กรุงเทพมหานคร</td>\n",
              "      <td>อื่นๆ</td>\n",
              "      <td>กรุงเทพมหานคร</td>\n",
              "      <td>บางคอแหลม</td>\n",
              "    </tr>\n",
              "  </tbody>\n",
              "</table>\n",
              "<p>68152 rows × 11 columns</p>\n",
              "</div>\n",
              "      <button class=\"colab-df-convert\" onclick=\"convertToInteractive('df-c178d1f4-1523-455f-9dce-460e13179d49')\"\n",
              "              title=\"Convert this dataframe to an interactive table.\"\n",
              "              style=\"display:none;\">\n",
              "        \n",
              "  <svg xmlns=\"http://www.w3.org/2000/svg\" height=\"24px\"viewBox=\"0 0 24 24\"\n",
              "       width=\"24px\">\n",
              "    <path d=\"M0 0h24v24H0V0z\" fill=\"none\"/>\n",
              "    <path d=\"M18.56 5.44l.94 2.06.94-2.06 2.06-.94-2.06-.94-.94-2.06-.94 2.06-2.06.94zm-11 1L8.5 8.5l.94-2.06 2.06-.94-2.06-.94L8.5 2.5l-.94 2.06-2.06.94zm10 10l.94 2.06.94-2.06 2.06-.94-2.06-.94-.94-2.06-.94 2.06-2.06.94z\"/><path d=\"M17.41 7.96l-1.37-1.37c-.4-.4-.92-.59-1.43-.59-.52 0-1.04.2-1.43.59L10.3 9.45l-7.72 7.72c-.78.78-.78 2.05 0 2.83L4 21.41c.39.39.9.59 1.41.59.51 0 1.02-.2 1.41-.59l7.78-7.78 2.81-2.81c.8-.78.8-2.07 0-2.86zM5.41 20L4 18.59l7.72-7.72 1.47 1.35L5.41 20z\"/>\n",
              "  </svg>\n",
              "      </button>\n",
              "      \n",
              "  <style>\n",
              "    .colab-df-container {\n",
              "      display:flex;\n",
              "      flex-wrap:wrap;\n",
              "      gap: 12px;\n",
              "    }\n",
              "\n",
              "    .colab-df-convert {\n",
              "      background-color: #E8F0FE;\n",
              "      border: none;\n",
              "      border-radius: 50%;\n",
              "      cursor: pointer;\n",
              "      display: none;\n",
              "      fill: #1967D2;\n",
              "      height: 32px;\n",
              "      padding: 0 0 0 0;\n",
              "      width: 32px;\n",
              "    }\n",
              "\n",
              "    .colab-df-convert:hover {\n",
              "      background-color: #E2EBFA;\n",
              "      box-shadow: 0px 1px 2px rgba(60, 64, 67, 0.3), 0px 1px 3px 1px rgba(60, 64, 67, 0.15);\n",
              "      fill: #174EA6;\n",
              "    }\n",
              "\n",
              "    [theme=dark] .colab-df-convert {\n",
              "      background-color: #3B4455;\n",
              "      fill: #D2E3FC;\n",
              "    }\n",
              "\n",
              "    [theme=dark] .colab-df-convert:hover {\n",
              "      background-color: #434B5C;\n",
              "      box-shadow: 0px 1px 3px 1px rgba(0, 0, 0, 0.15);\n",
              "      filter: drop-shadow(0px 1px 2px rgba(0, 0, 0, 0.3));\n",
              "      fill: #FFFFFF;\n",
              "    }\n",
              "  </style>\n",
              "\n",
              "      <script>\n",
              "        const buttonEl =\n",
              "          document.querySelector('#df-c178d1f4-1523-455f-9dce-460e13179d49 button.colab-df-convert');\n",
              "        buttonEl.style.display =\n",
              "          google.colab.kernel.accessAllowed ? 'block' : 'none';\n",
              "\n",
              "        async function convertToInteractive(key) {\n",
              "          const element = document.querySelector('#df-c178d1f4-1523-455f-9dce-460e13179d49');\n",
              "          const dataTable =\n",
              "            await google.colab.kernel.invokeFunction('convertToInteractive',\n",
              "                                                     [key], {});\n",
              "          if (!dataTable) return;\n",
              "\n",
              "          const docLinkHtml = 'Like what you see? Visit the ' +\n",
              "            '<a target=\"_blank\" href=https://colab.research.google.com/notebooks/data_table.ipynb>data table notebook</a>'\n",
              "            + ' to learn more about interactive tables.';\n",
              "          element.innerHTML = '';\n",
              "          dataTable['output_type'] = 'display_data';\n",
              "          await google.colab.output.renderOutput(dataTable, element);\n",
              "          const docLink = document.createElement('div');\n",
              "          docLink.innerHTML = docLinkHtml;\n",
              "          element.appendChild(docLink);\n",
              "        }\n",
              "      </script>\n",
              "    </div>\n",
              "  </div>\n",
              "  "
            ]
          },
          "metadata": {},
          "execution_count": 155
        }
      ]
    },
    {
      "cell_type": "code",
      "source": [
        "set(data1_4['province_of_onset']) # ตรวจสอบข้อมูลคอลัมน์ province_of_onset"
      ],
      "metadata": {
        "id": "5Bbs0ykIAbpM",
        "outputId": "2d52e571-0b52-4836-89a1-b3d95e35e03d",
        "colab": {
          "base_uri": "https://localhost:8080/"
        }
      },
      "execution_count": 156,
      "outputs": [
        {
          "output_type": "execute_result",
          "data": {
            "text/plain": [
              "{'กระบี่',\n",
              " 'กรุงเทพมหานคร',\n",
              " 'กรุงเทพมหานคร.',\n",
              " 'กาญจนบุรี',\n",
              " 'กาฬสินธุ์',\n",
              " 'กำแพงเพชร',\n",
              " 'กำแพงเพชร\\xa0',\n",
              " 'ขอนแก่น',\n",
              " 'ขานุวรลักษณ์บุรี',\n",
              " 'จันทบุรี',\n",
              " 'ฉะเชิงเทรา',\n",
              " 'ชลบุรี',\n",
              " 'ชลบุรี\\xa0',\n",
              " 'ชัยนาท',\n",
              " 'ชัยภูมิ',\n",
              " 'ชุมพร',\n",
              " 'ตรัง',\n",
              " 'ตราด',\n",
              " 'ตราด\\xa0',\n",
              " 'ตาก',\n",
              " 'นครนายก',\n",
              " 'นครปฐม',\n",
              " 'นครปฐม\\xa0',\n",
              " 'นครพนม',\n",
              " 'นครยายก',\n",
              " 'นครราชศรีมา',\n",
              " 'นครราชสีมา',\n",
              " 'นครราชสีมา\\xa0',\n",
              " 'นครศรีธรรมราช',\n",
              " 'นครสวรรค์',\n",
              " 'นครสวรรค์\\xa0',\n",
              " 'นนทบุรี',\n",
              " 'นราธิวาส',\n",
              " 'นอกเขต',\n",
              " 'น่าน',\n",
              " 'บึงกาฬ',\n",
              " 'บุรีรัมย์',\n",
              " 'บุรีรัมย์\\xa0',\n",
              " 'ปทุมธานี',\n",
              " 'ปทุมธานี\\xa0',\n",
              " 'ประจวบคีรีขันธ์',\n",
              " 'ปราจีนบุรี',\n",
              " 'ปัตตนรี',\n",
              " 'ปัตตานี',\n",
              " 'พระนครศรีอยุธยา',\n",
              " 'พะเยา',\n",
              " 'พังงา',\n",
              " 'พัทลุง',\n",
              " 'พิจิตร',\n",
              " 'พิษณุโลก',\n",
              " 'พิษณุโลก\\xa0',\n",
              " 'ภูเก็ต',\n",
              " 'มหาสารคาม',\n",
              " 'มุกดาหาร',\n",
              " 'ยะลา',\n",
              " 'ยโสธร',\n",
              " 'ระนอง',\n",
              " 'ระยอง',\n",
              " 'ราชบุรี',\n",
              " 'ร้อยเอ็ด',\n",
              " 'ลพบุรี',\n",
              " 'ลพบุรี\\xa0',\n",
              " 'ลำปาง',\n",
              " 'ลำพูน',\n",
              " 'ศรีสะเกษ',\n",
              " 'สกลนคร',\n",
              " 'สงขลา',\n",
              " 'สตูล',\n",
              " 'สมุทรปราการ',\n",
              " 'สมุทรปราการ\\xa0',\n",
              " 'สมุทรสงคราม',\n",
              " 'สมุทรสาคร',\n",
              " 'สมุทสาคร',\n",
              " 'สระบุรี',\n",
              " 'สระแก้ว',\n",
              " 'สิงห์บุรี',\n",
              " 'สุพรรณบุรี',\n",
              " 'สุราษฎร์ธานี',\n",
              " 'สุราษฏร์ธานี',\n",
              " 'สุรินทร์',\n",
              " 'สุโขทัย',\n",
              " 'สุโขทัย\\xa0',\n",
              " 'หนองคาย',\n",
              " 'หนองบัวลำภู',\n",
              " 'อยุทธยา',\n",
              " 'อยุธยา',\n",
              " 'อำนาจเจริญ',\n",
              " 'อุดรธานี',\n",
              " 'อุดรธานี\\xa0',\n",
              " 'อุตรดิตถ์',\n",
              " 'อุทัยธานี',\n",
              " 'อุบลราชธานี',\n",
              " 'อุบลราชธานี\\xa0',\n",
              " 'อ่างทอง',\n",
              " 'เชิงเทรา',\n",
              " 'เชียงราย',\n",
              " 'เชียงใหม่',\n",
              " 'เพชรบุรี',\n",
              " 'เพชรบูรณ์',\n",
              " 'เพชรบูรณ์\\xa0',\n",
              " 'เลย',\n",
              " 'แพร่',\n",
              " 'แม่ฮ่องสอน'}"
            ]
          },
          "metadata": {},
          "execution_count": 156
        }
      ]
    },
    {
      "cell_type": "code",
      "source": [
        "# แก้ไขข้อมูลคอลัมน์ province_of_onset ให้อยู่ในรูปแบบเดียวกัน\n",
        "data1_4['province_of_onset'].replace({'กรุงเทพมหานคร.':'กรุงเทพมหานคร','กำแพงเพชร\\xa0':'กำแพงเพชร','ขานุวรลักษณ์บุรี':'กำแพงเพชร',\n",
        "                                      'ชลบุรี\\xa0':'ชลบุรี','ตราด\\xa0':'ตราด','นครปฐม\\xa0':'นครปฐม','นครราชศรีมา':'นครราชสีมา','นครราชสีมา\\xa0':'นครราชสีมา',\n",
        "                                      'นครสวรรค์\\xa0':'นครสวรรค์','บุรีรัมย์\\xa0':'บุรีรัมย์','ปทุมธานี\\xa0':'ปทุมธานี','พิษณุโลก\\xa0':'พิษณุโลก','ลพบุรี\\xa0':'ลพบุรี',\n",
        "                                      'สมุทรปราการ\\xa0':'สมุทรปราการ','สมุทสาคร':'สมุทรสาคร','สุราษฎร์ธานี':'สุราษฏร์ธานี','สุโขทัย\\xa0':'สุโขทัย','อยุทธยา':'พระนครศรีอยุธยา',\n",
        "                                      'อุดรธานี\\xa0':'อุดรธานี','อุบลราชธานี\\xa0':'อุบลราชธานี','เชิงเทรา':'ฉะเชิงเทรา','เพชรบูรณ์\\xa0':'เพชรบูรณ์','ปัตตนรี':'ปัตตานี',\n",
        "                                      'นครยายก':'นครนายก'}, inplace=True)"
      ],
      "metadata": {
        "id": "XSqHwp_NAlED",
        "outputId": "e08d9952-f3d5-491c-a7d9-be3e74948485",
        "colab": {
          "base_uri": "https://localhost:8080/"
        }
      },
      "execution_count": 157,
      "outputs": [
        {
          "output_type": "stream",
          "name": "stderr",
          "text": [
            "/usr/local/lib/python3.7/dist-packages/pandas/core/generic.py:6619: SettingWithCopyWarning:\n",
            "\n",
            "\n",
            "A value is trying to be set on a copy of a slice from a DataFrame\n",
            "\n",
            "See the caveats in the documentation: https://pandas.pydata.org/pandas-docs/stable/user_guide/indexing.html#returning-a-view-versus-a-copy\n",
            "\n"
          ]
        }
      ]
    },
    {
      "cell_type": "code",
      "source": [
        "set(data1_4['province_of_onset']) # ตรวจสอบข้อมูลคอลัมน์ province_of_onset"
      ],
      "metadata": {
        "id": "uIgy0nAWDGoR",
        "outputId": "09280b6d-1b12-448c-aea5-c7916b8014da",
        "colab": {
          "base_uri": "https://localhost:8080/"
        }
      },
      "execution_count": 158,
      "outputs": [
        {
          "output_type": "execute_result",
          "data": {
            "text/plain": [
              "{'กระบี่',\n",
              " 'กรุงเทพมหานคร',\n",
              " 'กาญจนบุรี',\n",
              " 'กาฬสินธุ์',\n",
              " 'กำแพงเพชร',\n",
              " 'ขอนแก่น',\n",
              " 'จันทบุรี',\n",
              " 'ฉะเชิงเทรา',\n",
              " 'ชลบุรี',\n",
              " 'ชัยนาท',\n",
              " 'ชัยภูมิ',\n",
              " 'ชุมพร',\n",
              " 'ตรัง',\n",
              " 'ตราด',\n",
              " 'ตาก',\n",
              " 'นครนายก',\n",
              " 'นครปฐม',\n",
              " 'นครพนม',\n",
              " 'นครราชสีมา',\n",
              " 'นครศรีธรรมราช',\n",
              " 'นครสวรรค์',\n",
              " 'นนทบุรี',\n",
              " 'นราธิวาส',\n",
              " 'นอกเขต',\n",
              " 'น่าน',\n",
              " 'บึงกาฬ',\n",
              " 'บุรีรัมย์',\n",
              " 'ปทุมธานี',\n",
              " 'ประจวบคีรีขันธ์',\n",
              " 'ปราจีนบุรี',\n",
              " 'ปัตตานี',\n",
              " 'พระนครศรีอยุธยา',\n",
              " 'พะเยา',\n",
              " 'พังงา',\n",
              " 'พัทลุง',\n",
              " 'พิจิตร',\n",
              " 'พิษณุโลก',\n",
              " 'ภูเก็ต',\n",
              " 'มหาสารคาม',\n",
              " 'มุกดาหาร',\n",
              " 'ยะลา',\n",
              " 'ยโสธร',\n",
              " 'ระนอง',\n",
              " 'ระยอง',\n",
              " 'ราชบุรี',\n",
              " 'ร้อยเอ็ด',\n",
              " 'ลพบุรี',\n",
              " 'ลำปาง',\n",
              " 'ลำพูน',\n",
              " 'ศรีสะเกษ',\n",
              " 'สกลนคร',\n",
              " 'สงขลา',\n",
              " 'สตูล',\n",
              " 'สมุทรปราการ',\n",
              " 'สมุทรสงคราม',\n",
              " 'สมุทรสาคร',\n",
              " 'สระบุรี',\n",
              " 'สระแก้ว',\n",
              " 'สิงห์บุรี',\n",
              " 'สุพรรณบุรี',\n",
              " 'สุราษฏร์ธานี',\n",
              " 'สุรินทร์',\n",
              " 'สุโขทัย',\n",
              " 'หนองคาย',\n",
              " 'หนองบัวลำภู',\n",
              " 'อยุธยา',\n",
              " 'อำนาจเจริญ',\n",
              " 'อุดรธานี',\n",
              " 'อุตรดิตถ์',\n",
              " 'อุทัยธานี',\n",
              " 'อุบลราชธานี',\n",
              " 'อ่างทอง',\n",
              " 'เชียงราย',\n",
              " 'เชียงใหม่',\n",
              " 'เพชรบุรี',\n",
              " 'เพชรบูรณ์',\n",
              " 'เลย',\n",
              " 'แพร่',\n",
              " 'แม่ฮ่องสอน'}"
            ]
          },
          "metadata": {},
          "execution_count": 158
        }
      ]
    },
    {
      "cell_type": "code",
      "source": [
        "# ปริมาณผู้ติดเชื้อ covid-19 ของแต่ละจังหวัดในประเทศไทยในวันที่ 1-4 มีนาคม 2565\n",
        "data1_4TH = data1_4.groupby('province_of_onset')['No.'].count() \n",
        "data1_4TH2 = pd.DataFrame(data1_4TH)\n",
        "data1_4TH2"
      ],
      "metadata": {
        "id": "HVkDkxm8DZaA",
        "outputId": "e6bade47-4d4a-4dbe-8e93-b63261180ac1",
        "colab": {
          "base_uri": "https://localhost:8080/",
          "height": 455
        }
      },
      "execution_count": 159,
      "outputs": [
        {
          "output_type": "execute_result",
          "data": {
            "text/plain": [
              "                    No.\n",
              "province_of_onset      \n",
              "กระบี่              547\n",
              "กรุงเทพมหานคร      8834\n",
              "กาญจนบุรี           474\n",
              "กาฬสินธุ์           792\n",
              "กำแพงเพชร           738\n",
              "...                 ...\n",
              "เพชรบุรี            535\n",
              "เพชรบูรณ์           528\n",
              "เลย                 288\n",
              "แพร่                130\n",
              "แม่ฮ่องสอน            7\n",
              "\n",
              "[79 rows x 1 columns]"
            ],
            "text/html": [
              "\n",
              "  <div id=\"df-eb9e92d4-c564-4dfe-b957-c215d62e4bd4\">\n",
              "    <div class=\"colab-df-container\">\n",
              "      <div>\n",
              "<style scoped>\n",
              "    .dataframe tbody tr th:only-of-type {\n",
              "        vertical-align: middle;\n",
              "    }\n",
              "\n",
              "    .dataframe tbody tr th {\n",
              "        vertical-align: top;\n",
              "    }\n",
              "\n",
              "    .dataframe thead th {\n",
              "        text-align: right;\n",
              "    }\n",
              "</style>\n",
              "<table border=\"1\" class=\"dataframe\">\n",
              "  <thead>\n",
              "    <tr style=\"text-align: right;\">\n",
              "      <th></th>\n",
              "      <th>No.</th>\n",
              "    </tr>\n",
              "    <tr>\n",
              "      <th>province_of_onset</th>\n",
              "      <th></th>\n",
              "    </tr>\n",
              "  </thead>\n",
              "  <tbody>\n",
              "    <tr>\n",
              "      <th>กระบี่</th>\n",
              "      <td>547</td>\n",
              "    </tr>\n",
              "    <tr>\n",
              "      <th>กรุงเทพมหานคร</th>\n",
              "      <td>8834</td>\n",
              "    </tr>\n",
              "    <tr>\n",
              "      <th>กาญจนบุรี</th>\n",
              "      <td>474</td>\n",
              "    </tr>\n",
              "    <tr>\n",
              "      <th>กาฬสินธุ์</th>\n",
              "      <td>792</td>\n",
              "    </tr>\n",
              "    <tr>\n",
              "      <th>กำแพงเพชร</th>\n",
              "      <td>738</td>\n",
              "    </tr>\n",
              "    <tr>\n",
              "      <th>...</th>\n",
              "      <td>...</td>\n",
              "    </tr>\n",
              "    <tr>\n",
              "      <th>เพชรบุรี</th>\n",
              "      <td>535</td>\n",
              "    </tr>\n",
              "    <tr>\n",
              "      <th>เพชรบูรณ์</th>\n",
              "      <td>528</td>\n",
              "    </tr>\n",
              "    <tr>\n",
              "      <th>เลย</th>\n",
              "      <td>288</td>\n",
              "    </tr>\n",
              "    <tr>\n",
              "      <th>แพร่</th>\n",
              "      <td>130</td>\n",
              "    </tr>\n",
              "    <tr>\n",
              "      <th>แม่ฮ่องสอน</th>\n",
              "      <td>7</td>\n",
              "    </tr>\n",
              "  </tbody>\n",
              "</table>\n",
              "<p>79 rows × 1 columns</p>\n",
              "</div>\n",
              "      <button class=\"colab-df-convert\" onclick=\"convertToInteractive('df-eb9e92d4-c564-4dfe-b957-c215d62e4bd4')\"\n",
              "              title=\"Convert this dataframe to an interactive table.\"\n",
              "              style=\"display:none;\">\n",
              "        \n",
              "  <svg xmlns=\"http://www.w3.org/2000/svg\" height=\"24px\"viewBox=\"0 0 24 24\"\n",
              "       width=\"24px\">\n",
              "    <path d=\"M0 0h24v24H0V0z\" fill=\"none\"/>\n",
              "    <path d=\"M18.56 5.44l.94 2.06.94-2.06 2.06-.94-2.06-.94-.94-2.06-.94 2.06-2.06.94zm-11 1L8.5 8.5l.94-2.06 2.06-.94-2.06-.94L8.5 2.5l-.94 2.06-2.06.94zm10 10l.94 2.06.94-2.06 2.06-.94-2.06-.94-.94-2.06-.94 2.06-2.06.94z\"/><path d=\"M17.41 7.96l-1.37-1.37c-.4-.4-.92-.59-1.43-.59-.52 0-1.04.2-1.43.59L10.3 9.45l-7.72 7.72c-.78.78-.78 2.05 0 2.83L4 21.41c.39.39.9.59 1.41.59.51 0 1.02-.2 1.41-.59l7.78-7.78 2.81-2.81c.8-.78.8-2.07 0-2.86zM5.41 20L4 18.59l7.72-7.72 1.47 1.35L5.41 20z\"/>\n",
              "  </svg>\n",
              "      </button>\n",
              "      \n",
              "  <style>\n",
              "    .colab-df-container {\n",
              "      display:flex;\n",
              "      flex-wrap:wrap;\n",
              "      gap: 12px;\n",
              "    }\n",
              "\n",
              "    .colab-df-convert {\n",
              "      background-color: #E8F0FE;\n",
              "      border: none;\n",
              "      border-radius: 50%;\n",
              "      cursor: pointer;\n",
              "      display: none;\n",
              "      fill: #1967D2;\n",
              "      height: 32px;\n",
              "      padding: 0 0 0 0;\n",
              "      width: 32px;\n",
              "    }\n",
              "\n",
              "    .colab-df-convert:hover {\n",
              "      background-color: #E2EBFA;\n",
              "      box-shadow: 0px 1px 2px rgba(60, 64, 67, 0.3), 0px 1px 3px 1px rgba(60, 64, 67, 0.15);\n",
              "      fill: #174EA6;\n",
              "    }\n",
              "\n",
              "    [theme=dark] .colab-df-convert {\n",
              "      background-color: #3B4455;\n",
              "      fill: #D2E3FC;\n",
              "    }\n",
              "\n",
              "    [theme=dark] .colab-df-convert:hover {\n",
              "      background-color: #434B5C;\n",
              "      box-shadow: 0px 1px 3px 1px rgba(0, 0, 0, 0.15);\n",
              "      filter: drop-shadow(0px 1px 2px rgba(0, 0, 0, 0.3));\n",
              "      fill: #FFFFFF;\n",
              "    }\n",
              "  </style>\n",
              "\n",
              "      <script>\n",
              "        const buttonEl =\n",
              "          document.querySelector('#df-eb9e92d4-c564-4dfe-b957-c215d62e4bd4 button.colab-df-convert');\n",
              "        buttonEl.style.display =\n",
              "          google.colab.kernel.accessAllowed ? 'block' : 'none';\n",
              "\n",
              "        async function convertToInteractive(key) {\n",
              "          const element = document.querySelector('#df-eb9e92d4-c564-4dfe-b957-c215d62e4bd4');\n",
              "          const dataTable =\n",
              "            await google.colab.kernel.invokeFunction('convertToInteractive',\n",
              "                                                     [key], {});\n",
              "          if (!dataTable) return;\n",
              "\n",
              "          const docLinkHtml = 'Like what you see? Visit the ' +\n",
              "            '<a target=\"_blank\" href=https://colab.research.google.com/notebooks/data_table.ipynb>data table notebook</a>'\n",
              "            + ' to learn more about interactive tables.';\n",
              "          element.innerHTML = '';\n",
              "          dataTable['output_type'] = 'display_data';\n",
              "          await google.colab.output.renderOutput(dataTable, element);\n",
              "          const docLink = document.createElement('div');\n",
              "          docLink.innerHTML = docLinkHtml;\n",
              "          element.appendChild(docLink);\n",
              "        }\n",
              "      </script>\n",
              "    </div>\n",
              "  </div>\n",
              "  "
            ]
          },
          "metadata": {},
          "execution_count": 159
        }
      ]
    },
    {
      "cell_type": "code",
      "source": [
        "data1_4TH2_noindex = data1_4TH2.reset_index() # reset_index ใช้เพื่อสำหรับลบช่องว่าง\n",
        "data1_4TH2_noindex"
      ],
      "metadata": {
        "id": "hVAk_aY8DtyB",
        "outputId": "5aa825ae-84dc-4fe7-aeec-b8d0dca463c0",
        "colab": {
          "base_uri": "https://localhost:8080/",
          "height": 423
        }
      },
      "execution_count": 160,
      "outputs": [
        {
          "output_type": "execute_result",
          "data": {
            "text/plain": [
              "   province_of_onset   No.\n",
              "0             กระบี่   547\n",
              "1      กรุงเทพมหานคร  8834\n",
              "2          กาญจนบุรี   474\n",
              "3          กาฬสินธุ์   792\n",
              "4          กำแพงเพชร   738\n",
              "..               ...   ...\n",
              "74          เพชรบุรี   535\n",
              "75         เพชรบูรณ์   528\n",
              "76               เลย   288\n",
              "77              แพร่   130\n",
              "78        แม่ฮ่องสอน     7\n",
              "\n",
              "[79 rows x 2 columns]"
            ],
            "text/html": [
              "\n",
              "  <div id=\"df-1abfc909-cb1e-4dc0-88ec-a4d691d41015\">\n",
              "    <div class=\"colab-df-container\">\n",
              "      <div>\n",
              "<style scoped>\n",
              "    .dataframe tbody tr th:only-of-type {\n",
              "        vertical-align: middle;\n",
              "    }\n",
              "\n",
              "    .dataframe tbody tr th {\n",
              "        vertical-align: top;\n",
              "    }\n",
              "\n",
              "    .dataframe thead th {\n",
              "        text-align: right;\n",
              "    }\n",
              "</style>\n",
              "<table border=\"1\" class=\"dataframe\">\n",
              "  <thead>\n",
              "    <tr style=\"text-align: right;\">\n",
              "      <th></th>\n",
              "      <th>province_of_onset</th>\n",
              "      <th>No.</th>\n",
              "    </tr>\n",
              "  </thead>\n",
              "  <tbody>\n",
              "    <tr>\n",
              "      <th>0</th>\n",
              "      <td>กระบี่</td>\n",
              "      <td>547</td>\n",
              "    </tr>\n",
              "    <tr>\n",
              "      <th>1</th>\n",
              "      <td>กรุงเทพมหานคร</td>\n",
              "      <td>8834</td>\n",
              "    </tr>\n",
              "    <tr>\n",
              "      <th>2</th>\n",
              "      <td>กาญจนบุรี</td>\n",
              "      <td>474</td>\n",
              "    </tr>\n",
              "    <tr>\n",
              "      <th>3</th>\n",
              "      <td>กาฬสินธุ์</td>\n",
              "      <td>792</td>\n",
              "    </tr>\n",
              "    <tr>\n",
              "      <th>4</th>\n",
              "      <td>กำแพงเพชร</td>\n",
              "      <td>738</td>\n",
              "    </tr>\n",
              "    <tr>\n",
              "      <th>...</th>\n",
              "      <td>...</td>\n",
              "      <td>...</td>\n",
              "    </tr>\n",
              "    <tr>\n",
              "      <th>74</th>\n",
              "      <td>เพชรบุรี</td>\n",
              "      <td>535</td>\n",
              "    </tr>\n",
              "    <tr>\n",
              "      <th>75</th>\n",
              "      <td>เพชรบูรณ์</td>\n",
              "      <td>528</td>\n",
              "    </tr>\n",
              "    <tr>\n",
              "      <th>76</th>\n",
              "      <td>เลย</td>\n",
              "      <td>288</td>\n",
              "    </tr>\n",
              "    <tr>\n",
              "      <th>77</th>\n",
              "      <td>แพร่</td>\n",
              "      <td>130</td>\n",
              "    </tr>\n",
              "    <tr>\n",
              "      <th>78</th>\n",
              "      <td>แม่ฮ่องสอน</td>\n",
              "      <td>7</td>\n",
              "    </tr>\n",
              "  </tbody>\n",
              "</table>\n",
              "<p>79 rows × 2 columns</p>\n",
              "</div>\n",
              "      <button class=\"colab-df-convert\" onclick=\"convertToInteractive('df-1abfc909-cb1e-4dc0-88ec-a4d691d41015')\"\n",
              "              title=\"Convert this dataframe to an interactive table.\"\n",
              "              style=\"display:none;\">\n",
              "        \n",
              "  <svg xmlns=\"http://www.w3.org/2000/svg\" height=\"24px\"viewBox=\"0 0 24 24\"\n",
              "       width=\"24px\">\n",
              "    <path d=\"M0 0h24v24H0V0z\" fill=\"none\"/>\n",
              "    <path d=\"M18.56 5.44l.94 2.06.94-2.06 2.06-.94-2.06-.94-.94-2.06-.94 2.06-2.06.94zm-11 1L8.5 8.5l.94-2.06 2.06-.94-2.06-.94L8.5 2.5l-.94 2.06-2.06.94zm10 10l.94 2.06.94-2.06 2.06-.94-2.06-.94-.94-2.06-.94 2.06-2.06.94z\"/><path d=\"M17.41 7.96l-1.37-1.37c-.4-.4-.92-.59-1.43-.59-.52 0-1.04.2-1.43.59L10.3 9.45l-7.72 7.72c-.78.78-.78 2.05 0 2.83L4 21.41c.39.39.9.59 1.41.59.51 0 1.02-.2 1.41-.59l7.78-7.78 2.81-2.81c.8-.78.8-2.07 0-2.86zM5.41 20L4 18.59l7.72-7.72 1.47 1.35L5.41 20z\"/>\n",
              "  </svg>\n",
              "      </button>\n",
              "      \n",
              "  <style>\n",
              "    .colab-df-container {\n",
              "      display:flex;\n",
              "      flex-wrap:wrap;\n",
              "      gap: 12px;\n",
              "    }\n",
              "\n",
              "    .colab-df-convert {\n",
              "      background-color: #E8F0FE;\n",
              "      border: none;\n",
              "      border-radius: 50%;\n",
              "      cursor: pointer;\n",
              "      display: none;\n",
              "      fill: #1967D2;\n",
              "      height: 32px;\n",
              "      padding: 0 0 0 0;\n",
              "      width: 32px;\n",
              "    }\n",
              "\n",
              "    .colab-df-convert:hover {\n",
              "      background-color: #E2EBFA;\n",
              "      box-shadow: 0px 1px 2px rgba(60, 64, 67, 0.3), 0px 1px 3px 1px rgba(60, 64, 67, 0.15);\n",
              "      fill: #174EA6;\n",
              "    }\n",
              "\n",
              "    [theme=dark] .colab-df-convert {\n",
              "      background-color: #3B4455;\n",
              "      fill: #D2E3FC;\n",
              "    }\n",
              "\n",
              "    [theme=dark] .colab-df-convert:hover {\n",
              "      background-color: #434B5C;\n",
              "      box-shadow: 0px 1px 3px 1px rgba(0, 0, 0, 0.15);\n",
              "      filter: drop-shadow(0px 1px 2px rgba(0, 0, 0, 0.3));\n",
              "      fill: #FFFFFF;\n",
              "    }\n",
              "  </style>\n",
              "\n",
              "      <script>\n",
              "        const buttonEl =\n",
              "          document.querySelector('#df-1abfc909-cb1e-4dc0-88ec-a4d691d41015 button.colab-df-convert');\n",
              "        buttonEl.style.display =\n",
              "          google.colab.kernel.accessAllowed ? 'block' : 'none';\n",
              "\n",
              "        async function convertToInteractive(key) {\n",
              "          const element = document.querySelector('#df-1abfc909-cb1e-4dc0-88ec-a4d691d41015');\n",
              "          const dataTable =\n",
              "            await google.colab.kernel.invokeFunction('convertToInteractive',\n",
              "                                                     [key], {});\n",
              "          if (!dataTable) return;\n",
              "\n",
              "          const docLinkHtml = 'Like what you see? Visit the ' +\n",
              "            '<a target=\"_blank\" href=https://colab.research.google.com/notebooks/data_table.ipynb>data table notebook</a>'\n",
              "            + ' to learn more about interactive tables.';\n",
              "          element.innerHTML = '';\n",
              "          dataTable['output_type'] = 'display_data';\n",
              "          await google.colab.output.renderOutput(dataTable, element);\n",
              "          const docLink = document.createElement('div');\n",
              "          docLink.innerHTML = docLinkHtml;\n",
              "          element.appendChild(docLink);\n",
              "        }\n",
              "      </script>\n",
              "    </div>\n",
              "  </div>\n",
              "  "
            ]
          },
          "metadata": {},
          "execution_count": 160
        }
      ]
    },
    {
      "cell_type": "code",
      "source": [
        "# แสดงภาษาไทยใน matplotlib\n",
        "!wget -q https://github.com/Phonbopit/sarabun-webfont/raw/master/fonts/thsarabunnew-webfont.ttf\n",
        "!ls\n",
        "# !pip install -U --pre matplotlib  \n",
        "import matplotlib as mpl       # เมื่อต้องการเซ็ตขนาด\n",
        "mpl.font_manager.fontManager.addfont('thsarabunnew-webfont.ttf')    # import font เข้าไป\n",
        "mpl.rc('font', family='TH Sarabun New')"
      ],
      "metadata": {
        "id": "-BvW1KdhEG4G",
        "outputId": "dd96e615-0d18-4daf-cdb8-29e3b5048339",
        "colab": {
          "base_uri": "https://localhost:8080/"
        }
      },
      "execution_count": 161,
      "outputs": [
        {
          "output_type": "stream",
          "name": "stdout",
          "text": [
            "drive\t\t\t    thsarabunnew-webfont.ttf.2\n",
            "sample_data\t\t    thsarabunnew-webfont.ttf.3\n",
            "thsarabunnew-webfont.ttf    thsarabunnew-webfont.ttf.4\n",
            "thsarabunnew-webfont.ttf.1  thsarabunnew-webfont.ttf.5\n"
          ]
        }
      ]
    },
    {
      "cell_type": "code",
      "source": [
        "!pip install squarify # Install package \n",
        "import matplotlib.pyplot as plt # เรียกใช้ package มาใช้ในการ plot กราฟ\n",
        "import squarify # import package squarify เอาไว้ plot tree map\n",
        "import matplotlib"
      ],
      "metadata": {
        "id": "eGuqPrGyERUj",
        "outputId": "9ea6213b-6c20-43e1-addb-2b2bd7d37b9e",
        "colab": {
          "base_uri": "https://localhost:8080/"
        }
      },
      "execution_count": 162,
      "outputs": [
        {
          "output_type": "stream",
          "name": "stdout",
          "text": [
            "Requirement already satisfied: squarify in /usr/local/lib/python3.7/dist-packages (0.4.3)\n"
          ]
        }
      ]
    },
    {
      "cell_type": "markdown",
      "source": [
        "https://matplotlib.org/stable/tutorials/colors/colormaps.html"
      ],
      "metadata": {
        "id": "f21i22yWGtPE"
      }
    },
    {
      "cell_type": "code",
      "source": [
        "cmap = matplotlib.cm.YlGnBu # กำหนดสีเป็น 'YlGnBu'\n",
        "norm = matplotlib.colors.Normalize(vmin=min(data1_4TH2_noindex['No.']), vmax=max(data1_4TH2_noindex['No.']))\n",
        "colors = [cmap(norm(value)) for value in data1_4TH2_noindex['No.']] \n",
        "\n",
        "fig = plt.gcf() \n",
        "fig.set_size_inches(22, 12) # กำหนด size เป็น (22, 12)\n",
        "\n",
        "squarify.plot(data1_4TH2_noindex['No.'],label=data1_4TH2_noindex['province_of_onset'],color=colors,pad=True) # plot tree map\n",
        "plt.title('ปริมาณผู้ติดเชื้อ covid-19 ของแต่ละจังหวัดในประเทศไทย ในวันที่ 1-4 มีนาคม 2565', fontsize = 22) # กำหนด title เป็น 'ปริมาณผู้ติดเชื้อ covid-19 ของแต่ละจังหวัดในประเทศไทย ในวันที่ 1-4 มีนาคม 2565'\n",
        "plt.axis('off') # axis = แกน, axis off จะเอาแกนออกหรือไม่แสดงแกน x กับ y"
      ],
      "metadata": {
        "id": "SmWWGFc9EY0L",
        "outputId": "11913315-2137-4594-f3d3-cb2259cab042",
        "colab": {
          "base_uri": "https://localhost:8080/",
          "height": 738
        }
      },
      "execution_count": 163,
      "outputs": [
        {
          "output_type": "execute_result",
          "data": {
            "text/plain": [
              "(0.0, 100.0, 0.0, 100.0)"
            ]
          },
          "metadata": {},
          "execution_count": 163
        },
        {
          "output_type": "display_data",
          "data": {
            "text/plain": [
              "<Figure size 1584x864 with 1 Axes>"
            ],
            "image/png": "[encoded data removed]"
          },
          "metadata": {
            "needs_background": "light"
          }
        }
      ]
    },
    {
      "cell_type": "markdown",
      "source": [
        "# เฉลย Group HW2"
      ],
      "metadata": {
        "id": "6Q9fXCEYJSpQ"
      }
    },
    {
      "cell_type": "markdown",
      "source": [
        "https://jovian.ai/landryroni/interactive-visualization-plotly #อ้างอิง"
      ],
      "metadata": {
        "id": "V0XnVvS3JbGm"
      }
    },
    {
      "cell_type": "code",
      "source": [
        "import plotly.express as px #plotly.express เป็นไลบรารีการแสดงภาพ\n",
        "fig = px.treemap(data1_4TH2_noindex, #plottreemap ด้วย ตารางข้อมูล ที่ชื่อ data1_4TH2_noindex\n",
        "                 path=['province_of_onset'], \n",
        "                 values='No.',\n",
        "                 color='No.', \n",
        "                 color_continuous_scale='ylorrd') # สีของ Tree map และ scale\n",
        "fig.show()"
      ],
      "metadata": {
        "id": "nlPRoV1lJWYU",
        "outputId": "22d5c0c9-9fb5-4f79-c8b6-19f607299e7e",
        "colab": {
          "base_uri": "https://localhost:8080/",
          "height": 542
        }
      },
      "execution_count": 173,
      "outputs": [
        {
          "output_type": "display_data",
          "data": {
            "text/html": [
              "<html>\n",
              "<head><meta charset=\"utf-8\" /></head>\n",
              "<body>\n",
              "    <div>            <script src=\"https://cdnjs.cloudflare.com/ajax/libs/mathjax/2.7.5/MathJax.js?config=TeX-AMS-MML_SVG\"></script><script type=\"text/javascript\">if (window.MathJax) {MathJax.Hub.Config({SVG: {font: \"STIX-Web\"}});}</script>                <script type=\"text/javascript\">window.PlotlyConfig = {MathJaxConfig: 'local'};</script>\n",
              "        <script src=\"https://cdn.plot.ly/plotly-2.8.3.min.js\"></script>                <div id=\"098bcd55-c1b7-41f2-8eff-ed6d7fbcf911\" class=\"plotly-graph-div\" style=\"height:525px; width:100%;\"></div>            <script type=\"text/javascript\">                                    window.PLOTLYENV=window.PLOTLYENV || {};                                    if (document.getElementById(\"098bcd55-c1b7-41f2-8eff-ed6d7fbcf911\")) {                    Plotly.newPlot(                        \"098bcd55-c1b7-41f2-8eff-ed6d7fbcf911\",                        [{\"branchvalues\":\"total\",\"customdata\":[[547.0],[8834.0],[474.0],[792.0],[738.0],[1618.0],[612.0],[1721.0],[4709.0],[218.0],[12.0],[602.0],[648.0],[232.0],[667.0],[479.0],[2484.0],[283.0],[27.0],[700.0],[463.0],[2661.0],[571.0],[3.0],[142.0],[149.0],[17.0],[2097.0],[1293.0],[1105.0],[959.0],[1712.0],[80.0],[389.0],[758.0],[309.0],[665.0],[1669.0],[680.0],[159.0],[767.0],[489.0],[494.0],[2526.0],[1095.0],[1276.0],[731.0],[39.0],[15.0],[657.0],[328.0],[1071.0],[539.0],[3513.0],[568.0],[1891.0],[1419.0],[695.0],[224.0],[1139.0],[881.0],[28.0],[552.0],[362.0],[300.0],[17.0],[130.0],[226.0],[377.0],[208.0],[888.0],[649.0],[65.0],[227.0],[535.0],[528.0],[288.0],[130.0],[7.0]],\"domain\":{\"x\":[0.0,1.0],\"y\":[0.0,1.0]},\"hovertemplate\":\"labels=%{label}<br>No._sum=%{value}<br>parent=%{parent}<br>id=%{id}<br>No.=%{color}<extra></extra>\",\"ids\":[\"\\u0e01\\u0e23\\u0e30\\u0e1a\\u0e35\\u0e48\",\"\\u0e01\\u0e23\\u0e38\\u0e07\\u0e40\\u0e17\\u0e1e\\u0e21\\u0e2b\\u0e32\\u0e19\\u0e04\\u0e23\",\"\\u0e01\\u0e32\\u0e0d\\u0e08\\u0e19\\u0e1a\\u0e38\\u0e23\\u0e35\",\"\\u0e01\\u0e32\\u0e2c\\u0e2a\\u0e34\\u0e19\\u0e18\\u0e38\\u0e4c\",\"\\u0e01\\u0e33\\u0e41\\u0e1e\\u0e07\\u0e40\\u0e1e\\u0e0a\\u0e23\",\"\\u0e02\\u0e2d\\u0e19\\u0e41\\u0e01\\u0e48\\u0e19\",\"\\u0e08\\u0e31\\u0e19\\u0e17\\u0e1a\\u0e38\\u0e23\\u0e35\",\"\\u0e09\\u0e30\\u0e40\\u0e0a\\u0e34\\u0e07\\u0e40\\u0e17\\u0e23\\u0e32\",\"\\u0e0a\\u0e25\\u0e1a\\u0e38\\u0e23\\u0e35\",\"\\u0e0a\\u0e31\\u0e22\\u0e19\\u0e32\\u0e17\",\"\\u0e0a\\u0e31\\u0e22\\u0e20\\u0e39\\u0e21\\u0e34\",\"\\u0e0a\\u0e38\\u0e21\\u0e1e\\u0e23\",\"\\u0e15\\u0e23\\u0e31\\u0e07\",\"\\u0e15\\u0e23\\u0e32\\u0e14\",\"\\u0e15\\u0e32\\u0e01\",\"\\u0e19\\u0e04\\u0e23\\u0e19\\u0e32\\u0e22\\u0e01\",\"\\u0e19\\u0e04\\u0e23\\u0e1b\\u0e10\\u0e21\",\"\\u0e19\\u0e04\\u0e23\\u0e1e\\u0e19\\u0e21\",\"\\u0e19\\u0e04\\u0e23\\u0e23\\u0e32\\u0e0a\\u0e2a\\u0e35\\u0e21\\u0e32\",\"\\u0e19\\u0e04\\u0e23\\u0e28\\u0e23\\u0e35\\u0e18\\u0e23\\u0e23\\u0e21\\u0e23\\u0e32\\u0e0a\",\"\\u0e19\\u0e04\\u0e23\\u0e2a\\u0e27\\u0e23\\u0e23\\u0e04\\u0e4c\",\"\\u0e19\\u0e19\\u0e17\\u0e1a\\u0e38\\u0e23\\u0e35\",\"\\u0e19\\u0e23\\u0e32\\u0e18\\u0e34\\u0e27\\u0e32\\u0e2a\",\"\\u0e19\\u0e2d\\u0e01\\u0e40\\u0e02\\u0e15\",\"\\u0e19\\u0e48\\u0e32\\u0e19\",\"\\u0e1a\\u0e36\\u0e07\\u0e01\\u0e32\\u0e2c\",\"\\u0e1a\\u0e38\\u0e23\\u0e35\\u0e23\\u0e31\\u0e21\\u0e22\\u0e4c\",\"\\u0e1b\\u0e17\\u0e38\\u0e21\\u0e18\\u0e32\\u0e19\\u0e35\",\"\\u0e1b\\u0e23\\u0e30\\u0e08\\u0e27\\u0e1a\\u0e04\\u0e35\\u0e23\\u0e35\\u0e02\\u0e31\\u0e19\\u0e18\\u0e4c\",\"\\u0e1b\\u0e23\\u0e32\\u0e08\\u0e35\\u0e19\\u0e1a\\u0e38\\u0e23\\u0e35\",\"\\u0e1b\\u0e31\\u0e15\\u0e15\\u0e32\\u0e19\\u0e35\",\"\\u0e1e\\u0e23\\u0e30\\u0e19\\u0e04\\u0e23\\u0e28\\u0e23\\u0e35\\u0e2d\\u0e22\\u0e38\\u0e18\\u0e22\\u0e32\",\"\\u0e1e\\u0e30\\u0e40\\u0e22\\u0e32\",\"\\u0e1e\\u0e31\\u0e07\\u0e07\\u0e32\",\"\\u0e1e\\u0e31\\u0e17\\u0e25\\u0e38\\u0e07\",\"\\u0e1e\\u0e34\\u0e08\\u0e34\\u0e15\\u0e23\",\"\\u0e1e\\u0e34\\u0e29\\u0e13\\u0e38\\u0e42\\u0e25\\u0e01\",\"\\u0e20\\u0e39\\u0e40\\u0e01\\u0e47\\u0e15\",\"\\u0e21\\u0e2b\\u0e32\\u0e2a\\u0e32\\u0e23\\u0e04\\u0e32\\u0e21\",\"\\u0e21\\u0e38\\u0e01\\u0e14\\u0e32\\u0e2b\\u0e32\\u0e23\",\"\\u0e22\\u0e30\\u0e25\\u0e32\",\"\\u0e22\\u0e42\\u0e2a\\u0e18\\u0e23\",\"\\u0e23\\u0e30\\u0e19\\u0e2d\\u0e07\",\"\\u0e23\\u0e30\\u0e22\\u0e2d\\u0e07\",\"\\u0e23\\u0e32\\u0e0a\\u0e1a\\u0e38\\u0e23\\u0e35\",\"\\u0e23\\u0e49\\u0e2d\\u0e22\\u0e40\\u0e2d\\u0e47\\u0e14\",\"\\u0e25\\u0e1e\\u0e1a\\u0e38\\u0e23\\u0e35\",\"\\u0e25\\u0e33\\u0e1b\\u0e32\\u0e07\",\"\\u0e25\\u0e33\\u0e1e\\u0e39\\u0e19\",\"\\u0e28\\u0e23\\u0e35\\u0e2a\\u0e30\\u0e40\\u0e01\\u0e29\",\"\\u0e2a\\u0e01\\u0e25\\u0e19\\u0e04\\u0e23\",\"\\u0e2a\\u0e07\\u0e02\\u0e25\\u0e32\",\"\\u0e2a\\u0e15\\u0e39\\u0e25\",\"\\u0e2a\\u0e21\\u0e38\\u0e17\\u0e23\\u0e1b\\u0e23\\u0e32\\u0e01\\u0e32\\u0e23\",\"\\u0e2a\\u0e21\\u0e38\\u0e17\\u0e23\\u0e2a\\u0e07\\u0e04\\u0e23\\u0e32\\u0e21\",\"\\u0e2a\\u0e21\\u0e38\\u0e17\\u0e23\\u0e2a\\u0e32\\u0e04\\u0e23\",\"\\u0e2a\\u0e23\\u0e30\\u0e1a\\u0e38\\u0e23\\u0e35\",\"\\u0e2a\\u0e23\\u0e30\\u0e41\\u0e01\\u0e49\\u0e27\",\"\\u0e2a\\u0e34\\u0e07\\u0e2b\\u0e4c\\u0e1a\\u0e38\\u0e23\\u0e35\",\"\\u0e2a\\u0e38\\u0e1e\\u0e23\\u0e23\\u0e13\\u0e1a\\u0e38\\u0e23\\u0e35\",\"\\u0e2a\\u0e38\\u0e23\\u0e32\\u0e29\\u0e0f\\u0e23\\u0e4c\\u0e18\\u0e32\\u0e19\\u0e35\",\"\\u0e2a\\u0e38\\u0e23\\u0e34\\u0e19\\u0e17\\u0e23\\u0e4c\",\"\\u0e2a\\u0e38\\u0e42\\u0e02\\u0e17\\u0e31\\u0e22\",\"\\u0e2b\\u0e19\\u0e2d\\u0e07\\u0e04\\u0e32\\u0e22\",\"\\u0e2b\\u0e19\\u0e2d\\u0e07\\u0e1a\\u0e31\\u0e27\\u0e25\\u0e33\\u0e20\\u0e39\",\"\\u0e2d\\u0e22\\u0e38\\u0e18\\u0e22\\u0e32\",\"\\u0e2d\\u0e33\\u0e19\\u0e32\\u0e08\\u0e40\\u0e08\\u0e23\\u0e34\\u0e0d\",\"\\u0e2d\\u0e38\\u0e14\\u0e23\\u0e18\\u0e32\\u0e19\\u0e35\",\"\\u0e2d\\u0e38\\u0e15\\u0e23\\u0e14\\u0e34\\u0e15\\u0e16\\u0e4c\",\"\\u0e2d\\u0e38\\u0e17\\u0e31\\u0e22\\u0e18\\u0e32\\u0e19\\u0e35\",\"\\u0e2d\\u0e38\\u0e1a\\u0e25\\u0e23\\u0e32\\u0e0a\\u0e18\\u0e32\\u0e19\\u0e35\",\"\\u0e2d\\u0e48\\u0e32\\u0e07\\u0e17\\u0e2d\\u0e07\",\"\\u0e40\\u0e0a\\u0e35\\u0e22\\u0e07\\u0e23\\u0e32\\u0e22\",\"\\u0e40\\u0e0a\\u0e35\\u0e22\\u0e07\\u0e43\\u0e2b\\u0e21\\u0e48\",\"\\u0e40\\u0e1e\\u0e0a\\u0e23\\u0e1a\\u0e38\\u0e23\\u0e35\",\"\\u0e40\\u0e1e\\u0e0a\\u0e23\\u0e1a\\u0e39\\u0e23\\u0e13\\u0e4c\",\"\\u0e40\\u0e25\\u0e22\",\"\\u0e41\\u0e1e\\u0e23\\u0e48\",\"\\u0e41\\u0e21\\u0e48\\u0e2e\\u0e48\\u0e2d\\u0e07\\u0e2a\\u0e2d\\u0e19\"],\"labels\":[\"\\u0e01\\u0e23\\u0e30\\u0e1a\\u0e35\\u0e48\",\"\\u0e01\\u0e23\\u0e38\\u0e07\\u0e40\\u0e17\\u0e1e\\u0e21\\u0e2b\\u0e32\\u0e19\\u0e04\\u0e23\",\"\\u0e01\\u0e32\\u0e0d\\u0e08\\u0e19\\u0e1a\\u0e38\\u0e23\\u0e35\",\"\\u0e01\\u0e32\\u0e2c\\u0e2a\\u0e34\\u0e19\\u0e18\\u0e38\\u0e4c\",\"\\u0e01\\u0e33\\u0e41\\u0e1e\\u0e07\\u0e40\\u0e1e\\u0e0a\\u0e23\",\"\\u0e02\\u0e2d\\u0e19\\u0e41\\u0e01\\u0e48\\u0e19\",\"\\u0e08\\u0e31\\u0e19\\u0e17\\u0e1a\\u0e38\\u0e23\\u0e35\",\"\\u0e09\\u0e30\\u0e40\\u0e0a\\u0e34\\u0e07\\u0e40\\u0e17\\u0e23\\u0e32\",\"\\u0e0a\\u0e25\\u0e1a\\u0e38\\u0e23\\u0e35\",\"\\u0e0a\\u0e31\\u0e22\\u0e19\\u0e32\\u0e17\",\"\\u0e0a\\u0e31\\u0e22\\u0e20\\u0e39\\u0e21\\u0e34\",\"\\u0e0a\\u0e38\\u0e21\\u0e1e\\u0e23\",\"\\u0e15\\u0e23\\u0e31\\u0e07\",\"\\u0e15\\u0e23\\u0e32\\u0e14\",\"\\u0e15\\u0e32\\u0e01\",\"\\u0e19\\u0e04\\u0e23\\u0e19\\u0e32\\u0e22\\u0e01\",\"\\u0e19\\u0e04\\u0e23\\u0e1b\\u0e10\\u0e21\",\"\\u0e19\\u0e04\\u0e23\\u0e1e\\u0e19\\u0e21\",\"\\u0e19\\u0e04\\u0e23\\u0e23\\u0e32\\u0e0a\\u0e2a\\u0e35\\u0e21\\u0e32\",\"\\u0e19\\u0e04\\u0e23\\u0e28\\u0e23\\u0e35\\u0e18\\u0e23\\u0e23\\u0e21\\u0e23\\u0e32\\u0e0a\",\"\\u0e19\\u0e04\\u0e23\\u0e2a\\u0e27\\u0e23\\u0e23\\u0e04\\u0e4c\",\"\\u0e19\\u0e19\\u0e17\\u0e1a\\u0e38\\u0e23\\u0e35\",\"\\u0e19\\u0e23\\u0e32\\u0e18\\u0e34\\u0e27\\u0e32\\u0e2a\",\"\\u0e19\\u0e2d\\u0e01\\u0e40\\u0e02\\u0e15\",\"\\u0e19\\u0e48\\u0e32\\u0e19\",\"\\u0e1a\\u0e36\\u0e07\\u0e01\\u0e32\\u0e2c\",\"\\u0e1a\\u0e38\\u0e23\\u0e35\\u0e23\\u0e31\\u0e21\\u0e22\\u0e4c\",\"\\u0e1b\\u0e17\\u0e38\\u0e21\\u0e18\\u0e32\\u0e19\\u0e35\",\"\\u0e1b\\u0e23\\u0e30\\u0e08\\u0e27\\u0e1a\\u0e04\\u0e35\\u0e23\\u0e35\\u0e02\\u0e31\\u0e19\\u0e18\\u0e4c\",\"\\u0e1b\\u0e23\\u0e32\\u0e08\\u0e35\\u0e19\\u0e1a\\u0e38\\u0e23\\u0e35\",\"\\u0e1b\\u0e31\\u0e15\\u0e15\\u0e32\\u0e19\\u0e35\",\"\\u0e1e\\u0e23\\u0e30\\u0e19\\u0e04\\u0e23\\u0e28\\u0e23\\u0e35\\u0e2d\\u0e22\\u0e38\\u0e18\\u0e22\\u0e32\",\"\\u0e1e\\u0e30\\u0e40\\u0e22\\u0e32\",\"\\u0e1e\\u0e31\\u0e07\\u0e07\\u0e32\",\"\\u0e1e\\u0e31\\u0e17\\u0e25\\u0e38\\u0e07\",\"\\u0e1e\\u0e34\\u0e08\\u0e34\\u0e15\\u0e23\",\"\\u0e1e\\u0e34\\u0e29\\u0e13\\u0e38\\u0e42\\u0e25\\u0e01\",\"\\u0e20\\u0e39\\u0e40\\u0e01\\u0e47\\u0e15\",\"\\u0e21\\u0e2b\\u0e32\\u0e2a\\u0e32\\u0e23\\u0e04\\u0e32\\u0e21\",\"\\u0e21\\u0e38\\u0e01\\u0e14\\u0e32\\u0e2b\\u0e32\\u0e23\",\"\\u0e22\\u0e30\\u0e25\\u0e32\",\"\\u0e22\\u0e42\\u0e2a\\u0e18\\u0e23\",\"\\u0e23\\u0e30\\u0e19\\u0e2d\\u0e07\",\"\\u0e23\\u0e30\\u0e22\\u0e2d\\u0e07\",\"\\u0e23\\u0e32\\u0e0a\\u0e1a\\u0e38\\u0e23\\u0e35\",\"\\u0e23\\u0e49\\u0e2d\\u0e22\\u0e40\\u0e2d\\u0e47\\u0e14\",\"\\u0e25\\u0e1e\\u0e1a\\u0e38\\u0e23\\u0e35\",\"\\u0e25\\u0e33\\u0e1b\\u0e32\\u0e07\",\"\\u0e25\\u0e33\\u0e1e\\u0e39\\u0e19\",\"\\u0e28\\u0e23\\u0e35\\u0e2a\\u0e30\\u0e40\\u0e01\\u0e29\",\"\\u0e2a\\u0e01\\u0e25\\u0e19\\u0e04\\u0e23\",\"\\u0e2a\\u0e07\\u0e02\\u0e25\\u0e32\",\"\\u0e2a\\u0e15\\u0e39\\u0e25\",\"\\u0e2a\\u0e21\\u0e38\\u0e17\\u0e23\\u0e1b\\u0e23\\u0e32\\u0e01\\u0e32\\u0e23\",\"\\u0e2a\\u0e21\\u0e38\\u0e17\\u0e23\\u0e2a\\u0e07\\u0e04\\u0e23\\u0e32\\u0e21\",\"\\u0e2a\\u0e21\\u0e38\\u0e17\\u0e23\\u0e2a\\u0e32\\u0e04\\u0e23\",\"\\u0e2a\\u0e23\\u0e30\\u0e1a\\u0e38\\u0e23\\u0e35\",\"\\u0e2a\\u0e23\\u0e30\\u0e41\\u0e01\\u0e49\\u0e27\",\"\\u0e2a\\u0e34\\u0e07\\u0e2b\\u0e4c\\u0e1a\\u0e38\\u0e23\\u0e35\",\"\\u0e2a\\u0e38\\u0e1e\\u0e23\\u0e23\\u0e13\\u0e1a\\u0e38\\u0e23\\u0e35\",\"\\u0e2a\\u0e38\\u0e23\\u0e32\\u0e29\\u0e0f\\u0e23\\u0e4c\\u0e18\\u0e32\\u0e19\\u0e35\",\"\\u0e2a\\u0e38\\u0e23\\u0e34\\u0e19\\u0e17\\u0e23\\u0e4c\",\"\\u0e2a\\u0e38\\u0e42\\u0e02\\u0e17\\u0e31\\u0e22\",\"\\u0e2b\\u0e19\\u0e2d\\u0e07\\u0e04\\u0e32\\u0e22\",\"\\u0e2b\\u0e19\\u0e2d\\u0e07\\u0e1a\\u0e31\\u0e27\\u0e25\\u0e33\\u0e20\\u0e39\",\"\\u0e2d\\u0e22\\u0e38\\u0e18\\u0e22\\u0e32\",\"\\u0e2d\\u0e33\\u0e19\\u0e32\\u0e08\\u0e40\\u0e08\\u0e23\\u0e34\\u0e0d\",\"\\u0e2d\\u0e38\\u0e14\\u0e23\\u0e18\\u0e32\\u0e19\\u0e35\",\"\\u0e2d\\u0e38\\u0e15\\u0e23\\u0e14\\u0e34\\u0e15\\u0e16\\u0e4c\",\"\\u0e2d\\u0e38\\u0e17\\u0e31\\u0e22\\u0e18\\u0e32\\u0e19\\u0e35\",\"\\u0e2d\\u0e38\\u0e1a\\u0e25\\u0e23\\u0e32\\u0e0a\\u0e18\\u0e32\\u0e19\\u0e35\",\"\\u0e2d\\u0e48\\u0e32\\u0e07\\u0e17\\u0e2d\\u0e07\",\"\\u0e40\\u0e0a\\u0e35\\u0e22\\u0e07\\u0e23\\u0e32\\u0e22\",\"\\u0e40\\u0e0a\\u0e35\\u0e22\\u0e07\\u0e43\\u0e2b\\u0e21\\u0e48\",\"\\u0e40\\u0e1e\\u0e0a\\u0e23\\u0e1a\\u0e38\\u0e23\\u0e35\",\"\\u0e40\\u0e1e\\u0e0a\\u0e23\\u0e1a\\u0e39\\u0e23\\u0e13\\u0e4c\",\"\\u0e40\\u0e25\\u0e22\",\"\\u0e41\\u0e1e\\u0e23\\u0e48\",\"\\u0e41\\u0e21\\u0e48\\u0e2e\\u0e48\\u0e2d\\u0e07\\u0e2a\\u0e2d\\u0e19\"],\"marker\":{\"coloraxis\":\"coloraxis\",\"colors\":[547.0,8834.0,474.0,792.0,738.0,1618.0,612.0,1721.0,4709.0,218.0,12.0,602.0,648.0,232.0,667.0,479.0,2484.0,283.0,27.0,700.0,463.0,2661.0,571.0,3.0,142.0,149.0,17.0,2097.0,1293.0,1105.0,959.0,1712.0,80.0,389.0,758.0,309.0,665.0,1669.0,680.0,159.0,767.0,489.0,494.0,2526.0,1095.0,1276.0,731.0,39.0,15.0,657.0,328.0,1071.0,539.0,3513.0,568.0,1891.0,1419.0,695.0,224.0,1139.0,881.0,28.0,552.0,362.0,300.0,17.0,130.0,226.0,377.0,208.0,888.0,649.0,65.0,227.0,535.0,528.0,288.0,130.0,7.0]},\"name\":\"\",\"parents\":[\"\",\"\",\"\",\"\",\"\",\"\",\"\",\"\",\"\",\"\",\"\",\"\",\"\",\"\",\"\",\"\",\"\",\"\",\"\",\"\",\"\",\"\",\"\",\"\",\"\",\"\",\"\",\"\",\"\",\"\",\"\",\"\",\"\",\"\",\"\",\"\",\"\",\"\",\"\",\"\",\"\",\"\",\"\",\"\",\"\",\"\",\"\",\"\",\"\",\"\",\"\",\"\",\"\",\"\",\"\",\"\",\"\",\"\",\"\",\"\",\"\",\"\",\"\",\"\",\"\",\"\",\"\",\"\",\"\",\"\",\"\",\"\",\"\",\"\",\"\",\"\",\"\",\"\",\"\"],\"values\":[547,8834,474,792,738,1618,612,1721,4709,218,12,602,648,232,667,479,2484,283,27,700,463,2661,571,3,142,149,17,2097,1293,1105,959,1712,80,389,758,309,665,1669,680,159,767,489,494,2526,1095,1276,731,39,15,657,328,1071,539,3513,568,1891,1419,695,224,1139,881,28,552,362,300,17,130,226,377,208,888,649,65,227,535,528,288,130,7],\"type\":\"treemap\"}],                        {\"template\":{\"data\":{\"bar\":[{\"error_x\":{\"color\":\"#2a3f5f\"},\"error_y\":{\"color\":\"#2a3f5f\"},\"marker\":{\"line\":{\"color\":\"#E5ECF6\",\"width\":0.5},\"pattern\":{\"fillmode\":\"overlay\",\"size\":10,\"solidity\":0.2}},\"type\":\"bar\"}],\"barpolar\":[{\"marker\":{\"line\":{\"color\":\"#E5ECF6\",\"width\":0.5},\"pattern\":{\"fillmode\":\"overlay\",\"size\":10,\"solidity\":0.2}},\"type\":\"barpolar\"}],\"carpet\":[{\"aaxis\":{\"endlinecolor\":\"#2a3f5f\",\"gridcolor\":\"white\",\"linecolor\":\"white\",\"minorgridcolor\":\"white\",\"startlinecolor\":\"#2a3f5f\"},\"baxis\":{\"endlinecolor\":\"#2a3f5f\",\"gridcolor\":\"white\",\"linecolor\":\"white\",\"minorgridcolor\":\"white\",\"startlinecolor\":\"#2a3f5f\"},\"type\":\"carpet\"}],\"choropleth\":[{\"colorbar\":{\"outlinewidth\":0,\"ticks\":\"\"},\"type\":\"choropleth\"}],\"contour\":[{\"colorbar\":{\"outlinewidth\":0,\"ticks\":\"\"},\"colorscale\":[[0.0,\"#0d0887\"],[0.1111111111111111,\"#46039f\"],[0.2222222222222222,\"#7201a8\"],[0.3333333333333333,\"#9c179e\"],[0.4444444444444444,\"#bd3786\"],[0.5555555555555556,\"#d8576b\"],[0.6666666666666666,\"#ed7953\"],[0.7777777777777778,\"#fb9f3a\"],[0.8888888888888888,\"#fdca26\"],[1.0,\"#f0f921\"]],\"type\":\"contour\"}],\"contourcarpet\":[{\"colorbar\":{\"outlinewidth\":0,\"ticks\":\"\"},\"type\":\"contourcarpet\"}],\"heatmap\":[{\"colorbar\":{\"outlinewidth\":0,\"ticks\":\"\"},\"colorscale\":[[0.0,\"#0d0887\"],[0.1111111111111111,\"#46039f\"],[0.2222222222222222,\"#7201a8\"],[0.3333333333333333,\"#9c179e\"],[0.4444444444444444,\"#bd3786\"],[0.5555555555555556,\"#d8576b\"],[0.6666666666666666,\"#ed7953\"],[0.7777777777777778,\"#fb9f3a\"],[0.8888888888888888,\"#fdca26\"],[1.0,\"#f0f921\"]],\"type\":\"heatmap\"}],\"heatmapgl\":[{\"colorbar\":{\"outlinewidth\":0,\"ticks\":\"\"},\"colorscale\":[[0.0,\"#0d0887\"],[0.1111111111111111,\"#46039f\"],[0.2222222222222222,\"#7201a8\"],[0.3333333333333333,\"#9c179e\"],[0.4444444444444444,\"#bd3786\"],[0.5555555555555556,\"#d8576b\"],[0.6666666666666666,\"#ed7953\"],[0.7777777777777778,\"#fb9f3a\"],[0.8888888888888888,\"#fdca26\"],[1.0,\"#f0f921\"]],\"type\":\"heatmapgl\"}],\"histogram\":[{\"marker\":{\"pattern\":{\"fillmode\":\"overlay\",\"size\":10,\"solidity\":0.2}},\"type\":\"histogram\"}],\"histogram2d\":[{\"colorbar\":{\"outlinewidth\":0,\"ticks\":\"\"},\"colorscale\":[[0.0,\"#0d0887\"],[0.1111111111111111,\"#46039f\"],[0.2222222222222222,\"#7201a8\"],[0.3333333333333333,\"#9c179e\"],[0.4444444444444444,\"#bd3786\"],[0.5555555555555556,\"#d8576b\"],[0.6666666666666666,\"#ed7953\"],[0.7777777777777778,\"#fb9f3a\"],[0.8888888888888888,\"#fdca26\"],[1.0,\"#f0f921\"]],\"type\":\"histogram2d\"}],\"histogram2dcontour\":[{\"colorbar\":{\"outlinewidth\":0,\"ticks\":\"\"},\"colorscale\":[[0.0,\"#0d0887\"],[0.1111111111111111,\"#46039f\"],[0.2222222222222222,\"#7201a8\"],[0.3333333333333333,\"#9c179e\"],[0.4444444444444444,\"#bd3786\"],[0.5555555555555556,\"#d8576b\"],[0.6666666666666666,\"#ed7953\"],[0.7777777777777778,\"#fb9f3a\"],[0.8888888888888888,\"#fdca26\"],[1.0,\"#f0f921\"]],\"type\":\"histogram2dcontour\"}],\"mesh3d\":[{\"colorbar\":{\"outlinewidth\":0,\"ticks\":\"\"},\"type\":\"mesh3d\"}],\"parcoords\":[{\"line\":{\"colorbar\":{\"outlinewidth\":0,\"ticks\":\"\"}},\"type\":\"parcoords\"}],\"pie\":[{\"automargin\":true,\"type\":\"pie\"}],\"scatter\":[{\"marker\":{\"colorbar\":{\"outlinewidth\":0,\"ticks\":\"\"}},\"type\":\"scatter\"}],\"scatter3d\":[{\"line\":{\"colorbar\":{\"outlinewidth\":0,\"ticks\":\"\"}},\"marker\":{\"colorbar\":{\"outlinewidth\":0,\"ticks\":\"\"}},\"type\":\"scatter3d\"}],\"scattercarpet\":[{\"marker\":{\"colorbar\":{\"outlinewidth\":0,\"ticks\":\"\"}},\"type\":\"scattercarpet\"}],\"scattergeo\":[{\"marker\":{\"colorbar\":{\"outlinewidth\":0,\"ticks\":\"\"}},\"type\":\"scattergeo\"}],\"scattergl\":[{\"marker\":{\"colorbar\":{\"outlinewidth\":0,\"ticks\":\"\"}},\"type\":\"scattergl\"}],\"scattermapbox\":[{\"marker\":{\"colorbar\":{\"outlinewidth\":0,\"ticks\":\"\"}},\"type\":\"scattermapbox\"}],\"scatterpolar\":[{\"marker\":{\"colorbar\":{\"outlinewidth\":0,\"ticks\":\"\"}},\"type\":\"scatterpolar\"}],\"scatterpolargl\":[{\"marker\":{\"colorbar\":{\"outlinewidth\":0,\"ticks\":\"\"}},\"type\":\"scatterpolargl\"}],\"scatterternary\":[{\"marker\":{\"colorbar\":{\"outlinewidth\":0,\"ticks\":\"\"}},\"type\":\"scatterternary\"}],\"surface\":[{\"colorbar\":{\"outlinewidth\":0,\"ticks\":\"\"},\"colorscale\":[[0.0,\"#0d0887\"],[0.1111111111111111,\"#46039f\"],[0.2222222222222222,\"#7201a8\"],[0.3333333333333333,\"#9c179e\"],[0.4444444444444444,\"#bd3786\"],[0.5555555555555556,\"#d8576b\"],[0.6666666666666666,\"#ed7953\"],[0.7777777777777778,\"#fb9f3a\"],[0.8888888888888888,\"#fdca26\"],[1.0,\"#f0f921\"]],\"type\":\"surface\"}],\"table\":[{\"cells\":{\"fill\":{\"color\":\"#EBF0F8\"},\"line\":{\"color\":\"white\"}},\"header\":{\"fill\":{\"color\":\"#C8D4E3\"},\"line\":{\"color\":\"white\"}},\"type\":\"table\"}]},\"layout\":{\"annotationdefaults\":{\"arrowcolor\":\"#2a3f5f\",\"arrowhead\":0,\"arrowwidth\":1},\"autotypenumbers\":\"strict\",\"coloraxis\":{\"colorbar\":{\"outlinewidth\":0,\"ticks\":\"\"}},\"colorscale\":{\"diverging\":[[0,\"#8e0152\"],[0.1,\"#c51b7d\"],[0.2,\"#de77ae\"],[0.3,\"#f1b6da\"],[0.4,\"#fde0ef\"],[0.5,\"#f7f7f7\"],[0.6,\"#e6f5d0\"],[0.7,\"#b8e186\"],[0.8,\"#7fbc41\"],[0.9,\"#4d9221\"],[1,\"#276419\"]],\"sequential\":[[0.0,\"#0d0887\"],[0.1111111111111111,\"#46039f\"],[0.2222222222222222,\"#7201a8\"],[0.3333333333333333,\"#9c179e\"],[0.4444444444444444,\"#bd3786\"],[0.5555555555555556,\"#d8576b\"],[0.6666666666666666,\"#ed7953\"],[0.7777777777777778,\"#fb9f3a\"],[0.8888888888888888,\"#fdca26\"],[1.0,\"#f0f921\"]],\"sequentialminus\":[[0.0,\"#0d0887\"],[0.1111111111111111,\"#46039f\"],[0.2222222222222222,\"#7201a8\"],[0.3333333333333333,\"#9c179e\"],[0.4444444444444444,\"#bd3786\"],[0.5555555555555556,\"#d8576b\"],[0.6666666666666666,\"#ed7953\"],[0.7777777777777778,\"#fb9f3a\"],[0.8888888888888888,\"#fdca26\"],[1.0,\"#f0f921\"]]},\"colorway\":[\"#636efa\",\"#EF553B\",\"#00cc96\",\"#ab63fa\",\"#FFA15A\",\"#19d3f3\",\"#FF6692\",\"#B6E880\",\"#FF97FF\",\"#FECB52\"],\"font\":{\"color\":\"#2a3f5f\"},\"geo\":{\"bgcolor\":\"white\",\"lakecolor\":\"white\",\"landcolor\":\"#E5ECF6\",\"showlakes\":true,\"showland\":true,\"subunitcolor\":\"white\"},\"hoverlabel\":{\"align\":\"left\"},\"hovermode\":\"closest\",\"mapbox\":{\"style\":\"light\"},\"paper_bgcolor\":\"white\",\"plot_bgcolor\":\"#E5ECF6\",\"polar\":{\"angularaxis\":{\"gridcolor\":\"white\",\"linecolor\":\"white\",\"ticks\":\"\"},\"bgcolor\":\"#E5ECF6\",\"radialaxis\":{\"gridcolor\":\"white\",\"linecolor\":\"white\",\"ticks\":\"\"}},\"scene\":{\"xaxis\":{\"backgroundcolor\":\"#E5ECF6\",\"gridcolor\":\"white\",\"gridwidth\":2,\"linecolor\":\"white\",\"showbackground\":true,\"ticks\":\"\",\"zerolinecolor\":\"white\"},\"yaxis\":{\"backgroundcolor\":\"#E5ECF6\",\"gridcolor\":\"white\",\"gridwidth\":2,\"linecolor\":\"white\",\"showbackground\":true,\"ticks\":\"\",\"zerolinecolor\":\"white\"},\"zaxis\":{\"backgroundcolor\":\"#E5ECF6\",\"gridcolor\":\"white\",\"gridwidth\":2,\"linecolor\":\"white\",\"showbackground\":true,\"ticks\":\"\",\"zerolinecolor\":\"white\"}},\"shapedefaults\":{\"line\":{\"color\":\"#2a3f5f\"}},\"ternary\":{\"aaxis\":{\"gridcolor\":\"white\",\"linecolor\":\"white\",\"ticks\":\"\"},\"baxis\":{\"gridcolor\":\"white\",\"linecolor\":\"white\",\"ticks\":\"\"},\"bgcolor\":\"#E5ECF6\",\"caxis\":{\"gridcolor\":\"white\",\"linecolor\":\"white\",\"ticks\":\"\"}},\"title\":{\"x\":0.05},\"xaxis\":{\"automargin\":true,\"gridcolor\":\"white\",\"linecolor\":\"white\",\"ticks\":\"\",\"title\":{\"standoff\":15},\"zerolinecolor\":\"white\",\"zerolinewidth\":2},\"yaxis\":{\"automargin\":true,\"gridcolor\":\"white\",\"linecolor\":\"white\",\"ticks\":\"\",\"title\":{\"standoff\":15},\"zerolinecolor\":\"white\",\"zerolinewidth\":2}}},\"coloraxis\":{\"colorbar\":{\"title\":{\"text\":\"No.\"}},\"colorscale\":[[0.0,\"rgb(255,255,204)\"],[0.125,\"rgb(255,237,160)\"],[0.25,\"rgb(254,217,118)\"],[0.375,\"rgb(254,178,76)\"],[0.5,\"rgb(253,141,60)\"],[0.625,\"rgb(252,78,42)\"],[0.75,\"rgb(227,26,28)\"],[0.875,\"rgb(189,0,38)\"],[1.0,\"rgb(128,0,38)\"]]},\"legend\":{\"tracegroupgap\":0},\"margin\":{\"t\":60}},                        {\"responsive\": true}                    ).then(function(){\n",
              "                            \n",
              "var gd = document.getElementById('098bcd55-c1b7-41f2-8eff-ed6d7fbcf911');\n",
              "var x = new MutationObserver(function (mutations, observer) {{\n",
              "        var display = window.getComputedStyle(gd).display;\n",
              "        if (!display || display === 'none') {{\n",
              "            console.log([gd, 'removed!']);\n",
              "            Plotly.purge(gd);\n",
              "            observer.disconnect();\n",
              "        }}\n",
              "}});\n",
              "\n",
              "// Listen for the removal of the full notebook cells\n",
              "var notebookContainer = gd.closest('#notebook-container');\n",
              "if (notebookContainer) {{\n",
              "    x.observe(notebookContainer, {childList: true});\n",
              "}}\n",
              "\n",
              "// Listen for the clearing of the current output cell\n",
              "var outputEl = gd.closest('.output');\n",
              "if (outputEl) {{\n",
              "    x.observe(outputEl, {childList: true});\n",
              "}}\n",
              "\n",
              "                        })                };                            </script>        </div>\n",
              "</body>\n",
              "</html>"
            ]
          },
          "metadata": {}
        }
      ]
    },
    {
      "cell_type": "markdown",
      "source": [
        "# Spyder (Radar) Chart"
      ],
      "metadata": {
        "id": "w_8_cYSaAo9t"
      }
    },
    {
      "cell_type": "code",
      "source": [
        "import numpy as np\n",
        "import pandas as pd #import pandas มาเพราะข้อมูลจะเกี่ยวกับตาราง\n",
        "\n",
        "import matplotlib.pyplot as plt\n",
        "from math import  pi # import math มาเนื่องจากเกี่ยวกับวงกลม นำมาใช้เพื่อดึงค่าพาย"
      ],
      "metadata": {
        "id": "Y61tqCcdBktj"
      },
      "execution_count": 164,
      "outputs": []
    },
    {
      "cell_type": "code",
      "source": [
        "data = {'client_id' : ['c1','c2','c3','c4'],\n",
        "            'Math' : [10,5,4,3],\n",
        "            'Eng' : [7,1,3,5],\n",
        "            'Friendly' : [4,8,10,4],\n",
        "            'Look' : [4,8,6,7],\n",
        "            'Money' : [2,10,5,9]}\n",
        "df = pd.DataFrame.from_dict(data)\n",
        "df"
      ],
      "metadata": {
        "id": "dZLg9YecCJ8C",
        "outputId": "844cf8e8-74d8-4183-ef14-9ff6e166c4a6",
        "colab": {
          "base_uri": "https://localhost:8080/",
          "height": 0
        }
      },
      "execution_count": 165,
      "outputs": [
        {
          "output_type": "execute_result",
          "data": {
            "text/plain": [
              "  client_id  Math  Eng  Friendly  Look  Money\n",
              "0        c1    10    7         4     4      2\n",
              "1        c2     5    1         8     8     10\n",
              "2        c3     4    3        10     6      5\n",
              "3        c4     3    5         4     7      9"
            ],
            "text/html": [
              "\n",
              "  <div id=\"df-2ad73050-483a-43dd-85b0-226290271493\">\n",
              "    <div class=\"colab-df-container\">\n",
              "      <div>\n",
              "<style scoped>\n",
              "    .dataframe tbody tr th:only-of-type {\n",
              "        vertical-align: middle;\n",
              "    }\n",
              "\n",
              "    .dataframe tbody tr th {\n",
              "        vertical-align: top;\n",
              "    }\n",
              "\n",
              "    .dataframe thead th {\n",
              "        text-align: right;\n",
              "    }\n",
              "</style>\n",
              "<table border=\"1\" class=\"dataframe\">\n",
              "  <thead>\n",
              "    <tr style=\"text-align: right;\">\n",
              "      <th></th>\n",
              "      <th>client_id</th>\n",
              "      <th>Math</th>\n",
              "      <th>Eng</th>\n",
              "      <th>Friendly</th>\n",
              "      <th>Look</th>\n",
              "      <th>Money</th>\n",
              "    </tr>\n",
              "  </thead>\n",
              "  <tbody>\n",
              "    <tr>\n",
              "      <th>0</th>\n",
              "      <td>c1</td>\n",
              "      <td>10</td>\n",
              "      <td>7</td>\n",
              "      <td>4</td>\n",
              "      <td>4</td>\n",
              "      <td>2</td>\n",
              "    </tr>\n",
              "    <tr>\n",
              "      <th>1</th>\n",
              "      <td>c2</td>\n",
              "      <td>5</td>\n",
              "      <td>1</td>\n",
              "      <td>8</td>\n",
              "      <td>8</td>\n",
              "      <td>10</td>\n",
              "    </tr>\n",
              "    <tr>\n",
              "      <th>2</th>\n",
              "      <td>c3</td>\n",
              "      <td>4</td>\n",
              "      <td>3</td>\n",
              "      <td>10</td>\n",
              "      <td>6</td>\n",
              "      <td>5</td>\n",
              "    </tr>\n",
              "    <tr>\n",
              "      <th>3</th>\n",
              "      <td>c4</td>\n",
              "      <td>3</td>\n",
              "      <td>5</td>\n",
              "      <td>4</td>\n",
              "      <td>7</td>\n",
              "      <td>9</td>\n",
              "    </tr>\n",
              "  </tbody>\n",
              "</table>\n",
              "</div>\n",
              "      <button class=\"colab-df-convert\" onclick=\"convertToInteractive('df-2ad73050-483a-43dd-85b0-226290271493')\"\n",
              "              title=\"Convert this dataframe to an interactive table.\"\n",
              "              style=\"display:none;\">\n",
              "        \n",
              "  <svg xmlns=\"http://www.w3.org/2000/svg\" height=\"24px\"viewBox=\"0 0 24 24\"\n",
              "       width=\"24px\">\n",
              "    <path d=\"M0 0h24v24H0V0z\" fill=\"none\"/>\n",
              "    <path d=\"M18.56 5.44l.94 2.06.94-2.06 2.06-.94-2.06-.94-.94-2.06-.94 2.06-2.06.94zm-11 1L8.5 8.5l.94-2.06 2.06-.94-2.06-.94L8.5 2.5l-.94 2.06-2.06.94zm10 10l.94 2.06.94-2.06 2.06-.94-2.06-.94-.94-2.06-.94 2.06-2.06.94z\"/><path d=\"M17.41 7.96l-1.37-1.37c-.4-.4-.92-.59-1.43-.59-.52 0-1.04.2-1.43.59L10.3 9.45l-7.72 7.72c-.78.78-.78 2.05 0 2.83L4 21.41c.39.39.9.59 1.41.59.51 0 1.02-.2 1.41-.59l7.78-7.78 2.81-2.81c.8-.78.8-2.07 0-2.86zM5.41 20L4 18.59l7.72-7.72 1.47 1.35L5.41 20z\"/>\n",
              "  </svg>\n",
              "      </button>\n",
              "      \n",
              "  <style>\n",
              "    .colab-df-container {\n",
              "      display:flex;\n",
              "      flex-wrap:wrap;\n",
              "      gap: 12px;\n",
              "    }\n",
              "\n",
              "    .colab-df-convert {\n",
              "      background-color: #E8F0FE;\n",
              "      border: none;\n",
              "      border-radius: 50%;\n",
              "      cursor: pointer;\n",
              "      display: none;\n",
              "      fill: #1967D2;\n",
              "      height: 32px;\n",
              "      padding: 0 0 0 0;\n",
              "      width: 32px;\n",
              "    }\n",
              "\n",
              "    .colab-df-convert:hover {\n",
              "      background-color: #E2EBFA;\n",
              "      box-shadow: 0px 1px 2px rgba(60, 64, 67, 0.3), 0px 1px 3px 1px rgba(60, 64, 67, 0.15);\n",
              "      fill: #174EA6;\n",
              "    }\n",
              "\n",
              "    [theme=dark] .colab-df-convert {\n",
              "      background-color: #3B4455;\n",
              "      fill: #D2E3FC;\n",
              "    }\n",
              "\n",
              "    [theme=dark] .colab-df-convert:hover {\n",
              "      background-color: #434B5C;\n",
              "      box-shadow: 0px 1px 3px 1px rgba(0, 0, 0, 0.15);\n",
              "      filter: drop-shadow(0px 1px 2px rgba(0, 0, 0, 0.3));\n",
              "      fill: #FFFFFF;\n",
              "    }\n",
              "  </style>\n",
              "\n",
              "      <script>\n",
              "        const buttonEl =\n",
              "          document.querySelector('#df-2ad73050-483a-43dd-85b0-226290271493 button.colab-df-convert');\n",
              "        buttonEl.style.display =\n",
              "          google.colab.kernel.accessAllowed ? 'block' : 'none';\n",
              "\n",
              "        async function convertToInteractive(key) {\n",
              "          const element = document.querySelector('#df-2ad73050-483a-43dd-85b0-226290271493');\n",
              "          const dataTable =\n",
              "            await google.colab.kernel.invokeFunction('convertToInteractive',\n",
              "                                                     [key], {});\n",
              "          if (!dataTable) return;\n",
              "\n",
              "          const docLinkHtml = 'Like what you see? Visit the ' +\n",
              "            '<a target=\"_blank\" href=https://colab.research.google.com/notebooks/data_table.ipynb>data table notebook</a>'\n",
              "            + ' to learn more about interactive tables.';\n",
              "          element.innerHTML = '';\n",
              "          dataTable['output_type'] = 'display_data';\n",
              "          await google.colab.output.renderOutput(dataTable, element);\n",
              "          const docLink = document.createElement('div');\n",
              "          docLink.innerHTML = docLinkHtml;\n",
              "          element.appendChild(docLink);\n",
              "        }\n",
              "      </script>\n",
              "    </div>\n",
              "  </div>\n",
              "  "
            ]
          },
          "metadata": {},
          "execution_count": 165
        }
      ]
    },
    {
      "cell_type": "code",
      "source": [
        "categories = list(df.columns[1:])\n",
        "categories"
      ],
      "metadata": {
        "id": "i_PCq0-KC8aL",
        "outputId": "d9fdbb52-8a4b-4d29-c7a9-81bd3c782655",
        "colab": {
          "base_uri": "https://localhost:8080/"
        }
      },
      "execution_count": 166,
      "outputs": [
        {
          "output_type": "execute_result",
          "data": {
            "text/plain": [
              "['Math', 'Eng', 'Friendly', 'Look', 'Money']"
            ]
          },
          "metadata": {},
          "execution_count": 166
        }
      ]
    },
    {
      "cell_type": "markdown",
      "source": [
        "### plot ค่า mean"
      ],
      "metadata": {
        "id": "_H4jj_PMPba5"
      }
    },
    {
      "cell_type": "code",
      "source": [
        "values = df.mean().values.flatten().tolist()\n",
        "values += values[:1] # repeat the first value to close the circular graph\n",
        "angles = [n / float(len(categories)) * 2 * pi for n in range(len(categories))]\n",
        "angles += angles[:1]"
      ],
      "metadata": {
        "id": "7by8xSaYPjBh",
        "outputId": "970cc325-cfe2-44f7-9a02-22489e20cb1b",
        "colab": {
          "base_uri": "https://localhost:8080/"
        }
      },
      "execution_count": 167,
      "outputs": [
        {
          "output_type": "stream",
          "name": "stderr",
          "text": [
            "/usr/local/lib/python3.7/dist-packages/ipykernel_launcher.py:1: FutureWarning:\n",
            "\n",
            "Dropping of nuisance columns in DataFrame reductions (with 'numeric_only=None') is deprecated; in a future version this will raise TypeError.  Select only valid columns before calling the reduction.\n",
            "\n"
          ]
        }
      ]
    },
    {
      "cell_type": "code",
      "source": [
        "fig, ax = plt.subplots(nrows=1, ncols=1, figsize=(8, 8),\n",
        "                       subplot_kw=dict(polar=True))\n",
        "\n",
        "plt.xticks(angles[:-1], categories, color='grey', size=12)\n",
        "plt.yticks(np.arange(1, 10), ['1', '2', '3', '4', '5','6','7','8','9','10'],\n",
        "           color='grey', size=12)\n",
        "\n",
        "plt.ylim(0, 10)\n",
        "ax.set_rlabel_position(30)\n",
        "\n",
        "ax.plot(angles, values, linewidth=1, linestyle='solid' , color = '#ea3033') #เส้นกราฟ\n",
        "ax.fill(angles, values, 'lightpink', alpha=0.5) #พื้นที่"
      ],
      "metadata": {
        "id": "LYkVQmoPPnR-",
        "outputId": "6f0f40a1-918b-465b-b13f-1c8ee6ad77e4",
        "colab": {
          "base_uri": "https://localhost:8080/",
          "height": 0
        }
      },
      "execution_count": 168,
      "outputs": [
        {
          "output_type": "execute_result",
          "data": {
            "text/plain": [
              "[<matplotlib.patches.Polygon at 0x7fedb0900350>]"
            ]
          },
          "metadata": {},
          "execution_count": 168
        },
        {
          "output_type": "display_data",
          "data": {
            "text/plain": [
              "<Figure size 576x576 with 1 Axes>"
            ],
            "image/png": "[encoded data removed]"
          },
          "metadata": {
            "needs_background": "dark"
          }
        }
      ]
    },
    {
      "cell_type": "markdown",
      "source": [
        "### Plot แต่ละคน"
      ],
      "metadata": {
        "id": "sXrZPGC7Pq36"
      }
    },
    {
      "cell_type": "code",
      "source": [
        "# คำนวณมุมของแต่ละคุณสมบัติ\n",
        "angles = [n / float(len(categories)) * 2 * pi for n in range(len(categories))] ## เปลี่ยน len(categories) เป็นจำนวนคุณสมบัติที่จะ plot\n",
        "angles += angles[:1]\n",
        "\n",
        "# สร้าง background graph\n",
        "fig, ax = plt.subplots(nrows=1, ncols=1, figsize=(8, 8),\n",
        "                       subplot_kw=dict(polar=True))\n",
        "\n",
        "plt.xticks(angles[:-1], categories, color='grey', size=12)\n",
        "plt.yticks(np.arange(1, 10), ['1', '2', '3', '4', '5','6','7','8','9','10'],    ## กำหนด scale ของค่าที่ต้องการแสดง\n",
        "           color='grey', size=12)\n",
        "\n",
        "plt.ylim(0, 10)\n",
        "ax.set_rlabel_position(30)\n",
        "\n",
        "# plot คนที่ 1\n",
        "val_c1 = df.loc[0].drop('client_id').values.flatten().tolist()    ## เลือกค่าที่ต้องการแสดง\n",
        "val_c1 += val_c1[:1]\n",
        "ax.plot(angles, val_c1, linewidth=1,\n",
        "        linestyle='solid', label='Person1')\n",
        "ax.fill(angles, val_c1, 'skyblue', alpha=0.4)     ## เลือกสี\n",
        "\n",
        "# plot คนที่ 2\n",
        "val_c2 = df.loc[1].drop('client_id').values.flatten().tolist()   ## เลือกค่าที่ต้องการแสดง\n",
        "val_c2 += val_c2[:1]\n",
        "ax.plot(angles, val_c2, linewidth=1,\n",
        "        linestyle='solid', label='Person2')\n",
        "ax.fill(angles, val_c2, 'lightpink', alpha=0.4)   ## เลือกสี\n",
        "\n",
        "ax.legend();"
      ],
      "metadata": {
        "id": "iRFxAmDVDJjB",
        "outputId": "958ba06c-7827-44d3-d02f-1570c1ce0228",
        "colab": {
          "base_uri": "https://localhost:8080/",
          "height": 0
        }
      },
      "execution_count": 169,
      "outputs": [
        {
          "output_type": "display_data",
          "data": {
            "text/plain": [
              "<Figure size 576x576 with 1 Axes>"
            ],
            "image/png": "[encoded data removed]"
          },
          "metadata": {
            "needs_background": "dark"
          }
        }
      ]
    },
    {
      "cell_type": "code",
      "source": [
        "# คำนวณมุมของแต่ละคุณสมบัติ\n",
        "angles = [n / float(len(categories)) * 2 * pi for n in range(len(categories))] ## เปลี่ยน len(categories) เป็นจำนวนคุณสมบัติที่จะ plot\n",
        "angles += angles[:1]\n",
        "\n",
        "# สร้าง background graph\n",
        "fig, ax = plt.subplots(nrows=1, ncols=1, figsize=(8, 8),\n",
        "                       subplot_kw=dict(polar=True))\n",
        "\n",
        "plt.xticks(angles[:-1], categories, color='grey', size=12)\n",
        "plt.yticks(np.arange(1, 10), ['1', '2', '3', '4', '5','6','7','8','9','10'],    ## กำหนด scale ของค่าที่ต้องการแสดง\n",
        "           color='grey', size=12)\n",
        "\n",
        "plt.ylim(0, 10)\n",
        "ax.set_rlabel_position(30)\n",
        "\n",
        "# plot คนที่ 1\n",
        "val_c1 = df.loc[0].drop('client_id').values.flatten().tolist()    ## เลือกค่าที่ต้องการแสดง\n",
        "val_c1 += val_c1[:1]\n",
        "ax.plot(angles, val_c1, linewidth=1,\n",
        "        linestyle='solid', label='Person1')\n",
        "ax.fill(angles, val_c1, 'skyblue', alpha=0.4)     ## เลือกสี\n",
        "\n",
        "# plot คนที่ 2\n",
        "val_c2 = df.loc[1].drop('client_id').values.flatten().tolist()   ## เลือกค่าที่ต้องการแสดง\n",
        "val_c2 += val_c2[:1]\n",
        "ax.plot(angles, val_c2, linewidth=1,\n",
        "        linestyle='solid', label='Person2')\n",
        "ax.fill(angles, val_c2, 'lightpink', alpha=0.4)   ## เลือกสี\n",
        "\n",
        "# plot ค่าเฉลี่ย\n",
        "values = df.mean().values.flatten().tolist()    ## เลือกค่าที่ต้องการแสดง\n",
        "values += values[:1] \n",
        "ax.plot(angles, values, linewidth=1, linestyle='solid' , color = 'g', label='Average Values') \n",
        "ax.fill(angles, values, 'lightgreen', alpha=0.5)    ## เลือกสี\n",
        "\n",
        "ax.legend();"
      ],
      "metadata": {
        "id": "8xK-6OZQPxDb",
        "outputId": "be97d1c0-cabc-4ec0-f87a-e57a0cd64437",
        "colab": {
          "base_uri": "https://localhost:8080/",
          "height": 0
        }
      },
      "execution_count": 170,
      "outputs": [
        {
          "output_type": "stream",
          "name": "stderr",
          "text": [
            "/usr/local/lib/python3.7/dist-packages/ipykernel_launcher.py:31: FutureWarning:\n",
            "\n",
            "Dropping of nuisance columns in DataFrame reductions (with 'numeric_only=None') is deprecated; in a future version this will raise TypeError.  Select only valid columns before calling the reduction.\n",
            "\n"
          ]
        },
        {
          "output_type": "display_data",
          "data": {
            "text/plain": [
              "<Figure size 576x576 with 1 Axes>"
            ],
            "image/png": "[encoded data removed]"
          },
          "metadata": {
            "needs_background": "dark"
          }
        }
      ]
    },
    {
      "cell_type": "code",
      "source": [
        "angles"
      ],
      "metadata": {
        "id": "LMmqaIwqP1TH",
        "outputId": "688d4fb2-f2e2-4b62-e49a-addd17f59de5",
        "colab": {
          "base_uri": "https://localhost:8080/"
        }
      },
      "execution_count": 171,
      "outputs": [
        {
          "output_type": "execute_result",
          "data": {
            "text/plain": [
              "[0.0,\n",
              " 1.2566370614359172,\n",
              " 2.5132741228718345,\n",
              " 3.7699111843077517,\n",
              " 5.026548245743669,\n",
              " 0.0]"
            ]
          },
          "metadata": {},
          "execution_count": 171
        }
      ]
    },
    {
      "cell_type": "code",
      "source": [
        "val_c1"
      ],
      "metadata": {
        "id": "y0_vXE_oP3YG",
        "outputId": "46a82640-f36f-498e-c371-32ee64768319",
        "colab": {
          "base_uri": "https://localhost:8080/"
        }
      },
      "execution_count": 172,
      "outputs": [
        {
          "output_type": "execute_result",
          "data": {
            "text/plain": [
              "[10, 7, 4, 4, 2, 10]"
            ]
          },
          "metadata": {},
          "execution_count": 172
        }
      ]
    },
    {
      "cell_type": "code",
      "source": [
        ""
      ],
      "metadata": {
        "id": "NkIJ9cHgP5dD"
      },
      "execution_count": 172,
      "outputs": []
    }
  ]
}