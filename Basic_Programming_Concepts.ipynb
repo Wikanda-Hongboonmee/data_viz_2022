{
  "nbformat": 4,
  "nbformat_minor": 0,
  "metadata": {
    "colab": {
      "name": "Basic Programming Concepts.ipynb",
      "provenance": [],
      "authorship_tag": "ABX9TyN/JPU6sQ/yar8wXklvV20t",
      "include_colab_link": true
    },
    "kernelspec": {
      "name": "python3",
      "display_name": "Python 3"
    },
    "language_info": {
      "name": "python"
    }
  },
  "cells": [
    {
      "cell_type": "markdown",
      "metadata": {
        "id": "view-in-github",
        "colab_type": "text"
      },
      "source": [
        "<a href=\"https://colab.research.google.com/github/Wikanda-Hongboonmee/data_viz_2022/blob/main/Basic_Programming_Concepts.ipynb\" target=\"_parent\"><img src=\"https://colab.research.google.com/assets/colab-badge.svg\" alt=\"Open In Colab\"/></a>"
      ]
    },
    {
      "cell_type": "markdown",
      "source": [
        "## Functions ($f$($x$) = $y$)"
      ],
      "metadata": {
        "id": "SiWvszHRGM3f"
      }
    },
    {
      "cell_type": "markdown",
      "source": [
        "\n",
        "\n",
        "```python\n",
        "def function_name(input_x):\n",
        "    # do something with input_x to get output_y\n",
        "    return output_y\n",
        "```\n",
        "\n"
      ],
      "metadata": {
        "id": "jvLZa7G6GYBq"
      }
    },
    {
      "cell_type": "markdown",
      "source": [
        "$f_1(x)=x^2 + 75$"
      ],
      "metadata": {
        "id": "eSdO9y1xGrrJ"
      }
    },
    {
      "cell_type": "code",
      "execution_count": 1,
      "metadata": {
        "colab": {
          "base_uri": "https://localhost:8080/"
        },
        "id": "EqjzJv3NGLma",
        "outputId": "4cd3b0e3-6e6d-4fc3-f874-84f573154e88"
      },
      "outputs": [
        {
          "output_type": "stream",
          "name": "stdout",
          "text": [
            "done!\n"
          ]
        }
      ],
      "source": [
        "def function_f1(x) :\n",
        "    a = x**2 # ยกกำลังสองใช้ ** สองตัว\n",
        "    y = a + 75\n",
        "    return y\n",
        "\n",
        "print('done!')\n",
        "#function ที่สมบูรณ์จะต้องมี input process output"
      ]
    },
    {
      "cell_type": "code",
      "source": [
        "function_f1(3)"
      ],
      "metadata": {
        "colab": {
          "base_uri": "https://localhost:8080/"
        },
        "id": "FWB_QaWIHDtu",
        "outputId": "9c44d106-77ec-4b85-f626-549d6b3ef43f"
      },
      "execution_count": 2,
      "outputs": [
        {
          "output_type": "execute_result",
          "data": {
            "text/plain": [
              "84"
            ]
          },
          "metadata": {},
          "execution_count": 2
        }
      ]
    },
    {
      "cell_type": "markdown",
      "source": [
        "## Function มีส่วนประกอบสำคัญทั้งหมด 4 ส่วน \n",
        "\n",
        "1. บอก Python ว่าเราจะเขียนฟังก์ชันชื่ออะไร `def function_name() : `(ขาดไม่ได้)\n",
        "\n",
        "2. กำหนดตัวแปรที่จะเป็น input (ขาดได้)\n",
        "\n",
        "3. ส่วนประมวลผล do_something with Input to get Output (ขาดไม่ได้)\n",
        "\n",
        "4. ส่วน output `return` (ขาดได้)"
      ],
      "metadata": {
        "id": "UG0CAmELHNuE"
      }
    },
    {
      "cell_type": "markdown",
      "source": [
        "###ตัวอย่าง Function ที่มีส่วนประกอบครบ"
      ],
      "metadata": {
        "id": "fm2IlB4CH710"
      }
    },
    {
      "cell_type": "code",
      "source": [
        "def function_f1(x) :\n",
        "    a = x**2 # ยกกำลังสองใช้ ** สองตัว\n",
        "    y = a + 75\n",
        "    return y"
      ],
      "metadata": {
        "id": "iCGVrp2gIUkn"
      },
      "execution_count": 3,
      "outputs": []
    },
    {
      "cell_type": "markdown",
      "source": [
        "###ตัวอย่าง Function ที่ไม่มี input"
      ],
      "metadata": {
        "id": "XMp6zokvIMO_"
      }
    },
    {
      "cell_type": "code",
      "source": [
        "def pi_v() :\n",
        "    y = 3.14159265359\n",
        "    return y"
      ],
      "metadata": {
        "id": "ljJ9crkhIXY5"
      },
      "execution_count": 4,
      "outputs": []
    },
    {
      "cell_type": "code",
      "source": [
        "piv = pi_v()\n",
        "circle_area_r2 = piv*(2**2)\n",
        "print(circle_area_r2)"
      ],
      "metadata": {
        "colab": {
          "base_uri": "https://localhost:8080/"
        },
        "id": "d_novtm3IjT4",
        "outputId": "cb6f90af-1b30-407d-822e-2e1e558f3381"
      },
      "execution_count": 5,
      "outputs": [
        {
          "output_type": "stream",
          "name": "stdout",
          "text": [
            "12.56637061436\n"
          ]
        }
      ]
    },
    {
      "cell_type": "markdown",
      "source": [
        "###Function ไม่มี process ไม่ได้"
      ],
      "metadata": {
        "id": "oLyTCsU1JOEB"
      }
    },
    {
      "cell_type": "code",
      "source": [
        "def function_a() : # Function ไม่มี process ไม่ได้ "
      ],
      "metadata": {
        "colab": {
          "base_uri": "https://localhost:8080/",
          "height": 132
        },
        "id": "zxXkVkvvJHuk",
        "outputId": "ebf1f5fe-15d7-484e-f7ac-add3bf624ef9"
      },
      "execution_count": 6,
      "outputs": [
        {
          "output_type": "error",
          "ename": "SyntaxError",
          "evalue": "ignored",
          "traceback": [
            "\u001b[0;36m  File \u001b[0;32m\"<ipython-input-6-301563318a92>\"\u001b[0;36m, line \u001b[0;32m1\u001b[0m\n\u001b[0;31m    def function_a() : # Function ไม่มี process ไม่ได้\u001b[0m\n\u001b[0m                                                       ^\u001b[0m\n\u001b[0;31mSyntaxError\u001b[0m\u001b[0;31m:\u001b[0m unexpected EOF while parsing\n"
          ]
        }
      ]
    },
    {
      "cell_type": "markdown",
      "source": [
        "###ตัวอย่าง Function ที่ไม่มี output"
      ],
      "metadata": {
        "id": "WQZPZjwJIQAK"
      }
    },
    {
      "cell_type": "code",
      "source": [
        "def print_name_id(name,id) :\n",
        "    print(f' ชื่อ {name} รหัสนักศึกษา {id}')"
      ],
      "metadata": {
        "id": "LWoXVB3kHIxn"
      },
      "execution_count": 7,
      "outputs": []
    },
    {
      "cell_type": "code",
      "source": [
        "print_name_id('วิกานดา หงษ์บุญมี','623020764-2')"
      ],
      "metadata": {
        "colab": {
          "base_uri": "https://localhost:8080/"
        },
        "id": "qPtLpvzDJzaz",
        "outputId": "68a9a156-17b0-406b-a548-9691f252fa7d"
      },
      "execution_count": 8,
      "outputs": [
        {
          "output_type": "stream",
          "name": "stdout",
          "text": [
            " ชื่อ วิกานดา หงษ์บุญมี รหัสนักศึกษา 623020764-2\n"
          ]
        }
      ]
    },
    {
      "cell_type": "code",
      "source": [
        "a = print_name_id('วิกานดา หงษ์บุญมี','623020764-2')"
      ],
      "metadata": {
        "colab": {
          "base_uri": "https://localhost:8080/"
        },
        "id": "CnFNaElKJ7AX",
        "outputId": "5636ca91-5e32-4116-c84d-f4cb556e72e5"
      },
      "execution_count": 9,
      "outputs": [
        {
          "output_type": "stream",
          "name": "stdout",
          "text": [
            " ชื่อ วิกานดา หงษ์บุญมี รหัสนักศึกษา 623020764-2\n"
          ]
        }
      ]
    },
    {
      "cell_type": "code",
      "source": [
        "a"
      ],
      "metadata": {
        "id": "EXAE53qoAhCd"
      },
      "execution_count": 10,
      "outputs": []
    },
    {
      "cell_type": "markdown",
      "source": [
        "ตัวอย่าง function `print` https://www.programiz.com/python-programming/methods/built-in/print"
      ],
      "metadata": {
        "id": "ol3wUmD8AwhV"
      }
    },
    {
      "cell_type": "markdown",
      "source": [
        "![image.png](data:image/png;base64,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)"
      ],
      "metadata": {
        "id": "2C6LN89OA19r"
      }
    },
    {
      "cell_type": "code",
      "source": [
        "print('ณัฐธิดา')\n",
        "print('623020435-1')"
      ],
      "metadata": {
        "colab": {
          "base_uri": "https://localhost:8080/"
        },
        "id": "zO_e4ewxAiYF",
        "outputId": "9de10b60-fbea-4eee-f311-70e5b2b9bc8b"
      },
      "execution_count": 11,
      "outputs": [
        {
          "output_type": "stream",
          "name": "stdout",
          "text": [
            "ณัฐธิดา\n",
            "623020435-1\n"
          ]
        }
      ]
    },
    {
      "cell_type": "code",
      "source": [
        "print('ณัฐธิดา',end='->')\n",
        "print('623020435-1')"
      ],
      "metadata": {
        "colab": {
          "base_uri": "https://localhost:8080/"
        },
        "id": "ZdPHYkYcA5O-",
        "outputId": "b692e64e-e3bc-42d1-c661-b27071812def"
      },
      "execution_count": 12,
      "outputs": [
        {
          "output_type": "stream",
          "name": "stdout",
          "text": [
            "ณัฐธิดา->623020435-1\n"
          ]
        }
      ]
    },
    {
      "cell_type": "code",
      "source": [
        "print('ณัฐธิดา','623020435-1')"
      ],
      "metadata": {
        "colab": {
          "base_uri": "https://localhost:8080/"
        },
        "id": "JOZ08HDkA70u",
        "outputId": "f515f1aa-6f9b-4469-b5f2-8fb610dfb9f6"
      },
      "execution_count": 13,
      "outputs": [
        {
          "output_type": "stream",
          "name": "stdout",
          "text": [
            "ณัฐธิดา 623020435-1\n"
          ]
        }
      ]
    },
    {
      "cell_type": "code",
      "source": [
        "print('ณัฐธิดา','623020435-1',sep=' & ')"
      ],
      "metadata": {
        "colab": {
          "base_uri": "https://localhost:8080/"
        },
        "id": "mYQyPwjgA9Ja",
        "outputId": "0638a14b-a8a8-4924-ba40-e804b8c763de"
      },
      "execution_count": 14,
      "outputs": [
        {
          "output_type": "stream",
          "name": "stdout",
          "text": [
            "ณัฐธิดา & 623020435-1\n"
          ]
        }
      ]
    },
    {
      "cell_type": "markdown",
      "source": [
        "### input ของ function แบ่งเป็น 2 ชนิด (จำเป็นต้องใส่ กับ ไม่จำเป็นต้องใส่)"
      ],
      "metadata": {
        "id": "BngpOMNbA-Zc"
      }
    },
    {
      "cell_type": "markdown",
      "source": [
        "ตัวอย่าง function `print_grade()` มี input 3 ตัว จำเป็นต้องใส่ 2 ตัว คือ name กับ id และไม่จำเป็นต้องใส่ 1 ตัว คือเกรด ซึ่งมีค่า default เป็น F"
      ],
      "metadata": {
        "id": "zwvxFUhBBDKm"
      }
    },
    {
      "cell_type": "code",
      "source": [
        "def print_grade(name,id,grade = 'F'):\n",
        "    print(f'รหัสประจำตัว {id} ชื่อ {name}')\n",
        "    print(f'ได้เกรด {grade}')"
      ],
      "metadata": {
        "id": "XeibP1KtBCnx"
      },
      "execution_count": 15,
      "outputs": []
    },
    {
      "cell_type": "code",
      "source": [
        "print_grade('วิกานดา หงษ์บุญมี','623020764-2')"
      ],
      "metadata": {
        "colab": {
          "base_uri": "https://localhost:8080/"
        },
        "id": "U5ZpUhFMBImu",
        "outputId": "66a868ad-1351-491f-e390-9b39de83d003"
      },
      "execution_count": 16,
      "outputs": [
        {
          "output_type": "stream",
          "name": "stdout",
          "text": [
            "รหัสประจำตัว 623020764-2 ชื่อ วิกานดา หงษ์บุญมี\n",
            "ได้เกรด F\n"
          ]
        }
      ]
    },
    {
      "cell_type": "code",
      "source": [
        "print_grade('วิกานดา หงษ์บุญมี','623020764-2','A')"
      ],
      "metadata": {
        "colab": {
          "base_uri": "https://localhost:8080/"
        },
        "id": "MfFqMo5-BOcv",
        "outputId": "26cdfbbc-e3e0-4ae6-a0ed-22275559e291"
      },
      "execution_count": 17,
      "outputs": [
        {
          "output_type": "stream",
          "name": "stdout",
          "text": [
            "รหัสประจำตัว 623020764-2 ชื่อ วิกานดา หงษ์บุญมี\n",
            "ได้เกรด A\n"
          ]
        }
      ]
    },
    {
      "cell_type": "code",
      "source": [
        "print_grade(name='วิกานดา หงษ์บุญมี',id='623020764-2',grade='B+')"
      ],
      "metadata": {
        "colab": {
          "base_uri": "https://localhost:8080/"
        },
        "id": "Mm-cWjjLBWCp",
        "outputId": "7ae14a86-18b3-45a5-f91c-eaee9260cab2"
      },
      "execution_count": 18,
      "outputs": [
        {
          "output_type": "stream",
          "name": "stdout",
          "text": [
            "รหัสประจำตัว 623020764-2 ชื่อ วิกานดา หงษ์บุญมี\n",
            "ได้เกรด B+\n"
          ]
        }
      ]
    },
    {
      "cell_type": "markdown",
      "source": [
        "# Looping (for)"
      ],
      "metadata": {
        "id": "a5hs2GUHBfAM"
      }
    },
    {
      "cell_type": "markdown",
      "source": [
        "\n",
        "\n",
        "```python\n",
        "for member in listEx:\n",
        "    do_something()\n",
        "```\n",
        "\n"
      ],
      "metadata": {
        "id": "GlfpOpInTvyr"
      }
    },
    {
      "cell_type": "code",
      "source": [
        "for member in [1,2,3,4,5,6] :\n",
        "    print(member)"
      ],
      "metadata": {
        "colab": {
          "base_uri": "https://localhost:8080/"
        },
        "id": "S7cjLga0UVCM",
        "outputId": "4e8c7f73-80a0-4ff2-e371-9b4946cbe47d"
      },
      "execution_count": 19,
      "outputs": [
        {
          "output_type": "stream",
          "name": "stdout",
          "text": [
            "1\n",
            "2\n",
            "3\n",
            "4\n",
            "5\n",
            "6\n"
          ]
        }
      ]
    },
    {
      "cell_type": "code",
      "source": [
        "def print_name(name) :\n",
        "    print(f' ฉันชื่อ {name}')"
      ],
      "metadata": {
        "id": "sbtjQGETU3ov"
      },
      "execution_count": 20,
      "outputs": []
    },
    {
      "cell_type": "code",
      "source": [
        "for name in ['วัชราภรณ์','จุฑากาญจน์ ','ชลธิชา','ญาดา','กิตติคุณ']:\n",
        "    N = name\n",
        "    print_name(N)"
      ],
      "metadata": {
        "colab": {
          "base_uri": "https://localhost:8080/"
        },
        "id": "Qps6auYnVHMO",
        "outputId": "9b5f8429-9a45-41a8-c1f8-4899fbb81d69"
      },
      "execution_count": 21,
      "outputs": [
        {
          "output_type": "stream",
          "name": "stdout",
          "text": [
            " ฉันชื่อ วัชราภรณ์\n",
            " ฉันชื่อ จุฑากาญจน์ \n",
            " ฉันชื่อ ชลธิชา\n",
            " ฉันชื่อ ญาดา\n",
            " ฉันชื่อ กิตติคุณ\n"
          ]
        }
      ]
    },
    {
      "cell_type": "code",
      "source": [
        "list_name_id_grade = [['นางสาวเบญญาภา ระภูเขียว','623020527-6','B'],\n",
        "                      ['นางสาวทักษิณา ราชหุ่น','623021000-1','A'],\n",
        "                      ['นางสาวปลายฟ้า คำเพ็ง','623021005-1','C']]"
      ],
      "metadata": {
        "id": "Zc4CJm3Caojo"
      },
      "execution_count": 22,
      "outputs": []
    },
    {
      "cell_type": "code",
      "source": [
        "for each in list_name_id_grade:\n",
        "    name = each[0]\n",
        "    id = each[1]\n",
        "    grade = each[2]\n",
        "    print_grade(name,id,grade)\n",
        "    print('----------------')"
      ],
      "metadata": {
        "colab": {
          "base_uri": "https://localhost:8080/"
        },
        "id": "Q6mVygEuaqvE",
        "outputId": "e17b8e4f-a51d-4a73-bcc3-19f5a0ba0a6a"
      },
      "execution_count": 23,
      "outputs": [
        {
          "output_type": "stream",
          "name": "stdout",
          "text": [
            "รหัสประจำตัว 623020527-6 ชื่อ นางสาวเบญญาภา ระภูเขียว\n",
            "ได้เกรด B\n",
            "----------------\n",
            "รหัสประจำตัว 623021000-1 ชื่อ นางสาวทักษิณา ราชหุ่น\n",
            "ได้เกรด A\n",
            "----------------\n",
            "รหัสประจำตัว 623021005-1 ชื่อ นางสาวปลายฟ้า คำเพ็ง\n",
            "ได้เกรด C\n",
            "----------------\n"
          ]
        }
      ]
    },
    {
      "cell_type": "markdown",
      "source": [
        "### ใช้ for loop เพิ่มสมาชิกใน list\n"
      ],
      "metadata": {
        "id": "TFHe7dA2au03"
      }
    },
    {
      "cell_type": "code",
      "source": [
        "list_name = []\n",
        "list_id = []\n",
        "list_grade = []\n",
        "for each in list_name_id_grade:\n",
        "    list_name.append(each[0])\n",
        "    list_id.append(each[1])\n",
        "    list_grade.append(each[2])"
      ],
      "metadata": {
        "id": "adz4C2V-atFW"
      },
      "execution_count": 24,
      "outputs": []
    },
    {
      "cell_type": "code",
      "source": [
        "list_name"
      ],
      "metadata": {
        "colab": {
          "base_uri": "https://localhost:8080/"
        },
        "id": "UclvMX6sa0uN",
        "outputId": "c85ddf73-3d29-424e-b325-8b88448a11d8"
      },
      "execution_count": 25,
      "outputs": [
        {
          "output_type": "execute_result",
          "data": {
            "text/plain": [
              "['นางสาวเบญญาภา ระภูเขียว', 'นางสาวทักษิณา ราชหุ่น', 'นางสาวปลายฟ้า คำเพ็ง']"
            ]
          },
          "metadata": {},
          "execution_count": 25
        }
      ]
    },
    {
      "cell_type": "markdown",
      "source": [
        "### การวนลูปด้วย `range()`"
      ],
      "metadata": {
        "id": "lYGq2wPtcWNs"
      }
    },
    {
      "cell_type": "code",
      "source": [
        "for i in range(100) :\n",
        "    print('งง',end=' ')"
      ],
      "metadata": {
        "colab": {
          "base_uri": "https://localhost:8080/"
        },
        "id": "4grXBUVkccY7",
        "outputId": "563ec601-6665-4071-a194-8db4b5b143ed"
      },
      "execution_count": 26,
      "outputs": [
        {
          "output_type": "stream",
          "name": "stdout",
          "text": [
            "งง งง งง งง งง งง งง งง งง งง งง งง งง งง งง งง งง งง งง งง งง งง งง งง งง งง งง งง งง งง งง งง งง งง งง งง งง งง งง งง งง งง งง งง งง งง งง งง งง งง งง งง งง งง งง งง งง งง งง งง งง งง งง งง งง งง งง งง งง งง งง งง งง งง งง งง งง งง งง งง งง งง งง งง งง งง งง งง งง งง งง งง งง งง งง งง งง งง งง งง "
          ]
        }
      ]
    },
    {
      "cell_type": "markdown",
      "source": [
        "### Loop ซ้อน Loop"
      ],
      "metadata": {
        "id": "8JtZhaSYcohQ"
      }
    },
    {
      "cell_type": "code",
      "source": [
        "for mem1 in range(2,5) : # [2,3,4]\n",
        "    print(f' now mem1 = {mem1}')\n",
        "    for mem2 in range(1,13): # [1,2,3,4,5,6,7,8,9,10,11,12]\n",
        "        print(f' {mem1} x {mem2} = {mem1 * mem2} ')\n",
        "    print('end inner')"
      ],
      "metadata": {
        "colab": {
          "base_uri": "https://localhost:8080/"
        },
        "id": "Pva5MiVbcrl_",
        "outputId": "60c537ff-007f-48dc-a6ac-8ad4c1e883c9"
      },
      "execution_count": 27,
      "outputs": [
        {
          "output_type": "stream",
          "name": "stdout",
          "text": [
            " now mem1 = 2\n",
            " 2 x 1 = 2 \n",
            " 2 x 2 = 4 \n",
            " 2 x 3 = 6 \n",
            " 2 x 4 = 8 \n",
            " 2 x 5 = 10 \n",
            " 2 x 6 = 12 \n",
            " 2 x 7 = 14 \n",
            " 2 x 8 = 16 \n",
            " 2 x 9 = 18 \n",
            " 2 x 10 = 20 \n",
            " 2 x 11 = 22 \n",
            " 2 x 12 = 24 \n",
            "end inner\n",
            " now mem1 = 3\n",
            " 3 x 1 = 3 \n",
            " 3 x 2 = 6 \n",
            " 3 x 3 = 9 \n",
            " 3 x 4 = 12 \n",
            " 3 x 5 = 15 \n",
            " 3 x 6 = 18 \n",
            " 3 x 7 = 21 \n",
            " 3 x 8 = 24 \n",
            " 3 x 9 = 27 \n",
            " 3 x 10 = 30 \n",
            " 3 x 11 = 33 \n",
            " 3 x 12 = 36 \n",
            "end inner\n",
            " now mem1 = 4\n",
            " 4 x 1 = 4 \n",
            " 4 x 2 = 8 \n",
            " 4 x 3 = 12 \n",
            " 4 x 4 = 16 \n",
            " 4 x 5 = 20 \n",
            " 4 x 6 = 24 \n",
            " 4 x 7 = 28 \n",
            " 4 x 8 = 32 \n",
            " 4 x 9 = 36 \n",
            " 4 x 10 = 40 \n",
            " 4 x 11 = 44 \n",
            " 4 x 12 = 48 \n",
            "end inner\n"
          ]
        }
      ]
    },
    {
      "cell_type": "markdown",
      "source": [
        "### Loop in Function"
      ],
      "metadata": {
        "id": "HK1WUrzjgbhC"
      }
    },
    {
      "cell_type": "code",
      "source": [
        "def print_grade_loop(names,grades):\n",
        "    for n,g in zip(names,grades):\n",
        "        print(f'{n} ได้เกรด {g}')"
      ],
      "metadata": {
        "id": "23K_qHmagfcy"
      },
      "execution_count": 28,
      "outputs": []
    },
    {
      "cell_type": "code",
      "source": [
        "print_grade_loop(list_name,list_grade)"
      ],
      "metadata": {
        "colab": {
          "base_uri": "https://localhost:8080/"
        },
        "id": "qTHnfClSocP2",
        "outputId": "434a014f-08c0-4ec5-c83c-10e79d55228a"
      },
      "execution_count": 29,
      "outputs": [
        {
          "output_type": "stream",
          "name": "stdout",
          "text": [
            "นางสาวเบญญาภา ระภูเขียว ได้เกรด B\n",
            "นางสาวทักษิณา ราชหุ่น ได้เกรด A\n",
            "นางสาวปลายฟ้า คำเพ็ง ได้เกรด C\n"
          ]
        }
      ]
    },
    {
      "cell_type": "markdown",
      "source": [
        "# Conditional Statement (if)"
      ],
      "metadata": {
        "id": "IVe9zfE7Bgs3"
      }
    },
    {
      "cell_type": "markdown",
      "source": [
        "``` \n",
        "if condition1:\n",
        "    do_something() ## ถ้า condition1 เป็นจริง ทำ do_something()\n",
        "elif condition2:\n",
        "    do_another_thing()  ## ถ้า condition1 ไม่เป็นจริงแต่ condition2 เป็นจริง ทำ do_another_thing()\n",
        "else:\n",
        "    do_the_last_thing() ## ถ้าไม่มี condition ไหนเป็นจริงเลย ทำ do_the_last_thing()\n",
        "    \n",
        "```\n",
        "\n",
        "\n"
      ],
      "metadata": {
        "id": "zUsBvoz2ogKj"
      }
    },
    {
      "cell_type": "code",
      "source": [
        "for n in list_name:\n",
        "    if len(n)>20:\n",
        "        print(f'{n} ได้เกรด A')\n",
        "    else:\n",
        "        print(f'{n} ได้เกรด F')"
      ],
      "metadata": {
        "colab": {
          "base_uri": "https://localhost:8080/"
        },
        "id": "C7v1eaA_ofWZ",
        "outputId": "14932dc8-5ff4-4797-e14f-87b933f4a5be"
      },
      "execution_count": 30,
      "outputs": [
        {
          "output_type": "stream",
          "name": "stdout",
          "text": [
            "นางสาวเบญญาภา ระภูเขียว ได้เกรด A\n",
            "นางสาวทักษิณา ราชหุ่น ได้เกรด A\n",
            "นางสาวปลายฟ้า คำเพ็ง ได้เกรด F\n"
          ]
        }
      ]
    },
    {
      "cell_type": "markdown",
      "source": [
        "### operator ที่ใช้ตรวจสอบ condition"
      ],
      "metadata": {
        "id": "3ZTRXlsPo0AD"
      }
    },
    {
      "cell_type": "markdown",
      "source": [
        "==, !=, >=, <=, <, >, and, or"
      ],
      "metadata": {
        "id": "yps9ssk6o4iA"
      }
    },
    {
      "cell_type": "code",
      "source": [
        "a = 10 == 20\n",
        "print(a)"
      ],
      "metadata": {
        "colab": {
          "base_uri": "https://localhost:8080/"
        },
        "id": "fOlgpUvuo13t",
        "outputId": "3f612134-5525-4e19-b617-b509ea4c36eb"
      },
      "execution_count": 31,
      "outputs": [
        {
          "output_type": "stream",
          "name": "stdout",
          "text": [
            "False\n"
          ]
        }
      ]
    },
    {
      "cell_type": "code",
      "source": [
        "b = 15 <= 20\n",
        "print(b)"
      ],
      "metadata": {
        "colab": {
          "base_uri": "https://localhost:8080/"
        },
        "id": "L3VRyE2Jo3eY",
        "outputId": "4b0cec11-8259-4fbb-d7e7-db0cc25d8249"
      },
      "execution_count": 32,
      "outputs": [
        {
          "output_type": "stream",
          "name": "stdout",
          "text": [
            "True\n"
          ]
        }
      ]
    },
    {
      "cell_type": "code",
      "source": [
        "if a:\n",
        "    print('x')"
      ],
      "metadata": {
        "id": "jnNFyLzVo6Ml"
      },
      "execution_count": 33,
      "outputs": []
    },
    {
      "cell_type": "code",
      "source": [
        "if True:\n",
        "    print('x')"
      ],
      "metadata": {
        "colab": {
          "base_uri": "https://localhost:8080/"
        },
        "id": "l3qTjHejo7aq",
        "outputId": "95a75494-805a-4698-dd0a-6074466c9e11"
      },
      "execution_count": 34,
      "outputs": [
        {
          "output_type": "stream",
          "name": "stdout",
          "text": [
            "x\n"
          ]
        }
      ]
    },
    {
      "cell_type": "code",
      "source": [
        "if a and b:\n",
        "    print('x')"
      ],
      "metadata": {
        "id": "TC1OM6v7o8lQ"
      },
      "execution_count": 35,
      "outputs": []
    },
    {
      "cell_type": "code",
      "source": [
        "if a or b:\n",
        "    print('x')"
      ],
      "metadata": {
        "colab": {
          "base_uri": "https://localhost:8080/"
        },
        "id": "NeBGGVwCo9sK",
        "outputId": "068ce535-d15f-4c64-d896-82919a93fb7b"
      },
      "execution_count": 36,
      "outputs": [
        {
          "output_type": "stream",
          "name": "stdout",
          "text": [
            "x\n"
          ]
        }
      ]
    },
    {
      "cell_type": "markdown",
      "source": [
        "# HW4"
      ],
      "metadata": {
        "id": "wr_nz80fo-xg"
      }
    },
    {
      "cell_type": "markdown",
      "source": [
        "เขียน function ตัดเกรด โดยที่ input เป็นคะแนน(0-100) , output เป็นเกรด (F-A) หรือ ' ไม่สามารถตัดเกรดได้ '\n",
        "\n",
        "วนลูปตัดเกรด input = [1,50,65,90,101,-5,49,'ก',80]\n",
        "\n",
        "กำหนด\n",
        "\n",
        "* ถ้าคะแนนอยู่ระหว่างมากกว่าหรือเท่ากับ 0 แต่น้อยกว่า 50 จะได้เกรด F\n",
        "* ถ้าคะแนนอยู่ระหว่างมากกว่าหรือเท่ากับ 50 แต่น้อยกว่า 55 จะได้เกรด D\n",
        "* ถ้าคะแนนอยู่ระหว่างมากกว่าหรือเท่ากับ 55 แต่น้อยกว่า 60 จะได้เกรด D+\n",
        "* ถ้าคะแนนอยู่ระหว่างมากกว่าหรือเท่ากับ 60 แต่น้อยกว่า 65 จะได้เกรด C\n",
        "* ถ้าคะแนนอยู่ระหว่างมากกว่าหรือเท่ากับ 65 แต่น้อยกว่า 70 จะได้เกรด C+\n",
        "* ถ้าคะแนนอยู่ระหว่างมากกว่าหรือเท่ากับ 70 แต่น้อยกว่า 75 จะได้เกรด B\n",
        "* ถ้าคะแนนอยู่ระหว่างมากกว่าหรือเท่ากับ 75 แต่น้อยกว่า 80 จะได้เกรด B+\n",
        "* ถ้าคะแนนอยู่ระหว่างมากกว่าหรือเท่ากับ 80 จะได้เกรด A\n",
        "* ถ้าคะแนนไม่อยู่ในช่วง 0-100 ให้ return 'ไม่สามารถตัดเกรดได้'"
      ],
      "metadata": {
        "id": "CHaIbqqvpHoh"
      }
    },
    {
      "cell_type": "code",
      "source": [
        "score = [1,50,65,90,101,-5,49,'ก',80]\n",
        "print(f'กำหนดให้คะแนนเป็น {score} สามารถตัดเกรดได้ ดังนี้')\n",
        "for i in score:\n",
        "    if type(i) == type(\"\"):\n",
        "        print (f'คะแนนเท่ากับ {i} ไม่สามารถตัดเกรดได้')\n",
        "    else:\n",
        "        if i >= 101:\n",
        "            print(f'คะแนนเท่ากับ {i} ไม่สามารถตัดเกรดได้')\n",
        "        elif i >= 80:\n",
        "            print(f'คะแนนเท่ากับ {i} ได้เกรด  A')\n",
        "        elif i >= 75:   \n",
        "            print(f'คะแนนเท่ากับ {i} ได้เกรด  B+')\n",
        "        elif i >= 70:   \n",
        "            print(f'คะแนนเท่ากับ {i} ได้เกรด  B')\n",
        "        elif i >= 65:   \n",
        "            print(f'คะแนนเท่ากับ {i} ได้เกรด  C+')\n",
        "        elif i >= 60:   \n",
        "            print(f'คะแนนเท่ากับ {i} ได้เกรด  C')\n",
        "        elif i >= 55:   \n",
        "            print(f'คะแนนเท่ากับ {i} ได้เกรด  D+')\n",
        "        elif i >= 50:   \n",
        "            print(f'คะแนนเท่ากับ {i} ได้เกรด  D')\n",
        "        elif i >= 0:   \n",
        "            print(f'คะแนนเท่ากับ {i} ได้เกรด  F')\n",
        "        else :   \n",
        "            print(f'คะแนนเท่ากับ {i} ไม่สามารถตัดเกรดได้')\n"
      ],
      "metadata": {
        "id": "RR98-cIrpAry",
        "colab": {
          "base_uri": "https://localhost:8080/"
        },
        "outputId": "61e11d15-fc52-427f-8317-88c3a702d091"
      },
      "execution_count": 41,
      "outputs": [
        {
          "output_type": "stream",
          "name": "stdout",
          "text": [
            "กำหนดให้คะแนนเป็น [1, 50, 65, 90, 101, -5, 49, 'ก', 80] สามารถตัดเกรดได้ ดังนี้\n",
            "คะแนนเท่ากับ 1 ได้เกรด  F\n",
            "คะแนนเท่ากับ 50 ได้เกรด  D\n",
            "คะแนนเท่ากับ 65 ได้เกรด  C+\n",
            "คะแนนเท่ากับ 90 ได้เกรด  A\n",
            "คะแนนเท่ากับ 101 ไม่สามารถตัดเกรดได้\n",
            "คะแนนเท่ากับ -5 ไม่สามารถตัดเกรดได้\n",
            "คะแนนเท่ากับ 49 ได้เกรด  F\n",
            "คะแนนเท่ากับ ก ไม่สามารถตัดเกรดได้\n",
            "คะแนนเท่ากับ 80 ได้เกรด  A\n"
          ]
        }
      ]
    }
  ]
}