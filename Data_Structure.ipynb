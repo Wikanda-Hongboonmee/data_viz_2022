{
  "nbformat": 4,
  "nbformat_minor": 0,
  "metadata": {
    "colab": {
      "name": "Data Structure.ipynb",
      "provenance": [],
      "authorship_tag": "ABX9TyP1DaIaAqmwXKDDJVNlO1GJ",
      "include_colab_link": true
    },
    "kernelspec": {
      "name": "python3",
      "display_name": "Python 3"
    },
    "language_info": {
      "name": "python"
    }
  },
  "cells": [
    {
      "cell_type": "markdown",
      "metadata": {
        "id": "view-in-github",
        "colab_type": "text"
      },
      "source": [
        "<a href=\"https://colab.research.google.com/github/Wikanda-Hongboonmee/data_viz_2022/blob/main/Data_Structure.ipynb\" target=\"_parent\"><img src=\"https://colab.research.google.com/assets/colab-badge.svg\" alt=\"Open In Colab\"/></a>"
      ]
    },
    {
      "cell_type": "markdown",
      "source": [
        "# Data Structure (โครงสร้างข้อมูล)\n",
        "การเก็บข้อมูลหลาย ๆ ตัวไว้ด้วยกันอย่างเป็นระเบียบ"
      ],
      "metadata": {
        "id": "dd0_AUhX6HZw"
      }
    },
    {
      "cell_type": "markdown",
      "source": [
        "## `list()`\n",
        "\n",
        "- เป็นโครงสร้างข้อมูลที่ง่ายที่สุด เก็บอะไรก็ได้\n",
        "- ลำดับในการเก็บ มีความสำคัญ "
      ],
      "metadata": {
        "id": "9vb5iZJh6okJ"
      }
    },
    {
      "cell_type": "code",
      "execution_count": 1,
      "metadata": {
        "id": "jm8YEV8C5MoZ"
      },
      "outputs": [],
      "source": [
        "list_a = [1,2,3,4,5,6] # [ ] square brackets"
      ]
    },
    {
      "cell_type": "code",
      "source": [
        "list_a "
      ],
      "metadata": {
        "colab": {
          "base_uri": "https://localhost:8080/"
        },
        "id": "Mgj3CO106223",
        "outputId": "d93874fe-4962-4ebb-bb6e-b0d53c60dec3"
      },
      "execution_count": 2,
      "outputs": [
        {
          "output_type": "execute_result",
          "data": {
            "text/plain": [
              "[1, 2, 3, 4, 5, 6]"
            ]
          },
          "metadata": {},
          "execution_count": 2
        }
      ]
    },
    {
      "cell_type": "code",
      "source": [
        "list_b = ['ab',2,3.14,list_a] # เราสามารถเอาอะไรมาเก็บไว้ใน list ก็ได้"
      ],
      "metadata": {
        "id": "4nSdN1Wy636A"
      },
      "execution_count": 3,
      "outputs": []
    },
    {
      "cell_type": "code",
      "source": [
        "list_b"
      ],
      "metadata": {
        "colab": {
          "base_uri": "https://localhost:8080/"
        },
        "id": "yCsrjQOZ7F8B",
        "outputId": "acdda524-1434-47ce-9095-d132c89f35b8"
      },
      "execution_count": 4,
      "outputs": [
        {
          "output_type": "execute_result",
          "data": {
            "text/plain": [
              "['ab', 2, 3.14, [1, 2, 3, 4, 5, 6]]"
            ]
          },
          "metadata": {},
          "execution_count": 4
        }
      ]
    },
    {
      "cell_type": "markdown",
      "source": [
        "### indexing() การชี้สมาชิกใน list ด้วย เลขลำดับของ list"
      ],
      "metadata": {
        "id": "ENraYLak8Kp6"
      }
    },
    {
      "cell_type": "code",
      "source": [
        "list_b[3] # ดึงสมาชิตัวที่ 3 ของ list_b เริ่มนับตัวแรกเป็น 0"
      ],
      "metadata": {
        "colab": {
          "base_uri": "https://localhost:8080/"
        },
        "id": "cp_Kp9YW7HTv",
        "outputId": "ef0f2f4a-dee6-4437-f014-f15572aa0382"
      },
      "execution_count": 5,
      "outputs": [
        {
          "output_type": "execute_result",
          "data": {
            "text/plain": [
              "[1, 2, 3, 4, 5, 6]"
            ]
          },
          "metadata": {},
          "execution_count": 5
        }
      ]
    },
    {
      "cell_type": "code",
      "source": [
        "list_b[3][4] # list ซ้อน list ชี้สมาชิกใน list ตัวแรกก่อนแล้วค่อยชี้ตัวที่ 2"
      ],
      "metadata": {
        "colab": {
          "base_uri": "https://localhost:8080/"
        },
        "id": "0P2lRNQ77lax",
        "outputId": "c917a143-02c0-4440-9195-68b9621743a5"
      },
      "execution_count": 6,
      "outputs": [
        {
          "output_type": "execute_result",
          "data": {
            "text/plain": [
              "5"
            ]
          },
          "metadata": {},
          "execution_count": 6
        }
      ]
    },
    {
      "cell_type": "code",
      "source": [
        "list_a[6] # สมาชิกใน list มี 5 ตัวถ้าชี้ลำดับที่ไม่มีใน list จะ error"
      ],
      "metadata": {
        "colab": {
          "base_uri": "https://localhost:8080/",
          "height": 166
        },
        "id": "ehfQAj937-yl",
        "outputId": "1011322b-a75a-4c37-d459-0b300d7fe2d6"
      },
      "execution_count": 7,
      "outputs": [
        {
          "output_type": "error",
          "ename": "IndexError",
          "evalue": "ignored",
          "traceback": [
            "\u001b[0;31m---------------------------------------------------------------------------\u001b[0m",
            "\u001b[0;31mIndexError\u001b[0m                                Traceback (most recent call last)",
            "\u001b[0;32m<ipython-input-7-2235f93a07e4>\u001b[0m in \u001b[0;36m<module>\u001b[0;34m()\u001b[0m\n\u001b[0;32m----> 1\u001b[0;31m \u001b[0mlist_a\u001b[0m\u001b[0;34m[\u001b[0m\u001b[0;36m6\u001b[0m\u001b[0;34m]\u001b[0m \u001b[0;31m# สมาชิกใน list มี 5 ตัวถ้าชี้ลำดับที่ไม่มีใน list จะ error\u001b[0m\u001b[0;34m\u001b[0m\u001b[0;34m\u001b[0m\u001b[0m\n\u001b[0m",
            "\u001b[0;31mIndexError\u001b[0m: list index out of range"
          ]
        }
      ]
    },
    {
      "cell_type": "code",
      "source": [
        "list_a[-1] # index -1 คือตัวสุดท้ายของ list"
      ],
      "metadata": {
        "colab": {
          "base_uri": "https://localhost:8080/"
        },
        "id": "gaoJJn0H8im7",
        "outputId": "54f06dff-5d43-4008-d68a-afe359042c37"
      },
      "execution_count": 8,
      "outputs": [
        {
          "output_type": "execute_result",
          "data": {
            "text/plain": [
              "6"
            ]
          },
          "metadata": {},
          "execution_count": 8
        }
      ]
    },
    {
      "cell_type": "code",
      "source": [
        "list_a[-4] # index -4 จะนับจากท้ายมา"
      ],
      "metadata": {
        "colab": {
          "base_uri": "https://localhost:8080/"
        },
        "id": "Mv85M4pY803o",
        "outputId": "a1d89221-8dc3-4340-dea5-0fbabacbd5ef"
      },
      "execution_count": 9,
      "outputs": [
        {
          "output_type": "execute_result",
          "data": {
            "text/plain": [
              "3"
            ]
          },
          "metadata": {},
          "execution_count": 9
        }
      ]
    },
    {
      "cell_type": "markdown",
      "source": [
        "### การสร้าง `list()`"
      ],
      "metadata": {
        "id": "uguKxWVx94AR"
      }
    },
    {
      "cell_type": "code",
      "source": [
        "list_x1 = [] # แบบที่ 1 เป็นการสร้าง list ขึ้นมาเลย\n",
        "list_x2 = list() # แบบที่ 2 เป็นการการสร้าง list ด้วยคำสั่งพิเศษ"
      ],
      "metadata": {
        "id": "L6dopx4d9RMI"
      },
      "execution_count": 10,
      "outputs": []
    },
    {
      "cell_type": "code",
      "source": [
        "print(list_x1)\n",
        "print(list_x2)"
      ],
      "metadata": {
        "colab": {
          "base_uri": "https://localhost:8080/"
        },
        "id": "LoIulBeF-W3V",
        "outputId": "236fc9e0-b553-4ed9-e49a-1d96a7be2d4e"
      },
      "execution_count": 11,
      "outputs": [
        {
          "output_type": "stream",
          "name": "stdout",
          "text": [
            "[]\n",
            "[]\n"
          ]
        }
      ]
    },
    {
      "cell_type": "markdown",
      "source": [
        "### เพิ่มสมาชิกใน list ด้วย `append()`"
      ],
      "metadata": {
        "id": "yDKABGgH-t4L"
      }
    },
    {
      "cell_type": "code",
      "source": [
        "list_x1.append(2)"
      ],
      "metadata": {
        "id": "UXHN0UUv-aP1"
      },
      "execution_count": 12,
      "outputs": []
    },
    {
      "cell_type": "code",
      "source": [
        "list_x1"
      ],
      "metadata": {
        "colab": {
          "base_uri": "https://localhost:8080/"
        },
        "id": "avyDH2FF-48n",
        "outputId": "5526c019-a2a0-49f9-e3c1-63fd2687159a"
      },
      "execution_count": 13,
      "outputs": [
        {
          "output_type": "execute_result",
          "data": {
            "text/plain": [
              "[2]"
            ]
          },
          "metadata": {},
          "execution_count": 13
        }
      ]
    },
    {
      "cell_type": "code",
      "source": [
        "list_x1.append(4) # ลำดับมีความสำคัญ\n",
        "print(list_x1)"
      ],
      "metadata": {
        "colab": {
          "base_uri": "https://localhost:8080/"
        },
        "id": "lKgHeokB-7RW",
        "outputId": "14f3386d-5ffb-472b-bf8b-295e0719c432"
      },
      "execution_count": 14,
      "outputs": [
        {
          "output_type": "stream",
          "name": "stdout",
          "text": [
            "[2, 4]\n"
          ]
        }
      ]
    },
    {
      "cell_type": "code",
      "source": [
        "list_x1[0] # สมาชิกตัวที่ 0 หรือตัวแรกของ list"
      ],
      "metadata": {
        "colab": {
          "base_uri": "https://localhost:8080/"
        },
        "id": "N_hPra7y_AjV",
        "outputId": "206ba4e7-7cac-4fd1-a959-b6fd05c9823e"
      },
      "execution_count": 15,
      "outputs": [
        {
          "output_type": "execute_result",
          "data": {
            "text/plain": [
              "2"
            ]
          },
          "metadata": {},
          "execution_count": 15
        }
      ]
    },
    {
      "cell_type": "code",
      "source": [
        "list_x1[-1] # สมาชิกตัวที่ -1 หรือตัวสุดท้ายของ list"
      ],
      "metadata": {
        "colab": {
          "base_uri": "https://localhost:8080/"
        },
        "id": "B8wB_xz1_D3C",
        "outputId": "79c3b4a4-6d53-4e26-a2ef-b2cea516abf5"
      },
      "execution_count": 16,
      "outputs": [
        {
          "output_type": "execute_result",
          "data": {
            "text/plain": [
              "4"
            ]
          },
          "metadata": {},
          "execution_count": 16
        }
      ]
    },
    {
      "cell_type": "code",
      "source": [
        "list_x2.append('ha')"
      ],
      "metadata": {
        "id": "0W7cqwBa_Iwc"
      },
      "execution_count": 17,
      "outputs": []
    },
    {
      "cell_type": "code",
      "source": [
        "list_x2"
      ],
      "metadata": {
        "colab": {
          "base_uri": "https://localhost:8080/"
        },
        "id": "tzHBnIuGAKSg",
        "outputId": "0c4eb828-bcd4-40c6-a8fd-db9613a62624"
      },
      "execution_count": 18,
      "outputs": [
        {
          "output_type": "execute_result",
          "data": {
            "text/plain": [
              "['ha']"
            ]
          },
          "metadata": {},
          "execution_count": 18
        }
      ]
    },
    {
      "cell_type": "markdown",
      "source": [
        "### ลบสมาชิกจาก` list ()`"
      ],
      "metadata": {
        "id": "nTszKvjwAN1v"
      }
    },
    {
      "cell_type": "code",
      "source": [
        "list_x1.append('ha')"
      ],
      "metadata": {
        "id": "D41AG0xQALv0"
      },
      "execution_count": 19,
      "outputs": []
    },
    {
      "cell_type": "code",
      "source": [
        "list_x1"
      ],
      "metadata": {
        "colab": {
          "base_uri": "https://localhost:8080/"
        },
        "id": "5DufDvIDAWXv",
        "outputId": "91876157-a320-4355-aa08-dd65aab5f006"
      },
      "execution_count": 20,
      "outputs": [
        {
          "output_type": "execute_result",
          "data": {
            "text/plain": [
              "[2, 4, 'ha']"
            ]
          },
          "metadata": {},
          "execution_count": 20
        }
      ]
    },
    {
      "cell_type": "code",
      "source": [
        "list_x1.pop() # ลบสมาชิกออกจาก list ลบจากลำดับท้ายสุดมาหน้า\n",
        "print(list_x1)"
      ],
      "metadata": {
        "colab": {
          "base_uri": "https://localhost:8080/"
        },
        "id": "oFz-p4XfAYDl",
        "outputId": "b9ab7713-20eb-4473-fd57-e4fd3b294e6e"
      },
      "execution_count": 21,
      "outputs": [
        {
          "output_type": "stream",
          "name": "stdout",
          "text": [
            "[2, 4]\n"
          ]
        }
      ]
    },
    {
      "cell_type": "code",
      "source": [
        "list_x2.append('ha')"
      ],
      "metadata": {
        "id": "tAhQwYvunjKf"
      },
      "execution_count": 22,
      "outputs": []
    },
    {
      "cell_type": "code",
      "source": [
        "list_x2"
      ],
      "metadata": {
        "colab": {
          "base_uri": "https://localhost:8080/"
        },
        "id": "n6OGs90WnkRJ",
        "outputId": "ba3d7ff1-3cd0-4dec-f3e3-fda80988529d"
      },
      "execution_count": 23,
      "outputs": [
        {
          "output_type": "execute_result",
          "data": {
            "text/plain": [
              "['ha', 'ha']"
            ]
          },
          "metadata": {},
          "execution_count": 23
        }
      ]
    },
    {
      "cell_type": "code",
      "source": [
        "list_x2.pop() # ลบสมาชิกออกจาก list ลบจากลำดับท้ายสุดมาหน้า\n",
        "print(list_x2)"
      ],
      "metadata": {
        "colab": {
          "base_uri": "https://localhost:8080/"
        },
        "id": "cg1mQAzknlw-",
        "outputId": "dfb1d987-96d9-413d-a6d9-7dedbff6cc79"
      },
      "execution_count": 24,
      "outputs": [
        {
          "output_type": "stream",
          "name": "stdout",
          "text": [
            "['ha']\n"
          ]
        }
      ]
    },
    {
      "cell_type": "markdown",
      "source": [
        "###` len()` ตรวจสอบจำนวนสมาชิกของ list"
      ],
      "metadata": {
        "id": "rhL5nbHmCMKL"
      }
    },
    {
      "cell_type": "code",
      "source": [
        "print(list_b)\n",
        "print(len(list_b))  # len เป็นการนับจำนวนสมาชิกของ list_b"
      ],
      "metadata": {
        "colab": {
          "base_uri": "https://localhost:8080/"
        },
        "id": "eCmntPEqArVG",
        "outputId": "7a5166a4-a3b7-49a9-ac3e-ff9b07d7944f"
      },
      "execution_count": 25,
      "outputs": [
        {
          "output_type": "stream",
          "name": "stdout",
          "text": [
            "['ab', 2, 3.14, [1, 2, 3, 4, 5, 6]]\n",
            "4\n"
          ]
        }
      ]
    },
    {
      "cell_type": "code",
      "source": [
        "len(list_a) # len  เป็นการนับจำนวนสมาชิกของ list_a"
      ],
      "metadata": {
        "colab": {
          "base_uri": "https://localhost:8080/"
        },
        "id": "P7Xpf1iFCXxq",
        "outputId": "bfee8f15-ba3a-4c1d-a1e0-3b3e52b1f442"
      },
      "execution_count": 26,
      "outputs": [
        {
          "output_type": "execute_result",
          "data": {
            "text/plain": [
              "6"
            ]
          },
          "metadata": {},
          "execution_count": 26
        }
      ]
    },
    {
      "cell_type": "markdown",
      "source": [
        "### String is a list of characters : String เป็น list ของ characters"
      ],
      "metadata": {
        "id": "_sf5Z24SCknR"
      }
    },
    {
      "cell_type": "code",
      "source": [
        "st_stat = 'Department of Statistics, Faculty of Science'"
      ],
      "metadata": {
        "id": "U9DS-Gp3CbOh"
      },
      "execution_count": 27,
      "outputs": []
    },
    {
      "cell_type": "code",
      "source": [
        "st_stat[10]"
      ],
      "metadata": {
        "colab": {
          "base_uri": "https://localhost:8080/",
          "height": 34
        },
        "id": "0h5HwbcJDCxn",
        "outputId": "7fd43905-5df4-4da7-defd-09f61b2092ce"
      },
      "execution_count": 28,
      "outputs": [
        {
          "output_type": "execute_result",
          "data": {
            "application/vnd.google.colaboratory.intrinsic+json": {
              "type": "string"
            },
            "text/plain": [
              "' '"
            ]
          },
          "metadata": {},
          "execution_count": 28
        }
      ]
    },
    {
      "cell_type": "code",
      "source": [
        "len(st_stat)"
      ],
      "metadata": {
        "colab": {
          "base_uri": "https://localhost:8080/"
        },
        "id": "rRbLu_q8DF0u",
        "outputId": "bfaee698-dcde-4caa-919b-8a60a8c6805c"
      },
      "execution_count": 29,
      "outputs": [
        {
          "output_type": "execute_result",
          "data": {
            "text/plain": [
              "44"
            ]
          },
          "metadata": {},
          "execution_count": 29
        }
      ]
    },
    {
      "cell_type": "markdown",
      "source": [
        "### List Slicing `:`\n",
        "\n",
        "\n",
        "\n",
        "```\n",
        "list[จุดเริ่มต้น (ทึบ):จุดสุดท้าย (โปร่ง)]\n",
        "```\n",
        "```\n",
        "list[จุดเริ่มต้น (ทึบ):จุดสุดท้าย (โปร่ง):step]\n",
        "```\n",
        "\n"
      ],
      "metadata": {
        "id": "5ROhvNd6DXzz"
      }
    },
    {
      "cell_type": "markdown",
      "source": [
        "![image.png](data:image/png;base64,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)"
      ],
      "metadata": {
        "id": "efZZRO3qFbus"
      }
    },
    {
      "cell_type": "code",
      "source": [
        "list_a"
      ],
      "metadata": {
        "colab": {
          "base_uri": "https://localhost:8080/"
        },
        "id": "rW5eCAwlDSl1",
        "outputId": "f5177ebb-301a-4d10-b45e-f5a49c1b147f"
      },
      "execution_count": 30,
      "outputs": [
        {
          "output_type": "execute_result",
          "data": {
            "text/plain": [
              "[1, 2, 3, 4, 5, 6]"
            ]
          },
          "metadata": {},
          "execution_count": 30
        }
      ]
    },
    {
      "cell_type": "code",
      "source": [
        "list_a[2]"
      ],
      "metadata": {
        "colab": {
          "base_uri": "https://localhost:8080/"
        },
        "id": "oYxHo_H-Dxu-",
        "outputId": "d75c4e76-c769-4517-de9f-fa88308dc896"
      },
      "execution_count": 31,
      "outputs": [
        {
          "output_type": "execute_result",
          "data": {
            "text/plain": [
              "3"
            ]
          },
          "metadata": {},
          "execution_count": 31
        }
      ]
    },
    {
      "cell_type": "markdown",
      "source": [
        "#### `:` colon"
      ],
      "metadata": {
        "id": "LkkVytMUFlSc"
      }
    },
    {
      "cell_type": "code",
      "source": [
        "list_a[-3:] # : colon สมาชิกสามตัวสุดท้ายของ list"
      ],
      "metadata": {
        "colab": {
          "base_uri": "https://localhost:8080/"
        },
        "id": "du4KdHnSEKsP",
        "outputId": "fa3333d0-839f-4015-c0f7-40dee7f1ef58"
      },
      "execution_count": 32,
      "outputs": [
        {
          "output_type": "execute_result",
          "data": {
            "text/plain": [
              "[4, 5, 6]"
            ]
          },
          "metadata": {},
          "execution_count": 32
        }
      ]
    },
    {
      "cell_type": "code",
      "source": [
        "list_a[1:4]"
      ],
      "metadata": {
        "colab": {
          "base_uri": "https://localhost:8080/"
        },
        "id": "ymPwapZSEPuC",
        "outputId": "2514db9b-14d9-47c5-de3e-1198cb32b0c5"
      },
      "execution_count": 33,
      "outputs": [
        {
          "output_type": "execute_result",
          "data": {
            "text/plain": [
              "[2, 3, 4]"
            ]
          },
          "metadata": {},
          "execution_count": 33
        }
      ]
    },
    {
      "cell_type": "code",
      "source": [
        "list_a[:]"
      ],
      "metadata": {
        "id": "8msVrEPNFqLB",
        "outputId": "daf84af9-c98d-4110-cc54-8cdfaea69dc5",
        "colab": {
          "base_uri": "https://localhost:8080/"
        }
      },
      "execution_count": 34,
      "outputs": [
        {
          "output_type": "execute_result",
          "data": {
            "text/plain": [
              "[1, 2, 3, 4, 5, 6]"
            ]
          },
          "metadata": {},
          "execution_count": 34
        }
      ]
    },
    {
      "cell_type": "markdown",
      "source": [
        "#### step"
      ],
      "metadata": {
        "id": "nd-Ts8n1FiSZ"
      }
    },
    {
      "cell_type": "code",
      "source": [
        "list_c = [1,2,3,4,5,6,7,8,9,10,11,12,13]"
      ],
      "metadata": {
        "id": "s5ZZ6K__GR7x"
      },
      "execution_count": 35,
      "outputs": []
    },
    {
      "cell_type": "code",
      "source": [
        "list_c[:10:] # ไม่มีการกำหนด step"
      ],
      "metadata": {
        "id": "qOBZijMMFs3D",
        "outputId": "6f6db85b-bd98-4ebb-8341-d50e8cc6f72b",
        "colab": {
          "base_uri": "https://localhost:8080/"
        }
      },
      "execution_count": 36,
      "outputs": [
        {
          "output_type": "execute_result",
          "data": {
            "text/plain": [
              "[1, 2, 3, 4, 5, 6, 7, 8, 9, 10]"
            ]
          },
          "metadata": {},
          "execution_count": 36
        }
      ]
    },
    {
      "cell_type": "code",
      "source": [
        "list_c[:10:2] # มีการกำหนด step คือ กระโดดไป 2 step"
      ],
      "metadata": {
        "id": "RJdjXWmoFvSu",
        "outputId": "04ac1c20-094b-4e7b-8a99-266b6189de4d",
        "colab": {
          "base_uri": "https://localhost:8080/"
        }
      },
      "execution_count": 37,
      "outputs": [
        {
          "output_type": "execute_result",
          "data": {
            "text/plain": [
              "[1, 3, 5, 7, 9]"
            ]
          },
          "metadata": {},
          "execution_count": 37
        }
      ]
    },
    {
      "cell_type": "code",
      "source": [
        "list_c[::-1] # มีการกำหนด step คือ กระโดดไป -1 step เอาทุกตัวแต่กระโดดมาจากข้างหลัง"
      ],
      "metadata": {
        "id": "eIcdfFLsFwxV",
        "outputId": "bc27c96d-2b24-479f-e718-ee8d4e659506",
        "colab": {
          "base_uri": "https://localhost:8080/"
        }
      },
      "execution_count": 38,
      "outputs": [
        {
          "output_type": "execute_result",
          "data": {
            "text/plain": [
              "[13, 12, 11, 10, 9, 8, 7, 6, 5, 4, 3, 2, 1]"
            ]
          },
          "metadata": {},
          "execution_count": 38
        }
      ]
    },
    {
      "cell_type": "markdown",
      "source": [
        "### `range()`"
      ],
      "metadata": {
        "id": "xwuz1Hx0F0T9"
      }
    },
    {
      "cell_type": "code",
      "source": [
        "range(21)"
      ],
      "metadata": {
        "id": "1QEt8-6UF5SG",
        "outputId": "841ff584-ea9d-4802-8ba1-fae6c3e14d7f",
        "colab": {
          "base_uri": "https://localhost:8080/"
        }
      },
      "execution_count": 39,
      "outputs": [
        {
          "output_type": "execute_result",
          "data": {
            "text/plain": [
              "range(0, 21)"
            ]
          },
          "metadata": {},
          "execution_count": 39
        }
      ]
    },
    {
      "cell_type": "code",
      "source": [
        "a = list(range(21))"
      ],
      "metadata": {
        "id": "m-aM-mMyF8H7"
      },
      "execution_count": 40,
      "outputs": []
    },
    {
      "cell_type": "code",
      "source": [
        "a # แสดงผล list a จะประกอบไปด้วยสมาชิกทั้งหมด 21 ตัว"
      ],
      "metadata": {
        "id": "YE0Gs-SYF94j",
        "outputId": "392b72df-8cb9-489c-e388-fbff27d7a3b9",
        "colab": {
          "base_uri": "https://localhost:8080/"
        }
      },
      "execution_count": 41,
      "outputs": [
        {
          "output_type": "execute_result",
          "data": {
            "text/plain": [
              "[0, 1, 2, 3, 4, 5, 6, 7, 8, 9, 10, 11, 12, 13, 14, 15, 16, 17, 18, 19, 20]"
            ]
          },
          "metadata": {},
          "execution_count": 41
        }
      ]
    },
    {
      "cell_type": "code",
      "source": [
        "list(range(1,21))"
      ],
      "metadata": {
        "id": "QAaFhs2BGBP9",
        "outputId": "1604f729-555a-4e9a-9dff-ae0938e1e34c",
        "colab": {
          "base_uri": "https://localhost:8080/"
        }
      },
      "execution_count": 42,
      "outputs": [
        {
          "output_type": "execute_result",
          "data": {
            "text/plain": [
              "[1, 2, 3, 4, 5, 6, 7, 8, 9, 10, 11, 12, 13, 14, 15, 16, 17, 18, 19, 20]"
            ]
          },
          "metadata": {},
          "execution_count": 42
        }
      ]
    },
    {
      "cell_type": "markdown",
      "source": [
        "## HW2 \n",
        "\n",
        "คำนวณเวลาเป็นวินาทีของเวลาต่อไปนี้โดยใช้คำสั่ง split() ช่วย (print ออกมาให้สวยงาม)\n",
        "\n",
        "\n",
        "* 12:30:15\n",
        "* 13:41:07\n",
        "* 09:11:50\n",
        "* 21:30:15\n",
        "* 03:10:15\n",
        "\n"
      ],
      "metadata": {
        "id": "w2kKy4IYGH7G"
      }
    },
    {
      "cell_type": "code",
      "source": [
        "# 12:30:15\n",
        "T1 = \"12:30:15\"\n",
        "list_T1 = T1.split (\":\")\n",
        "Hour = int(list_T1[0])*3600\n",
        "Minute = int(list_T1[1])*60\n",
        "Second= int(list_T1[2])\n",
        "Total_T1 = Hour+Minute+Second\n",
        "print (f' {T1} แปลงเป็นวินาทีได้ {Total_T1} วินาที')"
      ],
      "metadata": {
        "id": "mvDrL08LGGnI",
        "outputId": "73a56f2d-0f78-408b-ece9-fc12fe8adad6",
        "colab": {
          "base_uri": "https://localhost:8080/"
        }
      },
      "execution_count": 43,
      "outputs": [
        {
          "output_type": "stream",
          "name": "stdout",
          "text": [
            " 12:30:15 แปลงเป็นวินาทีได้ 45015 วินาที\n"
          ]
        }
      ]
    },
    {
      "cell_type": "code",
      "source": [
        "# 13:41:07\n",
        "T2 = \"13:41:07\"\n",
        "list_T2 = T2.split (\":\")\n",
        "Hour = int(list_T2[0])*3600\n",
        "Minute = int(list_T2[1])*60\n",
        "Second= int(list_T2[2])\n",
        "Total_T2 = Hour+Minute+Second\n",
        "print (f' {T2} แปลงเป็นวินาทีได้ {Total_T2} วินาที')"
      ],
      "metadata": {
        "id": "XZ2JwLRpH4NW",
        "outputId": "bf6a780d-34b6-4cd4-f7e2-206f3bbda1ea",
        "colab": {
          "base_uri": "https://localhost:8080/"
        }
      },
      "execution_count": 44,
      "outputs": [
        {
          "output_type": "stream",
          "name": "stdout",
          "text": [
            " 13:41:07 แปลงเป็นวินาทีได้ 49267 วินาที\n"
          ]
        }
      ]
    },
    {
      "cell_type": "code",
      "source": [
        "# 09:11:50\n",
        "T3 = \"09:11:50\"\n",
        "list_T3 = T3.split (\":\")\n",
        "Hour = int(list_T3[0])*3600\n",
        "Minute = int(list_T3[1])*60\n",
        "Second= int(list_T3[2])\n",
        "Total_T3 = Hour+Minute+Second\n",
        "print (f' {T3} แปลงเป็นวินาทีได้ {Total_T3} วินาที')"
      ],
      "metadata": {
        "id": "KBDpZZDGI4t_",
        "outputId": "7ffd9a56-0468-477f-cdd0-76fc7ec149e1",
        "colab": {
          "base_uri": "https://localhost:8080/"
        }
      },
      "execution_count": 45,
      "outputs": [
        {
          "output_type": "stream",
          "name": "stdout",
          "text": [
            " 09:11:50 แปลงเป็นวินาทีได้ 33110 วินาที\n"
          ]
        }
      ]
    },
    {
      "cell_type": "code",
      "source": [
        "# 21:30:15\n",
        "T4 = \"21:30:15\"\n",
        "list_T4 = T4.split (\":\")\n",
        "Hour = int(list_T4[0])*3600\n",
        "Minute = int(list_T4[1])*60\n",
        "Second= int(list_T4[2])\n",
        "Total_T4 = Hour+Minute+Second\n",
        "print (f' {T4} แปลงเป็นวินาทีได้ {Total_T4} วินาที')"
      ],
      "metadata": {
        "id": "HgLWTWsFJI8F",
        "outputId": "90f431a9-aca9-4419-9c31-1bfa0d565ba5",
        "colab": {
          "base_uri": "https://localhost:8080/"
        }
      },
      "execution_count": 46,
      "outputs": [
        {
          "output_type": "stream",
          "name": "stdout",
          "text": [
            " 21:30:15 แปลงเป็นวินาทีได้ 77415 วินาที\n"
          ]
        }
      ]
    },
    {
      "cell_type": "code",
      "source": [
        "# 03:10:15\n",
        "T5 = \"03:10:15\"\n",
        "list_T5 = T5.split (\":\")\n",
        "Hour = int(list_T5[0])*3600\n",
        "Minute = int(list_T5[1])*60\n",
        "Second= int(list_T5[2])\n",
        "Total_T5 = Hour+Minute+Second\n",
        "print (f' {T5} แปลงเป็นวินาทีได้ {Total_T5} วินาที')"
      ],
      "metadata": {
        "id": "GkN7GfE9JU_t",
        "outputId": "7b7689ad-9830-4e72-82bf-307cead52c2e",
        "colab": {
          "base_uri": "https://localhost:8080/"
        }
      },
      "execution_count": 47,
      "outputs": [
        {
          "output_type": "stream",
          "name": "stdout",
          "text": [
            " 03:10:15 แปลงเป็นวินาทีได้ 11415 วินาที\n"
          ]
        }
      ]
    },
    {
      "cell_type": "markdown",
      "source": [
        "## เฉลย HW2"
      ],
      "metadata": {
        "id": "PaQsV58Bn5t3"
      }
    },
    {
      "cell_type": "code",
      "source": [
        "#01:02:03\n",
        "a = (1*60*60) + (2*60) + 3\n",
        "print(f'01:02:03 แปลงเป็นวินาที ได้ {a} วินาที')"
      ],
      "metadata": {
        "colab": {
          "base_uri": "https://localhost:8080/"
        },
        "id": "NDRW8QcPn5Mx",
        "outputId": "2233ad9f-cca0-40cf-9623-d7a231f6a34b"
      },
      "execution_count": 48,
      "outputs": [
        {
          "output_type": "stream",
          "name": "stdout",
          "text": [
            "01:02:03 แปลงเป็นวินาที ได้ 3723 วินาที\n"
          ]
        }
      ]
    },
    {
      "cell_type": "code",
      "source": [
        "ex = '12:30:15'\n",
        "print(ex)"
      ],
      "metadata": {
        "colab": {
          "base_uri": "https://localhost:8080/"
        },
        "id": "lp9qLVufn8u-",
        "outputId": "09e84257-337f-433c-9ad1-dcc73d7492bb"
      },
      "execution_count": 49,
      "outputs": [
        {
          "output_type": "stream",
          "name": "stdout",
          "text": [
            "12:30:15\n"
          ]
        }
      ]
    },
    {
      "cell_type": "code",
      "source": [
        "sp_ex = ex.split(':')\n",
        "print(sp_ex)"
      ],
      "metadata": {
        "colab": {
          "base_uri": "https://localhost:8080/"
        },
        "id": "FszKiFa1n9yW",
        "outputId": "abdf3107-7522-4433-d1be-afd81b66350d"
      },
      "execution_count": 50,
      "outputs": [
        {
          "output_type": "stream",
          "name": "stdout",
          "text": [
            "['12', '30', '15']\n"
          ]
        }
      ]
    },
    {
      "cell_type": "code",
      "source": [
        "total_sec = (int(sp_ex[0])*60*60) + (int(sp_ex[1])*60) + int(sp_ex[2])\n",
        "print(total_sec)"
      ],
      "metadata": {
        "colab": {
          "base_uri": "https://localhost:8080/"
        },
        "id": "_HPmCwnyn-5C",
        "outputId": "5d8e2381-85ca-477c-f845-165f971de22c"
      },
      "execution_count": 51,
      "outputs": [
        {
          "output_type": "stream",
          "name": "stdout",
          "text": [
            "45015\n"
          ]
        }
      ]
    },
    {
      "cell_type": "code",
      "source": [
        "print(f'เวลา {ex} สามารถแปลงเป็นหน่วยวินาทีได้ {total_sec:,} วินาที')"
      ],
      "metadata": {
        "colab": {
          "base_uri": "https://localhost:8080/"
        },
        "id": "aGfOE_NdoADK",
        "outputId": "27fe1fcb-3375-4d5f-df5a-de8dbb569b5f"
      },
      "execution_count": 52,
      "outputs": [
        {
          "output_type": "stream",
          "name": "stdout",
          "text": [
            "เวลา 12:30:15 สามารถแปลงเป็นหน่วยวินาทีได้ 45,015 วินาที\n"
          ]
        }
      ]
    },
    {
      "cell_type": "markdown",
      "source": [
        "## Dictionary\n",
        "\n",
        "* คล้าย list()\n",
        "* index เป็นอะไรก็ได้ ไม่จำเป้นต้องเป็นตัวเลขลำดับ\n",
        "* ลำดับไม่มีความสำคัญ"
      ],
      "metadata": {
        "id": "DORv-hFNO4ys"
      }
    },
    {
      "cell_type": "markdown",
      "source": [
        "### สร้าง Dictionary"
      ],
      "metadata": {
        "id": "Et-A_lnMQ6Qt"
      }
    },
    {
      "cell_type": "code",
      "source": [
        "dict_a = {1:'Happy','N':'New','2022':'Year'} # { } curly brackets"
      ],
      "metadata": {
        "id": "w2nUEKKRPtUD"
      },
      "execution_count": 53,
      "outputs": []
    },
    {
      "cell_type": "markdown",
      "source": [
        "### การชี้สมาชิกใน Dictionary"
      ],
      "metadata": {
        "id": "oMv7aCRiRAxt"
      }
    },
    {
      "cell_type": "code",
      "source": [
        "dict_a[1]"
      ],
      "metadata": {
        "colab": {
          "base_uri": "https://localhost:8080/",
          "height": 34
        },
        "id": "NS2FHm7woFRt",
        "outputId": "50fa1be5-9f67-4130-9962-3631326ca935"
      },
      "execution_count": 54,
      "outputs": [
        {
          "output_type": "execute_result",
          "data": {
            "application/vnd.google.colaboratory.intrinsic+json": {
              "type": "string"
            },
            "text/plain": [
              "'Happy'"
            ]
          },
          "metadata": {},
          "execution_count": 54
        }
      ]
    },
    {
      "cell_type": "code",
      "source": [
        "dict_a['N']"
      ],
      "metadata": {
        "id": "032UoVQPRGCv",
        "colab": {
          "base_uri": "https://localhost:8080/",
          "height": 34
        },
        "outputId": "074c5eb7-be57-405a-b887-abdaff702b56"
      },
      "execution_count": 55,
      "outputs": [
        {
          "output_type": "execute_result",
          "data": {
            "application/vnd.google.colaboratory.intrinsic+json": {
              "type": "string"
            },
            "text/plain": [
              "'New'"
            ]
          },
          "metadata": {},
          "execution_count": 55
        }
      ]
    },
    {
      "cell_type": "code",
      "source": [
        "dict_a.keys()"
      ],
      "metadata": {
        "id": "isOc5KOHRJqJ",
        "colab": {
          "base_uri": "https://localhost:8080/"
        },
        "outputId": "78f9dbe6-fa77-4968-9959-6fe4b1f17365"
      },
      "execution_count": 56,
      "outputs": [
        {
          "output_type": "execute_result",
          "data": {
            "text/plain": [
              "dict_keys([1, 'N', '2022'])"
            ]
          },
          "metadata": {},
          "execution_count": 56
        }
      ]
    },
    {
      "cell_type": "code",
      "source": [
        "dict_a.values()"
      ],
      "metadata": {
        "id": "JE6mQhDpRMi0",
        "colab": {
          "base_uri": "https://localhost:8080/"
        },
        "outputId": "26a5a92d-fc0a-4d91-ee45-10ac4439e814"
      },
      "execution_count": 58,
      "outputs": [
        {
          "output_type": "execute_result",
          "data": {
            "text/plain": [
              "dict_values(['Happy', 'New', 'Year'])"
            ]
          },
          "metadata": {},
          "execution_count": 58
        }
      ]
    },
    {
      "cell_type": "markdown",
      "source": [
        "### การเพิ่มสมาชิกลงไปใน Dictionary"
      ],
      "metadata": {
        "id": "ghJOtrYaRQyH"
      }
    },
    {
      "cell_type": "code",
      "source": [
        "dict_a[7] = 3.14"
      ],
      "metadata": {
        "id": "d4YOwh-7RVzP"
      },
      "execution_count": 59,
      "outputs": []
    },
    {
      "cell_type": "code",
      "source": [
        "dict_a"
      ],
      "metadata": {
        "id": "DWA0zEvWRaGV",
        "colab": {
          "base_uri": "https://localhost:8080/"
        },
        "outputId": "85b35201-252b-4e97-8e3e-9e22645aa849"
      },
      "execution_count": 60,
      "outputs": [
        {
          "output_type": "execute_result",
          "data": {
            "text/plain": [
              "{1: 'Happy', '2022': 'Year', 7: 3.14, 'N': 'New'}"
            ]
          },
          "metadata": {},
          "execution_count": 60
        }
      ]
    },
    {
      "cell_type": "code",
      "source": [
        "dict_a['N'] = 'NNNNEEEEWWWW'"
      ],
      "metadata": {
        "id": "b7B94f99R1Gl"
      },
      "execution_count": 61,
      "outputs": []
    },
    {
      "cell_type": "code",
      "source": [
        "dict_a"
      ],
      "metadata": {
        "id": "WOXS_HNHR6gX",
        "colab": {
          "base_uri": "https://localhost:8080/"
        },
        "outputId": "1ea5fcb7-ecf3-4659-8e67-716d1a058d39"
      },
      "execution_count": 62,
      "outputs": [
        {
          "output_type": "execute_result",
          "data": {
            "text/plain": [
              "{1: 'Happy', '2022': 'Year', 7: 3.14, 'N': 'NNNNEEEEWWWW'}"
            ]
          },
          "metadata": {},
          "execution_count": 62
        }
      ]
    },
    {
      "cell_type": "markdown",
      "source": [
        "## Numpy Array"
      ],
      "metadata": {
        "id": "7dRC3r8aPJEV"
      }
    },
    {
      "cell_type": "markdown",
      "source": [
        "![image.png](data:image/png;base64,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)"
      ],
      "metadata": {
        "id": "TbJbcLPRTVJw"
      }
    },
    {
      "cell_type": "markdown",
      "source": [
        "* เก็บได้แค่ตัวเลข\n",
        "* อ้างอิงโดยใช้พิกัด (2 มิติมองเป็น Matrix)"
      ],
      "metadata": {
        "id": "hs7Wqrt6UYx4"
      }
    },
    {
      "cell_type": "code",
      "source": [
        "import numpy "
      ],
      "metadata": {
        "id": "5ZSRLM7KU5PN"
      },
      "execution_count": 63,
      "outputs": []
    },
    {
      "cell_type": "markdown",
      "source": [
        "### 1D array"
      ],
      "metadata": {
        "id": "IpVNIocooJvn"
      }
    },
    {
      "cell_type": "code",
      "source": [
        "arr_a = numpy.array([1,2,3,4,5])"
      ],
      "metadata": {
        "id": "0bPzKC-BoOF3"
      },
      "execution_count": 64,
      "outputs": []
    },
    {
      "cell_type": "code",
      "source": [
        "arr_a"
      ],
      "metadata": {
        "colab": {
          "base_uri": "https://localhost:8080/"
        },
        "id": "GYTGjqYToPPZ",
        "outputId": "2d9f2e34-d740-4555-ead3-ff9ef25f648e"
      },
      "execution_count": 65,
      "outputs": [
        {
          "output_type": "execute_result",
          "data": {
            "text/plain": [
              "array([1, 2, 3, 4, 5])"
            ]
          },
          "metadata": {},
          "execution_count": 65
        }
      ]
    },
    {
      "cell_type": "code",
      "source": [
        "arr_a[0]"
      ],
      "metadata": {
        "colab": {
          "base_uri": "https://localhost:8080/"
        },
        "id": "jiHBSmRfoQzk",
        "outputId": "1158a9c7-d4e4-4236-8bc3-ba1b4c958f32"
      },
      "execution_count": 66,
      "outputs": [
        {
          "output_type": "execute_result",
          "data": {
            "text/plain": [
              "1"
            ]
          },
          "metadata": {},
          "execution_count": 66
        }
      ]
    },
    {
      "cell_type": "code",
      "source": [
        "list_A = [1,2,3,4,5]"
      ],
      "metadata": {
        "id": "RDtz1CjLVwIp"
      },
      "execution_count": 67,
      "outputs": []
    },
    {
      "cell_type": "code",
      "source": [
        "arr_a = numpy.array(list_A)"
      ],
      "metadata": {
        "id": "dRgzHe_2VUTc"
      },
      "execution_count": 68,
      "outputs": []
    },
    {
      "cell_type": "code",
      "source": [
        "arr_a "
      ],
      "metadata": {
        "id": "DHLHF-cAVlYO",
        "outputId": "034d09a0-2c4f-4ab1-de88-37719f233753",
        "colab": {
          "base_uri": "https://localhost:8080/"
        }
      },
      "execution_count": 69,
      "outputs": [
        {
          "output_type": "execute_result",
          "data": {
            "text/plain": [
              "array([1, 2, 3, 4, 5])"
            ]
          },
          "metadata": {},
          "execution_count": 69
        }
      ]
    },
    {
      "cell_type": "code",
      "source": [
        "list_A"
      ],
      "metadata": {
        "colab": {
          "base_uri": "https://localhost:8080/"
        },
        "id": "4dLln2VRoTUl",
        "outputId": "033d118c-9c4a-45f4-f1b6-d9dea3368752"
      },
      "execution_count": 70,
      "outputs": [
        {
          "output_type": "execute_result",
          "data": {
            "text/plain": [
              "[1, 2, 3, 4, 5]"
            ]
          },
          "metadata": {},
          "execution_count": 70
        }
      ]
    },
    {
      "cell_type": "code",
      "source": [
        "arr_a[0]"
      ],
      "metadata": {
        "id": "6RC7eQbYVo5C",
        "outputId": "c9670482-fc6b-4a21-a805-e49a8067ff36",
        "colab": {
          "base_uri": "https://localhost:8080/"
        }
      },
      "execution_count": 71,
      "outputs": [
        {
          "output_type": "execute_result",
          "data": {
            "text/plain": [
              "1"
            ]
          },
          "metadata": {},
          "execution_count": 71
        }
      ]
    },
    {
      "cell_type": "code",
      "source": [
        "list_A[0]"
      ],
      "metadata": {
        "id": "n3bAGNmCWBba",
        "outputId": "5f7dee31-ac49-4007-9cc8-7ced4846562e",
        "colab": {
          "base_uri": "https://localhost:8080/"
        }
      },
      "execution_count": 72,
      "outputs": [
        {
          "output_type": "execute_result",
          "data": {
            "text/plain": [
              "1"
            ]
          },
          "metadata": {},
          "execution_count": 72
        }
      ]
    },
    {
      "cell_type": "code",
      "source": [
        "5 * arr_a"
      ],
      "metadata": {
        "id": "4cn5wQvrWUF7",
        "outputId": "bf5271fe-c1dd-4a09-c2b6-f177e8ec8c19",
        "colab": {
          "base_uri": "https://localhost:8080/"
        }
      },
      "execution_count": 73,
      "outputs": [
        {
          "output_type": "execute_result",
          "data": {
            "text/plain": [
              "array([ 5, 10, 15, 20, 25])"
            ]
          },
          "metadata": {},
          "execution_count": 73
        }
      ]
    },
    {
      "cell_type": "code",
      "source": [
        "5 * list_A"
      ],
      "metadata": {
        "id": "ifZD-9qvW5qs",
        "outputId": "52d8fd7a-2ad0-4595-ef08-70165d1462cf",
        "colab": {
          "base_uri": "https://localhost:8080/"
        }
      },
      "execution_count": 74,
      "outputs": [
        {
          "output_type": "execute_result",
          "data": {
            "text/plain": [
              "[1, 2, 3, 4, 5, 1, 2, 3, 4, 5, 1, 2, 3, 4, 5, 1, 2, 3, 4, 5, 1, 2, 3, 4, 5]"
            ]
          },
          "metadata": {},
          "execution_count": 74
        }
      ]
    },
    {
      "cell_type": "code",
      "source": [
        "arr_b = numpy.array([10,20,30,40,50])"
      ],
      "metadata": {
        "id": "6P3VDl0OXmVX"
      },
      "execution_count": 75,
      "outputs": []
    },
    {
      "cell_type": "code",
      "source": [
        "print(arr_a)"
      ],
      "metadata": {
        "id": "8ylAZOS9Xtsf",
        "outputId": "c8b02565-9810-4724-dc7d-347e18199ffd",
        "colab": {
          "base_uri": "https://localhost:8080/"
        }
      },
      "execution_count": 76,
      "outputs": [
        {
          "output_type": "stream",
          "name": "stdout",
          "text": [
            "[1 2 3 4 5]\n"
          ]
        }
      ]
    },
    {
      "cell_type": "code",
      "source": [
        "arr_a + arr_b"
      ],
      "metadata": {
        "id": "q7EIUa6DXv5C",
        "outputId": "38375157-c6f4-4221-ab00-e2cce399655e",
        "colab": {
          "base_uri": "https://localhost:8080/"
        }
      },
      "execution_count": 77,
      "outputs": [
        {
          "output_type": "execute_result",
          "data": {
            "text/plain": [
              "array([11, 22, 33, 44, 55])"
            ]
          },
          "metadata": {},
          "execution_count": 77
        }
      ]
    },
    {
      "cell_type": "code",
      "source": [
        "arr_a.shape"
      ],
      "metadata": {
        "id": "UOZBpUOOZuHR",
        "outputId": "cb2e823e-3175-4067-da2f-ef78bcd264a4",
        "colab": {
          "base_uri": "https://localhost:8080/"
        }
      },
      "execution_count": 78,
      "outputs": [
        {
          "output_type": "execute_result",
          "data": {
            "text/plain": [
              "(5,)"
            ]
          },
          "metadata": {},
          "execution_count": 78
        }
      ]
    },
    {
      "cell_type": "markdown",
      "source": [
        "### 2D array"
      ],
      "metadata": {
        "id": "XFtxD0O9Ya36"
      }
    },
    {
      "cell_type": "code",
      "source": [
        "import numpy as np"
      ],
      "metadata": {
        "id": "jhSfxgxMYeCR"
      },
      "execution_count": 79,
      "outputs": []
    },
    {
      "cell_type": "code",
      "source": [
        "arr2_z = np.array([[1,2,3],[4,5,6]])"
      ],
      "metadata": {
        "id": "Dc1bA0pqZezI"
      },
      "execution_count": 80,
      "outputs": []
    },
    {
      "cell_type": "code",
      "source": [
        "arr2_z"
      ],
      "metadata": {
        "id": "7fIXSJ3iZm3l",
        "outputId": "6b826146-dc43-4f93-9daf-3f503dc110c9",
        "colab": {
          "base_uri": "https://localhost:8080/"
        }
      },
      "execution_count": 81,
      "outputs": [
        {
          "output_type": "execute_result",
          "data": {
            "text/plain": [
              "array([[1, 2, 3],\n",
              "       [4, 5, 6]])"
            ]
          },
          "metadata": {},
          "execution_count": 81
        }
      ]
    },
    {
      "cell_type": "code",
      "source": [
        "arr2_z.shape"
      ],
      "metadata": {
        "id": "9oGKzs86ZpgL",
        "outputId": "07c79f1b-ae36-4e86-b1c1-3f28faecfdf2",
        "colab": {
          "base_uri": "https://localhost:8080/"
        }
      },
      "execution_count": 82,
      "outputs": [
        {
          "output_type": "execute_result",
          "data": {
            "text/plain": [
              "(2, 3)"
            ]
          },
          "metadata": {},
          "execution_count": 82
        }
      ]
    },
    {
      "cell_type": "markdown",
      "source": [
        "### `np.zeros()`"
      ],
      "metadata": {
        "id": "_r7TNmTJYd1W"
      }
    },
    {
      "cell_type": "code",
      "source": [
        "arr2_3_5_0 = np.zeros((3,5))"
      ],
      "metadata": {
        "id": "M2IMC3tcaj-H"
      },
      "execution_count": 83,
      "outputs": []
    },
    {
      "cell_type": "code",
      "source": [
        "arr2_3_5_0"
      ],
      "metadata": {
        "id": "hX3dieG6aqws",
        "outputId": "34950cc8-f364-4a0c-cb26-0bb09f7f3f15",
        "colab": {
          "base_uri": "https://localhost:8080/"
        }
      },
      "execution_count": 84,
      "outputs": [
        {
          "output_type": "execute_result",
          "data": {
            "text/plain": [
              "array([[0., 0., 0., 0., 0.],\n",
              "       [0., 0., 0., 0., 0.],\n",
              "       [0., 0., 0., 0., 0.]])"
            ]
          },
          "metadata": {},
          "execution_count": 84
        }
      ]
    },
    {
      "cell_type": "code",
      "source": [
        "arr2_3_5_0[1,2] = 9"
      ],
      "metadata": {
        "id": "tmygZzxyatK8"
      },
      "execution_count": 85,
      "outputs": []
    },
    {
      "cell_type": "code",
      "source": [
        "arr2_3_5_0"
      ],
      "metadata": {
        "id": "e0KtBiUEaxNJ",
        "outputId": "be1cc119-da9c-4b80-ac59-1b2c967fcab0",
        "colab": {
          "base_uri": "https://localhost:8080/"
        }
      },
      "execution_count": 86,
      "outputs": [
        {
          "output_type": "execute_result",
          "data": {
            "text/plain": [
              "array([[0., 0., 0., 0., 0.],\n",
              "       [0., 0., 9., 0., 0.],\n",
              "       [0., 0., 0., 0., 0.]])"
            ]
          },
          "metadata": {},
          "execution_count": 86
        }
      ]
    },
    {
      "cell_type": "code",
      "source": [
        "arr2_3_5_0[1,2]"
      ],
      "metadata": {
        "id": "Y4r3VSYXa1Mz",
        "outputId": "40402a56-6cfb-4359-cd9e-1aa7188afb5d",
        "colab": {
          "base_uri": "https://localhost:8080/"
        }
      },
      "execution_count": 87,
      "outputs": [
        {
          "output_type": "execute_result",
          "data": {
            "text/plain": [
              "9.0"
            ]
          },
          "metadata": {},
          "execution_count": 87
        }
      ]
    },
    {
      "cell_type": "code",
      "source": [
        "print(list_A) # เปลี่ยนค่าใน list()\n",
        "list_A[-1] = 'Christmas'\n",
        "print(list_A)"
      ],
      "metadata": {
        "colab": {
          "base_uri": "https://localhost:8080/"
        },
        "id": "QF7Rm9YEobQE",
        "outputId": "505f917b-16b1-4bb6-eb98-a79b71534d69"
      },
      "execution_count": 88,
      "outputs": [
        {
          "output_type": "stream",
          "name": "stdout",
          "text": [
            "[1, 2, 3, 4, 5]\n",
            "[1, 2, 3, 4, 'Christmas']\n"
          ]
        }
      ]
    },
    {
      "cell_type": "markdown",
      "source": [
        "### np.ones()\n",
        "\n"
      ],
      "metadata": {
        "id": "Caw1rX8qb5tm"
      }
    },
    {
      "cell_type": "code",
      "source": [
        "arr2_4_5_1 = np.ones((4,5))"
      ],
      "metadata": {
        "id": "0oHWe83gb3-t"
      },
      "execution_count": 89,
      "outputs": []
    },
    {
      "cell_type": "code",
      "source": [
        "arr2_4_5_1"
      ],
      "metadata": {
        "id": "npZDgMjqcIJ7",
        "outputId": "b1f11dec-bf01-4aa4-fadb-f9a09a854ea8",
        "colab": {
          "base_uri": "https://localhost:8080/"
        }
      },
      "execution_count": 90,
      "outputs": [
        {
          "output_type": "execute_result",
          "data": {
            "text/plain": [
              "array([[1., 1., 1., 1., 1.],\n",
              "       [1., 1., 1., 1., 1.],\n",
              "       [1., 1., 1., 1., 1.],\n",
              "       [1., 1., 1., 1., 1.]])"
            ]
          },
          "metadata": {},
          "execution_count": 90
        }
      ]
    },
    {
      "cell_type": "code",
      "source": [
        "arr2_4_5_200 = 200*np.ones((4,5))"
      ],
      "metadata": {
        "id": "PuINYVFvoduD"
      },
      "execution_count": 91,
      "outputs": []
    },
    {
      "cell_type": "code",
      "source": [
        "arr2_4_5_200"
      ],
      "metadata": {
        "colab": {
          "base_uri": "https://localhost:8080/"
        },
        "id": "3__RzL3LoeuW",
        "outputId": "a3effaeb-b75f-4059-b675-007b09cc237f"
      },
      "execution_count": 92,
      "outputs": [
        {
          "output_type": "execute_result",
          "data": {
            "text/plain": [
              "array([[200., 200., 200., 200., 200.],\n",
              "       [200., 200., 200., 200., 200.],\n",
              "       [200., 200., 200., 200., 200.],\n",
              "       [200., 200., 200., 200., 200.]])"
            ]
          },
          "metadata": {},
          "execution_count": 92
        }
      ]
    },
    {
      "cell_type": "markdown",
      "source": [
        "### Matrix operations"
      ],
      "metadata": {
        "id": "qzysTB0QohAQ"
      }
    },
    {
      "cell_type": "markdown",
      "source": [
        "การบวก ลบ matrix $M ± N$ บวกลบตัวที่อยู่ตำแหน่งเดียวกัน"
      ],
      "metadata": {
        "id": "elY15WwPojJx"
      }
    },
    {
      "cell_type": "code",
      "source": [
        "arr2_4_5_200 + arr2_3_5_0 # การบวก หรือลบ matrix shape หรือขนาดต้องเท่ากัน"
      ],
      "metadata": {
        "colab": {
          "base_uri": "https://localhost:8080/",
          "height": 166
        },
        "id": "DYyIkqLMohau",
        "outputId": "0f9d6a6f-51c7-4e07-b61f-1a22b17b4437"
      },
      "execution_count": 93,
      "outputs": [
        {
          "output_type": "error",
          "ename": "ValueError",
          "evalue": "ignored",
          "traceback": [
            "\u001b[0;31m---------------------------------------------------------------------------\u001b[0m",
            "\u001b[0;31mValueError\u001b[0m                                Traceback (most recent call last)",
            "\u001b[0;32m<ipython-input-93-42beda159312>\u001b[0m in \u001b[0;36m<module>\u001b[0;34m()\u001b[0m\n\u001b[0;32m----> 1\u001b[0;31m \u001b[0marr2_4_5_200\u001b[0m \u001b[0;34m+\u001b[0m \u001b[0marr2_3_5_0\u001b[0m \u001b[0;31m# การบวก หรือลบ matrix shape หรือขนาดต้องเท่ากัน\u001b[0m\u001b[0;34m\u001b[0m\u001b[0;34m\u001b[0m\u001b[0m\n\u001b[0m",
            "\u001b[0;31mValueError\u001b[0m: operands could not be broadcast together with shapes (4,5) (3,5) "
          ]
        }
      ]
    },
    {
      "cell_type": "code",
      "source": [
        "arr2_4_5_200 + arr2_4_5_1"
      ],
      "metadata": {
        "colab": {
          "base_uri": "https://localhost:8080/"
        },
        "id": "YtoV63s1olE_",
        "outputId": "1820b7e9-346c-424b-cee3-bd32894fb569"
      },
      "execution_count": 94,
      "outputs": [
        {
          "output_type": "execute_result",
          "data": {
            "text/plain": [
              "array([[201., 201., 201., 201., 201.],\n",
              "       [201., 201., 201., 201., 201.],\n",
              "       [201., 201., 201., 201., 201.],\n",
              "       [201., 201., 201., 201., 201.]])"
            ]
          },
          "metadata": {},
          "execution_count": 94
        }
      ]
    },
    {
      "cell_type": "markdown",
      "source": [
        "การคูณ matrix\n",
        "\n",
        "\n",
        "*   $aM$ scalar คูณ Matrix (scalar คูณกระจายเข้าไปทุกตัวของ Matrix)\n",
        "*   $M x N$ Matrix คูณ Matrix (แถวคูณหลัก)"
      ],
      "metadata": {
        "id": "jeXBKF66ompk"
      }
    },
    {
      "cell_type": "markdown",
      "source": [
        "####$aM$"
      ],
      "metadata": {
        "id": "Z9_mQXlNopBS"
      }
    },
    {
      "cell_type": "code",
      "source": [
        "5 * arr_a # Matrix (scalar multiplication)"
      ],
      "metadata": {
        "colab": {
          "base_uri": "https://localhost:8080/"
        },
        "id": "BnHI_gUJosz7",
        "outputId": "bd91116b-709d-4b4d-a64f-6d70f2850ec9"
      },
      "execution_count": 95,
      "outputs": [
        {
          "output_type": "execute_result",
          "data": {
            "text/plain": [
              "array([ 5, 10, 15, 20, 25])"
            ]
          },
          "metadata": {},
          "execution_count": 95
        }
      ]
    },
    {
      "cell_type": "markdown",
      "source": [
        "####$M x N$ (dot product)\n",
        "\n",
        "\n",
        "*  (m,n) x (n,o) = (m,o) (Shape)"
      ],
      "metadata": {
        "id": "kLFK1-cOoqu-"
      }
    },
    {
      "cell_type": "markdown",
      "source": [
        "![image.png](data:image/png;base64,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)"
      ],
      "metadata": {
        "id": "rus8AbXHowqw"
      }
    },
    {
      "cell_type": "code",
      "source": [
        "mat_a = np.array([[2,3,5],[4,6,7]])\n",
        "mat_b = np.array([[1,2,5],[2,4,-7]])\n",
        "mat_c = np.array([[2,3],[4,6],[7,9]])"
      ],
      "metadata": {
        "id": "nMjVMyE2owfB"
      },
      "execution_count": 96,
      "outputs": []
    },
    {
      "cell_type": "code",
      "source": [
        "mat_a"
      ],
      "metadata": {
        "colab": {
          "base_uri": "https://localhost:8080/"
        },
        "id": "j0k5LqTLoqak",
        "outputId": "d478cc1a-c00d-47fb-f045-f2bb848ed651"
      },
      "execution_count": 97,
      "outputs": [
        {
          "output_type": "execute_result",
          "data": {
            "text/plain": [
              "array([[2, 3, 5],\n",
              "       [4, 6, 7]])"
            ]
          },
          "metadata": {},
          "execution_count": 97
        }
      ]
    },
    {
      "cell_type": "code",
      "source": [
        "mat_b"
      ],
      "metadata": {
        "colab": {
          "base_uri": "https://localhost:8080/"
        },
        "id": "ijTPIk8io1nm",
        "outputId": "9dd4886f-ae15-417a-e28e-efcee20f4327"
      },
      "execution_count": 98,
      "outputs": [
        {
          "output_type": "execute_result",
          "data": {
            "text/plain": [
              "array([[ 1,  2,  5],\n",
              "       [ 2,  4, -7]])"
            ]
          },
          "metadata": {},
          "execution_count": 98
        }
      ]
    },
    {
      "cell_type": "code",
      "source": [
        "mat_c"
      ],
      "metadata": {
        "colab": {
          "base_uri": "https://localhost:8080/"
        },
        "id": "gdcQjWPDo2jv",
        "outputId": "9761f8b4-32f3-41c0-bc72-247e8af98664"
      },
      "execution_count": 99,
      "outputs": [
        {
          "output_type": "execute_result",
          "data": {
            "text/plain": [
              "array([[2, 3],\n",
              "       [4, 6],\n",
              "       [7, 9]])"
            ]
          },
          "metadata": {},
          "execution_count": 99
        }
      ]
    },
    {
      "cell_type": "code",
      "source": [
        "np.dot(mat_a,mat_c)"
      ],
      "metadata": {
        "colab": {
          "base_uri": "https://localhost:8080/"
        },
        "id": "4y2LvpP6o3hq",
        "outputId": "d6b8ddb0-9d63-4431-d52c-37e848d3c151"
      },
      "execution_count": 100,
      "outputs": [
        {
          "output_type": "execute_result",
          "data": {
            "text/plain": [
              "array([[ 51,  69],\n",
              "       [ 81, 111]])"
            ]
          },
          "metadata": {},
          "execution_count": 100
        }
      ]
    },
    {
      "cell_type": "code",
      "source": [
        "np.dot(mat_b,mat_c)"
      ],
      "metadata": {
        "colab": {
          "base_uri": "https://localhost:8080/"
        },
        "id": "AlWt8SLqo4nO",
        "outputId": "1fefd239-56b0-4661-946e-093adae42e32"
      },
      "execution_count": 101,
      "outputs": [
        {
          "output_type": "execute_result",
          "data": {
            "text/plain": [
              "array([[ 45,  60],\n",
              "       [-29, -33]])"
            ]
          },
          "metadata": {},
          "execution_count": 101
        }
      ]
    },
    {
      "cell_type": "code",
      "source": [
        "np.dot(mat_c,mat_a)"
      ],
      "metadata": {
        "colab": {
          "base_uri": "https://localhost:8080/"
        },
        "id": "M4kjDkdGo6Ok",
        "outputId": "e5890fc4-b900-41bb-f4ca-77d717e039b5"
      },
      "execution_count": 102,
      "outputs": [
        {
          "output_type": "execute_result",
          "data": {
            "text/plain": [
              "array([[16, 24, 31],\n",
              "       [32, 48, 62],\n",
              "       [50, 75, 98]])"
            ]
          },
          "metadata": {},
          "execution_count": 102
        }
      ]
    },
    {
      "cell_type": "code",
      "source": [
        "mat_X = np.dot(mat_c,mat_b)\n",
        "print(mat_X)"
      ],
      "metadata": {
        "colab": {
          "base_uri": "https://localhost:8080/"
        },
        "id": "epU7p9gBo6pc",
        "outputId": "33eef1d5-7180-4c04-c38a-fef93c0432ca"
      },
      "execution_count": 103,
      "outputs": [
        {
          "output_type": "stream",
          "name": "stdout",
          "text": [
            "[[  8  16 -11]\n",
            " [ 16  32 -22]\n",
            " [ 25  50 -28]]\n"
          ]
        }
      ]
    },
    {
      "cell_type": "code",
      "source": [
        "mat_a * mat_b   # คูณตัวตำแหน่งเดียวกัน"
      ],
      "metadata": {
        "colab": {
          "base_uri": "https://localhost:8080/"
        },
        "id": "TjU8eyIgo7uQ",
        "outputId": "46b9daf9-2d31-4db8-9b07-82d68570b7ef"
      },
      "execution_count": 104,
      "outputs": [
        {
          "output_type": "execute_result",
          "data": {
            "text/plain": [
              "array([[  2,   6,  25],\n",
              "       [  8,  24, -49]])"
            ]
          },
          "metadata": {},
          "execution_count": 104
        }
      ]
    },
    {
      "cell_type": "markdown",
      "source": [
        "### Matrix Slicing"
      ],
      "metadata": {
        "id": "T_arPciCo-ST"
      }
    },
    {
      "cell_type": "code",
      "source": [
        "mat_X[:2,:2]"
      ],
      "metadata": {
        "colab": {
          "base_uri": "https://localhost:8080/"
        },
        "id": "fIz8u2CRo-4E",
        "outputId": "4f04dc80-38e6-4c83-9180-adf4df73b2e3"
      },
      "execution_count": 105,
      "outputs": [
        {
          "output_type": "execute_result",
          "data": {
            "text/plain": [
              "array([[ 8, 16],\n",
              "       [16, 32]])"
            ]
          },
          "metadata": {},
          "execution_count": 105
        }
      ]
    },
    {
      "cell_type": "markdown",
      "source": [
        "## HW3\n",
        "\n",
        "\n",
        "1.   สร้าง array ที่เป็นรูป ต้น Christmas\n",
        "2.   slice เลข 1 ออกมาจาก array HW3 ด้วยการ slice แค่ครั้งเดียว"
      ],
      "metadata": {
        "id": "FfVCPaqKpAVz"
      }
    },
    {
      "cell_type": "code",
      "source": [
        "Ex_HW3 = np.zeros((10,10))\n",
        "Ex_HW3"
      ],
      "metadata": {
        "colab": {
          "base_uri": "https://localhost:8080/"
        },
        "id": "S91P1xPzqJW1",
        "outputId": "78fed7e9-fbd0-45d8-9b41-12039e125444"
      },
      "execution_count": 106,
      "outputs": [
        {
          "output_type": "execute_result",
          "data": {
            "text/plain": [
              "array([[0., 0., 0., 0., 0., 0., 0., 0., 0., 0.],\n",
              "       [0., 0., 0., 0., 0., 0., 0., 0., 0., 0.],\n",
              "       [0., 0., 0., 0., 0., 0., 0., 0., 0., 0.],\n",
              "       [0., 0., 0., 0., 0., 0., 0., 0., 0., 0.],\n",
              "       [0., 0., 0., 0., 0., 0., 0., 0., 0., 0.],\n",
              "       [0., 0., 0., 0., 0., 0., 0., 0., 0., 0.],\n",
              "       [0., 0., 0., 0., 0., 0., 0., 0., 0., 0.],\n",
              "       [0., 0., 0., 0., 0., 0., 0., 0., 0., 0.],\n",
              "       [0., 0., 0., 0., 0., 0., 0., 0., 0., 0.],\n",
              "       [0., 0., 0., 0., 0., 0., 0., 0., 0., 0.]])"
            ]
          },
          "metadata": {},
          "execution_count": 106
        }
      ]
    },
    {
      "cell_type": "code",
      "source": [
        "Ex_HW3[::4,2] = 1\n",
        "Ex_HW3[::4,4] = 1\n",
        "Ex_HW3[::4,6] = 1\n",
        "Ex_HW3[::4,8] = 1\n",
        "Ex_HW3"
      ],
      "metadata": {
        "colab": {
          "base_uri": "https://localhost:8080/"
        },
        "id": "pC_-b-GxqMDd",
        "outputId": "dc1f3a55-115c-4ecc-8ea4-05277883e77c"
      },
      "execution_count": 107,
      "outputs": [
        {
          "output_type": "execute_result",
          "data": {
            "text/plain": [
              "array([[0., 0., 1., 0., 1., 0., 1., 0., 1., 0.],\n",
              "       [0., 0., 0., 0., 0., 0., 0., 0., 0., 0.],\n",
              "       [0., 0., 0., 0., 0., 0., 0., 0., 0., 0.],\n",
              "       [0., 0., 0., 0., 0., 0., 0., 0., 0., 0.],\n",
              "       [0., 0., 1., 0., 1., 0., 1., 0., 1., 0.],\n",
              "       [0., 0., 0., 0., 0., 0., 0., 0., 0., 0.],\n",
              "       [0., 0., 0., 0., 0., 0., 0., 0., 0., 0.],\n",
              "       [0., 0., 0., 0., 0., 0., 0., 0., 0., 0.],\n",
              "       [0., 0., 1., 0., 1., 0., 1., 0., 1., 0.],\n",
              "       [0., 0., 0., 0., 0., 0., 0., 0., 0., 0.]])"
            ]
          },
          "metadata": {},
          "execution_count": 107
        }
      ]
    },
    {
      "cell_type": "markdown",
      "source": [
        "### 1.   สร้าง array ที่เป็นรูป ต้น Christmas"
      ],
      "metadata": {
        "id": "hB9VZxIkqOYm"
      }
    },
    {
      "cell_type": "code",
      "source": [
        "import numpy as np"
      ],
      "metadata": {
        "id": "nlsSUQXfqR6M"
      },
      "execution_count": 160,
      "outputs": []
    },
    {
      "cell_type": "code",
      "source": [
        "HW3 = np.ones((24,12))\n",
        "HW3"
      ],
      "metadata": {
        "colab": {
          "base_uri": "https://localhost:8080/"
        },
        "id": "ZSSItWINqTUw",
        "outputId": "80c73b0b-7011-498a-cb92-c09bece8e540"
      },
      "execution_count": 187,
      "outputs": [
        {
          "output_type": "execute_result",
          "data": {
            "text/plain": [
              "array([[1., 1., 1., 1., 1., 1., 1., 1., 1., 1., 1., 1.],\n",
              "       [1., 1., 1., 1., 1., 1., 1., 1., 1., 1., 1., 1.],\n",
              "       [1., 1., 1., 1., 1., 1., 1., 1., 1., 1., 1., 1.],\n",
              "       [1., 1., 1., 1., 1., 1., 1., 1., 1., 1., 1., 1.],\n",
              "       [1., 1., 1., 1., 1., 1., 1., 1., 1., 1., 1., 1.],\n",
              "       [1., 1., 1., 1., 1., 1., 1., 1., 1., 1., 1., 1.],\n",
              "       [1., 1., 1., 1., 1., 1., 1., 1., 1., 1., 1., 1.],\n",
              "       [1., 1., 1., 1., 1., 1., 1., 1., 1., 1., 1., 1.],\n",
              "       [1., 1., 1., 1., 1., 1., 1., 1., 1., 1., 1., 1.],\n",
              "       [1., 1., 1., 1., 1., 1., 1., 1., 1., 1., 1., 1.],\n",
              "       [1., 1., 1., 1., 1., 1., 1., 1., 1., 1., 1., 1.],\n",
              "       [1., 1., 1., 1., 1., 1., 1., 1., 1., 1., 1., 1.],\n",
              "       [1., 1., 1., 1., 1., 1., 1., 1., 1., 1., 1., 1.],\n",
              "       [1., 1., 1., 1., 1., 1., 1., 1., 1., 1., 1., 1.],\n",
              "       [1., 1., 1., 1., 1., 1., 1., 1., 1., 1., 1., 1.],\n",
              "       [1., 1., 1., 1., 1., 1., 1., 1., 1., 1., 1., 1.],\n",
              "       [1., 1., 1., 1., 1., 1., 1., 1., 1., 1., 1., 1.],\n",
              "       [1., 1., 1., 1., 1., 1., 1., 1., 1., 1., 1., 1.],\n",
              "       [1., 1., 1., 1., 1., 1., 1., 1., 1., 1., 1., 1.],\n",
              "       [1., 1., 1., 1., 1., 1., 1., 1., 1., 1., 1., 1.],\n",
              "       [1., 1., 1., 1., 1., 1., 1., 1., 1., 1., 1., 1.],\n",
              "       [1., 1., 1., 1., 1., 1., 1., 1., 1., 1., 1., 1.],\n",
              "       [1., 1., 1., 1., 1., 1., 1., 1., 1., 1., 1., 1.],\n",
              "       [1., 1., 1., 1., 1., 1., 1., 1., 1., 1., 1., 1.]])"
            ]
          },
          "metadata": {},
          "execution_count": 187
        }
      ]
    },
    {
      "cell_type": "code",
      "source": [
        "HW3[2,6] = 88\n",
        "HW3[3,5:8] = 88\n",
        "HW3[4,4:9] = 88\n",
        "HW3[5,5:8] = 88\n",
        "HW3[6,4:9] = 88\n",
        "HW3[7,5:8] = 88\n",
        "HW3[8,4:9] = 88\n",
        "HW3[9,3:10] = 88\n",
        "HW3[10,5:8] = 88\n",
        "HW3[11,4:9] = 88\n",
        "HW3[12,3:10] = 88\n",
        "HW3[13,2:11] = 88\n",
        "HW3[14,5:8] = 88\n",
        "HW3[15,4:9] = 88\n",
        "HW3[16,3:10] = 88\n",
        "HW3[17,2:11] = 88\n",
        "HW3[18,1:12] = 88\n",
        "HW3[19,5:8] = 88\n",
        "HW3[20,5:8] = 88\n",
        "HW3[21,5:8] = 88\n",
        "HW3[22,5:8] = 88\n",
        "HW3"
      ],
      "metadata": {
        "colab": {
          "base_uri": "https://localhost:8080/"
        },
        "id": "SV7viMnlqZyd",
        "outputId": "b1c79bf9-f096-45d0-f75a-f67eaf5a7d4a"
      },
      "execution_count": 188,
      "outputs": [
        {
          "output_type": "execute_result",
          "data": {
            "text/plain": [
              "array([[ 1.,  1.,  1.,  1.,  1.,  1.,  1.,  1.,  1.,  1.,  1.,  1.],\n",
              "       [ 1.,  1.,  1.,  1.,  1.,  1.,  1.,  1.,  1.,  1.,  1.,  1.],\n",
              "       [ 1.,  1.,  1.,  1.,  1.,  1., 88.,  1.,  1.,  1.,  1.,  1.],\n",
              "       [ 1.,  1.,  1.,  1.,  1., 88., 88., 88.,  1.,  1.,  1.,  1.],\n",
              "       [ 1.,  1.,  1.,  1., 88., 88., 88., 88., 88.,  1.,  1.,  1.],\n",
              "       [ 1.,  1.,  1.,  1.,  1., 88., 88., 88.,  1.,  1.,  1.,  1.],\n",
              "       [ 1.,  1.,  1.,  1., 88., 88., 88., 88., 88.,  1.,  1.,  1.],\n",
              "       [ 1.,  1.,  1.,  1.,  1., 88., 88., 88.,  1.,  1.,  1.,  1.],\n",
              "       [ 1.,  1.,  1.,  1., 88., 88., 88., 88., 88.,  1.,  1.,  1.],\n",
              "       [ 1.,  1.,  1., 88., 88., 88., 88., 88., 88., 88.,  1.,  1.],\n",
              "       [ 1.,  1.,  1.,  1.,  1., 88., 88., 88.,  1.,  1.,  1.,  1.],\n",
              "       [ 1.,  1.,  1.,  1., 88., 88., 88., 88., 88.,  1.,  1.,  1.],\n",
              "       [ 1.,  1.,  1., 88., 88., 88., 88., 88., 88., 88.,  1.,  1.],\n",
              "       [ 1.,  1., 88., 88., 88., 88., 88., 88., 88., 88., 88.,  1.],\n",
              "       [ 1.,  1.,  1.,  1.,  1., 88., 88., 88.,  1.,  1.,  1.,  1.],\n",
              "       [ 1.,  1.,  1.,  1., 88., 88., 88., 88., 88.,  1.,  1.,  1.],\n",
              "       [ 1.,  1.,  1., 88., 88., 88., 88., 88., 88., 88.,  1.,  1.],\n",
              "       [ 1.,  1., 88., 88., 88., 88., 88., 88., 88., 88., 88.,  1.],\n",
              "       [ 1., 88., 88., 88., 88., 88., 88., 88., 88., 88., 88., 88.],\n",
              "       [ 1.,  1.,  1.,  1.,  1., 88., 88., 88.,  1.,  1.,  1.,  1.],\n",
              "       [ 1.,  1.,  1.,  1.,  1., 88., 88., 88.,  1.,  1.,  1.,  1.],\n",
              "       [ 1.,  1.,  1.,  1.,  1., 88., 88., 88.,  1.,  1.,  1.,  1.],\n",
              "       [ 1.,  1.,  1.,  1.,  1., 88., 88., 88.,  1.,  1.,  1.,  1.],\n",
              "       [ 1.,  1.,  1.,  1.,  1.,  1.,  1.,  1.,  1.,  1.,  1.,  1.]])"
            ]
          },
          "metadata": {},
          "execution_count": 188
        }
      ]
    },
    {
      "cell_type": "markdown",
      "source": [
        "### 2.   slice เลข 1 ออกมาจาก array HW3 ด้วยการ slice แค่ครั้งเดียว"
      ],
      "metadata": {
        "id": "oPvbpOrTte5e"
      }
    },
    {
      "cell_type": "code",
      "source": [
        "HW3_2 = np.zeros((10,10))\n",
        "HW3_2"
      ],
      "metadata": {
        "colab": {
          "base_uri": "https://localhost:8080/"
        },
        "id": "XrZjI43ztl_f",
        "outputId": "44c7a0ba-e00c-425c-aeec-1e3dae7e58ba"
      },
      "execution_count": 189,
      "outputs": [
        {
          "output_type": "execute_result",
          "data": {
            "text/plain": [
              "array([[0., 0., 0., 0., 0., 0., 0., 0., 0., 0.],\n",
              "       [0., 0., 0., 0., 0., 0., 0., 0., 0., 0.],\n",
              "       [0., 0., 0., 0., 0., 0., 0., 0., 0., 0.],\n",
              "       [0., 0., 0., 0., 0., 0., 0., 0., 0., 0.],\n",
              "       [0., 0., 0., 0., 0., 0., 0., 0., 0., 0.],\n",
              "       [0., 0., 0., 0., 0., 0., 0., 0., 0., 0.],\n",
              "       [0., 0., 0., 0., 0., 0., 0., 0., 0., 0.],\n",
              "       [0., 0., 0., 0., 0., 0., 0., 0., 0., 0.],\n",
              "       [0., 0., 0., 0., 0., 0., 0., 0., 0., 0.],\n",
              "       [0., 0., 0., 0., 0., 0., 0., 0., 0., 0.]])"
            ]
          },
          "metadata": {},
          "execution_count": 189
        }
      ]
    },
    {
      "cell_type": "code",
      "source": [
        "HW3_2[::4,2] = 1\n",
        "HW3_2[::4,4] = 1\n",
        "HW3_2[::4,6] = 1\n",
        "HW3_2[::4,8] = 1\n",
        "HW3_2"
      ],
      "metadata": {
        "colab": {
          "base_uri": "https://localhost:8080/"
        },
        "id": "Hd6WV71ptqIQ",
        "outputId": "4d34acd0-62a0-4895-bb89-5fa03c3ef6fd"
      },
      "execution_count": 190,
      "outputs": [
        {
          "output_type": "execute_result",
          "data": {
            "text/plain": [
              "array([[0., 0., 1., 0., 1., 0., 1., 0., 1., 0.],\n",
              "       [0., 0., 0., 0., 0., 0., 0., 0., 0., 0.],\n",
              "       [0., 0., 0., 0., 0., 0., 0., 0., 0., 0.],\n",
              "       [0., 0., 0., 0., 0., 0., 0., 0., 0., 0.],\n",
              "       [0., 0., 1., 0., 1., 0., 1., 0., 1., 0.],\n",
              "       [0., 0., 0., 0., 0., 0., 0., 0., 0., 0.],\n",
              "       [0., 0., 0., 0., 0., 0., 0., 0., 0., 0.],\n",
              "       [0., 0., 0., 0., 0., 0., 0., 0., 0., 0.],\n",
              "       [0., 0., 1., 0., 1., 0., 1., 0., 1., 0.],\n",
              "       [0., 0., 0., 0., 0., 0., 0., 0., 0., 0.]])"
            ]
          },
          "metadata": {},
          "execution_count": 190
        }
      ]
    },
    {
      "cell_type": "code",
      "source": [
        "# slice เลข 1 ออกมาด้วยคำสั่งเดียว\n",
        "HW3_2[::4,2::2]"
      ],
      "metadata": {
        "colab": {
          "base_uri": "https://localhost:8080/"
        },
        "id": "ErAfxRThtwVY",
        "outputId": "cc1bdbc6-05be-4eb4-83e3-ae231f934b0c"
      },
      "execution_count": 191,
      "outputs": [
        {
          "output_type": "execute_result",
          "data": {
            "text/plain": [
              "array([[1., 1., 1., 1.],\n",
              "       [1., 1., 1., 1.],\n",
              "       [1., 1., 1., 1.]])"
            ]
          },
          "metadata": {},
          "execution_count": 191
        }
      ]
    },
    {
      "cell_type": "markdown",
      "source": [
        "## Pandas Dataframe (แยกออกไปเป็น notebook เฉพาะ)"
      ],
      "metadata": {
        "id": "cnSRj65PPMbm"
      }
    },
    {
      "cell_type": "code",
      "source": [
        ""
      ],
      "metadata": {
        "id": "AUx5a4aApriq"
      },
      "execution_count": null,
      "outputs": []
    }
  ]
}