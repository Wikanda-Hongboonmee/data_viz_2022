{
  "nbformat": 4,
  "nbformat_minor": 0,
  "metadata": {
    "colab": {
      "name": "Data Structure.ipynb",
      "provenance": [],
      "authorship_tag": "ABX9TyOz08vW98/iIOfUFxOtN6jF",
      "include_colab_link": true
    },
    "kernelspec": {
      "name": "python3",
      "display_name": "Python 3"
    },
    "language_info": {
      "name": "python"
    }
  },
  "cells": [
    {
      "cell_type": "markdown",
      "metadata": {
        "id": "view-in-github",
        "colab_type": "text"
      },
      "source": [
        "<a href=\"https://colab.research.google.com/github/Wikanda-Hongboonmee/data_viz_2022/blob/main/Data_Structure.ipynb\" target=\"_parent\"><img src=\"https://colab.research.google.com/assets/colab-badge.svg\" alt=\"Open In Colab\"/></a>"
      ]
    },
    {
      "cell_type": "markdown",
      "source": [
        "# Data Structure (โครงสร้างข้อมูล)\n",
        "การเก็บข้อมูลหลาย ๆ ตัวไว้ด้วยกันอย่างเป็นระเบียบ"
      ],
      "metadata": {
        "id": "dd0_AUhX6HZw"
      }
    },
    {
      "cell_type": "markdown",
      "source": [
        "## `list()`\n",
        "\n",
        "- เป็นโครงสร้างข้อมูลที่ง่ายที่สุด เก็บอะไรก็ได้\n",
        "- ลำดับในการเก็บ มีความสำคัญ "
      ],
      "metadata": {
        "id": "9vb5iZJh6okJ"
      }
    },
    {
      "cell_type": "code",
      "execution_count": 1,
      "metadata": {
        "id": "jm8YEV8C5MoZ"
      },
      "outputs": [],
      "source": [
        "list_a = [1,2,3,4,5,6] # [ ] square brackets"
      ]
    },
    {
      "cell_type": "code",
      "source": [
        "list_a "
      ],
      "metadata": {
        "colab": {
          "base_uri": "https://localhost:8080/"
        },
        "id": "Mgj3CO106223",
        "outputId": "b29ca3ea-303a-4d1b-dbce-5be7d6cafa09"
      },
      "execution_count": 2,
      "outputs": [
        {
          "output_type": "execute_result",
          "data": {
            "text/plain": [
              "[1, 2, 3, 4, 5, 6]"
            ]
          },
          "metadata": {},
          "execution_count": 2
        }
      ]
    },
    {
      "cell_type": "code",
      "source": [
        "list_b = ['ab',2,3.14,list_a] # เราสามารถเอาอะไรมาเก็บไว้ใน list ก็ได้"
      ],
      "metadata": {
        "id": "4nSdN1Wy636A"
      },
      "execution_count": 3,
      "outputs": []
    },
    {
      "cell_type": "code",
      "source": [
        "list_b"
      ],
      "metadata": {
        "colab": {
          "base_uri": "https://localhost:8080/"
        },
        "id": "yCsrjQOZ7F8B",
        "outputId": "86b8ec19-8470-4967-c2ff-c0c4f34cdd74"
      },
      "execution_count": 4,
      "outputs": [
        {
          "output_type": "execute_result",
          "data": {
            "text/plain": [
              "['ab', 2, 3.14, [1, 2, 3, 4, 5, 6]]"
            ]
          },
          "metadata": {},
          "execution_count": 4
        }
      ]
    },
    {
      "cell_type": "markdown",
      "source": [
        "### indexing() การชี้สมาชิกใน list ด้วย เลขลำดับของ list"
      ],
      "metadata": {
        "id": "ENraYLak8Kp6"
      }
    },
    {
      "cell_type": "code",
      "source": [
        "list_b[3] # ดึงสมาชิตัวที่ 3 ของ list_b เริ่มนับตัวแรกเป็น 0"
      ],
      "metadata": {
        "colab": {
          "base_uri": "https://localhost:8080/"
        },
        "id": "cp_Kp9YW7HTv",
        "outputId": "29f6feb5-049b-4be7-da9f-dc1d069cfa10"
      },
      "execution_count": 5,
      "outputs": [
        {
          "output_type": "execute_result",
          "data": {
            "text/plain": [
              "[1, 2, 3, 4, 5, 6]"
            ]
          },
          "metadata": {},
          "execution_count": 5
        }
      ]
    },
    {
      "cell_type": "code",
      "source": [
        "list_b[3][4] # list ซ้อน list ชี้สมาชิกใน list ตัวแรกก่อนแล้วค่อยชี้ตัวที่ 2"
      ],
      "metadata": {
        "colab": {
          "base_uri": "https://localhost:8080/"
        },
        "id": "0P2lRNQ77lax",
        "outputId": "79b52385-9835-4be4-b36f-d3b03f11d0db"
      },
      "execution_count": 6,
      "outputs": [
        {
          "output_type": "execute_result",
          "data": {
            "text/plain": [
              "5"
            ]
          },
          "metadata": {},
          "execution_count": 6
        }
      ]
    },
    {
      "cell_type": "code",
      "source": [
        "list_a[6] # สมาชิกใน list มี 5 ตัวถ้าชี้ลำดับที่ไม่มีใน list จะ error"
      ],
      "metadata": {
        "colab": {
          "base_uri": "https://localhost:8080/",
          "height": 166
        },
        "id": "ehfQAj937-yl",
        "outputId": "e18ccffb-84e6-4855-c1f2-95a37123027e"
      },
      "execution_count": 7,
      "outputs": [
        {
          "output_type": "error",
          "ename": "IndexError",
          "evalue": "ignored",
          "traceback": [
            "\u001b[0;31m---------------------------------------------------------------------------\u001b[0m",
            "\u001b[0;31mIndexError\u001b[0m                                Traceback (most recent call last)",
            "\u001b[0;32m<ipython-input-7-2235f93a07e4>\u001b[0m in \u001b[0;36m<module>\u001b[0;34m()\u001b[0m\n\u001b[0;32m----> 1\u001b[0;31m \u001b[0mlist_a\u001b[0m\u001b[0;34m[\u001b[0m\u001b[0;36m6\u001b[0m\u001b[0;34m]\u001b[0m \u001b[0;31m# สมาชิกใน list มี 5 ตัวถ้าชี้ลำดับที่ไม่มีใน list จะ error\u001b[0m\u001b[0;34m\u001b[0m\u001b[0;34m\u001b[0m\u001b[0m\n\u001b[0m",
            "\u001b[0;31mIndexError\u001b[0m: list index out of range"
          ]
        }
      ]
    },
    {
      "cell_type": "code",
      "source": [
        "list_a[-1] # index -1 คือตัวสุดท้ายของ list"
      ],
      "metadata": {
        "colab": {
          "base_uri": "https://localhost:8080/"
        },
        "id": "gaoJJn0H8im7",
        "outputId": "5002aad9-ad92-49cb-d039-7902c0b07e87"
      },
      "execution_count": 8,
      "outputs": [
        {
          "output_type": "execute_result",
          "data": {
            "text/plain": [
              "6"
            ]
          },
          "metadata": {},
          "execution_count": 8
        }
      ]
    },
    {
      "cell_type": "code",
      "source": [
        "list_a[-4] # index -4 จะนับจากท้ายมา"
      ],
      "metadata": {
        "colab": {
          "base_uri": "https://localhost:8080/"
        },
        "id": "Mv85M4pY803o",
        "outputId": "20bf9a03-9817-4e2a-f511-6551b8e7315d"
      },
      "execution_count": 9,
      "outputs": [
        {
          "output_type": "execute_result",
          "data": {
            "text/plain": [
              "3"
            ]
          },
          "metadata": {},
          "execution_count": 9
        }
      ]
    },
    {
      "cell_type": "markdown",
      "source": [
        "### การสร้าง `list()`"
      ],
      "metadata": {
        "id": "uguKxWVx94AR"
      }
    },
    {
      "cell_type": "code",
      "source": [
        "list_x1 = [] # แบบที่ 1\n",
        "list_x2 = list() # แบบที่ 2"
      ],
      "metadata": {
        "id": "L6dopx4d9RMI"
      },
      "execution_count": 10,
      "outputs": []
    },
    {
      "cell_type": "code",
      "source": [
        "print(list_x1)\n",
        "print(list_x2)"
      ],
      "metadata": {
        "colab": {
          "base_uri": "https://localhost:8080/"
        },
        "id": "LoIulBeF-W3V",
        "outputId": "fadc42af-9215-4883-d1cb-098fb5320905"
      },
      "execution_count": 11,
      "outputs": [
        {
          "output_type": "stream",
          "name": "stdout",
          "text": [
            "[]\n",
            "[]\n"
          ]
        }
      ]
    },
    {
      "cell_type": "markdown",
      "source": [
        "### เพิ่มสมาชิกใน list ด้วย `append()`"
      ],
      "metadata": {
        "id": "yDKABGgH-t4L"
      }
    },
    {
      "cell_type": "code",
      "source": [
        "list_x1.append(2)"
      ],
      "metadata": {
        "id": "UXHN0UUv-aP1"
      },
      "execution_count": 12,
      "outputs": []
    },
    {
      "cell_type": "code",
      "source": [
        "list_x1"
      ],
      "metadata": {
        "colab": {
          "base_uri": "https://localhost:8080/"
        },
        "id": "avyDH2FF-48n",
        "outputId": "e18323e1-5488-4d64-aa24-666502f75eeb"
      },
      "execution_count": 13,
      "outputs": [
        {
          "output_type": "execute_result",
          "data": {
            "text/plain": [
              "[2]"
            ]
          },
          "metadata": {},
          "execution_count": 13
        }
      ]
    },
    {
      "cell_type": "code",
      "source": [
        "list_x1.append(4) # ลำดับมีความสำคัญ\n",
        "print(list_x1)"
      ],
      "metadata": {
        "colab": {
          "base_uri": "https://localhost:8080/"
        },
        "id": "lKgHeokB-7RW",
        "outputId": "c06dd04c-60d5-4692-8204-a09d19da54e4"
      },
      "execution_count": 14,
      "outputs": [
        {
          "output_type": "stream",
          "name": "stdout",
          "text": [
            "[2, 4]\n"
          ]
        }
      ]
    },
    {
      "cell_type": "code",
      "source": [
        "list_x1[0] # สมาชิกตัวที่ 0 หรือตัวแรกของ list"
      ],
      "metadata": {
        "colab": {
          "base_uri": "https://localhost:8080/"
        },
        "id": "N_hPra7y_AjV",
        "outputId": "243b2421-fef8-4b88-c200-ffb384a740ff"
      },
      "execution_count": 15,
      "outputs": [
        {
          "output_type": "execute_result",
          "data": {
            "text/plain": [
              "2"
            ]
          },
          "metadata": {},
          "execution_count": 15
        }
      ]
    },
    {
      "cell_type": "code",
      "source": [
        "list_x1[-1] # สมาชิกตัวที่ -1 หรือตัวสุดท้ายของ list"
      ],
      "metadata": {
        "colab": {
          "base_uri": "https://localhost:8080/"
        },
        "id": "B8wB_xz1_D3C",
        "outputId": "7ef3f62b-8e56-4ffe-b26a-e2436bf5823e"
      },
      "execution_count": 16,
      "outputs": [
        {
          "output_type": "execute_result",
          "data": {
            "text/plain": [
              "4"
            ]
          },
          "metadata": {},
          "execution_count": 16
        }
      ]
    },
    {
      "cell_type": "code",
      "source": [
        "list_x2.append('ha')"
      ],
      "metadata": {
        "id": "0W7cqwBa_Iwc"
      },
      "execution_count": 17,
      "outputs": []
    },
    {
      "cell_type": "code",
      "source": [
        "list_x2"
      ],
      "metadata": {
        "colab": {
          "base_uri": "https://localhost:8080/"
        },
        "id": "tzHBnIuGAKSg",
        "outputId": "704635b9-709f-4ccc-fae4-dfd2b84c1db9"
      },
      "execution_count": 18,
      "outputs": [
        {
          "output_type": "execute_result",
          "data": {
            "text/plain": [
              "['ha']"
            ]
          },
          "metadata": {},
          "execution_count": 18
        }
      ]
    },
    {
      "cell_type": "markdown",
      "source": [
        "### ลบสมาชิกจาก` list ()`"
      ],
      "metadata": {
        "id": "nTszKvjwAN1v"
      }
    },
    {
      "cell_type": "code",
      "source": [
        "list_x1.append('ha')"
      ],
      "metadata": {
        "id": "D41AG0xQALv0"
      },
      "execution_count": 19,
      "outputs": []
    },
    {
      "cell_type": "code",
      "source": [
        "list_x1"
      ],
      "metadata": {
        "colab": {
          "base_uri": "https://localhost:8080/"
        },
        "id": "5DufDvIDAWXv",
        "outputId": "609c1b71-fbe3-456c-9b62-c0973b406bfa"
      },
      "execution_count": 20,
      "outputs": [
        {
          "output_type": "execute_result",
          "data": {
            "text/plain": [
              "[2, 4, 'ha']"
            ]
          },
          "metadata": {},
          "execution_count": 20
        }
      ]
    },
    {
      "cell_type": "code",
      "source": [
        "list_x1.pop() # ลบสมาชิกออกจาก list ลบจากลำดับท้ายสุดมาหน้า\n",
        "print(list_x1)"
      ],
      "metadata": {
        "colab": {
          "base_uri": "https://localhost:8080/"
        },
        "id": "oFz-p4XfAYDl",
        "outputId": "a877082d-6f32-424f-9037-9fe2fda882cc"
      },
      "execution_count": 21,
      "outputs": [
        {
          "output_type": "stream",
          "name": "stdout",
          "text": [
            "[2, 4]\n"
          ]
        }
      ]
    },
    {
      "cell_type": "markdown",
      "source": [
        "###` len()` ตรวจสอบจำนวนสมาชิกของ list"
      ],
      "metadata": {
        "id": "rhL5nbHmCMKL"
      }
    },
    {
      "cell_type": "code",
      "source": [
        "print(list_b)\n",
        "print(len(list_b)) # นับจำนวนสมาชิกของ list_b"
      ],
      "metadata": {
        "colab": {
          "base_uri": "https://localhost:8080/"
        },
        "id": "eCmntPEqArVG",
        "outputId": "7dcf4438-4cf6-4a87-a8e8-86058778ec41"
      },
      "execution_count": 22,
      "outputs": [
        {
          "output_type": "stream",
          "name": "stdout",
          "text": [
            "['ab', 2, 3.14, [1, 2, 3, 4, 5, 6]]\n",
            "4\n"
          ]
        }
      ]
    },
    {
      "cell_type": "code",
      "source": [
        "len(list_a) # นับจำนวนสมาชิกของ list_a"
      ],
      "metadata": {
        "colab": {
          "base_uri": "https://localhost:8080/"
        },
        "id": "P7Xpf1iFCXxq",
        "outputId": "7e2c34cf-08c7-4d58-c7ce-de3cba9b700f"
      },
      "execution_count": 23,
      "outputs": [
        {
          "output_type": "execute_result",
          "data": {
            "text/plain": [
              "6"
            ]
          },
          "metadata": {},
          "execution_count": 23
        }
      ]
    },
    {
      "cell_type": "markdown",
      "source": [
        "### String is a list of characters : String เป็น list ของ characters"
      ],
      "metadata": {
        "id": "_sf5Z24SCknR"
      }
    },
    {
      "cell_type": "code",
      "source": [
        "st_stat = 'Department of Statistics, Faculty of Science'"
      ],
      "metadata": {
        "id": "U9DS-Gp3CbOh"
      },
      "execution_count": 24,
      "outputs": []
    },
    {
      "cell_type": "code",
      "source": [
        "st_stat[10]"
      ],
      "metadata": {
        "colab": {
          "base_uri": "https://localhost:8080/",
          "height": 34
        },
        "id": "0h5HwbcJDCxn",
        "outputId": "33711071-943e-4928-97e1-4543516c19c4"
      },
      "execution_count": 25,
      "outputs": [
        {
          "output_type": "execute_result",
          "data": {
            "application/vnd.google.colaboratory.intrinsic+json": {
              "type": "string"
            },
            "text/plain": [
              "' '"
            ]
          },
          "metadata": {},
          "execution_count": 25
        }
      ]
    },
    {
      "cell_type": "code",
      "source": [
        "len(st_stat)"
      ],
      "metadata": {
        "colab": {
          "base_uri": "https://localhost:8080/"
        },
        "id": "rRbLu_q8DF0u",
        "outputId": "6979583d-bfe5-4a24-afaa-7dbef25a255c"
      },
      "execution_count": 26,
      "outputs": [
        {
          "output_type": "execute_result",
          "data": {
            "text/plain": [
              "44"
            ]
          },
          "metadata": {},
          "execution_count": 26
        }
      ]
    },
    {
      "cell_type": "markdown",
      "source": [
        "### List Slicing `:`\n",
        "\n",
        "\n",
        "\n",
        "```\n",
        "list[จุดเริ่มต้น (ทึบ):จุดสุดท้าย (โปร่ง)]\n",
        "```\n",
        "```\n",
        "list[จุดเริ่มต้น (ทึบ):จุดสุดท้าย (โปร่ง):step]\n",
        "```\n",
        "\n"
      ],
      "metadata": {
        "id": "5ROhvNd6DXzz"
      }
    },
    {
      "cell_type": "markdown",
      "source": [
        "![image.png](data:image/png;base64,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)"
      ],
      "metadata": {
        "id": "efZZRO3qFbus"
      }
    },
    {
      "cell_type": "code",
      "source": [
        "list_a"
      ],
      "metadata": {
        "colab": {
          "base_uri": "https://localhost:8080/"
        },
        "id": "rW5eCAwlDSl1",
        "outputId": "8e15d296-88ef-4fcd-a055-e4c0e5d4fd3a"
      },
      "execution_count": 27,
      "outputs": [
        {
          "output_type": "execute_result",
          "data": {
            "text/plain": [
              "[1, 2, 3, 4, 5, 6]"
            ]
          },
          "metadata": {},
          "execution_count": 27
        }
      ]
    },
    {
      "cell_type": "code",
      "source": [
        "list_a[2]"
      ],
      "metadata": {
        "colab": {
          "base_uri": "https://localhost:8080/"
        },
        "id": "oYxHo_H-Dxu-",
        "outputId": "c4843eac-fdca-4fac-eee4-9d0b4f337199"
      },
      "execution_count": 28,
      "outputs": [
        {
          "output_type": "execute_result",
          "data": {
            "text/plain": [
              "3"
            ]
          },
          "metadata": {},
          "execution_count": 28
        }
      ]
    },
    {
      "cell_type": "markdown",
      "source": [
        "`:` colon"
      ],
      "metadata": {
        "id": "LkkVytMUFlSc"
      }
    },
    {
      "cell_type": "code",
      "source": [
        "list_a[-3:] # : colon สมาชิกสามตัวสุดท้ายของ list"
      ],
      "metadata": {
        "colab": {
          "base_uri": "https://localhost:8080/"
        },
        "id": "du4KdHnSEKsP",
        "outputId": "a29c6308-d6dc-4cb1-b05d-259229f1eba1"
      },
      "execution_count": 29,
      "outputs": [
        {
          "output_type": "execute_result",
          "data": {
            "text/plain": [
              "[4, 5, 6]"
            ]
          },
          "metadata": {},
          "execution_count": 29
        }
      ]
    },
    {
      "cell_type": "code",
      "source": [
        "list_a[1:4]"
      ],
      "metadata": {
        "colab": {
          "base_uri": "https://localhost:8080/"
        },
        "id": "ymPwapZSEPuC",
        "outputId": "a5bb3d63-2644-425c-f3cf-f084def647ae"
      },
      "execution_count": 30,
      "outputs": [
        {
          "output_type": "execute_result",
          "data": {
            "text/plain": [
              "[2, 3, 4]"
            ]
          },
          "metadata": {},
          "execution_count": 30
        }
      ]
    },
    {
      "cell_type": "code",
      "source": [
        "list_a[:]"
      ],
      "metadata": {
        "id": "8msVrEPNFqLB",
        "outputId": "161cd5d3-9650-4ded-f1a6-b9b86176824d",
        "colab": {
          "base_uri": "https://localhost:8080/"
        }
      },
      "execution_count": 31,
      "outputs": [
        {
          "output_type": "execute_result",
          "data": {
            "text/plain": [
              "[1, 2, 3, 4, 5, 6]"
            ]
          },
          "metadata": {},
          "execution_count": 31
        }
      ]
    },
    {
      "cell_type": "markdown",
      "source": [
        "step"
      ],
      "metadata": {
        "id": "nd-Ts8n1FiSZ"
      }
    },
    {
      "cell_type": "code",
      "source": [
        "list_c = [1,2,3,4,5,6,7,8,9,10,11,12,13]"
      ],
      "metadata": {
        "id": "s5ZZ6K__GR7x"
      },
      "execution_count": 32,
      "outputs": []
    },
    {
      "cell_type": "code",
      "source": [
        "list_c[:10:]"
      ],
      "metadata": {
        "id": "qOBZijMMFs3D",
        "outputId": "10b2ceb8-16cd-496a-ed93-8f27aaed3a68",
        "colab": {
          "base_uri": "https://localhost:8080/"
        }
      },
      "execution_count": 34,
      "outputs": [
        {
          "output_type": "execute_result",
          "data": {
            "text/plain": [
              "[1, 2, 3, 4, 5, 6, 7, 8, 9, 10]"
            ]
          },
          "metadata": {},
          "execution_count": 34
        }
      ]
    },
    {
      "cell_type": "code",
      "source": [
        "list_c[:10:2]"
      ],
      "metadata": {
        "id": "RJdjXWmoFvSu",
        "outputId": "3a37db9b-8144-4e05-da18-2853539c530f",
        "colab": {
          "base_uri": "https://localhost:8080/"
        }
      },
      "execution_count": 35,
      "outputs": [
        {
          "output_type": "execute_result",
          "data": {
            "text/plain": [
              "[1, 3, 5, 7, 9]"
            ]
          },
          "metadata": {},
          "execution_count": 35
        }
      ]
    },
    {
      "cell_type": "code",
      "source": [
        "list_c[::-1] "
      ],
      "metadata": {
        "id": "eIcdfFLsFwxV",
        "outputId": "1dc8c359-5291-4d63-f235-d13127635a11",
        "colab": {
          "base_uri": "https://localhost:8080/"
        }
      },
      "execution_count": 36,
      "outputs": [
        {
          "output_type": "execute_result",
          "data": {
            "text/plain": [
              "[13, 12, 11, 10, 9, 8, 7, 6, 5, 4, 3, 2, 1]"
            ]
          },
          "metadata": {},
          "execution_count": 36
        }
      ]
    },
    {
      "cell_type": "markdown",
      "source": [
        "### `range()`"
      ],
      "metadata": {
        "id": "xwuz1Hx0F0T9"
      }
    },
    {
      "cell_type": "code",
      "source": [
        "range(21)"
      ],
      "metadata": {
        "id": "1QEt8-6UF5SG",
        "outputId": "57eca570-5e29-4382-9159-7b8a4a6c2aba",
        "colab": {
          "base_uri": "https://localhost:8080/"
        }
      },
      "execution_count": 37,
      "outputs": [
        {
          "output_type": "execute_result",
          "data": {
            "text/plain": [
              "range(0, 21)"
            ]
          },
          "metadata": {},
          "execution_count": 37
        }
      ]
    },
    {
      "cell_type": "code",
      "source": [
        "a = list(range(21))"
      ],
      "metadata": {
        "id": "m-aM-mMyF8H7"
      },
      "execution_count": 38,
      "outputs": []
    },
    {
      "cell_type": "code",
      "source": [
        "a # แสดงผล list a จะประกอบไปด้วยสมาชิกทั้งหมด 21 ตัว"
      ],
      "metadata": {
        "id": "YE0Gs-SYF94j",
        "outputId": "bb6205e1-6e53-4750-8380-b2ff5ea4fec2",
        "colab": {
          "base_uri": "https://localhost:8080/"
        }
      },
      "execution_count": 39,
      "outputs": [
        {
          "output_type": "execute_result",
          "data": {
            "text/plain": [
              "[0, 1, 2, 3, 4, 5, 6, 7, 8, 9, 10, 11, 12, 13, 14, 15, 16, 17, 18, 19, 20]"
            ]
          },
          "metadata": {},
          "execution_count": 39
        }
      ]
    },
    {
      "cell_type": "code",
      "source": [
        "list(range(1,21))"
      ],
      "metadata": {
        "id": "QAaFhs2BGBP9",
        "outputId": "1bb6288a-0f3a-40ea-d7de-c0ba78a881e4",
        "colab": {
          "base_uri": "https://localhost:8080/"
        }
      },
      "execution_count": 40,
      "outputs": [
        {
          "output_type": "execute_result",
          "data": {
            "text/plain": [
              "[1, 2, 3, 4, 5, 6, 7, 8, 9, 10, 11, 12, 13, 14, 15, 16, 17, 18, 19, 20]"
            ]
          },
          "metadata": {},
          "execution_count": 40
        }
      ]
    },
    {
      "cell_type": "markdown",
      "source": [
        "HW2 คำนวณเวลาเป็นวินาทีของเวลาต่อไปนี้โดยใช้คำสั่ง split() ช่วย (print ออกมาให้สวยงาม)\n",
        "\n",
        "\n",
        "* 12:30:15\n",
        "* 13:41:07\n",
        "* 09:11:50\n",
        "* 21:30:15\n",
        "* 03:10:15\n",
        "\n"
      ],
      "metadata": {
        "id": "w2kKy4IYGH7G"
      }
    },
    {
      "cell_type": "code",
      "source": [
        "# 12:30:15\n",
        "T1 = \"12:30:15\"\n",
        "list_T1 = T1.split (\":\")\n",
        "Hour = int(list_T1[0])*3600\n",
        "Minute = int(list_T1[1])*60\n",
        "Second= int(list_T1[2])\n",
        "Total_T1 = Hour+Minute+Second\n",
        "print (f' {T1} แปลงเป็นวินาทีได้ {Total_T1} วินาที')"
      ],
      "metadata": {
        "id": "mvDrL08LGGnI",
        "outputId": "d02b86bf-dc83-451b-b2b7-c730443032ed",
        "colab": {
          "base_uri": "https://localhost:8080/"
        }
      },
      "execution_count": 53,
      "outputs": [
        {
          "output_type": "stream",
          "name": "stdout",
          "text": [
            " 12:30:15 แปลงเป็นวินาทีได้ 45015 วินาที\n"
          ]
        }
      ]
    },
    {
      "cell_type": "code",
      "source": [
        "# 13:41:07\n",
        "T2 = \"13:41:07\"\n",
        "list_T2 = T2.split (\":\")\n",
        "Hour = int(list_T2[0])*3600\n",
        "Minute = int(list_T2[1])*60\n",
        "Second= int(list_T2[2])\n",
        "Total_T2 = Hour+Minute+Second\n",
        "print (f' {T2} แปลงเป็นวินาทีได้ {Total_T2} วินาที')"
      ],
      "metadata": {
        "id": "XZ2JwLRpH4NW",
        "outputId": "f73db113-62e2-4f2f-c2e6-6b706c4f6a28",
        "colab": {
          "base_uri": "https://localhost:8080/"
        }
      },
      "execution_count": 55,
      "outputs": [
        {
          "output_type": "stream",
          "name": "stdout",
          "text": [
            " 13:41:07 แปลงเป็นวินาทีได้ 49267 วินาที\n"
          ]
        }
      ]
    },
    {
      "cell_type": "code",
      "source": [
        "# 09:11:50\n",
        "T3 = \"09:11:50\"\n",
        "list_T3 = T3.split (\":\")\n",
        "Hour = int(list_T3[0])*3600\n",
        "Minute = int(list_T3[1])*60\n",
        "Second= int(list_T3[2])\n",
        "Total_T3 = Hour+Minute+Second\n",
        "print (f' {T3} แปลงเป็นวินาทีได้ {Total_T3} วินาที')"
      ],
      "metadata": {
        "id": "KBDpZZDGI4t_",
        "outputId": "94d75b7d-0d76-431a-e525-b23e4c19e404",
        "colab": {
          "base_uri": "https://localhost:8080/"
        }
      },
      "execution_count": 56,
      "outputs": [
        {
          "output_type": "stream",
          "name": "stdout",
          "text": [
            " 09:11:50 แปลงเป็นวินาทีได้ 33110 วินาที\n"
          ]
        }
      ]
    },
    {
      "cell_type": "code",
      "source": [
        "# 21:30:15\n",
        "T4 = \"21:30:15\"\n",
        "list_T4 = T4.split (\":\")\n",
        "Hour = int(list_T4[0])*3600\n",
        "Minute = int(list_T4[1])*60\n",
        "Second= int(list_T4[2])\n",
        "Total_T4 = Hour+Minute+Second\n",
        "print (f' {T4} แปลงเป็นวินาทีได้ {Total_T4} วินาที')"
      ],
      "metadata": {
        "id": "HgLWTWsFJI8F",
        "outputId": "f6a96658-3588-46ee-e046-deba7aff26d3",
        "colab": {
          "base_uri": "https://localhost:8080/"
        }
      },
      "execution_count": 57,
      "outputs": [
        {
          "output_type": "stream",
          "name": "stdout",
          "text": [
            " 21:30:15 แปลงเป็นวินาทีได้ 77415 วินาที\n"
          ]
        }
      ]
    },
    {
      "cell_type": "code",
      "source": [
        "# 03:10:15\n",
        "T5 = \"03:10:15\"\n",
        "list_T5 = T5.split (\":\")\n",
        "Hour = int(list_T5[0])*3600\n",
        "Minute = int(list_T5[1])*60\n",
        "Second= int(list_T5[2])\n",
        "Total_T5 = Hour+Minute+Second\n",
        "print (f' {T5} แปลงเป็นวินาทีได้ {Total_T5} วินาที')"
      ],
      "metadata": {
        "id": "GkN7GfE9JU_t",
        "outputId": "81aae680-9628-4f59-a85c-3e90fe38f4de",
        "colab": {
          "base_uri": "https://localhost:8080/"
        }
      },
      "execution_count": 58,
      "outputs": [
        {
          "output_type": "stream",
          "name": "stdout",
          "text": [
            " 03:10:15 แปลงเป็นวินาทีได้ 11415 วินาที\n"
          ]
        }
      ]
    },
    {
      "cell_type": "code",
      "source": [
        ""
      ],
      "metadata": {
        "id": "rWf-3Q7wJgTU"
      },
      "execution_count": null,
      "outputs": []
    }
  ]
}