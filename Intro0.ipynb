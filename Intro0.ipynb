{
  "nbformat": 4,
  "nbformat_minor": 0,
  "metadata": {
    "colab": {
      "name": "Intro0.ipynb",
      "provenance": [],
      "authorship_tag": "ABX9TyOKV1letZvwEsx9OfeNZCTE",
      "include_colab_link": true
    },
    "kernelspec": {
      "name": "python3",
      "display_name": "Python 3"
    },
    "language_info": {
      "name": "python"
    }
  },
  "cells": [
    {
      "cell_type": "markdown",
      "metadata": {
        "id": "view-in-github",
        "colab_type": "text"
      },
      "source": [
        "<a href=\"https://colab.research.google.com/github/Wikanda-Hongboonmee/data_viz_2022/blob/main/Intro0.ipynb\" target=\"_parent\"><img src=\"https://colab.research.google.com/assets/colab-badge.svg\" alt=\"Open In Colab\"/></a>"
      ]
    },
    {
      "cell_type": "markdown",
      "source": [
        "## **Introduction to Basic Programming for Data Science and Data Visualization**\n",
        "\n"
      ],
      "metadata": {
        "id": "KX0UGa_g-LO4"
      }
    },
    {
      "cell_type": "markdown",
      "source": [
        "**ข้อดีของโน้ตบุ้ค** คือ มันจะแบ่งโค้ดออกเป็นสัดส่วนทำให้ง่ายต่อความเข้าใจ"
      ],
      "metadata": {
        "id": "oKVSYH3z-EQI"
      }
    },
    {
      "cell_type": "code",
      "execution_count": 1,
      "metadata": {
        "colab": {
          "base_uri": "https://localhost:8080/"
        },
        "id": "TU6NPRxz9a_O",
        "outputId": "5ebdd966-449f-4b3c-c497-d97133980933"
      },
      "outputs": [
        {
          "output_type": "execute_result",
          "data": {
            "text/plain": [
              "3"
            ]
          },
          "metadata": {},
          "execution_count": 1
        }
      ],
      "source": [
        "a = 1\n",
        "b = 2\n",
        "a + b "
      ]
    },
    {
      "cell_type": "markdown",
      "source": [
        "1+2"
      ],
      "metadata": {
        "id": "OBc_Mdey_w-H"
      }
    },
    {
      "cell_type": "code",
      "source": [
        "print(' วิกานดา หงษ์บุญมี ID 623020764-2 ')"
      ],
      "metadata": {
        "colab": {
          "base_uri": "https://localhost:8080/"
        },
        "id": "SjsTU5lZ9yDP",
        "outputId": "6f05f613-b04d-42ff-df36-7c987026c059"
      },
      "execution_count": 2,
      "outputs": [
        {
          "output_type": "stream",
          "name": "stdout",
          "text": [
            " วิกานดา หงษ์บุญมี ID 623020764-2 \n"
          ]
        }
      ]
    },
    {
      "cell_type": "code",
      "source": [
        "aaaa = 2\n",
        "bbb = 3"
      ],
      "metadata": {
        "id": "eEpKx1zS_BxH"
      },
      "execution_count": 3,
      "outputs": []
    },
    {
      "cell_type": "code",
      "source": [
        ""
      ],
      "metadata": {
        "id": "tDPzhlN4_k9X"
      },
      "execution_count": null,
      "outputs": []
    },
    {
      "cell_type": "code",
      "source": [
        ""
      ],
      "metadata": {
        "id": "vEgArpQv_8R8"
      },
      "execution_count": null,
      "outputs": []
    }
  ]
}