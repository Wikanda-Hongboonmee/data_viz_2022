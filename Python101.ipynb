{
  "nbformat": 4,
  "nbformat_minor": 0,
  "metadata": {
    "colab": {
      "name": "Python101.ipynb",
      "provenance": [],
      "authorship_tag": "ABX9TyONrAFnX+vVnnO+U8QX/Fgv",
      "include_colab_link": true
    },
    "kernelspec": {
      "name": "python3",
      "display_name": "Python 3"
    },
    "language_info": {
      "name": "python"
    }
  },
  "cells": [
    {
      "cell_type": "markdown",
      "metadata": {
        "id": "view-in-github",
        "colab_type": "text"
      },
      "source": [
        "<a href=\"https://colab.research.google.com/github/Wikanda-Hongboonmee/data_viz_2022/blob/main/Python101.ipynb\" target=\"_parent\"><img src=\"https://colab.research.google.com/assets/colab-badge.svg\" alt=\"Open In Colab\"/></a>"
      ]
    },
    {
      "cell_type": "markdown",
      "source": [
        "ข้อความในช่อง Text เป็นภาษา Markdown(https://www.markdownguide.org/cheat-sheet/)"
      ],
      "metadata": {
        "id": "v6zUxS7pIoaW"
      }
    },
    {
      "cell_type": "markdown",
      "source": [
        "# การจัดการข้อความในการแสดงผล (Print)\n",
        "\n",
        "\n"
      ],
      "metadata": {
        "id": "m99eIwOeJeTH"
      }
    },
    {
      "cell_type": "markdown",
      "source": [
        "## ข้อความ (string)\n",
        "### test heading 3"
      ],
      "metadata": {
        "id": "0gEbOarTOpcE"
      }
    },
    {
      "cell_type": "code",
      "source": [
        "'สถิติ' # ถ้าเป็นข้อความจะมีทางเลือกสองทาง คือ ' quote หรือ \" double quote"
      ],
      "metadata": {
        "colab": {
          "base_uri": "https://localhost:8080/",
          "height": 35
        },
        "id": "pEM5dPkpKR7V",
        "outputId": "1ed208c8-3170-4df6-f0ba-e0152691e1a9"
      },
      "execution_count": 1,
      "outputs": [
        {
          "output_type": "execute_result",
          "data": {
            "application/vnd.google.colaboratory.intrinsic+json": {
              "type": "string"
            },
            "text/plain": [
              "'สถิติ'"
            ]
          },
          "metadata": {},
          "execution_count": 1
        }
      ]
    },
    {
      "cell_type": "code",
      "source": [
        "\"สถิติ\" # ถ้าเป็นข้อความจะมีทางเลือกสองทาง คือ ' quote หรือ \" double quote"
      ],
      "metadata": {
        "colab": {
          "base_uri": "https://localhost:8080/",
          "height": 35
        },
        "id": "QeTT7QYRLaJA",
        "outputId": "dad56829-833a-43d9-b5b7-20b968c56da7"
      },
      "execution_count": 2,
      "outputs": [
        {
          "output_type": "execute_result",
          "data": {
            "application/vnd.google.colaboratory.intrinsic+json": {
              "type": "string"
            },
            "text/plain": [
              "'สถิติ'"
            ]
          },
          "metadata": {},
          "execution_count": 2
        }
      ]
    },
    {
      "cell_type": "code",
      "source": [
        "1 + 3 # ถ้าเป็นตัวเลขมันจะเอามาบวก ลบกันได้เลย"
      ],
      "metadata": {
        "colab": {
          "base_uri": "https://localhost:8080/"
        },
        "id": "mKrYU-nML12O",
        "outputId": "c2b2417d-a704-49c7-c61d-b20a5e4d73d9"
      },
      "execution_count": 3,
      "outputs": [
        {
          "output_type": "execute_result",
          "data": {
            "text/plain": [
              "4"
            ]
          },
          "metadata": {},
          "execution_count": 3
        }
      ]
    },
    {
      "cell_type": "code",
      "source": [
        "'1' + '3' # string + string คือ การต่อ string ถ้าเป็นข้อความมันจะไม่เอามาบวกกันแต่มันจะเอามาต่อกันถ้าเป็นบวก"
      ],
      "metadata": {
        "colab": {
          "base_uri": "https://localhost:8080/",
          "height": 35
        },
        "id": "mwMi1rcfL8dj",
        "outputId": "6165266d-6d7c-4771-f408-17c4609f154f"
      },
      "execution_count": 4,
      "outputs": [
        {
          "output_type": "execute_result",
          "data": {
            "application/vnd.google.colaboratory.intrinsic+json": {
              "type": "string"
            },
            "text/plain": [
              "'13'"
            ]
          },
          "metadata": {},
          "execution_count": 4
        }
      ]
    },
    {
      "cell_type": "code",
      "source": [
        "1 - 3 # ถ้าเป็นตัวเลขมันจะเอามาบวก ลบกันได้เลย"
      ],
      "metadata": {
        "colab": {
          "base_uri": "https://localhost:8080/"
        },
        "id": "aE6Q4t6aMKro",
        "outputId": "3f56a593-3002-4a88-c73d-c378a0bedefb"
      },
      "execution_count": 6,
      "outputs": [
        {
          "output_type": "execute_result",
          "data": {
            "text/plain": [
              "-2"
            ]
          },
          "metadata": {},
          "execution_count": 6
        }
      ]
    },
    {
      "cell_type": "code",
      "source": [
        "'1' - '3' # ถ้าเป็นข้อความมันจะเอามาบวกลบกันไม่ได้"
      ],
      "metadata": {
        "colab": {
          "base_uri": "https://localhost:8080/",
          "height": 166
        },
        "id": "XE8VXXnkMPP7",
        "outputId": "5a67fa1e-734d-49d5-8b4f-4c415ceff163"
      },
      "execution_count": 7,
      "outputs": [
        {
          "output_type": "error",
          "ename": "TypeError",
          "evalue": "ignored",
          "traceback": [
            "\u001b[0;31m---------------------------------------------------------------------------\u001b[0m",
            "\u001b[0;31mTypeError\u001b[0m                                 Traceback (most recent call last)",
            "\u001b[0;32m<ipython-input-7-aeda4cb230fd>\u001b[0m in \u001b[0;36m<module>\u001b[0;34m()\u001b[0m\n\u001b[0;32m----> 1\u001b[0;31m \u001b[0;34m'1'\u001b[0m \u001b[0;34m-\u001b[0m \u001b[0;34m'3'\u001b[0m\u001b[0;34m\u001b[0m\u001b[0;34m\u001b[0m\u001b[0m\n\u001b[0m",
            "\u001b[0;31mTypeError\u001b[0m: unsupported operand type(s) for -: 'str' and 'str'"
          ]
        }
      ]
    },
    {
      "cell_type": "markdown",
      "source": [
        "## Print(ข้อความ)"
      ],
      "metadata": {
        "id": "9_l6znUjMYhf"
      }
    },
    {
      "cell_type": "markdown",
      "source": [
        "`print(ข้อความ)`"
      ],
      "metadata": {
        "id": "h04vVDRoNDtF"
      }
    },
    {
      "cell_type": "code",
      "source": [
        "print('ข้อความที่อยากให้ print') # print แบบธรรมดาจะแสดงข้อความออกมา"
      ],
      "metadata": {
        "colab": {
          "base_uri": "https://localhost:8080/"
        },
        "id": "toibEIaVNDW-",
        "outputId": "bcf1aa1a-2f62-447f-ca4a-0b07900f42a7"
      },
      "execution_count": 8,
      "outputs": [
        {
          "output_type": "stream",
          "name": "stdout",
          "text": [
            "ข้อความที่อยากให้ print\n"
          ]
        }
      ]
    },
    {
      "cell_type": "markdown",
      "source": [
        "# ตัวแปร (Variables)"
      ],
      "metadata": {
        "id": "MqmGt1i8KCFj"
      }
    },
    {
      "cell_type": "markdown",
      "source": [
        "**ตัวแปรที่เก็บข้อมูลได้แค่หนึ่งอย่าง**"
      ],
      "metadata": {
        "id": "gxnS0SvEOg51"
      }
    },
    {
      "cell_type": "code",
      "execution_count": 9,
      "metadata": {
        "id": "YmxfQx1ZIOEB"
      },
      "outputs": [],
      "source": [
        "vartest1 = 1+3 # เอาค่าไปเก็บไว้ในตัวแปร "
      ]
    },
    {
      "cell_type": "code",
      "source": [
        "vartest1 # แสดงผลค่าของตัวแปร"
      ],
      "metadata": {
        "colab": {
          "base_uri": "https://localhost:8080/"
        },
        "id": "1yScNdlhOCtp",
        "outputId": "f2ca625c-c50f-4c6b-85a6-4b3c3f15d1d0"
      },
      "execution_count": 10,
      "outputs": [
        {
          "output_type": "execute_result",
          "data": {
            "text/plain": [
              "4"
            ]
          },
          "metadata": {},
          "execution_count": 10
        }
      ]
    },
    {
      "cell_type": "code",
      "source": [
        "print(vartest1)"
      ],
      "metadata": {
        "colab": {
          "base_uri": "https://localhost:8080/"
        },
        "id": "m-WZKMfZOEVE",
        "outputId": "4f4cf52a-0790-4951-e230-9e43d9fb3e69"
      },
      "execution_count": 11,
      "outputs": [
        {
          "output_type": "stream",
          "name": "stdout",
          "text": [
            "4\n"
          ]
        }
      ]
    },
    {
      "cell_type": "code",
      "source": [
        "vartest2 = '1' + '3' # เอาค่าไปเก็บไว้ในตัวแปร"
      ],
      "metadata": {
        "id": "j00jC5kCOPly"
      },
      "execution_count": 12,
      "outputs": []
    },
    {
      "cell_type": "code",
      "source": [
        "vartest2 # แสดงผลค่าของตัวแปร"
      ],
      "metadata": {
        "colab": {
          "base_uri": "https://localhost:8080/",
          "height": 35
        },
        "id": "k2dWgE0cOYLh",
        "outputId": "69edbf75-c18e-4069-ac99-858009f669f5"
      },
      "execution_count": 13,
      "outputs": [
        {
          "output_type": "execute_result",
          "data": {
            "application/vnd.google.colaboratory.intrinsic+json": {
              "type": "string"
            },
            "text/plain": [
              "'13'"
            ]
          },
          "metadata": {},
          "execution_count": 13
        }
      ]
    },
    {
      "cell_type": "code",
      "source": [
        "print(vartest2)"
      ],
      "metadata": {
        "colab": {
          "base_uri": "https://localhost:8080/"
        },
        "id": "r-X9BSIEOZ_m",
        "outputId": "1e66218c-449c-4599-f27a-a2ed19824257"
      },
      "execution_count": 14,
      "outputs": [
        {
          "output_type": "stream",
          "name": "stdout",
          "text": [
            "13\n"
          ]
        }
      ]
    },
    {
      "cell_type": "markdown",
      "source": [
        "## ข้อกำหนดในการตั้งชื่อตัวแปร\n",
        "1. ตั้งให้สื่อความหมาย\n",
        "2. ต้องเป็นภาษาอังกฤษ\n",
        "3. ใช้ตัวเลขผสมกับตัวหนังสือได้ แต่ห้ามขึ้นต้นด้วยตัวเลข \n",
        "4. ห้ามมีเว้นวรรคในชื่อตัวแปร\n",
        "5. ตัวใหญ่ตัวเล็กมีผล"
      ],
      "metadata": {
        "id": "qSNcX97mOzmK"
      }
    },
    {
      "cell_type": "code",
      "source": [
        "1a = 7 # ใช้ตัวเลขผสมกับตัวหนังสือได้ แต่ห้ามขึ้นต้นด้วยตัวเลข"
      ],
      "metadata": {
        "colab": {
          "base_uri": "https://localhost:8080/",
          "height": 132
        },
        "id": "25JA2T8sOdCy",
        "outputId": "7e666eca-2b47-4dd8-9f9b-b5682d9f3cc4"
      },
      "execution_count": 16,
      "outputs": [
        {
          "output_type": "error",
          "ename": "SyntaxError",
          "evalue": "ignored",
          "traceback": [
            "\u001b[0;36m  File \u001b[0;32m\"<ipython-input-16-bdbe52a7c5d5>\"\u001b[0;36m, line \u001b[0;32m1\u001b[0m\n\u001b[0;31m    1a = 7 # ใช้ตัวเลขผสมกับตัวหนังสือได้ แต่ห้ามขึ้นต้นด้วยตัวเลข\u001b[0m\n\u001b[0m     ^\u001b[0m\n\u001b[0;31mSyntaxError\u001b[0m\u001b[0;31m:\u001b[0m invalid syntax\n"
          ]
        }
      ]
    },
    {
      "cell_type": "code",
      "source": [
        "variable a = 1 # ห้ามมีเว้นวรรคในชื่อตัวแปร"
      ],
      "metadata": {
        "colab": {
          "base_uri": "https://localhost:8080/",
          "height": 132
        },
        "id": "Jhg9ZzYXPmRS",
        "outputId": "eb4d5588-23fc-499a-d19a-8a376ed61c45"
      },
      "execution_count": 18,
      "outputs": [
        {
          "output_type": "error",
          "ename": "SyntaxError",
          "evalue": "ignored",
          "traceback": [
            "\u001b[0;36m  File \u001b[0;32m\"<ipython-input-18-67a5a9577c35>\"\u001b[0;36m, line \u001b[0;32m1\u001b[0m\n\u001b[0;31m    variable a = 1 # ห้ามมีเว้นวรรคในชื่อตัวแปร\u001b[0m\n\u001b[0m             ^\u001b[0m\n\u001b[0;31mSyntaxError\u001b[0m\u001b[0;31m:\u001b[0m invalid syntax\n"
          ]
        }
      ]
    },
    {
      "cell_type": "markdown",
      "source": [
        "## Advanced Printing \n",
        "เราสามารถ print code ร่วมกับข้อความได้\n",
        "\n",
        "```\n",
        "print(f'ข้อความ{code}')\n",
        "```\n",
        "\n"
      ],
      "metadata": {
        "id": "ChIBlmSAQaOz"
      }
    },
    {
      "cell_type": "code",
      "source": [
        "print(f'หนึ่ง บวก สอง (1+2) เท่ากับ สาม ({1+2})') # { } Curly Brackets "
      ],
      "metadata": {
        "colab": {
          "base_uri": "https://localhost:8080/"
        },
        "id": "G4143yA-Pr9q",
        "outputId": "0cc64a26-6fae-4832-aa5b-a5db3b7cb131"
      },
      "execution_count": 19,
      "outputs": [
        {
          "output_type": "stream",
          "name": "stdout",
          "text": [
            "หนึ่ง บวก สอง (1+2) เท่ากับ สาม (3)\n"
          ]
        }
      ]
    },
    {
      "cell_type": "code",
      "source": [
        "a = 1\n",
        "b = 2\n",
        "print(f'หนึ่ง บวก สอง ({a} + {b}) เท่ากับ สาม ({a+b})')"
      ],
      "metadata": {
        "colab": {
          "base_uri": "https://localhost:8080/"
        },
        "id": "_ZY7n8ebRUVa",
        "outputId": "f0852d84-3107-450c-d843-f8ecb5a0f449"
      },
      "execution_count": 21,
      "outputs": [
        {
          "output_type": "stream",
          "name": "stdout",
          "text": [
            "หนึ่ง บวก สอง (1 + 2) เท่ากับ สาม (3)\n"
          ]
        }
      ]
    },
    {
      "cell_type": "code",
      "source": [
        "a = 5\n",
        "b = 2"
      ],
      "metadata": {
        "id": "gFBg4d9cRyn1"
      },
      "execution_count": 22,
      "outputs": []
    },
    {
      "cell_type": "code",
      "source": [
        "print(f'{a}+{b} = {a+b}')"
      ],
      "metadata": {
        "colab": {
          "base_uri": "https://localhost:8080/"
        },
        "id": "34dCEyzQR4pr",
        "outputId": "2686eb1c-29cc-4202-c08b-d5a610aefeb1"
      },
      "execution_count": 23,
      "outputs": [
        {
          "output_type": "stream",
          "name": "stdout",
          "text": [
            "5+2 = 7\n"
          ]
        }
      ]
    },
    {
      "cell_type": "markdown",
      "source": [
        "## ชนิดของตัวแปร"
      ],
      "metadata": {
        "id": "xFUhGhwMUZMv"
      }
    },
    {
      "cell_type": "markdown",
      "source": [
        "### char (acter) (ตัวอักษร)"
      ],
      "metadata": {
        "id": "Uh93tDfqU9rX"
      }
    },
    {
      "cell_type": "code",
      "source": [
        "A = 'ch' # มีตัวเดียวเป็น character มีหลายตัวเป็น string"
      ],
      "metadata": {
        "id": "w9SZnLa_SBhI"
      },
      "execution_count": 27,
      "outputs": []
    },
    {
      "cell_type": "code",
      "source": [
        "B = 'arcter'"
      ],
      "metadata": {
        "id": "xTEqUK0aVMZn"
      },
      "execution_count": 28,
      "outputs": []
    },
    {
      "cell_type": "code",
      "source": [
        "print(f' a={A} b ={B}, then {A} + {B} = {A+B}') # สามารถเอามาบวกกันได้"
      ],
      "metadata": {
        "colab": {
          "base_uri": "https://localhost:8080/"
        },
        "id": "XNuHJ5szVPMj",
        "outputId": "c7ec46e9-daba-4c6c-f610-5ae242a4513e"
      },
      "execution_count": 30,
      "outputs": [
        {
          "output_type": "stream",
          "name": "stdout",
          "text": [
            " a=ch b =arcter, then ch + arcter = charcter\n"
          ]
        }
      ]
    },
    {
      "cell_type": "markdown",
      "source": [
        "### int(eger) (จำนวนเต็ม)"
      ],
      "metadata": {
        "id": "FR5M5AOnWTEx"
      }
    },
    {
      "cell_type": "code",
      "source": [
        "int_a = 7\n",
        "int_b = 2"
      ],
      "metadata": {
        "id": "nahuWO_ZVWF9"
      },
      "execution_count": 31,
      "outputs": []
    },
    {
      "cell_type": "code",
      "source": [
        "int_c = int_a + int_b # เอาตัวแปรมารับ\n",
        "print(int_c) # แสดงผลออกมา"
      ],
      "metadata": {
        "colab": {
          "base_uri": "https://localhost:8080/"
        },
        "id": "HoocO-3lWfFN",
        "outputId": "7231c15e-0481-44e2-c968-861738441e82"
      },
      "execution_count": 34,
      "outputs": [
        {
          "output_type": "stream",
          "name": "stdout",
          "text": [
            "9\n"
          ]
        }
      ]
    },
    {
      "cell_type": "markdown",
      "source": [
        "### Float (จำนวนจริง ทศนิยม)"
      ],
      "metadata": {
        "id": "gSg9ZZG4W1aE"
      }
    },
    {
      "cell_type": "code",
      "source": [
        "fl_a = 7. # ไม่จำเป็นต้องมีตัวต่อก็ได้ ใส่แค่จุดต่อท้ายได้เลย มันก็จะเป็น .0\n",
        "fl_b = 2.571 # หรือจะใส่ต่อท้ายก็ได้"
      ],
      "metadata": {
        "id": "xpmn1tyQWm-S"
      },
      "execution_count": 35,
      "outputs": []
    },
    {
      "cell_type": "code",
      "source": [
        "print(fl_a)"
      ],
      "metadata": {
        "colab": {
          "base_uri": "https://localhost:8080/"
        },
        "id": "WmWTqessXt9I",
        "outputId": "af5d57c9-8004-4d15-abd0-ee77dec1f9fd"
      },
      "execution_count": 36,
      "outputs": [
        {
          "output_type": "stream",
          "name": "stdout",
          "text": [
            "7.0\n"
          ]
        }
      ]
    },
    {
      "cell_type": "code",
      "source": [
        "print(fl_a + fl_b)"
      ],
      "metadata": {
        "colab": {
          "base_uri": "https://localhost:8080/"
        },
        "id": "Yg4PpaT2YgBX",
        "outputId": "a482f296-82bc-4b0c-df38-0adee5238529"
      },
      "execution_count": 39,
      "outputs": [
        {
          "output_type": "stream",
          "name": "stdout",
          "text": [
            "9.571\n"
          ]
        }
      ]
    },
    {
      "cell_type": "markdown",
      "source": [
        "### Boolean (ตัวแปรที่มีค่า True หรือ False)"
      ],
      "metadata": {
        "id": "tqq58PO6Z0BL"
      }
    },
    {
      "cell_type": "code",
      "source": [
        "b_T = True"
      ],
      "metadata": {
        "id": "ehg4ApxwYjIw"
      },
      "execution_count": 40,
      "outputs": []
    },
    {
      "cell_type": "code",
      "source": [
        "b_F = False"
      ],
      "metadata": {
        "id": "IWt34AQraF_I"
      },
      "execution_count": 41,
      "outputs": []
    },
    {
      "cell_type": "markdown",
      "source": [
        "### Complex Number (จำนวนเชิงซ้อน)"
      ],
      "metadata": {
        "id": "6But75OGa81x"
      }
    },
    {
      "cell_type": "code",
      "source": [
        "x = 1 + 2j"
      ],
      "metadata": {
        "id": "a-uAxxDpaItE"
      },
      "execution_count": 42,
      "outputs": []
    },
    {
      "cell_type": "markdown",
      "source": [
        "### เราสามารถตรวจสอบชนิดของตัวแปรได้ด้วยคำสั่ง type()"
      ],
      "metadata": {
        "id": "HGWXqs8Wbk9s"
      }
    },
    {
      "cell_type": "code",
      "source": [
        "print(f'ตัวแปร x ค่าคือ {x} ชนิด {type(x)}')"
      ],
      "metadata": {
        "colab": {
          "base_uri": "https://localhost:8080/"
        },
        "id": "5d37MfV5bkMI",
        "outputId": "f8ab1683-0e57-40f3-fcac-4e646cc0f482"
      },
      "execution_count": 43,
      "outputs": [
        {
          "output_type": "stream",
          "name": "stdout",
          "text": [
            "ตัวแปร x ค่าคือ (1+2j) ชนิด <class 'complex'>\n"
          ]
        }
      ]
    },
    {
      "cell_type": "code",
      "source": [
        "print(f'ตัวแปร A ค่าคือ {A} ชนิด {type(A)}')"
      ],
      "metadata": {
        "colab": {
          "base_uri": "https://localhost:8080/"
        },
        "id": "pfKME7Q6cJZ1",
        "outputId": "147a769b-0d61-4f5e-93bd-4d424dc7cd56"
      },
      "execution_count": 44,
      "outputs": [
        {
          "output_type": "stream",
          "name": "stdout",
          "text": [
            "ตัวแปร A ค่าคือ ch ชนิด <class 'str'>\n"
          ]
        }
      ]
    },
    {
      "cell_type": "code",
      "source": [
        "print(f'ตัวแปร a ค่าคือ {a} ชนิด {type(a)}')"
      ],
      "metadata": {
        "colab": {
          "base_uri": "https://localhost:8080/"
        },
        "id": "l-DbZRCZcZH4",
        "outputId": "a6dc6d44-0a90-476e-e131-0358c6a5fa3e"
      },
      "execution_count": 45,
      "outputs": [
        {
          "output_type": "stream",
          "name": "stdout",
          "text": [
            "ตัวแปร a ค่าคือ ch ชนิด <class 'str'>\n"
          ]
        }
      ]
    },
    {
      "cell_type": "markdown",
      "source": [
        "## การแปลงชนิดของตัวแปร (Variable Casting)"
      ],
      "metadata": {
        "id": "OazA0JMMc3l3"
      }
    },
    {
      "cell_type": "code",
      "source": [
        "print(f'int_a = {int_a} int_b = {int_b} fl_a = {fl_a} fl_b = {fl_b}')"
      ],
      "metadata": {
        "colab": {
          "base_uri": "https://localhost:8080/"
        },
        "id": "rogEk1sjcgYJ",
        "outputId": "b3f2ea2c-af01-4638-ffec-8be9cc3db2bb"
      },
      "execution_count": 47,
      "outputs": [
        {
          "output_type": "stream",
          "name": "stdout",
          "text": [
            "int_a = 7 int_b = 2 fl_a = 7.0 fl_b = 2.571\n"
          ]
        }
      ]
    },
    {
      "cell_type": "code",
      "source": [
        "str_a = '6'\n",
        "str_b = '-2'"
      ],
      "metadata": {
        "id": "oWJLoKkLdv-F"
      },
      "execution_count": 48,
      "outputs": []
    },
    {
      "cell_type": "code",
      "source": [
        "int(fl_a)"
      ],
      "metadata": {
        "colab": {
          "base_uri": "https://localhost:8080/"
        },
        "id": "xP9o2Vs1d1ra",
        "outputId": "3482c30f-a404-4279-ece5-97b2e5a810c7"
      },
      "execution_count": 50,
      "outputs": [
        {
          "output_type": "execute_result",
          "data": {
            "text/plain": [
              "7"
            ]
          },
          "metadata": {},
          "execution_count": 50
        }
      ]
    },
    {
      "cell_type": "code",
      "source": [
        "float(int_a)"
      ],
      "metadata": {
        "colab": {
          "base_uri": "https://localhost:8080/"
        },
        "id": "IAd6uGdmfLco",
        "outputId": "fc251b67-ba65-417d-d4ea-31a4bda49387"
      },
      "execution_count": 51,
      "outputs": [
        {
          "output_type": "execute_result",
          "data": {
            "text/plain": [
              "7.0"
            ]
          },
          "metadata": {},
          "execution_count": 51
        }
      ]
    },
    {
      "cell_type": "markdown",
      "source": [
        "## Operation เอาตัวแปรสองตัวมาทำอะไรกัน"
      ],
      "metadata": {
        "id": "FMUAS5QXgLQf"
      }
    },
    {
      "cell_type": "markdown",
      "source": [
        "### operators (บวก (+) ,ลบ (-) , คูณ (*), หาร (/) , modulo (%), and (&), or (l))"
      ],
      "metadata": {
        "id": "Q8JE_UUMgRNu"
      }
    },
    {
      "cell_type": "code",
      "source": [
        "fl_a + int_b"
      ],
      "metadata": {
        "colab": {
          "base_uri": "https://localhost:8080/"
        },
        "id": "UtuqrlGrgLAj",
        "outputId": "c2c67be8-948d-44ea-e675-c6efaaeb7387"
      },
      "execution_count": 52,
      "outputs": [
        {
          "output_type": "execute_result",
          "data": {
            "text/plain": [
              "9.0"
            ]
          },
          "metadata": {},
          "execution_count": 52
        }
      ]
    },
    {
      "cell_type": "code",
      "source": [
        "9%2"
      ],
      "metadata": {
        "colab": {
          "base_uri": "https://localhost:8080/"
        },
        "id": "vB48fa0dfmZZ",
        "outputId": "7bd49cf4-5cef-446f-e707-7f0041f826a7"
      },
      "execution_count": 53,
      "outputs": [
        {
          "output_type": "execute_result",
          "data": {
            "text/plain": [
              "1"
            ]
          },
          "metadata": {},
          "execution_count": 53
        }
      ]
    },
    {
      "cell_type": "code",
      "source": [
        "int_a/int_b"
      ],
      "metadata": {
        "colab": {
          "base_uri": "https://localhost:8080/"
        },
        "id": "KBbS1yuyhKKw",
        "outputId": "e7e919ac-52b4-4cf1-dd1a-bbf4e948c90d"
      },
      "execution_count": 55,
      "outputs": [
        {
          "output_type": "execute_result",
          "data": {
            "text/plain": [
              "3.5"
            ]
          },
          "metadata": {},
          "execution_count": 55
        }
      ]
    }
  ]
}