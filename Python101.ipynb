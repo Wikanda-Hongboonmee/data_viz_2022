{
  "nbformat": 4,
  "nbformat_minor": 0,
  "metadata": {
    "colab": {
      "name": "Python101.ipynb",
      "provenance": [],
      "authorship_tag": "ABX9TyNRzbYvk7EKX+d9rjM3ZJNZ",
      "include_colab_link": true
    },
    "kernelspec": {
      "name": "python3",
      "display_name": "Python 3"
    },
    "language_info": {
      "name": "python"
    }
  },
  "cells": [
    {
      "cell_type": "markdown",
      "metadata": {
        "id": "view-in-github",
        "colab_type": "text"
      },
      "source": [
        "<a href=\"https://colab.research.google.com/github/Wikanda-Hongboonmee/data_viz_2022/blob/main/Python101.ipynb\" target=\"_parent\"><img src=\"https://colab.research.google.com/assets/colab-badge.svg\" alt=\"Open In Colab\"/></a>"
      ]
    },
    {
      "cell_type": "markdown",
      "source": [
        "ข้อความในช่อง Text เป็นภาษา Markdown(https://www.markdownguide.org/cheat-sheet/)"
      ],
      "metadata": {
        "id": "v6zUxS7pIoaW"
      }
    },
    {
      "cell_type": "markdown",
      "source": [
        "# การจัดการข้อความในการแสดงผล (Print)\n",
        "\n",
        "\n"
      ],
      "metadata": {
        "id": "m99eIwOeJeTH"
      }
    },
    {
      "cell_type": "markdown",
      "source": [
        "## ข้อความ (string)\n",
        "### test heading 3"
      ],
      "metadata": {
        "id": "0gEbOarTOpcE"
      }
    },
    {
      "cell_type": "code",
      "source": [
        "'สถิติ' # ถ้าเป็นข้อความจะมีทางเลือกสองทาง คือ ' quote หรือ \" double quote"
      ],
      "metadata": {
        "colab": {
          "base_uri": "https://localhost:8080/",
          "height": 34
        },
        "id": "pEM5dPkpKR7V",
        "outputId": "4fd69af4-7cd4-4f6a-e7b9-5491646133b5"
      },
      "execution_count": 1,
      "outputs": [
        {
          "output_type": "execute_result",
          "data": {
            "application/vnd.google.colaboratory.intrinsic+json": {
              "type": "string"
            },
            "text/plain": [
              "'สถิติ'"
            ]
          },
          "metadata": {},
          "execution_count": 1
        }
      ]
    },
    {
      "cell_type": "code",
      "source": [
        "\"สถิติ\" # ถ้าเป็นข้อความจะมีทางเลือกสองทาง คือ ' quote หรือ \" double quote"
      ],
      "metadata": {
        "colab": {
          "base_uri": "https://localhost:8080/",
          "height": 34
        },
        "id": "QeTT7QYRLaJA",
        "outputId": "69a60d6e-4849-458d-ba53-439110300087"
      },
      "execution_count": 2,
      "outputs": [
        {
          "output_type": "execute_result",
          "data": {
            "application/vnd.google.colaboratory.intrinsic+json": {
              "type": "string"
            },
            "text/plain": [
              "'สถิติ'"
            ]
          },
          "metadata": {},
          "execution_count": 2
        }
      ]
    },
    {
      "cell_type": "code",
      "source": [
        "1 + 3 # ถ้าเป็นตัวเลขมันจะเอามาบวก ลบกันได้เลย"
      ],
      "metadata": {
        "colab": {
          "base_uri": "https://localhost:8080/"
        },
        "id": "mKrYU-nML12O",
        "outputId": "27d144b3-dc7a-4f6c-e746-30f835091ecb"
      },
      "execution_count": 3,
      "outputs": [
        {
          "output_type": "execute_result",
          "data": {
            "text/plain": [
              "4"
            ]
          },
          "metadata": {},
          "execution_count": 3
        }
      ]
    },
    {
      "cell_type": "code",
      "source": [
        "'1' + '3' # string + string คือ การต่อ string ถ้าเป็นข้อความมันจะไม่เอามาบวกกันแต่มันจะเอามาต่อกันถ้าเป็นบวก"
      ],
      "metadata": {
        "colab": {
          "base_uri": "https://localhost:8080/",
          "height": 34
        },
        "id": "mwMi1rcfL8dj",
        "outputId": "8abb8e8c-cae9-4e1a-e5c0-3d3d2066ee6e"
      },
      "execution_count": 4,
      "outputs": [
        {
          "output_type": "execute_result",
          "data": {
            "application/vnd.google.colaboratory.intrinsic+json": {
              "type": "string"
            },
            "text/plain": [
              "'13'"
            ]
          },
          "metadata": {},
          "execution_count": 4
        }
      ]
    },
    {
      "cell_type": "code",
      "source": [
        "1 - 3 # ถ้าเป็นตัวเลขมันจะเอามาบวก ลบกันได้เลย"
      ],
      "metadata": {
        "colab": {
          "base_uri": "https://localhost:8080/"
        },
        "id": "aE6Q4t6aMKro",
        "outputId": "3e884b48-4d1b-4d66-ea4f-3978150d8715"
      },
      "execution_count": 5,
      "outputs": [
        {
          "output_type": "execute_result",
          "data": {
            "text/plain": [
              "-2"
            ]
          },
          "metadata": {},
          "execution_count": 5
        }
      ]
    },
    {
      "cell_type": "code",
      "source": [
        "'1' - '3' # ถ้าเป็นข้อความมันจะเอามาบวกลบกันไม่ได้"
      ],
      "metadata": {
        "colab": {
          "base_uri": "https://localhost:8080/",
          "height": 166
        },
        "id": "XE8VXXnkMPP7",
        "outputId": "2a6eb06d-3a43-4d11-ec92-f67da8dc88f5"
      },
      "execution_count": 6,
      "outputs": [
        {
          "output_type": "error",
          "ename": "TypeError",
          "evalue": "ignored",
          "traceback": [
            "\u001b[0;31m---------------------------------------------------------------------------\u001b[0m",
            "\u001b[0;31mTypeError\u001b[0m                                 Traceback (most recent call last)",
            "\u001b[0;32m<ipython-input-6-2d3a89308b45>\u001b[0m in \u001b[0;36m<module>\u001b[0;34m()\u001b[0m\n\u001b[0;32m----> 1\u001b[0;31m \u001b[0;34m'1'\u001b[0m \u001b[0;34m-\u001b[0m \u001b[0;34m'3'\u001b[0m \u001b[0;31m# ถ้าเป็นข้อความมันจะเอามาบวกลบกันไม่ได้\u001b[0m\u001b[0;34m\u001b[0m\u001b[0;34m\u001b[0m\u001b[0m\n\u001b[0m",
            "\u001b[0;31mTypeError\u001b[0m: unsupported operand type(s) for -: 'str' and 'str'"
          ]
        }
      ]
    },
    {
      "cell_type": "markdown",
      "source": [
        "## Print(ข้อความ)"
      ],
      "metadata": {
        "id": "9_l6znUjMYhf"
      }
    },
    {
      "cell_type": "markdown",
      "source": [
        "`print(ข้อความ)`"
      ],
      "metadata": {
        "id": "h04vVDRoNDtF"
      }
    },
    {
      "cell_type": "code",
      "source": [
        "print('ข้อความที่อยากให้ print') # print แบบธรรมดาจะแสดงข้อความออกมา"
      ],
      "metadata": {
        "colab": {
          "base_uri": "https://localhost:8080/"
        },
        "id": "toibEIaVNDW-",
        "outputId": "1d794cb9-d1b4-4455-c76c-2cd76cea6b42"
      },
      "execution_count": 7,
      "outputs": [
        {
          "output_type": "stream",
          "name": "stdout",
          "text": [
            "ข้อความที่อยากให้ print\n"
          ]
        }
      ]
    },
    {
      "cell_type": "markdown",
      "source": [
        "# ตัวแปร (Variables)"
      ],
      "metadata": {
        "id": "MqmGt1i8KCFj"
      }
    },
    {
      "cell_type": "markdown",
      "source": [
        "**ตัวแปรที่เก็บข้อมูลได้แค่หนึ่งอย่าง**"
      ],
      "metadata": {
        "id": "gxnS0SvEOg51"
      }
    },
    {
      "cell_type": "code",
      "execution_count": 8,
      "metadata": {
        "id": "YmxfQx1ZIOEB"
      },
      "outputs": [],
      "source": [
        "vartest1 = 1+3 # เอาค่าไปเก็บไว้ในตัวแปร vartest1 เป็นการสร้างตัวแปรมารับข้อมูล"
      ]
    },
    {
      "cell_type": "code",
      "source": [
        "vartest1 # แสดงผลค่าของตัวแปร vartest1"
      ],
      "metadata": {
        "colab": {
          "base_uri": "https://localhost:8080/"
        },
        "id": "1yScNdlhOCtp",
        "outputId": "41d74df1-b343-45ac-948b-dca25ae40ef2"
      },
      "execution_count": 9,
      "outputs": [
        {
          "output_type": "execute_result",
          "data": {
            "text/plain": [
              "4"
            ]
          },
          "metadata": {},
          "execution_count": 9
        }
      ]
    },
    {
      "cell_type": "code",
      "source": [
        "print(vartest1) # print หรือ แสดงผลค่าของตัวแปร vartest1"
      ],
      "metadata": {
        "colab": {
          "base_uri": "https://localhost:8080/"
        },
        "id": "m-WZKMfZOEVE",
        "outputId": "9aad3255-9330-49b5-dfe6-b74f1e9020f8"
      },
      "execution_count": 11,
      "outputs": [
        {
          "output_type": "stream",
          "name": "stdout",
          "text": [
            "4\n"
          ]
        }
      ]
    },
    {
      "cell_type": "code",
      "source": [
        "vartest2 = '1' + '3' # เอาค่าไปเก็บไว้ในตัวแปร vartest1 แต่เป็นการสร้างตัวแปรมารับข้อมูลที่เป็น string "
      ],
      "metadata": {
        "id": "j00jC5kCOPly"
      },
      "execution_count": 10,
      "outputs": []
    },
    {
      "cell_type": "code",
      "source": [
        "vartest2 # แสดงผลค่าของตัวแปร vartest2 "
      ],
      "metadata": {
        "id": "k2dWgE0cOYLh"
      },
      "execution_count": null,
      "outputs": []
    },
    {
      "cell_type": "code",
      "source": [
        "print(vartest2) # print หรือ การแสดงผลค่าของตัวแปร vartest2 ซึ่งมันจะแสดงผลลัพธ์ออกมา แต่เราจะไม่รู้ว่าข้อมูลเป็นข้อมูลชนิดไหน เป็น string หรือ ตัวเลข"
      ],
      "metadata": {
        "colab": {
          "base_uri": "https://localhost:8080/"
        },
        "id": "r-X9BSIEOZ_m",
        "outputId": "344d8e81-7a26-4474-9dcc-b4a6e0e0d811"
      },
      "execution_count": 13,
      "outputs": [
        {
          "output_type": "stream",
          "name": "stdout",
          "text": [
            "13\n"
          ]
        }
      ]
    },
    {
      "cell_type": "markdown",
      "source": [
        "## ข้อกำหนดในการตั้งชื่อตัวแปร\n",
        "1. ตั้งให้สื่อความหมาย\n",
        "2. ต้องเป็นภาษาอังกฤษ\n",
        "3. ใช้ตัวเลขผสมกับตัวหนังสือได้ แต่ห้ามขึ้นต้นด้วยตัวเลข \n",
        "4. ห้ามมีเว้นวรรคในชื่อตัวแปร\n",
        "5. ตัวใหญ่ตัวเล็กมีค่าต่างกัน"
      ],
      "metadata": {
        "id": "qSNcX97mOzmK"
      }
    },
    {
      "cell_type": "code",
      "source": [
        "1a = 7 # ใช้ตัวเลขผสมกับตัวหนังสือได้ แต่ห้ามขึ้นต้นด้วยตัวเลข"
      ],
      "metadata": {
        "colab": {
          "base_uri": "https://localhost:8080/",
          "height": 132
        },
        "id": "25JA2T8sOdCy",
        "outputId": "4d04755e-428f-411d-8493-8bb2f2e83478"
      },
      "execution_count": 14,
      "outputs": [
        {
          "output_type": "error",
          "ename": "SyntaxError",
          "evalue": "ignored",
          "traceback": [
            "\u001b[0;36m  File \u001b[0;32m\"<ipython-input-14-bdbe52a7c5d5>\"\u001b[0;36m, line \u001b[0;32m1\u001b[0m\n\u001b[0;31m    1a = 7 # ใช้ตัวเลขผสมกับตัวหนังสือได้ แต่ห้ามขึ้นต้นด้วยตัวเลข\u001b[0m\n\u001b[0m     ^\u001b[0m\n\u001b[0;31mSyntaxError\u001b[0m\u001b[0;31m:\u001b[0m invalid syntax\n"
          ]
        }
      ]
    },
    {
      "cell_type": "code",
      "source": [
        "variable a = 1 # ห้ามมีเว้นวรรคในชื่อตัวแปร"
      ],
      "metadata": {
        "colab": {
          "base_uri": "https://localhost:8080/",
          "height": 132
        },
        "id": "Jhg9ZzYXPmRS",
        "outputId": "a24dddb0-d984-4c2b-d574-9da6999e0591"
      },
      "execution_count": 15,
      "outputs": [
        {
          "output_type": "error",
          "ename": "SyntaxError",
          "evalue": "ignored",
          "traceback": [
            "\u001b[0;36m  File \u001b[0;32m\"<ipython-input-15-67a5a9577c35>\"\u001b[0;36m, line \u001b[0;32m1\u001b[0m\n\u001b[0;31m    variable a = 1 # ห้ามมีเว้นวรรคในชื่อตัวแปร\u001b[0m\n\u001b[0m             ^\u001b[0m\n\u001b[0;31mSyntaxError\u001b[0m\u001b[0;31m:\u001b[0m invalid syntax\n"
          ]
        }
      ]
    },
    {
      "cell_type": "markdown",
      "source": [
        "## Advanced Printing \n",
        "เราสามารถ print code ร่วมกับข้อความได้\n",
        "\n",
        "```\n",
        "print(f'ข้อความ{code}')\n",
        "```\n",
        "\n"
      ],
      "metadata": {
        "id": "ChIBlmSAQaOz"
      }
    },
    {
      "cell_type": "code",
      "source": [
        "print(f'หนึ่ง บวก สอง (1+2) เท่ากับ สาม ({1+2})') # { } Curly Brackets สิ่งที่อยู่ใน {} จะเป็น code"
      ],
      "metadata": {
        "colab": {
          "base_uri": "https://localhost:8080/"
        },
        "id": "G4143yA-Pr9q",
        "outputId": "6dccece8-8f50-4e80-a4d0-07db0ea7595f"
      },
      "execution_count": 16,
      "outputs": [
        {
          "output_type": "stream",
          "name": "stdout",
          "text": [
            "หนึ่ง บวก สอง (1+2) เท่ากับ สาม (3)\n"
          ]
        }
      ]
    },
    {
      "cell_type": "code",
      "source": [
        "a = 1\n",
        "b = 2\n",
        "print(f'หนึ่ง บวก สอง ({a} + {b}) เท่ากับ สาม ({a+b})')"
      ],
      "metadata": {
        "colab": {
          "base_uri": "https://localhost:8080/"
        },
        "id": "_ZY7n8ebRUVa",
        "outputId": "ef198ab3-69ef-4d60-af42-4bba1d38b665"
      },
      "execution_count": 17,
      "outputs": [
        {
          "output_type": "stream",
          "name": "stdout",
          "text": [
            "หนึ่ง บวก สอง (1 + 2) เท่ากับ สาม (3)\n"
          ]
        }
      ]
    },
    {
      "cell_type": "code",
      "source": [
        "a = 5 #ลำดับการรันมีผลต่อค่าที่จะรันออกมา\n",
        "b = 2"
      ],
      "metadata": {
        "id": "gFBg4d9cRyn1"
      },
      "execution_count": 18,
      "outputs": []
    },
    {
      "cell_type": "code",
      "source": [
        "print(f'{a}+{b} = {a+b}')"
      ],
      "metadata": {
        "colab": {
          "base_uri": "https://localhost:8080/"
        },
        "id": "34dCEyzQR4pr",
        "outputId": "3d6fd1e7-7381-43f7-e117-2f987a457312"
      },
      "execution_count": 19,
      "outputs": [
        {
          "output_type": "stream",
          "name": "stdout",
          "text": [
            "5+2 = 7\n"
          ]
        }
      ]
    },
    {
      "cell_type": "markdown",
      "source": [
        "## ชนิดของตัวแปร"
      ],
      "metadata": {
        "id": "xFUhGhwMUZMv"
      }
    },
    {
      "cell_type": "markdown",
      "source": [
        "### char (acter) (ตัวอักษร)"
      ],
      "metadata": {
        "id": "Uh93tDfqU9rX"
      }
    },
    {
      "cell_type": "code",
      "source": [
        "A = 'ch' # มีตัวเดียวเป็น character มีหลายตัวเป็น string"
      ],
      "metadata": {
        "id": "w9SZnLa_SBhI"
      },
      "execution_count": 20,
      "outputs": []
    },
    {
      "cell_type": "code",
      "source": [
        "B = 'arcter'"
      ],
      "metadata": {
        "id": "xTEqUK0aVMZn"
      },
      "execution_count": 21,
      "outputs": []
    },
    {
      "cell_type": "code",
      "source": [
        "print(A+B)   # print แบบธรรมดา"
      ],
      "metadata": {
        "colab": {
          "base_uri": "https://localhost:8080/"
        },
        "id": "RTX28-g5na4d",
        "outputId": "8b91c7d9-942c-4fea-dfe5-907f78b269fd"
      },
      "execution_count": 22,
      "outputs": [
        {
          "output_type": "stream",
          "name": "stdout",
          "text": [
            "charcter\n"
          ]
        }
      ]
    },
    {
      "cell_type": "code",
      "source": [
        "print(f' a={A} b ={B}, then {A} + {B} = {A+B}') # Advanced Printing สามารถเอามาบวกกันได้"
      ],
      "metadata": {
        "colab": {
          "base_uri": "https://localhost:8080/"
        },
        "id": "XNuHJ5szVPMj",
        "outputId": "25ac63fb-bdc5-4a91-8d2c-357376b24c8a"
      },
      "execution_count": 23,
      "outputs": [
        {
          "output_type": "stream",
          "name": "stdout",
          "text": [
            " a=ch b =arcter, then ch + arcter = charcter\n"
          ]
        }
      ]
    },
    {
      "cell_type": "markdown",
      "source": [
        "### int(eger) (จำนวนเต็ม)"
      ],
      "metadata": {
        "id": "FR5M5AOnWTEx"
      }
    },
    {
      "cell_type": "code",
      "source": [
        "int_a = 7\n",
        "int_b = 2"
      ],
      "metadata": {
        "id": "nahuWO_ZVWF9"
      },
      "execution_count": 24,
      "outputs": []
    },
    {
      "cell_type": "code",
      "source": [
        "int_c = int_a + int_b # เอาตัวแปรมารับ\n",
        "print(int_c) # แสดงผลออกมา"
      ],
      "metadata": {
        "colab": {
          "base_uri": "https://localhost:8080/"
        },
        "id": "HoocO-3lWfFN",
        "outputId": "37f10fe8-5164-46f2-c142-b302524e4993"
      },
      "execution_count": 25,
      "outputs": [
        {
          "output_type": "stream",
          "name": "stdout",
          "text": [
            "9\n"
          ]
        }
      ]
    },
    {
      "cell_type": "markdown",
      "source": [
        "### Float (จำนวนจริง ทศนิยม)"
      ],
      "metadata": {
        "id": "gSg9ZZG4W1aE"
      }
    },
    {
      "cell_type": "code",
      "source": [
        "fl_a = 7. # ไม่จำเป็นต้องมีตัวต่อก็ได้ ใส่แค่จุดต่อท้ายได้เลย มันก็จะเป็น .0\n",
        "fl_b = 2.571 # หรือจะใส่ต่อท้ายก็ได้"
      ],
      "metadata": {
        "id": "xpmn1tyQWm-S"
      },
      "execution_count": 26,
      "outputs": []
    },
    {
      "cell_type": "code",
      "source": [
        "print(fl_a)"
      ],
      "metadata": {
        "colab": {
          "base_uri": "https://localhost:8080/"
        },
        "id": "WmWTqessXt9I",
        "outputId": "a58c0f90-7514-4ab8-f68e-702aa58f4db1"
      },
      "execution_count": 27,
      "outputs": [
        {
          "output_type": "stream",
          "name": "stdout",
          "text": [
            "7.0\n"
          ]
        }
      ]
    },
    {
      "cell_type": "code",
      "source": [
        "print(fl_a + fl_b)"
      ],
      "metadata": {
        "colab": {
          "base_uri": "https://localhost:8080/"
        },
        "id": "Yg4PpaT2YgBX",
        "outputId": "fc6e011e-0e25-41c9-8805-eadf164bba35"
      },
      "execution_count": 28,
      "outputs": [
        {
          "output_type": "stream",
          "name": "stdout",
          "text": [
            "9.571\n"
          ]
        }
      ]
    },
    {
      "cell_type": "markdown",
      "source": [
        "### Boolean (ตัวแปรที่มีค่า True หรือ False)"
      ],
      "metadata": {
        "id": "tqq58PO6Z0BL"
      }
    },
    {
      "cell_type": "code",
      "source": [
        "b_T = True"
      ],
      "metadata": {
        "id": "ehg4ApxwYjIw"
      },
      "execution_count": 29,
      "outputs": []
    },
    {
      "cell_type": "code",
      "source": [
        "b_F = False"
      ],
      "metadata": {
        "id": "IWt34AQraF_I"
      },
      "execution_count": 30,
      "outputs": []
    },
    {
      "cell_type": "markdown",
      "source": [
        "### Complex Number (จำนวนเชิงซ้อน)"
      ],
      "metadata": {
        "id": "6But75OGa81x"
      }
    },
    {
      "cell_type": "code",
      "source": [
        "x = 1 + 2j"
      ],
      "metadata": {
        "id": "a-uAxxDpaItE"
      },
      "execution_count": 31,
      "outputs": []
    },
    {
      "cell_type": "markdown",
      "source": [
        "### เราสามารถตรวจสอบชนิดของตัวแปรได้ด้วยคำสั่ง type()"
      ],
      "metadata": {
        "id": "HGWXqs8Wbk9s"
      }
    },
    {
      "cell_type": "markdown",
      "source": [
        "\n",
        "\n",
        "```\n",
        " type()\n",
        "```\n",
        "\n"
      ],
      "metadata": {
        "id": "in7As_lcnkEt"
      }
    },
    {
      "cell_type": "code",
      "source": [
        "print(f'ตัวแปร x ค่าคือ {x} ชนิด {type(x)}')"
      ],
      "metadata": {
        "colab": {
          "base_uri": "https://localhost:8080/"
        },
        "id": "5d37MfV5bkMI",
        "outputId": "cec91d07-f1f3-4e55-d7f6-fad5ce27d6fc"
      },
      "execution_count": 32,
      "outputs": [
        {
          "output_type": "stream",
          "name": "stdout",
          "text": [
            "ตัวแปร x ค่าคือ (1+2j) ชนิด <class 'complex'>\n"
          ]
        }
      ]
    },
    {
      "cell_type": "code",
      "source": [
        "print(f'ตัวแปร A ค่าคือ {A} ชนิด {type(A)}')"
      ],
      "metadata": {
        "colab": {
          "base_uri": "https://localhost:8080/"
        },
        "id": "pfKME7Q6cJZ1",
        "outputId": "564dda9c-66ea-4735-bc25-1ddfc8584774"
      },
      "execution_count": 33,
      "outputs": [
        {
          "output_type": "stream",
          "name": "stdout",
          "text": [
            "ตัวแปร A ค่าคือ ch ชนิด <class 'str'>\n"
          ]
        }
      ]
    },
    {
      "cell_type": "code",
      "source": [
        "print(f'ตัวแปร a ค่าคือ {a} ชนิด {type(a)}')"
      ],
      "metadata": {
        "colab": {
          "base_uri": "https://localhost:8080/"
        },
        "id": "l-DbZRCZcZH4",
        "outputId": "b68c8430-ce4a-4f1e-bb29-2135b02ef1e2"
      },
      "execution_count": 34,
      "outputs": [
        {
          "output_type": "stream",
          "name": "stdout",
          "text": [
            "ตัวแปร a ค่าคือ 5 ชนิด <class 'int'>\n"
          ]
        }
      ]
    },
    {
      "cell_type": "markdown",
      "source": [
        "## การแปลงชนิดของตัวแปร (Variable Casting)"
      ],
      "metadata": {
        "id": "OazA0JMMc3l3"
      }
    },
    {
      "cell_type": "code",
      "source": [
        "print(f'int_a = {int_a} int_b = {int_b} fl_a = {fl_a} fl_b = {fl_b}')"
      ],
      "metadata": {
        "colab": {
          "base_uri": "https://localhost:8080/"
        },
        "id": "rogEk1sjcgYJ",
        "outputId": "1d4ac524-d584-4d66-d08e-61ba6f7cd0d5"
      },
      "execution_count": 35,
      "outputs": [
        {
          "output_type": "stream",
          "name": "stdout",
          "text": [
            "int_a = 7 int_b = 2 fl_a = 7.0 fl_b = 2.571\n"
          ]
        }
      ]
    },
    {
      "cell_type": "code",
      "source": [
        "str_a = '6'\n",
        "str_b = '-2'"
      ],
      "metadata": {
        "id": "oWJLoKkLdv-F"
      },
      "execution_count": 36,
      "outputs": []
    },
    {
      "cell_type": "code",
      "source": [
        "str_a2int = int(str_a)\n",
        "print(f'ตัวแปร str_a2int ค่าคือ {str_a2int} ชนิด {type(str_a2int)}')"
      ],
      "metadata": {
        "colab": {
          "base_uri": "https://localhost:8080/"
        },
        "id": "U4ix5Z3nnpHm",
        "outputId": "95230794-b367-409e-fb69-7030d2f8fec4"
      },
      "execution_count": 37,
      "outputs": [
        {
          "output_type": "stream",
          "name": "stdout",
          "text": [
            "ตัวแปร str_a2int ค่าคือ 6 ชนิด <class 'int'>\n"
          ]
        }
      ]
    },
    {
      "cell_type": "code",
      "source": [
        "str_a2int + int_a"
      ],
      "metadata": {
        "colab": {
          "base_uri": "https://localhost:8080/"
        },
        "id": "t55EFf8RnqzI",
        "outputId": "08cc4d61-49b2-492d-f7f9-11a031c6de5d"
      },
      "execution_count": 38,
      "outputs": [
        {
          "output_type": "execute_result",
          "data": {
            "text/plain": [
              "13"
            ]
          },
          "metadata": {},
          "execution_count": 38
        }
      ]
    },
    {
      "cell_type": "code",
      "source": [
        "str_a + int_a    # เราไม่สามารถนำ string ไปบวกกับ int ได้"
      ],
      "metadata": {
        "colab": {
          "base_uri": "https://localhost:8080/",
          "height": 166
        },
        "id": "-AUhT9ZdnsTP",
        "outputId": "f920545e-90b5-4de8-8983-de92c70fb65b"
      },
      "execution_count": 39,
      "outputs": [
        {
          "output_type": "error",
          "ename": "TypeError",
          "evalue": "ignored",
          "traceback": [
            "\u001b[0;31m---------------------------------------------------------------------------\u001b[0m",
            "\u001b[0;31mTypeError\u001b[0m                                 Traceback (most recent call last)",
            "\u001b[0;32m<ipython-input-39-7075c7c7ba3f>\u001b[0m in \u001b[0;36m<module>\u001b[0;34m()\u001b[0m\n\u001b[0;32m----> 1\u001b[0;31m \u001b[0mstr_a\u001b[0m \u001b[0;34m+\u001b[0m \u001b[0mint_a\u001b[0m    \u001b[0;31m# เราไม่สามารถนำ string ไปบวกกับ int ได้\u001b[0m\u001b[0;34m\u001b[0m\u001b[0;34m\u001b[0m\u001b[0m\n\u001b[0m",
            "\u001b[0;31mTypeError\u001b[0m: can only concatenate str (not \"int\") to str"
          ]
        }
      ]
    },
    {
      "cell_type": "code",
      "source": [
        "int_a + str_a   # เราไม่สามารถนำ int ไปบวกกับ string ได้"
      ],
      "metadata": {
        "colab": {
          "base_uri": "https://localhost:8080/",
          "height": 166
        },
        "id": "xSpM2FVznwQa",
        "outputId": "67135e07-7af2-48b3-bd32-9e11b2a89928"
      },
      "execution_count": 40,
      "outputs": [
        {
          "output_type": "error",
          "ename": "TypeError",
          "evalue": "ignored",
          "traceback": [
            "\u001b[0;31m---------------------------------------------------------------------------\u001b[0m",
            "\u001b[0;31mTypeError\u001b[0m                                 Traceback (most recent call last)",
            "\u001b[0;32m<ipython-input-40-ccace75004aa>\u001b[0m in \u001b[0;36m<module>\u001b[0;34m()\u001b[0m\n\u001b[0;32m----> 1\u001b[0;31m \u001b[0mint_a\u001b[0m \u001b[0;34m+\u001b[0m \u001b[0mstr_a\u001b[0m   \u001b[0;31m# เราไม่สามารถนำ int ไปบวกกับ string ได้\u001b[0m\u001b[0;34m\u001b[0m\u001b[0;34m\u001b[0m\u001b[0m\n\u001b[0m",
            "\u001b[0;31mTypeError\u001b[0m: unsupported operand type(s) for +: 'int' and 'str'"
          ]
        }
      ]
    },
    {
      "cell_type": "code",
      "source": [
        "int(fl_a) # int เป็นจำนวนเต็ม ผลลัพธ์ที่แสดงออกมาจะเป็นจำนวนเต็ม"
      ],
      "metadata": {
        "colab": {
          "base_uri": "https://localhost:8080/"
        },
        "id": "xP9o2Vs1d1ra",
        "outputId": "ffcee64e-e10f-49cc-da46-f1fee9f21f84"
      },
      "execution_count": 41,
      "outputs": [
        {
          "output_type": "execute_result",
          "data": {
            "text/plain": [
              "7"
            ]
          },
          "metadata": {},
          "execution_count": 41
        }
      ]
    },
    {
      "cell_type": "code",
      "source": [
        "float(int_a) # float เป็นทศนิยม ผลลัพธ์ที่แสดงออกมาจะเป็นทศนิยม"
      ],
      "metadata": {
        "colab": {
          "base_uri": "https://localhost:8080/"
        },
        "id": "IAd6uGdmfLco",
        "outputId": "83bd3233-6e34-4f28-c2a2-2b698758bddc"
      },
      "execution_count": 42,
      "outputs": [
        {
          "output_type": "execute_result",
          "data": {
            "text/plain": [
              "7.0"
            ]
          },
          "metadata": {},
          "execution_count": 42
        }
      ]
    },
    {
      "cell_type": "code",
      "source": [
        "str(fl_b) # str เป็น string หรือ ข้อความ ผลลัพธ์ที่แสดงออกมาจะเป็นข้อความ"
      ],
      "metadata": {
        "colab": {
          "base_uri": "https://localhost:8080/",
          "height": 34
        },
        "id": "P9hs7S6RoEsL",
        "outputId": "6b6b326c-8256-40c0-c6f2-59bda611536f"
      },
      "execution_count": 43,
      "outputs": [
        {
          "output_type": "execute_result",
          "data": {
            "application/vnd.google.colaboratory.intrinsic+json": {
              "type": "string"
            },
            "text/plain": [
              "'2.571'"
            ]
          },
          "metadata": {},
          "execution_count": 43
        }
      ]
    },
    {
      "cell_type": "markdown",
      "source": [
        "## Operation เอาตัวแปรสองตัวมาทำอะไรกัน"
      ],
      "metadata": {
        "id": "FMUAS5QXgLQf"
      }
    },
    {
      "cell_type": "markdown",
      "source": [
        "### operators (บวก (+) ,ลบ (-) , คูณ (*), หาร (/) , modulo (%), and (&), or (l))"
      ],
      "metadata": {
        "id": "Q8JE_UUMgRNu"
      }
    },
    {
      "cell_type": "code",
      "source": [
        "fl_a + int_b  # เอามาบวกกัน พื้นที่ในการเก็บตัวแปรจะใหญ่ขึ้นจะกลายเป็น float หรือทศนิยม"
      ],
      "metadata": {
        "colab": {
          "base_uri": "https://localhost:8080/"
        },
        "id": "UtuqrlGrgLAj",
        "outputId": "a0f01d51-2984-4dc8-f97e-86bb4b1d4dd8"
      },
      "execution_count": 45,
      "outputs": [
        {
          "output_type": "execute_result",
          "data": {
            "text/plain": [
              "9.0"
            ]
          },
          "metadata": {},
          "execution_count": 45
        }
      ]
    },
    {
      "cell_type": "code",
      "source": [
        "9%2 # modulo (%) คือ การหารเอาเศษ ถ้าเป็นเลขคู่หารด้วย 2 จะเหลือเศษ 0 แต่ถ้าเป็นเลขคี่จะเหลือเศษ 1 "
      ],
      "metadata": {
        "colab": {
          "base_uri": "https://localhost:8080/"
        },
        "id": "vB48fa0dfmZZ",
        "outputId": "d762ed70-5080-4261-b088-1d81bb244bd0"
      },
      "execution_count": 46,
      "outputs": [
        {
          "output_type": "execute_result",
          "data": {
            "text/plain": [
              "1"
            ]
          },
          "metadata": {},
          "execution_count": 46
        }
      ]
    },
    {
      "cell_type": "code",
      "source": [
        "100%2 # modulo (%) คือ การหารเอาเศษ ถ้าเป็นเลขคู่หารด้วย 2 จะเหลือเศษ 0 แต่ถ้าเป็นเลขคี่จะเหลือเศษ 1"
      ],
      "metadata": {
        "colab": {
          "base_uri": "https://localhost:8080/"
        },
        "id": "4AqtNGznogxx",
        "outputId": "c2a2408f-6401-4f5d-9ee0-1f720b56cd0b"
      },
      "execution_count": 47,
      "outputs": [
        {
          "output_type": "execute_result",
          "data": {
            "text/plain": [
              "0"
            ]
          },
          "metadata": {},
          "execution_count": 47
        }
      ]
    },
    {
      "cell_type": "code",
      "source": [
        "int_a/int_b "
      ],
      "metadata": {
        "colab": {
          "base_uri": "https://localhost:8080/"
        },
        "id": "KBbS1yuyhKKw",
        "outputId": "612efc9a-f7d1-4486-ce0b-c391159c016e"
      },
      "execution_count": 48,
      "outputs": [
        {
          "output_type": "execute_result",
          "data": {
            "text/plain": [
              "3.5"
            ]
          },
          "metadata": {},
          "execution_count": 48
        }
      ]
    },
    {
      "cell_type": "code",
      "source": [
        "int(int_a / int_b)  # ผลลัพธ์ที่แสดงออกมาจะกลายเป็น int หรือจำนวนเต็ม"
      ],
      "metadata": {
        "colab": {
          "base_uri": "https://localhost:8080/"
        },
        "id": "lK2Nc0E2or5d",
        "outputId": "3fe2f8b3-9543-4ac8-fdb1-3186296b3276"
      },
      "execution_count": 49,
      "outputs": [
        {
          "output_type": "execute_result",
          "data": {
            "text/plain": [
              "3"
            ]
          },
          "metadata": {},
          "execution_count": 49
        }
      ]
    },
    {
      "cell_type": "code",
      "source": [
        "False & False  # False and False เป็น False"
      ],
      "metadata": {
        "colab": {
          "base_uri": "https://localhost:8080/"
        },
        "id": "Y-g6i1apo0Om",
        "outputId": "78165f7b-2235-47f6-8d40-b61113678bdc"
      },
      "execution_count": 50,
      "outputs": [
        {
          "output_type": "execute_result",
          "data": {
            "text/plain": [
              "False"
            ]
          },
          "metadata": {},
          "execution_count": 50
        }
      ]
    },
    {
      "cell_type": "code",
      "source": [
        "False & True   # False and True เป็น False"
      ],
      "metadata": {
        "colab": {
          "base_uri": "https://localhost:8080/"
        },
        "id": "gO5R0b6lo7Eo",
        "outputId": "9bf6ad52-a75f-4a7d-ff13-fdb6ade810d1"
      },
      "execution_count": 51,
      "outputs": [
        {
          "output_type": "execute_result",
          "data": {
            "text/plain": [
              "False"
            ]
          },
          "metadata": {},
          "execution_count": 51
        }
      ]
    },
    {
      "cell_type": "code",
      "source": [
        "False | True    # False or True เป็น True"
      ],
      "metadata": {
        "colab": {
          "base_uri": "https://localhost:8080/"
        },
        "id": "iLMZLR84pCuN",
        "outputId": "7c734bcd-a586-4b15-8276-39f0b257c150"
      },
      "execution_count": 52,
      "outputs": [
        {
          "output_type": "execute_result",
          "data": {
            "text/plain": [
              "True"
            ]
          },
          "metadata": {},
          "execution_count": 52
        }
      ]
    },
    {
      "cell_type": "markdown",
      "source": [
        "### String operation"
      ],
      "metadata": {
        "id": "rJGc37qXpHfC"
      }
    },
    {
      "cell_type": "markdown",
      "source": [
        "\n",
        "#### `+ : concat, * : repeat`"
      ],
      "metadata": {
        "id": "E4Ly5Gn80z_f"
      }
    },
    {
      "cell_type": "code",
      "source": [
        "st_test1 = 'Department of statistics,'\n",
        "st_test2 = 'Faculty of science'"
      ],
      "metadata": {
        "id": "18Um_dogpJcR"
      },
      "execution_count": 53,
      "outputs": []
    },
    {
      "cell_type": "code",
      "source": [
        "print(st_test1 + st_test2) # เอา string มาต่อกัน"
      ],
      "metadata": {
        "colab": {
          "base_uri": "https://localhost:8080/"
        },
        "id": "-5L53To11KPP",
        "outputId": "ab4f0b4b-f7bf-4049-aecb-53d117378346"
      },
      "execution_count": 54,
      "outputs": [
        {
          "output_type": "stream",
          "name": "stdout",
          "text": [
            "Department of statistics,Faculty of science\n"
          ]
        }
      ]
    },
    {
      "cell_type": "code",
      "source": [
        "print(10*'t')"
      ],
      "metadata": {
        "colab": {
          "base_uri": "https://localhost:8080/"
        },
        "id": "vwsZpL-h1Q-e",
        "outputId": "dcaa25c5-4ef9-46be-9c54-4e8cb534ce4f"
      },
      "execution_count": 55,
      "outputs": [
        {
          "output_type": "stream",
          "name": "stdout",
          "text": [
            "tttttttttt\n"
          ]
        }
      ]
    },
    {
      "cell_type": "code",
      "source": [
        "print(3*st_test1)"
      ],
      "metadata": {
        "colab": {
          "base_uri": "https://localhost:8080/"
        },
        "id": "IW5ygyO51UX-",
        "outputId": "44a888ad-9249-4da6-d4e4-debb9bb5ba8e"
      },
      "execution_count": 56,
      "outputs": [
        {
          "output_type": "stream",
          "name": "stdout",
          "text": [
            "Department of statistics,Department of statistics,Department of statistics,\n"
          ]
        }
      ]
    },
    {
      "cell_type": "markdown",
      "source": [
        "#### `replace()` แทนที่ string"
      ],
      "metadata": {
        "id": "qYkcGqQo1X0D"
      }
    },
    {
      "cell_type": "code",
      "source": [
        "st_test1.replace('e',' ') # ' ' เว้นแบบนี้จะแทนที่ e ด้วยช่องว่าง"
      ],
      "metadata": {
        "colab": {
          "base_uri": "https://localhost:8080/",
          "height": 34
        },
        "id": "ZGyvSMPl1XCR",
        "outputId": "aaf984f2-086f-4383-eb50-343d78ae2268"
      },
      "execution_count": 57,
      "outputs": [
        {
          "output_type": "execute_result",
          "data": {
            "application/vnd.google.colaboratory.intrinsic+json": {
              "type": "string"
            },
            "text/plain": [
              "'D partm nt of statistics,'"
            ]
          },
          "metadata": {},
          "execution_count": 57
        }
      ]
    },
    {
      "cell_type": "code",
      "source": [
        "st_test1.replace('e','') # '' ถ้าติดกันแบบนี้จะเป็นการลบตัว e ออกไป"
      ],
      "metadata": {
        "colab": {
          "base_uri": "https://localhost:8080/",
          "height": 34
        },
        "id": "hiEN1eq11ssN",
        "outputId": "13e0c4f6-7231-4189-9884-01ee73e2ed9c"
      },
      "execution_count": 58,
      "outputs": [
        {
          "output_type": "execute_result",
          "data": {
            "application/vnd.google.colaboratory.intrinsic+json": {
              "type": "string"
            },
            "text/plain": [
              "'Dpartmnt of statistics,'"
            ]
          },
          "metadata": {},
          "execution_count": 58
        }
      ]
    },
    {
      "cell_type": "code",
      "source": [
        "st_test1"
      ],
      "metadata": {
        "colab": {
          "base_uri": "https://localhost:8080/",
          "height": 34
        },
        "id": "EGg0W8Af15Hx",
        "outputId": "c112f42a-6321-4cc2-ece2-e326a84ede39"
      },
      "execution_count": 59,
      "outputs": [
        {
          "output_type": "execute_result",
          "data": {
            "application/vnd.google.colaboratory.intrinsic+json": {
              "type": "string"
            },
            "text/plain": [
              "'Department of statistics,'"
            ]
          },
          "metadata": {},
          "execution_count": 59
        }
      ]
    },
    {
      "cell_type": "code",
      "source": [
        "'Department of statistics,'.replace('a','x') # เอา string มาได้เลย"
      ],
      "metadata": {
        "colab": {
          "base_uri": "https://localhost:8080/",
          "height": 34
        },
        "id": "hjKX9NzC3IXh",
        "outputId": "729264ef-7800-427f-89d5-64ab7b461986"
      },
      "execution_count": 60,
      "outputs": [
        {
          "output_type": "execute_result",
          "data": {
            "application/vnd.google.colaboratory.intrinsic+json": {
              "type": "string"
            },
            "text/plain": [
              "'Depxrtment of stxtistics,'"
            ]
          },
          "metadata": {},
          "execution_count": 60
        }
      ]
    },
    {
      "cell_type": "markdown",
      "source": [
        "#### `split()` แยก string"
      ],
      "metadata": {
        "id": "dxqx1G7m2QcJ"
      }
    },
    {
      "cell_type": "code",
      "source": [
        "'a b c d e f g'.split()"
      ],
      "metadata": {
        "colab": {
          "base_uri": "https://localhost:8080/"
        },
        "id": "JdjZZHRE2Dr9",
        "outputId": "0aacc774-6c60-4b4b-a390-c0a0c35fc7b2"
      },
      "execution_count": 61,
      "outputs": [
        {
          "output_type": "execute_result",
          "data": {
            "text/plain": [
              "['a', 'b', 'c', 'd', 'e', 'f', 'g']"
            ]
          },
          "metadata": {},
          "execution_count": 61
        }
      ]
    },
    {
      "cell_type": "code",
      "source": [
        "'a,b/c,d e/f g'.split('/') # split ตรงเครื่องหมาย / "
      ],
      "metadata": {
        "colab": {
          "base_uri": "https://localhost:8080/"
        },
        "id": "WPPEe13431YA",
        "outputId": "61313ed6-211d-42ac-b83a-aa0ed88adf3f"
      },
      "execution_count": 62,
      "outputs": [
        {
          "output_type": "execute_result",
          "data": {
            "text/plain": [
              "['a,b', 'c,d e', 'f g']"
            ]
          },
          "metadata": {},
          "execution_count": 62
        }
      ]
    },
    {
      "cell_type": "code",
      "source": [
        ""
      ],
      "metadata": {
        "id": "HTaPkXyT39qf"
      },
      "execution_count": 62,
      "outputs": []
    }
  ]
}